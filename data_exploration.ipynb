{
 "cells": [
  {
   "cell_type": "code",
   "execution_count": 1,
   "metadata": {},
   "outputs": [],
   "source": [
    "import pandas as pd\n",
    "import numpy as np\n"
   ]
  },
  {
   "cell_type": "code",
   "execution_count": 2,
   "metadata": {},
   "outputs": [],
   "source": [
    "df = pd.read_table('data/clues.tsv')"
   ]
  },
  {
   "cell_type": "code",
   "execution_count": 3,
   "metadata": {},
   "outputs": [
    {
     "data": {
      "text/html": [
       "<div>\n",
       "<style scoped>\n",
       "    .dataframe tbody tr th:only-of-type {\n",
       "        vertical-align: middle;\n",
       "    }\n",
       "\n",
       "    .dataframe tbody tr th {\n",
       "        vertical-align: top;\n",
       "    }\n",
       "\n",
       "    .dataframe thead th {\n",
       "        text-align: right;\n",
       "    }\n",
       "</style>\n",
       "<table border=\"1\" class=\"dataframe\">\n",
       "  <thead>\n",
       "    <tr style=\"text-align: right;\">\n",
       "      <th></th>\n",
       "      <th>pubid</th>\n",
       "      <th>year</th>\n",
       "      <th>answer</th>\n",
       "      <th>clue</th>\n",
       "    </tr>\n",
       "  </thead>\n",
       "  <tbody>\n",
       "    <tr>\n",
       "      <th>0</th>\n",
       "      <td>atc</td>\n",
       "      <td>1997</td>\n",
       "      <td>NaN</td>\n",
       "      <td>NaN</td>\n",
       "    </tr>\n",
       "    <tr>\n",
       "      <th>1</th>\n",
       "      <td>atc</td>\n",
       "      <td>1997</td>\n",
       "      <td>ABA</td>\n",
       "      <td>Litigator's group</td>\n",
       "    </tr>\n",
       "    <tr>\n",
       "      <th>2</th>\n",
       "      <td>atc</td>\n",
       "      <td>1997</td>\n",
       "      <td>ACTOR</td>\n",
       "      <td>Thespian</td>\n",
       "    </tr>\n",
       "    <tr>\n",
       "      <th>3</th>\n",
       "      <td>atc</td>\n",
       "      <td>1997</td>\n",
       "      <td>ADES</td>\n",
       "      <td>Summer coolers</td>\n",
       "    </tr>\n",
       "    <tr>\n",
       "      <th>4</th>\n",
       "      <td>atc</td>\n",
       "      <td>1997</td>\n",
       "      <td>ADS</td>\n",
       "      <td>Newspaper revenue</td>\n",
       "    </tr>\n",
       "  </tbody>\n",
       "</table>\n",
       "</div>"
      ],
      "text/plain": [
       "  pubid  year answer               clue\n",
       "0   atc  1997    NaN                NaN\n",
       "1   atc  1997    ABA  Litigator's group\n",
       "2   atc  1997  ACTOR           Thespian\n",
       "3   atc  1997   ADES     Summer coolers\n",
       "4   atc  1997    ADS  Newspaper revenue"
      ]
     },
     "execution_count": 3,
     "metadata": {},
     "output_type": "execute_result"
    }
   ],
   "source": [
    "df.head(5)"
   ]
  },
  {
   "cell_type": "code",
   "execution_count": 4,
   "metadata": {},
   "outputs": [
    {
     "data": {
      "text/plain": [
       "(6459190, 2)"
      ]
     },
     "execution_count": 4,
     "metadata": {},
     "output_type": "execute_result"
    }
   ],
   "source": [
    "df.drop(['pubid','year'], axis=1,inplace=True)\n",
    "df.dropna(inplace=True)\n",
    "df.shape"
   ]
  },
  {
   "cell_type": "code",
   "execution_count": 5,
   "metadata": {},
   "outputs": [
    {
     "data": {
      "text/plain": [
       "315686"
      ]
     },
     "execution_count": 5,
     "metadata": {},
     "output_type": "execute_result"
    }
   ],
   "source": [
    "df['answer'].nunique()"
   ]
  },
  {
   "cell_type": "code",
   "execution_count": 6,
   "metadata": {},
   "outputs": [
    {
     "data": {
      "text/plain": [
       "2650153"
      ]
     },
     "execution_count": 6,
     "metadata": {},
     "output_type": "execute_result"
    }
   ],
   "source": [
    "df['clue'].nunique()"
   ]
  },
  {
   "cell_type": "code",
   "execution_count": 7,
   "metadata": {},
   "outputs": [
    {
     "data": {
      "text/plain": [
       "8.394901896187985"
      ]
     },
     "execution_count": 7,
     "metadata": {},
     "output_type": "execute_result"
    }
   ],
   "source": [
    "df['clue'].nunique() / df['answer'].nunique()"
   ]
  },
  {
   "cell_type": "code",
   "execution_count": 8,
   "metadata": {},
   "outputs": [
    {
     "data": {
      "text/plain": [
       "3141343"
      ]
     },
     "execution_count": 8,
     "metadata": {},
     "output_type": "execute_result"
    }
   ],
   "source": [
    "(df['answer'] + df['clue']).nunique()"
   ]
  },
  {
   "cell_type": "code",
   "execution_count": 9,
   "metadata": {},
   "outputs": [],
   "source": [
    "\n",
    "def sample_strings_containing(containing:list,  data:pd.DataFrame, column:str, n_samples:int=1) -> dict:\n",
    "    \"\"\"Searches a column within a dataframe and returns random smaples of entries containing the key words\n",
    "    in the given list.\n",
    "\n",
    "    Args:\n",
    "        containing (list): List of key words to look for\n",
    "        data (pd.DataFrame): Dataframe to search\n",
    "        column (str): column to serch within datdrame\n",
    "        n_samples (int, optional): number of samples to return for each key. Defaults to 1.\n",
    "\n",
    "    \"\"\"\n",
    "    samples = {}\n",
    "    for x in containing:\n",
    "        matches = data[df[column].str.contains(x, regex=False)]\n",
    "        if matches.shape[0] > 0:  \n",
    "            samples[x] = []\n",
    "            for r in np.random.choice(range(matches.shape[0]),n_samples, replace=False):         \n",
    "                r = np.random.randint(0, matches.shape[0])\n",
    "                samples[x].append(matches.iloc[r][column])\n",
    "    return samples"
   ]
  },
  {
   "cell_type": "code",
   "execution_count": 10,
   "metadata": {},
   "outputs": [],
   "source": [
    "from string import punctuation\n",
    "punctuation_samples = sample_strings_containing(punctuation,df,'clue',n_samples=5)"
   ]
  },
  {
   "cell_type": "code",
   "execution_count": 16,
   "metadata": {},
   "outputs": [
    {
     "data": {
      "text/html": [
       "<div>\n",
       "<style scoped>\n",
       "    .dataframe tbody tr th:only-of-type {\n",
       "        vertical-align: middle;\n",
       "    }\n",
       "\n",
       "    .dataframe tbody tr th {\n",
       "        vertical-align: top;\n",
       "    }\n",
       "\n",
       "    .dataframe thead th {\n",
       "        text-align: right;\n",
       "    }\n",
       "</style>\n",
       "<table border=\"1\" class=\"dataframe\">\n",
       "  <thead>\n",
       "    <tr style=\"text-align: right;\">\n",
       "      <th></th>\n",
       "      <th>0</th>\n",
       "      <th>1</th>\n",
       "      <th>2</th>\n",
       "      <th>3</th>\n",
       "      <th>4</th>\n",
       "    </tr>\n",
       "  </thead>\n",
       "  <tbody>\n",
       "    <tr>\n",
       "      <th>!</th>\n",
       "      <td>Older cousin of \"Cool!\"</td>\n",
       "      <td>Heavy metal band whose name is a euphemism for...</td>\n",
       "      <td>Oklahoma! gal</td>\n",
       "      <td>Look ___!</td>\n",
       "      <td>___ only money!</td>\n",
       "    </tr>\n",
       "    <tr>\n",
       "      <th>\"</th>\n",
       "      <td>Hathaway of \"Get Smart\"</td>\n",
       "      <td>Texter's \"Yikes!\"</td>\n",
       "      <td>Hero of kid-lit's \"The Phantom Tollbooth\"</td>\n",
       "      <td>Stalin called it \"the language of spies\"</td>\n",
       "      <td>What Steely Dan will do to \"The Years\"</td>\n",
       "    </tr>\n",
       "    <tr>\n",
       "      <th>#</th>\n",
       "      <td>Royals #5</td>\n",
       "      <td>#3: central Asia, red and yellow</td>\n",
       "      <td>AFI's #79 (with \"The\") (1978)</td>\n",
       "      <td>___ Ko, youngest #1-ranked golfer ever</td>\n",
       "      <td>Element #99</td>\n",
       "    </tr>\n",
       "    <tr>\n",
       "      <th>$</th>\n",
       "      <td>Potent Potables for $200, __</td>\n",
       "      <td>$1000, slangily</td>\n",
       "      <td>Saying \"&amp;%$#@!!\"</td>\n",
       "      <td>He's on a $10,000 bill</td>\n",
       "      <td>1867 purchase for a little over $7 million</td>\n",
       "    </tr>\n",
       "    <tr>\n",
       "      <th>%</th>\n",
       "      <td>90% of the game is half mental speaker</td>\n",
       "      <td>Are you getting 100%? cereal</td>\n",
       "      <td>Belief of roughly 25% of the world's population</td>\n",
       "      <td>You could get one if you're over .08%</td>\n",
       "      <td>100%</td>\n",
       "    </tr>\n",
       "    <tr>\n",
       "      <th>&amp;</th>\n",
       "      <td>When I Was ___: G. &amp; S.</td>\n",
       "      <td>___ Rock (Simon &amp; Garfunkel hit)</td>\n",
       "      <td>Electric &amp; Musical Industries Ltd. for short</td>\n",
       "      <td>B&amp;Bs</td>\n",
       "      <td>___ &amp; Wesson has agreed to make products child...</td>\n",
       "    </tr>\n",
       "    <tr>\n",
       "      <th>'</th>\n",
       "      <td>Klutz's outcry</td>\n",
       "      <td>World's fair</td>\n",
       "      <td>Coty's capital.</td>\n",
       "      <td>(You're) Having My Baby singer</td>\n",
       "      <td>Sterne's hero.</td>\n",
       "    </tr>\n",
       "    <tr>\n",
       "      <th>(</th>\n",
       "      <td>Posed (for)</td>\n",
       "      <td>___ Speed Wagon (vintage auto)</td>\n",
       "      <td>In ___ quo (as is)</td>\n",
       "      <td>___ mecum (manual)</td>\n",
       "      <td>League with Bulls and Timberwolves (abbr.)</td>\n",
       "    </tr>\n",
       "    <tr>\n",
       "      <th>)</th>\n",
       "      <td>___-l'oeil (illusion)</td>\n",
       "      <td>Write-___ (some vote-getters)</td>\n",
       "      <td>Go (through)</td>\n",
       "      <td>Chooses (to)</td>\n",
       "      <td>Isn't ___ bit like you and me? (Beatles lyric)</td>\n",
       "    </tr>\n",
       "    <tr>\n",
       "      <th>*</th>\n",
       "      <td>*</td>\n",
       "      <td>Alda of \"M*A*S*H\"</td>\n",
       "      <td>*Deep-sea diver's concern</td>\n",
       "      <td>*Brunch options</td>\n",
       "      <td>*Whopper alternative (1969-1986)</td>\n",
       "    </tr>\n",
       "    <tr>\n",
       "      <th>+</th>\n",
       "      <td>Tre + tre</td>\n",
       "      <td>Press \"+\" on a calculator</td>\n",
       "      <td>Measures equal to 57+ degrees</td>\n",
       "      <td>Cuatro + cinco</td>\n",
       "      <td>Control+Z command</td>\n",
       "    </tr>\n",
       "    <tr>\n",
       "      <th>,</th>\n",
       "      <td>Exec's car, say</td>\n",
       "      <td>Set of plays, novels, etc.</td>\n",
       "      <td>More slick, as a winter road</td>\n",
       "      <td>Modernize, as decor</td>\n",
       "      <td>This, in Spanish</td>\n",
       "    </tr>\n",
       "    <tr>\n",
       "      <th>-</th>\n",
       "      <td>Pop-up on a diamond</td>\n",
       "      <td>1-1 game, say</td>\n",
       "      <td>Strike-breaker</td>\n",
       "      <td>Court-appointed guardian?</td>\n",
       "      <td>Bamboo-loving critter</td>\n",
       "    </tr>\n",
       "    <tr>\n",
       "      <th>.</th>\n",
       "      <td>Poetic contraction.</td>\n",
       "      <td>Criticizes adversely.</td>\n",
       "      <td>Boot a grounder, e.g.</td>\n",
       "      <td>Cornerstone abbr.</td>\n",
       "      <td>Author Grey.</td>\n",
       "    </tr>\n",
       "    <tr>\n",
       "      <th>/</th>\n",
       "      <td>Trouble singer/rapper</td>\n",
       "      <td>{/Jumpy noblemen?/}</td>\n",
       "      <td>Combo candy store/barbecue supplier?</td>\n",
       "      <td>Nevada/California lake</td>\n",
       "      <td>Title religious school in a classic Crosby/Ber...</td>\n",
       "    </tr>\n",
       "    <tr>\n",
       "      <th>:</th>\n",
       "      <td>Time _____ My Side”\\nnyt\\t1995\\tISOTOPES\\tCarb...</td>\n",
       "      <td>Moral Rearmament: abbr.</td>\n",
       "      <td>Mental conception: Comb. form.</td>\n",
       "      <td>____  dixit: dictum</td>\n",
       "      <td>False face must hide what the false heart doth...</td>\n",
       "    </tr>\n",
       "    <tr>\n",
       "      <th>;</th>\n",
       "      <td>In pencil: Liquidated, as assets; In pen: Liqu...</td>\n",
       "      <td>Mild; merciful</td>\n",
       "      <td>Yes: bananas, steak (if the proper laws are fo...</td>\n",
       "      <td>Soul singer Isaac reflectively replacing vitam...</td>\n",
       "      <td>Wets; moistens</td>\n",
       "    </tr>\n",
       "    <tr>\n",
       "      <th>&lt;</th>\n",
       "      <td>&lt;&lt;NO CLUE&gt;&gt;</td>\n",
       "      <td>&lt;&lt;NO CLUE&gt;&gt;</td>\n",
       "      <td>In ____:&lt;P&gt; set</td>\n",
       "      <td>&lt;&lt;NO CLUE&gt;&gt;</td>\n",
       "      <td>&lt;I&gt;___ Attraction&lt;I&gt;</td>\n",
       "    </tr>\n",
       "    <tr>\n",
       "      <th>=</th>\n",
       "      <td>Area of a circle = ___-squared</td>\n",
       "      <td>7x - 6 = 2x 2 subj.</td>\n",
       "      <td>___ = Politics (TV slogan)</td>\n",
       "      <td>= ___</td>\n",
       "      <td>Lizzie Borden's blows – \"Easy Pieces\" ÷ prover...</td>\n",
       "    </tr>\n",
       "    <tr>\n",
       "      <th>&gt;</th>\n",
       "      <td>&lt;I&gt;The ___ Murders&lt;I&gt;: Christie</td>\n",
       "      <td>TV oldie, &lt;I&gt;Answer Yes ___&lt;I&gt;</td>\n",
       "      <td>&lt;&lt;NO CLUE&gt;&gt;</td>\n",
       "      <td>What &gt;:-|| means in emoticons</td>\n",
       "      <td>&gt; 0: Abbr.</td>\n",
       "    </tr>\n",
       "    <tr>\n",
       "      <th>?</th>\n",
       "      <td>Chamber group income?</td>\n",
       "      <td>Anthropologist got a title?</td>\n",
       "      <td>Action star who would make a lousy free-range ...</td>\n",
       "      <td>Boy toy?</td>\n",
       "      <td>Acted Bossy?</td>\n",
       "    </tr>\n",
       "    <tr>\n",
       "      <th>@</th>\n",
       "      <td>@</td>\n",
       "      <td>@@@</td>\n",
       "      <td>Number under @ on a keyboard</td>\n",
       "      <td>Say \"@#$%!\"</td>\n",
       "      <td>+, $ or @</td>\n",
       "    </tr>\n",
       "    <tr>\n",
       "      <th>[</th>\n",
       "      <td>Classroom surprise [15][16]</td>\n",
       "      <td>[bo-o-o-ring!]</td>\n",
       "      <td>[Oh ... my ... God!]</td>\n",
       "      <td>[Grumble, grumble, grumble]</td>\n",
       "      <td>[Gulp!]</td>\n",
       "    </tr>\n",
       "    <tr>\n",
       "      <th>\\</th>\n",
       "      <td>You see C:\\&gt; in it</td>\n",
       "      <td>\\</td>\n",
       "      <td>\\</td>\n",
       "      <td>/ or \\</td>\n",
       "      <td>C:\\ProgramFiles\\Litsoft\\AcrossLite, e.g.</td>\n",
       "    </tr>\n",
       "    <tr>\n",
       "      <th>]</th>\n",
       "      <td>Child actress who appeared with [circled letters]</td>\n",
       "      <td>[Poor, pitiful me!]</td>\n",
       "      <td>[sigh]</td>\n",
       "      <td>[Image of a quarter note]</td>\n",
       "      <td>*Toro's target [1956]</td>\n",
       "    </tr>\n",
       "    <tr>\n",
       "      <th>^</th>\n",
       "      <td>Belittled^DECRIE</td>\n",
       "      <td>Rap's Dr. ___^DR</td>\n",
       "      <td>Stan Musial's nickname^THEMA</td>\n",
       "      <td>Playa clay^ADOB</td>\n",
       "      <td>Beer ingredient^MAL</td>\n",
       "    </tr>\n",
       "    <tr>\n",
       "      <th>_</th>\n",
       "      <td>La ___, Bolivia</td>\n",
       "      <td>___ boy!</td>\n",
       "      <td>Saturday, 9 A.M.: ___</td>\n",
       "      <td>Et ___ (and the following)</td>\n",
       "      <td>Cutty ____</td>\n",
       "    </tr>\n",
       "    <tr>\n",
       "      <th>`</th>\n",
       "      <td>Gleason's  ``How sweet  ___\"</td>\n",
       "      <td>``O sole ___\"</td>\n",
       "      <td>`Slacker` setting</td>\n",
       "      <td>Baseball's ``Schoolboy\"</td>\n",
       "      <td>``I've ___ to London to...\"</td>\n",
       "    </tr>\n",
       "    <tr>\n",
       "      <th>{</th>\n",
       "      <td>Failed: With {/out/}.</td>\n",
       "      <td>{/Spousal symbols/}</td>\n",
       "      <td>{/Customer group reveres/}</td>\n",
       "      <td>{I}Bossy on the hoof</td>\n",
       "      <td>{/Cargo/}</td>\n",
       "    </tr>\n",
       "    <tr>\n",
       "      <th>|</th>\n",
       "      <td>||, on a remote</td>\n",
       "      <td>Either H in H|2|O</td>\n",
       "      <td>Passages marked :|| in music.</td>\n",
       "      <td>NEW YORK | HONG KONG</td>\n",
       "      <td>It's a Wonderful |Life director Frank</td>\n",
       "    </tr>\n",
       "    <tr>\n",
       "      <th>}</th>\n",
       "      <td>{/LETTERS LIKE THIS./}</td>\n",
       "      <td>{/Verse continued/}</td>\n",
       "      <td>{/Butchery/}</td>\n",
       "      <td>{/Perspectives/}</td>\n",
       "      <td>{/\"Faith ___!\" (words by Faber)/}</td>\n",
       "    </tr>\n",
       "    <tr>\n",
       "      <th>~</th>\n",
       "      <td>~</td>\n",
       "      <td>~</td>\n",
       "      <td>~</td>\n",
       "      <td>Key above ~</td>\n",
       "      <td>Key above ~</td>\n",
       "    </tr>\n",
       "  </tbody>\n",
       "</table>\n",
       "</div>"
      ],
      "text/plain": [
       "                                                   0  \\\n",
       "!                            Older cousin of \"Cool!\"   \n",
       "\"                            Hathaway of \"Get Smart\"   \n",
       "#                                          Royals #5   \n",
       "$                       Potent Potables for $200, __   \n",
       "%             90% of the game is half mental speaker   \n",
       "&                            When I Was ___: G. & S.   \n",
       "'                                     Klutz's outcry   \n",
       "(                                        Posed (for)   \n",
       ")                              ___-l'oeil (illusion)   \n",
       "*                                                  *   \n",
       "+                                          Tre + tre   \n",
       ",                                    Exec's car, say   \n",
       "-                                Pop-up on a diamond   \n",
       ".                                Poetic contraction.   \n",
       "/                              Trouble singer/rapper   \n",
       ":  Time _____ My Side”\\nnyt\\t1995\\tISOTOPES\\tCarb...   \n",
       ";  In pencil: Liquidated, as assets; In pen: Liqu...   \n",
       "<                                        <<NO CLUE>>   \n",
       "=                     Area of a circle = ___-squared   \n",
       ">                    <I>The ___ Murders<I>: Christie   \n",
       "?                              Chamber group income?   \n",
       "@                                                  @   \n",
       "[                        Classroom surprise [15][16]   \n",
       "\\                                 You see C:\\> in it   \n",
       "]  Child actress who appeared with [circled letters]   \n",
       "^                                   Belittled^DECRIE   \n",
       "_                                    La ___, Bolivia   \n",
       "`                       Gleason's  ``How sweet  ___\"   \n",
       "{                              Failed: With {/out/}.   \n",
       "|                                    ||, on a remote   \n",
       "}                             {/LETTERS LIKE THIS./}   \n",
       "~                                                  ~   \n",
       "\n",
       "                                                   1  \\\n",
       "!  Heavy metal band whose name is a euphemism for...   \n",
       "\"                                  Texter's \"Yikes!\"   \n",
       "#                   #3: central Asia, red and yellow   \n",
       "$                                    $1000, slangily   \n",
       "%                       Are you getting 100%? cereal   \n",
       "&                   ___ Rock (Simon & Garfunkel hit)   \n",
       "'                                       World's fair   \n",
       "(                     ___ Speed Wagon (vintage auto)   \n",
       ")                      Write-___ (some vote-getters)   \n",
       "*                                  Alda of \"M*A*S*H\"   \n",
       "+                          Press \"+\" on a calculator   \n",
       ",                         Set of plays, novels, etc.   \n",
       "-                                      1-1 game, say   \n",
       ".                              Criticizes adversely.   \n",
       "/                                {/Jumpy noblemen?/}   \n",
       ":                            Moral Rearmament: abbr.   \n",
       ";                                     Mild; merciful   \n",
       "<                                        <<NO CLUE>>   \n",
       "=                                7x - 6 = 2x 2 subj.   \n",
       ">                     TV oldie, <I>Answer Yes ___<I>   \n",
       "?                        Anthropologist got a title?   \n",
       "@                                                @@@   \n",
       "[                                     [bo-o-o-ring!]   \n",
       "\\                                                  \\   \n",
       "]                                [Poor, pitiful me!]   \n",
       "^                                   Rap's Dr. ___^DR   \n",
       "_                                           ___ boy!   \n",
       "`                                      ``O sole ___\"   \n",
       "{                                {/Spousal symbols/}   \n",
       "|                                  Either H in H|2|O   \n",
       "}                                {/Verse continued/}   \n",
       "~                                                  ~   \n",
       "\n",
       "                                                   2  \\\n",
       "!                                      Oklahoma! gal   \n",
       "\"          Hero of kid-lit's \"The Phantom Tollbooth\"   \n",
       "#                      AFI's #79 (with \"The\") (1978)   \n",
       "$                                   Saying \"&%$#@!!\"   \n",
       "%    Belief of roughly 25% of the world's population   \n",
       "&       Electric & Musical Industries Ltd. for short   \n",
       "'                                    Coty's capital.   \n",
       "(                                 In ___ quo (as is)   \n",
       ")                                       Go (through)   \n",
       "*                          *Deep-sea diver's concern   \n",
       "+                      Measures equal to 57+ degrees   \n",
       ",                       More slick, as a winter road   \n",
       "-                                     Strike-breaker   \n",
       ".                              Boot a grounder, e.g.   \n",
       "/               Combo candy store/barbecue supplier?   \n",
       ":                     Mental conception: Comb. form.   \n",
       ";  Yes: bananas, steak (if the proper laws are fo...   \n",
       "<                                    In ____:<P> set   \n",
       "=                         ___ = Politics (TV slogan)   \n",
       ">                                        <<NO CLUE>>   \n",
       "?  Action star who would make a lousy free-range ...   \n",
       "@                       Number under @ on a keyboard   \n",
       "[                               [Oh ... my ... God!]   \n",
       "\\                                                  \\   \n",
       "]                                             [sigh]   \n",
       "^                       Stan Musial's nickname^THEMA   \n",
       "_                              Saturday, 9 A.M.: ___   \n",
       "`                                  `Slacker` setting   \n",
       "{                         {/Customer group reveres/}   \n",
       "|                      Passages marked :|| in music.   \n",
       "}                                       {/Butchery/}   \n",
       "~                                                  ~   \n",
       "\n",
       "                                                   3  \\\n",
       "!                                          Look ___!   \n",
       "\"           Stalin called it \"the language of spies\"   \n",
       "#             ___ Ko, youngest #1-ranked golfer ever   \n",
       "$                             He's on a $10,000 bill   \n",
       "%              You could get one if you're over .08%   \n",
       "&                                               B&Bs   \n",
       "'                     (You're) Having My Baby singer   \n",
       "(                                 ___ mecum (manual)   \n",
       ")                                       Chooses (to)   \n",
       "*                                    *Brunch options   \n",
       "+                                     Cuatro + cinco   \n",
       ",                                Modernize, as decor   \n",
       "-                          Court-appointed guardian?   \n",
       ".                                  Cornerstone abbr.   \n",
       "/                             Nevada/California lake   \n",
       ":                                ____  dixit: dictum   \n",
       ";  Soul singer Isaac reflectively replacing vitam...   \n",
       "<                                        <<NO CLUE>>   \n",
       "=                                              = ___   \n",
       ">                      What >:-|| means in emoticons   \n",
       "?                                           Boy toy?   \n",
       "@                                        Say \"@#$%!\"   \n",
       "[                        [Grumble, grumble, grumble]   \n",
       "\\                                             / or \\   \n",
       "]                          [Image of a quarter note]   \n",
       "^                                    Playa clay^ADOB   \n",
       "_                         Et ___ (and the following)   \n",
       "`                            Baseball's ``Schoolboy\"   \n",
       "{                               {I}Bossy on the hoof   \n",
       "|                               NEW YORK | HONG KONG   \n",
       "}                                   {/Perspectives/}   \n",
       "~                                        Key above ~   \n",
       "\n",
       "                                                   4  \n",
       "!                                    ___ only money!  \n",
       "\"             What Steely Dan will do to \"The Years\"  \n",
       "#                                        Element #99  \n",
       "$         1867 purchase for a little over $7 million  \n",
       "%                                               100%  \n",
       "&  ___ & Wesson has agreed to make products child...  \n",
       "'                                     Sterne's hero.  \n",
       "(         League with Bulls and Timberwolves (abbr.)  \n",
       ")     Isn't ___ bit like you and me? (Beatles lyric)  \n",
       "*                   *Whopper alternative (1969-1986)  \n",
       "+                                  Control+Z command  \n",
       ",                                   This, in Spanish  \n",
       "-                              Bamboo-loving critter  \n",
       ".                                       Author Grey.  \n",
       "/  Title religious school in a classic Crosby/Ber...  \n",
       ":  False face must hide what the false heart doth...  \n",
       ";                                     Wets; moistens  \n",
       "<                               <I>___ Attraction<I>  \n",
       "=  Lizzie Borden's blows – \"Easy Pieces\" ÷ prover...  \n",
       ">                                         > 0: Abbr.  \n",
       "?                                       Acted Bossy?  \n",
       "@                                          +, $ or @  \n",
       "[                                            [Gulp!]  \n",
       "\\           C:\\ProgramFiles\\Litsoft\\AcrossLite, e.g.  \n",
       "]                              *Toro's target [1956]  \n",
       "^                                Beer ingredient^MAL  \n",
       "_                                         Cutty ____  \n",
       "`                        ``I've ___ to London to...\"  \n",
       "{                                          {/Cargo/}  \n",
       "|              It's a Wonderful |Life director Frank  \n",
       "}                  {/\"Faith ___!\" (words by Faber)/}  \n",
       "~                                        Key above ~  "
      ]
     },
     "execution_count": 16,
     "metadata": {},
     "output_type": "execute_result"
    }
   ],
   "source": [
    "pd.DataFrame(punctuation_samples).T"
   ]
  },
  {
   "cell_type": "code",
   "execution_count": 11,
   "metadata": {},
   "outputs": [
    {
     "data": {
      "text/plain": [
       "(3823, 2)"
      ]
     },
     "execution_count": 11,
     "metadata": {},
     "output_type": "execute_result"
    }
   ],
   "source": [
    "df[df['clue'].str.contains('Nobel')].shape"
   ]
  },
  {
   "cell_type": "code",
   "execution_count": 12,
   "metadata": {},
   "outputs": [
    {
     "data": {
      "text/plain": [
       "(9693, 2)"
      ]
     },
     "execution_count": 12,
     "metadata": {},
     "output_type": "execute_result"
    }
   ],
   "source": [
    "df[df['clue'].str.contains('actor')].shape"
   ]
  },
  {
   "cell_type": "code",
   "execution_count": 13,
   "metadata": {},
   "outputs": [
    {
     "data": {
      "text/plain": [
       "(7147, 2)"
      ]
     },
     "execution_count": 13,
     "metadata": {},
     "output_type": "execute_result"
    }
   ],
   "source": [
    "df[df['clue'].str.contains('slang')].shape"
   ]
  },
  {
   "cell_type": "code",
   "execution_count": 14,
   "metadata": {},
   "outputs": [
    {
     "data": {
      "text/plain": [
       "(1242, 2)"
      ]
     },
     "execution_count": 14,
     "metadata": {},
     "output_type": "execute_result"
    }
   ],
   "source": [
    "df[df['clue'].str.contains('%')].shape"
   ]
  },
  {
   "cell_type": "code",
   "execution_count": 15,
   "metadata": {},
   "outputs": [
    {
     "data": {
      "text/plain": [
       "(27728, 2)"
      ]
     },
     "execution_count": 15,
     "metadata": {},
     "output_type": "execute_result"
    }
   ],
   "source": [
    "df[df['clue'].str.contains('Across')].shape"
   ]
  },
  {
   "cell_type": "code",
   "execution_count": 16,
   "metadata": {},
   "outputs": [
    {
     "data": {
      "text/plain": [
       "(11317, 2)"
      ]
     },
     "execution_count": 16,
     "metadata": {},
     "output_type": "execute_result"
    }
   ],
   "source": [
    "df[df['clue'].str.contains('-Down')].shape"
   ]
  },
  {
   "cell_type": "code",
   "execution_count": 17,
   "metadata": {},
   "outputs": [
    {
     "data": {
      "text/plain": [
       "(19302, 2)"
      ]
     },
     "execution_count": 17,
     "metadata": {},
     "output_type": "execute_result"
    }
   ],
   "source": [
    "df[df['clue'].str.contains('-Across')].shape"
   ]
  },
  {
   "cell_type": "code",
   "execution_count": 18,
   "metadata": {},
   "outputs": [
    {
     "data": {
      "text/plain": [
       "(111995, 2)"
      ]
     },
     "execution_count": 18,
     "metadata": {},
     "output_type": "execute_result"
    }
   ],
   "source": [
    "df[df['clue'].str.contains('(',regex=False)].shape"
   ]
  },
  {
   "cell_type": "code",
   "execution_count": 19,
   "metadata": {},
   "outputs": [
    {
     "data": {
      "text/plain": [
       "(49424, 2)"
      ]
     },
     "execution_count": 19,
     "metadata": {},
     "output_type": "execute_result"
    }
   ],
   "source": [
    "df[df['clue'].str.contains('Abbr.',regex=False)].shape"
   ]
  },
  {
   "cell_type": "code",
   "execution_count": 20,
   "metadata": {},
   "outputs": [
    {
     "data": {
      "text/plain": [
       "(1940, 2)"
      ]
     },
     "execution_count": 20,
     "metadata": {},
     "output_type": "execute_result"
    }
   ],
   "source": [
    "df[df['clue'].str.contains(';',regex=False)].shape"
   ]
  },
  {
   "cell_type": "code",
   "execution_count": 21,
   "metadata": {},
   "outputs": [
    {
     "data": {
      "text/plain": [
       "(174, 2)"
      ]
     },
     "execution_count": 21,
     "metadata": {},
     "output_type": "execute_result"
    }
   ],
   "source": [
    "df[df['clue'].str.contains('@',regex=False)].shape"
   ]
  },
  {
   "cell_type": "code",
   "execution_count": 22,
   "metadata": {},
   "outputs": [
    {
     "data": {
      "text/plain": [
       "(2063, 2)"
      ]
     },
     "execution_count": 22,
     "metadata": {},
     "output_type": "execute_result"
    }
   ],
   "source": [
    "df[df['clue'].str.contains('[',regex=False)].shape"
   ]
  },
  {
   "cell_type": "code",
   "execution_count": 23,
   "metadata": {},
   "outputs": [
    {
     "data": {
      "text/plain": [
       "(285, 2)"
      ]
     },
     "execution_count": 23,
     "metadata": {},
     "output_type": "execute_result"
    }
   ],
   "source": [
    "df[df['clue'].str.contains('^',regex=False)].shape"
   ]
  },
  {
   "cell_type": "code",
   "execution_count": 24,
   "metadata": {},
   "outputs": [
    {
     "data": {
      "text/plain": [
       "(382745, 2)"
      ]
     },
     "execution_count": 24,
     "metadata": {},
     "output_type": "execute_result"
    }
   ],
   "source": [
    "df[df['clue'].str.contains('_',regex=False)].shape"
   ]
  },
  {
   "cell_type": "markdown",
   "metadata": {},
   "source": [
    "# Cleaning / Handling Strategies\n",
    "#### Brainstorming ideas for how to handle the variety of different questions and also clean strings to be readable by algorithm. Bullet points are seperate ideas that might be used individually or in conjunction with some/all of the others\n",
    "\n",
    "\n",
    "\n",
    "Capital letters not at the start of sentence:\n",
    "* flag as involving a noun\n",
    "* flag as requiring a noun\n",
    "* convert into ____\n",
    "* use in generating a topic\n",
    "\n",
    "Numbers:\n",
    "* remove\n",
    "* flag as involving number\n",
    "\n",
    "Single characters:\n",
    "* remove\n",
    "\n",
    "Containing \"-Across\" or \"-Down\"\n",
    "* remove from dataset (only of use in a later iteration of model that solve entire puzzle rather than single questions)\n",
    "\n",
    "!\n",
    "* Remove\n",
    "* If at end of sentance, seperate with space and use it as a word otherwise delete\n",
    "\n",
    "\"\n",
    "* Remove \" from string\n",
    "* Remove text outside of \" \" \n",
    "* Remove text inside of \" \" but use it for generating a topic as a new value\n",
    "\n",
    "\\#\n",
    "* Remove\n",
    "\n",
    "$\n",
    "* Replace with \" money \" or something similar\n",
    "* Remove\n",
    "\n",
    "%\n",
    "* Remove\n",
    "\n",
    "&\n",
    "* Remove\n",
    "\n",
    "'\n",
    "* Remove\n",
    "* If followed by an 's' remove that too\n",
    "\n",
    "( )\n",
    "* Remove\n",
    "\n",
    "\\*\n",
    "\n",
    "* Remove\n",
    "* an asterisk at the start of clue might be useful for a later itertion of model that solves entire puzzle rather than a single question\n",
    "\n",
    "\\+\n",
    "\n",
    "* Remove\n",
    "* Seperate into multiple questions using + as seperator and create a new clue composed of the solutions of each segment\n",
    "\n",
    ",\n",
    "\n",
    "* Remove\n",
    "\n",
    "\\-\n",
    "* Remove\n",
    "\n",
    ".\t\n",
    "* Remove\n",
    "\n",
    "/\n",
    "* Remove\n",
    "\n",
    ":\n",
    "* Remove\n",
    "* Use text before to generate topic and text after as clue\n",
    "\n",
    ";\n",
    "* Remove\n",
    "\n",
    "<>\n",
    "* Remove\n",
    "\n",
    "=\n",
    "* Remove\n",
    "* Use text after to generate topic and text before as clue\n",
    "\n",
    "?\n",
    "* Remove\n",
    "\n",
    "@\n",
    "* Remove\n",
    "\n",
    "[]\n",
    "* Remove\n",
    "\n",
    "\\\n",
    "* Remove\n",
    "\n",
    "^\n",
    "* Remove\n",
    "* Replace with \"squared\" or something similar\n",
    "\n",
    "_\n",
    "* Flag for requiring a blank within sentence\n",
    "* Remove\n",
    "\n",
    "`\n",
    "* Remove\n",
    "* If double, treat as \"\n",
    "\n",
    "{}\n",
    "* Remove\n",
    "\n",
    "|\n",
    "* Remove\n",
    "\n",
    "~\n",
    "* Remove\n"
   ]
  },
  {
   "cell_type": "markdown",
   "metadata": {},
   "source": [
    "### Features:\n",
    "* answer\n",
    "* clue_vectorized (sparse vector)\n",
    "* topic  (bool for each topic)\n",
    "* requires_noun (bool)\n",
    "* fill_blank (bool)"
   ]
  },
  {
   "cell_type": "code",
   "execution_count": null,
   "metadata": {},
   "outputs": [],
   "source": []
  }
 ],
 "metadata": {
  "interpreter": {
   "hash": "4fe28adbe6d40c82bdde6a2233f025e3b944121e67b5abb397657075ce1366ca"
  },
  "kernelspec": {
   "display_name": "Python 3.8.12 ('lighthouse')",
   "language": "python",
   "name": "python3"
  },
  "language_info": {
   "codemirror_mode": {
    "name": "ipython",
    "version": 3
   },
   "file_extension": ".py",
   "mimetype": "text/x-python",
   "name": "python",
   "nbconvert_exporter": "python",
   "pygments_lexer": "ipython3",
   "version": "3.8.12"
  },
  "orig_nbformat": 4
 },
 "nbformat": 4,
 "nbformat_minor": 2
}

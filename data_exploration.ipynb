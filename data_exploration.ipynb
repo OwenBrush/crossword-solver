{
 "cells": [
  {
   "cell_type": "code",
   "execution_count": 1,
   "metadata": {},
   "outputs": [],
   "source": [
    "import pandas as pd\n",
    "import numpy as np\n",
    "import plotly.graph_objects as go\n"
   ]
  },
  {
   "cell_type": "code",
   "execution_count": 18,
   "metadata": {},
   "outputs": [],
   "source": [
    "df = pd.read_csv('data/clean_data.csv',keep_default_na=False)"
   ]
  },
  {
   "cell_type": "code",
   "execution_count": 19,
   "metadata": {},
   "outputs": [
    {
     "data": {
      "text/html": [
       "<div>\n",
       "<style scoped>\n",
       "    .dataframe tbody tr th:only-of-type {\n",
       "        vertical-align: middle;\n",
       "    }\n",
       "\n",
       "    .dataframe tbody tr th {\n",
       "        vertical-align: top;\n",
       "    }\n",
       "\n",
       "    .dataframe thead th {\n",
       "        text-align: right;\n",
       "    }\n",
       "</style>\n",
       "<table border=\"1\" class=\"dataframe\">\n",
       "  <thead>\n",
       "    <tr style=\"text-align: right;\">\n",
       "      <th></th>\n",
       "      <th>answer</th>\n",
       "      <th>clue</th>\n",
       "      <th>noun_required</th>\n",
       "      <th>fill_blank</th>\n",
       "    </tr>\n",
       "  </thead>\n",
       "  <tbody>\n",
       "    <tr>\n",
       "      <th>0</th>\n",
       "      <td>aba</td>\n",
       "      <td>litigator  group</td>\n",
       "      <td>False</td>\n",
       "      <td>False</td>\n",
       "    </tr>\n",
       "    <tr>\n",
       "      <th>1</th>\n",
       "      <td>actor</td>\n",
       "      <td>thespian</td>\n",
       "      <td>False</td>\n",
       "      <td>False</td>\n",
       "    </tr>\n",
       "    <tr>\n",
       "      <th>2</th>\n",
       "      <td>ades</td>\n",
       "      <td>summer coolers</td>\n",
       "      <td>False</td>\n",
       "      <td>False</td>\n",
       "    </tr>\n",
       "    <tr>\n",
       "      <th>3</th>\n",
       "      <td>ads</td>\n",
       "      <td>newspaper revenue</td>\n",
       "      <td>False</td>\n",
       "      <td>False</td>\n",
       "    </tr>\n",
       "    <tr>\n",
       "      <th>4</th>\n",
       "      <td>afro</td>\n",
       "      <td>head of hair</td>\n",
       "      <td>False</td>\n",
       "      <td>False</td>\n",
       "    </tr>\n",
       "  </tbody>\n",
       "</table>\n",
       "</div>"
      ],
      "text/plain": [
       "  answer               clue  noun_required  fill_blank\n",
       "0    aba   litigator  group          False       False\n",
       "1  actor           thespian          False       False\n",
       "2   ades     summer coolers          False       False\n",
       "3    ads  newspaper revenue          False       False\n",
       "4   afro       head of hair          False       False"
      ]
     },
     "execution_count": 19,
     "metadata": {},
     "output_type": "execute_result"
    }
   ],
   "source": [
    "df.head(5)"
   ]
  },
  {
   "cell_type": "markdown",
   "metadata": {},
   "source": [
    "# Proportions of unique clues and answers"
   ]
  },
  {
   "cell_type": "code",
   "execution_count": 20,
   "metadata": {},
   "outputs": [
    {
     "name": "stdout",
     "output_type": "stream",
     "text": [
      "\n",
      "      Unique Clues:                       2579749 \n",
      "      Unique Answers:                     315116\n",
      "      Unique Answer + Clue Pairings:      3103325\n",
      "      \n",
      "      Clues per Answer: 8.186664593356097\n",
      "      \n"
     ]
    }
   ],
   "source": [
    "proportions = { 'clues':df['clue'].nunique(), \n",
    "                'answers': df['answer'].nunique(),\n",
    "                'clues per answer':df['clue'].nunique() / df['answer'].nunique(),\n",
    "                'pairings':(df['answer'] + df['clue']).nunique()\n",
    "              }\n",
    "\n",
    "print(f\"\"\"\n",
    "      Unique Clues:                       {proportions['clues']} \n",
    "      Unique Answers:                     {proportions['answers']}\n",
    "      Unique Answer + Clue Pairings:      {proportions['pairings']}\n",
    "      \n",
    "      Clues per Answer: {proportions['clues per answer']}\n",
    "      \"\"\")\n",
    "\n",
    "\n"
   ]
  },
  {
   "cell_type": "code",
   "execution_count": 21,
   "metadata": {},
   "outputs": [
    {
     "data": {
      "application/vnd.plotly.v1+json": {
       "config": {
        "plotlyServerURL": "https://plot.ly"
       },
       "data": [
        {
         "text": [
          "3103325",
          "2579749",
          "315116"
         ],
         "textposition": "auto",
         "type": "bar",
         "x": [
          "Unique Clue + Answer pairings",
          "Unique Clues",
          "Unique Answers"
         ],
         "y": [
          3103325,
          2579749,
          315116
         ]
        }
       ],
       "layout": {
        "template": {
         "data": {
          "bar": [
           {
            "error_x": {
             "color": "#2a3f5f"
            },
            "error_y": {
             "color": "#2a3f5f"
            },
            "marker": {
             "line": {
              "color": "#E5ECF6",
              "width": 0.5
             },
             "pattern": {
              "fillmode": "overlay",
              "size": 10,
              "solidity": 0.2
             }
            },
            "type": "bar"
           }
          ],
          "barpolar": [
           {
            "marker": {
             "line": {
              "color": "#E5ECF6",
              "width": 0.5
             },
             "pattern": {
              "fillmode": "overlay",
              "size": 10,
              "solidity": 0.2
             }
            },
            "type": "barpolar"
           }
          ],
          "carpet": [
           {
            "aaxis": {
             "endlinecolor": "#2a3f5f",
             "gridcolor": "white",
             "linecolor": "white",
             "minorgridcolor": "white",
             "startlinecolor": "#2a3f5f"
            },
            "baxis": {
             "endlinecolor": "#2a3f5f",
             "gridcolor": "white",
             "linecolor": "white",
             "minorgridcolor": "white",
             "startlinecolor": "#2a3f5f"
            },
            "type": "carpet"
           }
          ],
          "choropleth": [
           {
            "colorbar": {
             "outlinewidth": 0,
             "ticks": ""
            },
            "type": "choropleth"
           }
          ],
          "contour": [
           {
            "colorbar": {
             "outlinewidth": 0,
             "ticks": ""
            },
            "colorscale": [
             [
              0,
              "#0d0887"
             ],
             [
              0.1111111111111111,
              "#46039f"
             ],
             [
              0.2222222222222222,
              "#7201a8"
             ],
             [
              0.3333333333333333,
              "#9c179e"
             ],
             [
              0.4444444444444444,
              "#bd3786"
             ],
             [
              0.5555555555555556,
              "#d8576b"
             ],
             [
              0.6666666666666666,
              "#ed7953"
             ],
             [
              0.7777777777777778,
              "#fb9f3a"
             ],
             [
              0.8888888888888888,
              "#fdca26"
             ],
             [
              1,
              "#f0f921"
             ]
            ],
            "type": "contour"
           }
          ],
          "contourcarpet": [
           {
            "colorbar": {
             "outlinewidth": 0,
             "ticks": ""
            },
            "type": "contourcarpet"
           }
          ],
          "heatmap": [
           {
            "colorbar": {
             "outlinewidth": 0,
             "ticks": ""
            },
            "colorscale": [
             [
              0,
              "#0d0887"
             ],
             [
              0.1111111111111111,
              "#46039f"
             ],
             [
              0.2222222222222222,
              "#7201a8"
             ],
             [
              0.3333333333333333,
              "#9c179e"
             ],
             [
              0.4444444444444444,
              "#bd3786"
             ],
             [
              0.5555555555555556,
              "#d8576b"
             ],
             [
              0.6666666666666666,
              "#ed7953"
             ],
             [
              0.7777777777777778,
              "#fb9f3a"
             ],
             [
              0.8888888888888888,
              "#fdca26"
             ],
             [
              1,
              "#f0f921"
             ]
            ],
            "type": "heatmap"
           }
          ],
          "heatmapgl": [
           {
            "colorbar": {
             "outlinewidth": 0,
             "ticks": ""
            },
            "colorscale": [
             [
              0,
              "#0d0887"
             ],
             [
              0.1111111111111111,
              "#46039f"
             ],
             [
              0.2222222222222222,
              "#7201a8"
             ],
             [
              0.3333333333333333,
              "#9c179e"
             ],
             [
              0.4444444444444444,
              "#bd3786"
             ],
             [
              0.5555555555555556,
              "#d8576b"
             ],
             [
              0.6666666666666666,
              "#ed7953"
             ],
             [
              0.7777777777777778,
              "#fb9f3a"
             ],
             [
              0.8888888888888888,
              "#fdca26"
             ],
             [
              1,
              "#f0f921"
             ]
            ],
            "type": "heatmapgl"
           }
          ],
          "histogram": [
           {
            "marker": {
             "pattern": {
              "fillmode": "overlay",
              "size": 10,
              "solidity": 0.2
             }
            },
            "type": "histogram"
           }
          ],
          "histogram2d": [
           {
            "colorbar": {
             "outlinewidth": 0,
             "ticks": ""
            },
            "colorscale": [
             [
              0,
              "#0d0887"
             ],
             [
              0.1111111111111111,
              "#46039f"
             ],
             [
              0.2222222222222222,
              "#7201a8"
             ],
             [
              0.3333333333333333,
              "#9c179e"
             ],
             [
              0.4444444444444444,
              "#bd3786"
             ],
             [
              0.5555555555555556,
              "#d8576b"
             ],
             [
              0.6666666666666666,
              "#ed7953"
             ],
             [
              0.7777777777777778,
              "#fb9f3a"
             ],
             [
              0.8888888888888888,
              "#fdca26"
             ],
             [
              1,
              "#f0f921"
             ]
            ],
            "type": "histogram2d"
           }
          ],
          "histogram2dcontour": [
           {
            "colorbar": {
             "outlinewidth": 0,
             "ticks": ""
            },
            "colorscale": [
             [
              0,
              "#0d0887"
             ],
             [
              0.1111111111111111,
              "#46039f"
             ],
             [
              0.2222222222222222,
              "#7201a8"
             ],
             [
              0.3333333333333333,
              "#9c179e"
             ],
             [
              0.4444444444444444,
              "#bd3786"
             ],
             [
              0.5555555555555556,
              "#d8576b"
             ],
             [
              0.6666666666666666,
              "#ed7953"
             ],
             [
              0.7777777777777778,
              "#fb9f3a"
             ],
             [
              0.8888888888888888,
              "#fdca26"
             ],
             [
              1,
              "#f0f921"
             ]
            ],
            "type": "histogram2dcontour"
           }
          ],
          "mesh3d": [
           {
            "colorbar": {
             "outlinewidth": 0,
             "ticks": ""
            },
            "type": "mesh3d"
           }
          ],
          "parcoords": [
           {
            "line": {
             "colorbar": {
              "outlinewidth": 0,
              "ticks": ""
             }
            },
            "type": "parcoords"
           }
          ],
          "pie": [
           {
            "automargin": true,
            "type": "pie"
           }
          ],
          "scatter": [
           {
            "marker": {
             "colorbar": {
              "outlinewidth": 0,
              "ticks": ""
             }
            },
            "type": "scatter"
           }
          ],
          "scatter3d": [
           {
            "line": {
             "colorbar": {
              "outlinewidth": 0,
              "ticks": ""
             }
            },
            "marker": {
             "colorbar": {
              "outlinewidth": 0,
              "ticks": ""
             }
            },
            "type": "scatter3d"
           }
          ],
          "scattercarpet": [
           {
            "marker": {
             "colorbar": {
              "outlinewidth": 0,
              "ticks": ""
             }
            },
            "type": "scattercarpet"
           }
          ],
          "scattergeo": [
           {
            "marker": {
             "colorbar": {
              "outlinewidth": 0,
              "ticks": ""
             }
            },
            "type": "scattergeo"
           }
          ],
          "scattergl": [
           {
            "marker": {
             "colorbar": {
              "outlinewidth": 0,
              "ticks": ""
             }
            },
            "type": "scattergl"
           }
          ],
          "scattermapbox": [
           {
            "marker": {
             "colorbar": {
              "outlinewidth": 0,
              "ticks": ""
             }
            },
            "type": "scattermapbox"
           }
          ],
          "scatterpolar": [
           {
            "marker": {
             "colorbar": {
              "outlinewidth": 0,
              "ticks": ""
             }
            },
            "type": "scatterpolar"
           }
          ],
          "scatterpolargl": [
           {
            "marker": {
             "colorbar": {
              "outlinewidth": 0,
              "ticks": ""
             }
            },
            "type": "scatterpolargl"
           }
          ],
          "scatterternary": [
           {
            "marker": {
             "colorbar": {
              "outlinewidth": 0,
              "ticks": ""
             }
            },
            "type": "scatterternary"
           }
          ],
          "surface": [
           {
            "colorbar": {
             "outlinewidth": 0,
             "ticks": ""
            },
            "colorscale": [
             [
              0,
              "#0d0887"
             ],
             [
              0.1111111111111111,
              "#46039f"
             ],
             [
              0.2222222222222222,
              "#7201a8"
             ],
             [
              0.3333333333333333,
              "#9c179e"
             ],
             [
              0.4444444444444444,
              "#bd3786"
             ],
             [
              0.5555555555555556,
              "#d8576b"
             ],
             [
              0.6666666666666666,
              "#ed7953"
             ],
             [
              0.7777777777777778,
              "#fb9f3a"
             ],
             [
              0.8888888888888888,
              "#fdca26"
             ],
             [
              1,
              "#f0f921"
             ]
            ],
            "type": "surface"
           }
          ],
          "table": [
           {
            "cells": {
             "fill": {
              "color": "#EBF0F8"
             },
             "line": {
              "color": "white"
             }
            },
            "header": {
             "fill": {
              "color": "#C8D4E3"
             },
             "line": {
              "color": "white"
             }
            },
            "type": "table"
           }
          ]
         },
         "layout": {
          "annotationdefaults": {
           "arrowcolor": "#2a3f5f",
           "arrowhead": 0,
           "arrowwidth": 1
          },
          "autotypenumbers": "strict",
          "coloraxis": {
           "colorbar": {
            "outlinewidth": 0,
            "ticks": ""
           }
          },
          "colorscale": {
           "diverging": [
            [
             0,
             "#8e0152"
            ],
            [
             0.1,
             "#c51b7d"
            ],
            [
             0.2,
             "#de77ae"
            ],
            [
             0.3,
             "#f1b6da"
            ],
            [
             0.4,
             "#fde0ef"
            ],
            [
             0.5,
             "#f7f7f7"
            ],
            [
             0.6,
             "#e6f5d0"
            ],
            [
             0.7,
             "#b8e186"
            ],
            [
             0.8,
             "#7fbc41"
            ],
            [
             0.9,
             "#4d9221"
            ],
            [
             1,
             "#276419"
            ]
           ],
           "sequential": [
            [
             0,
             "#0d0887"
            ],
            [
             0.1111111111111111,
             "#46039f"
            ],
            [
             0.2222222222222222,
             "#7201a8"
            ],
            [
             0.3333333333333333,
             "#9c179e"
            ],
            [
             0.4444444444444444,
             "#bd3786"
            ],
            [
             0.5555555555555556,
             "#d8576b"
            ],
            [
             0.6666666666666666,
             "#ed7953"
            ],
            [
             0.7777777777777778,
             "#fb9f3a"
            ],
            [
             0.8888888888888888,
             "#fdca26"
            ],
            [
             1,
             "#f0f921"
            ]
           ],
           "sequentialminus": [
            [
             0,
             "#0d0887"
            ],
            [
             0.1111111111111111,
             "#46039f"
            ],
            [
             0.2222222222222222,
             "#7201a8"
            ],
            [
             0.3333333333333333,
             "#9c179e"
            ],
            [
             0.4444444444444444,
             "#bd3786"
            ],
            [
             0.5555555555555556,
             "#d8576b"
            ],
            [
             0.6666666666666666,
             "#ed7953"
            ],
            [
             0.7777777777777778,
             "#fb9f3a"
            ],
            [
             0.8888888888888888,
             "#fdca26"
            ],
            [
             1,
             "#f0f921"
            ]
           ]
          },
          "colorway": [
           "#636efa",
           "#EF553B",
           "#00cc96",
           "#ab63fa",
           "#FFA15A",
           "#19d3f3",
           "#FF6692",
           "#B6E880",
           "#FF97FF",
           "#FECB52"
          ],
          "font": {
           "color": "#2a3f5f"
          },
          "geo": {
           "bgcolor": "white",
           "lakecolor": "white",
           "landcolor": "#E5ECF6",
           "showlakes": true,
           "showland": true,
           "subunitcolor": "white"
          },
          "hoverlabel": {
           "align": "left"
          },
          "hovermode": "closest",
          "mapbox": {
           "style": "light"
          },
          "paper_bgcolor": "white",
          "plot_bgcolor": "#E5ECF6",
          "polar": {
           "angularaxis": {
            "gridcolor": "white",
            "linecolor": "white",
            "ticks": ""
           },
           "bgcolor": "#E5ECF6",
           "radialaxis": {
            "gridcolor": "white",
            "linecolor": "white",
            "ticks": ""
           }
          },
          "scene": {
           "xaxis": {
            "backgroundcolor": "#E5ECF6",
            "gridcolor": "white",
            "gridwidth": 2,
            "linecolor": "white",
            "showbackground": true,
            "ticks": "",
            "zerolinecolor": "white"
           },
           "yaxis": {
            "backgroundcolor": "#E5ECF6",
            "gridcolor": "white",
            "gridwidth": 2,
            "linecolor": "white",
            "showbackground": true,
            "ticks": "",
            "zerolinecolor": "white"
           },
           "zaxis": {
            "backgroundcolor": "#E5ECF6",
            "gridcolor": "white",
            "gridwidth": 2,
            "linecolor": "white",
            "showbackground": true,
            "ticks": "",
            "zerolinecolor": "white"
           }
          },
          "shapedefaults": {
           "line": {
            "color": "#2a3f5f"
           }
          },
          "ternary": {
           "aaxis": {
            "gridcolor": "white",
            "linecolor": "white",
            "ticks": ""
           },
           "baxis": {
            "gridcolor": "white",
            "linecolor": "white",
            "ticks": ""
           },
           "bgcolor": "#E5ECF6",
           "caxis": {
            "gridcolor": "white",
            "linecolor": "white",
            "ticks": ""
           }
          },
          "title": {
           "x": 0.05
          },
          "xaxis": {
           "automargin": true,
           "gridcolor": "white",
           "linecolor": "white",
           "ticks": "",
           "title": {
            "standoff": 15
           },
           "zerolinecolor": "white",
           "zerolinewidth": 2
          },
          "yaxis": {
           "automargin": true,
           "gridcolor": "white",
           "linecolor": "white",
           "ticks": "",
           "title": {
            "standoff": 15
           },
           "zerolinecolor": "white",
           "zerolinewidth": 2
          }
         }
        }
       }
      }
     },
     "metadata": {},
     "output_type": "display_data"
    }
   ],
   "source": [
    "labels = [  'Unique Clue + Answer pairings',\n",
    "            'Unique Clues',\n",
    "            'Unique Answers'\n",
    "            ]\n",
    "values = [  proportions['pairings'],\n",
    "            proportions['clues'],\n",
    "            proportions['answers']\n",
    "            ]\n",
    "\n",
    "fig = go.Figure(data=[go.Bar(\n",
    "            x=labels, \n",
    "            y=values,\n",
    "            text=values,\n",
    "            textposition='auto',\n",
    "        )])\n",
    "\n",
    "fig.show()"
   ]
  },
  {
   "cell_type": "markdown",
   "metadata": {},
   "source": [
    "# Frequency of repeated answers"
   ]
  },
  {
   "cell_type": "code",
   "execution_count": 22,
   "metadata": {},
   "outputs": [
    {
     "name": "stdout",
     "output_type": "stream",
     "text": [
      "\n",
      "      Answers with more than 100 occurances:        5991\n",
      "      Answers with between 11 and 99 occurances:    38857\n",
      "      Answers with between 2 and 10 occurances:     104758\n",
      "      Answers with only one occurance:              165444\n",
      "      \n"
     ]
    }
   ],
   "source": [
    "frequencies = { '100+':    (df['answer'].value_counts() > 100).sum(), \n",
    "                '11-100':  ((df['answer'].value_counts() < 100) & (df['answer'].value_counts() > 10)).sum(),\n",
    "                '2-10':     ((df['answer'].value_counts() <= 10) & (df['answer'].value_counts() > 1)).sum(),\n",
    "                '1':        (df['answer'].value_counts() == 1).sum()\n",
    "              }\n",
    "print(f\"\"\"\n",
    "      Answers with more than 100 occurances:        {frequencies['100+']}\n",
    "      Answers with between 11 and 99 occurances:    {frequencies['11-100']}\n",
    "      Answers with between 2 and 10 occurances:     {frequencies['2-10']}\n",
    "      Answers with only one occurance:              {frequencies['1']}\n",
    "      \"\"\")\n",
    "\n"
   ]
  },
  {
   "cell_type": "code",
   "execution_count": 23,
   "metadata": {},
   "outputs": [
    {
     "data": {
      "application/vnd.plotly.v1+json": {
       "config": {
        "plotlyServerURL": "https://plot.ly"
       },
       "data": [
        {
         "insidetextorientation": "radial",
         "labels": [
          "100+",
          "11-100",
          "2-10",
          "1"
         ],
         "textinfo": "label+percent",
         "type": "pie",
         "values": [
          5991,
          38857,
          104758,
          165444
         ]
        }
       ],
       "layout": {
        "template": {
         "data": {
          "bar": [
           {
            "error_x": {
             "color": "#2a3f5f"
            },
            "error_y": {
             "color": "#2a3f5f"
            },
            "marker": {
             "line": {
              "color": "#E5ECF6",
              "width": 0.5
             },
             "pattern": {
              "fillmode": "overlay",
              "size": 10,
              "solidity": 0.2
             }
            },
            "type": "bar"
           }
          ],
          "barpolar": [
           {
            "marker": {
             "line": {
              "color": "#E5ECF6",
              "width": 0.5
             },
             "pattern": {
              "fillmode": "overlay",
              "size": 10,
              "solidity": 0.2
             }
            },
            "type": "barpolar"
           }
          ],
          "carpet": [
           {
            "aaxis": {
             "endlinecolor": "#2a3f5f",
             "gridcolor": "white",
             "linecolor": "white",
             "minorgridcolor": "white",
             "startlinecolor": "#2a3f5f"
            },
            "baxis": {
             "endlinecolor": "#2a3f5f",
             "gridcolor": "white",
             "linecolor": "white",
             "minorgridcolor": "white",
             "startlinecolor": "#2a3f5f"
            },
            "type": "carpet"
           }
          ],
          "choropleth": [
           {
            "colorbar": {
             "outlinewidth": 0,
             "ticks": ""
            },
            "type": "choropleth"
           }
          ],
          "contour": [
           {
            "colorbar": {
             "outlinewidth": 0,
             "ticks": ""
            },
            "colorscale": [
             [
              0,
              "#0d0887"
             ],
             [
              0.1111111111111111,
              "#46039f"
             ],
             [
              0.2222222222222222,
              "#7201a8"
             ],
             [
              0.3333333333333333,
              "#9c179e"
             ],
             [
              0.4444444444444444,
              "#bd3786"
             ],
             [
              0.5555555555555556,
              "#d8576b"
             ],
             [
              0.6666666666666666,
              "#ed7953"
             ],
             [
              0.7777777777777778,
              "#fb9f3a"
             ],
             [
              0.8888888888888888,
              "#fdca26"
             ],
             [
              1,
              "#f0f921"
             ]
            ],
            "type": "contour"
           }
          ],
          "contourcarpet": [
           {
            "colorbar": {
             "outlinewidth": 0,
             "ticks": ""
            },
            "type": "contourcarpet"
           }
          ],
          "heatmap": [
           {
            "colorbar": {
             "outlinewidth": 0,
             "ticks": ""
            },
            "colorscale": [
             [
              0,
              "#0d0887"
             ],
             [
              0.1111111111111111,
              "#46039f"
             ],
             [
              0.2222222222222222,
              "#7201a8"
             ],
             [
              0.3333333333333333,
              "#9c179e"
             ],
             [
              0.4444444444444444,
              "#bd3786"
             ],
             [
              0.5555555555555556,
              "#d8576b"
             ],
             [
              0.6666666666666666,
              "#ed7953"
             ],
             [
              0.7777777777777778,
              "#fb9f3a"
             ],
             [
              0.8888888888888888,
              "#fdca26"
             ],
             [
              1,
              "#f0f921"
             ]
            ],
            "type": "heatmap"
           }
          ],
          "heatmapgl": [
           {
            "colorbar": {
             "outlinewidth": 0,
             "ticks": ""
            },
            "colorscale": [
             [
              0,
              "#0d0887"
             ],
             [
              0.1111111111111111,
              "#46039f"
             ],
             [
              0.2222222222222222,
              "#7201a8"
             ],
             [
              0.3333333333333333,
              "#9c179e"
             ],
             [
              0.4444444444444444,
              "#bd3786"
             ],
             [
              0.5555555555555556,
              "#d8576b"
             ],
             [
              0.6666666666666666,
              "#ed7953"
             ],
             [
              0.7777777777777778,
              "#fb9f3a"
             ],
             [
              0.8888888888888888,
              "#fdca26"
             ],
             [
              1,
              "#f0f921"
             ]
            ],
            "type": "heatmapgl"
           }
          ],
          "histogram": [
           {
            "marker": {
             "pattern": {
              "fillmode": "overlay",
              "size": 10,
              "solidity": 0.2
             }
            },
            "type": "histogram"
           }
          ],
          "histogram2d": [
           {
            "colorbar": {
             "outlinewidth": 0,
             "ticks": ""
            },
            "colorscale": [
             [
              0,
              "#0d0887"
             ],
             [
              0.1111111111111111,
              "#46039f"
             ],
             [
              0.2222222222222222,
              "#7201a8"
             ],
             [
              0.3333333333333333,
              "#9c179e"
             ],
             [
              0.4444444444444444,
              "#bd3786"
             ],
             [
              0.5555555555555556,
              "#d8576b"
             ],
             [
              0.6666666666666666,
              "#ed7953"
             ],
             [
              0.7777777777777778,
              "#fb9f3a"
             ],
             [
              0.8888888888888888,
              "#fdca26"
             ],
             [
              1,
              "#f0f921"
             ]
            ],
            "type": "histogram2d"
           }
          ],
          "histogram2dcontour": [
           {
            "colorbar": {
             "outlinewidth": 0,
             "ticks": ""
            },
            "colorscale": [
             [
              0,
              "#0d0887"
             ],
             [
              0.1111111111111111,
              "#46039f"
             ],
             [
              0.2222222222222222,
              "#7201a8"
             ],
             [
              0.3333333333333333,
              "#9c179e"
             ],
             [
              0.4444444444444444,
              "#bd3786"
             ],
             [
              0.5555555555555556,
              "#d8576b"
             ],
             [
              0.6666666666666666,
              "#ed7953"
             ],
             [
              0.7777777777777778,
              "#fb9f3a"
             ],
             [
              0.8888888888888888,
              "#fdca26"
             ],
             [
              1,
              "#f0f921"
             ]
            ],
            "type": "histogram2dcontour"
           }
          ],
          "mesh3d": [
           {
            "colorbar": {
             "outlinewidth": 0,
             "ticks": ""
            },
            "type": "mesh3d"
           }
          ],
          "parcoords": [
           {
            "line": {
             "colorbar": {
              "outlinewidth": 0,
              "ticks": ""
             }
            },
            "type": "parcoords"
           }
          ],
          "pie": [
           {
            "automargin": true,
            "type": "pie"
           }
          ],
          "scatter": [
           {
            "marker": {
             "colorbar": {
              "outlinewidth": 0,
              "ticks": ""
             }
            },
            "type": "scatter"
           }
          ],
          "scatter3d": [
           {
            "line": {
             "colorbar": {
              "outlinewidth": 0,
              "ticks": ""
             }
            },
            "marker": {
             "colorbar": {
              "outlinewidth": 0,
              "ticks": ""
             }
            },
            "type": "scatter3d"
           }
          ],
          "scattercarpet": [
           {
            "marker": {
             "colorbar": {
              "outlinewidth": 0,
              "ticks": ""
             }
            },
            "type": "scattercarpet"
           }
          ],
          "scattergeo": [
           {
            "marker": {
             "colorbar": {
              "outlinewidth": 0,
              "ticks": ""
             }
            },
            "type": "scattergeo"
           }
          ],
          "scattergl": [
           {
            "marker": {
             "colorbar": {
              "outlinewidth": 0,
              "ticks": ""
             }
            },
            "type": "scattergl"
           }
          ],
          "scattermapbox": [
           {
            "marker": {
             "colorbar": {
              "outlinewidth": 0,
              "ticks": ""
             }
            },
            "type": "scattermapbox"
           }
          ],
          "scatterpolar": [
           {
            "marker": {
             "colorbar": {
              "outlinewidth": 0,
              "ticks": ""
             }
            },
            "type": "scatterpolar"
           }
          ],
          "scatterpolargl": [
           {
            "marker": {
             "colorbar": {
              "outlinewidth": 0,
              "ticks": ""
             }
            },
            "type": "scatterpolargl"
           }
          ],
          "scatterternary": [
           {
            "marker": {
             "colorbar": {
              "outlinewidth": 0,
              "ticks": ""
             }
            },
            "type": "scatterternary"
           }
          ],
          "surface": [
           {
            "colorbar": {
             "outlinewidth": 0,
             "ticks": ""
            },
            "colorscale": [
             [
              0,
              "#0d0887"
             ],
             [
              0.1111111111111111,
              "#46039f"
             ],
             [
              0.2222222222222222,
              "#7201a8"
             ],
             [
              0.3333333333333333,
              "#9c179e"
             ],
             [
              0.4444444444444444,
              "#bd3786"
             ],
             [
              0.5555555555555556,
              "#d8576b"
             ],
             [
              0.6666666666666666,
              "#ed7953"
             ],
             [
              0.7777777777777778,
              "#fb9f3a"
             ],
             [
              0.8888888888888888,
              "#fdca26"
             ],
             [
              1,
              "#f0f921"
             ]
            ],
            "type": "surface"
           }
          ],
          "table": [
           {
            "cells": {
             "fill": {
              "color": "#EBF0F8"
             },
             "line": {
              "color": "white"
             }
            },
            "header": {
             "fill": {
              "color": "#C8D4E3"
             },
             "line": {
              "color": "white"
             }
            },
            "type": "table"
           }
          ]
         },
         "layout": {
          "annotationdefaults": {
           "arrowcolor": "#2a3f5f",
           "arrowhead": 0,
           "arrowwidth": 1
          },
          "autotypenumbers": "strict",
          "coloraxis": {
           "colorbar": {
            "outlinewidth": 0,
            "ticks": ""
           }
          },
          "colorscale": {
           "diverging": [
            [
             0,
             "#8e0152"
            ],
            [
             0.1,
             "#c51b7d"
            ],
            [
             0.2,
             "#de77ae"
            ],
            [
             0.3,
             "#f1b6da"
            ],
            [
             0.4,
             "#fde0ef"
            ],
            [
             0.5,
             "#f7f7f7"
            ],
            [
             0.6,
             "#e6f5d0"
            ],
            [
             0.7,
             "#b8e186"
            ],
            [
             0.8,
             "#7fbc41"
            ],
            [
             0.9,
             "#4d9221"
            ],
            [
             1,
             "#276419"
            ]
           ],
           "sequential": [
            [
             0,
             "#0d0887"
            ],
            [
             0.1111111111111111,
             "#46039f"
            ],
            [
             0.2222222222222222,
             "#7201a8"
            ],
            [
             0.3333333333333333,
             "#9c179e"
            ],
            [
             0.4444444444444444,
             "#bd3786"
            ],
            [
             0.5555555555555556,
             "#d8576b"
            ],
            [
             0.6666666666666666,
             "#ed7953"
            ],
            [
             0.7777777777777778,
             "#fb9f3a"
            ],
            [
             0.8888888888888888,
             "#fdca26"
            ],
            [
             1,
             "#f0f921"
            ]
           ],
           "sequentialminus": [
            [
             0,
             "#0d0887"
            ],
            [
             0.1111111111111111,
             "#46039f"
            ],
            [
             0.2222222222222222,
             "#7201a8"
            ],
            [
             0.3333333333333333,
             "#9c179e"
            ],
            [
             0.4444444444444444,
             "#bd3786"
            ],
            [
             0.5555555555555556,
             "#d8576b"
            ],
            [
             0.6666666666666666,
             "#ed7953"
            ],
            [
             0.7777777777777778,
             "#fb9f3a"
            ],
            [
             0.8888888888888888,
             "#fdca26"
            ],
            [
             1,
             "#f0f921"
            ]
           ]
          },
          "colorway": [
           "#636efa",
           "#EF553B",
           "#00cc96",
           "#ab63fa",
           "#FFA15A",
           "#19d3f3",
           "#FF6692",
           "#B6E880",
           "#FF97FF",
           "#FECB52"
          ],
          "font": {
           "color": "#2a3f5f"
          },
          "geo": {
           "bgcolor": "white",
           "lakecolor": "white",
           "landcolor": "#E5ECF6",
           "showlakes": true,
           "showland": true,
           "subunitcolor": "white"
          },
          "hoverlabel": {
           "align": "left"
          },
          "hovermode": "closest",
          "mapbox": {
           "style": "light"
          },
          "paper_bgcolor": "white",
          "plot_bgcolor": "#E5ECF6",
          "polar": {
           "angularaxis": {
            "gridcolor": "white",
            "linecolor": "white",
            "ticks": ""
           },
           "bgcolor": "#E5ECF6",
           "radialaxis": {
            "gridcolor": "white",
            "linecolor": "white",
            "ticks": ""
           }
          },
          "scene": {
           "xaxis": {
            "backgroundcolor": "#E5ECF6",
            "gridcolor": "white",
            "gridwidth": 2,
            "linecolor": "white",
            "showbackground": true,
            "ticks": "",
            "zerolinecolor": "white"
           },
           "yaxis": {
            "backgroundcolor": "#E5ECF6",
            "gridcolor": "white",
            "gridwidth": 2,
            "linecolor": "white",
            "showbackground": true,
            "ticks": "",
            "zerolinecolor": "white"
           },
           "zaxis": {
            "backgroundcolor": "#E5ECF6",
            "gridcolor": "white",
            "gridwidth": 2,
            "linecolor": "white",
            "showbackground": true,
            "ticks": "",
            "zerolinecolor": "white"
           }
          },
          "shapedefaults": {
           "line": {
            "color": "#2a3f5f"
           }
          },
          "ternary": {
           "aaxis": {
            "gridcolor": "white",
            "linecolor": "white",
            "ticks": ""
           },
           "baxis": {
            "gridcolor": "white",
            "linecolor": "white",
            "ticks": ""
           },
           "bgcolor": "#E5ECF6",
           "caxis": {
            "gridcolor": "white",
            "linecolor": "white",
            "ticks": ""
           }
          },
          "title": {
           "x": 0.05
          },
          "xaxis": {
           "automargin": true,
           "gridcolor": "white",
           "linecolor": "white",
           "ticks": "",
           "title": {
            "standoff": 15
           },
           "zerolinecolor": "white",
           "zerolinewidth": 2
          },
          "yaxis": {
           "automargin": true,
           "gridcolor": "white",
           "linecolor": "white",
           "ticks": "",
           "title": {
            "standoff": 15
           },
           "zerolinecolor": "white",
           "zerolinewidth": 2
          }
         }
        }
       }
      }
     },
     "metadata": {},
     "output_type": "display_data"
    }
   ],
   "source": [
    "labels = list(frequencies.keys())\n",
    "values = list(frequencies.values())\n",
    "\n",
    "fig = go.Figure(data=[go.Pie(labels=labels, values=values, textinfo='label+percent',\n",
    "                             insidetextorientation='radial'\n",
    "                            )])\n",
    "fig.show()"
   ]
  },
  {
   "cell_type": "markdown",
   "metadata": {},
   "source": [
    "# Samples of punctuation occuring within clues (Using uncleaned data)"
   ]
  },
  {
   "cell_type": "code",
   "execution_count": 39,
   "metadata": {},
   "outputs": [],
   "source": [
    "\n",
    "def sample_strings_containing(containing:list,  data:pd.DataFrame, column:str, n_samples:int=1) -> dict:\n",
    "    \"\"\"Searches a column within a dataframe and returns random smaples of entries containing the key words\n",
    "    in the given list.\n",
    "\n",
    "    Args:\n",
    "        containing (list): List of key words to look for\n",
    "        data (pd.DataFrame): Dataframe to search\n",
    "        column (str): column to serch within datdrame\n",
    "        n_samples (int, optional): number of samples to return for each key. Defaults to 1.\n",
    "\n",
    "    \"\"\"\n",
    "    samples = {}\n",
    "    for x in containing:\n",
    "        matches = data[data[column].str.contains(x, regex=False)]\n",
    "        if matches.shape[0] > 0:  \n",
    "            samples[x] = []\n",
    "            for r in np.random.choice(range(matches.shape[0]),n_samples, replace=False):         \n",
    "                r = np.random.randint(0, matches.shape[0])\n",
    "                samples[x].append(matches.iloc[r][column])\n",
    "    return samples"
   ]
  },
  {
   "cell_type": "code",
   "execution_count": 40,
   "metadata": {},
   "outputs": [
    {
     "data": {
      "text/html": [
       "<div>\n",
       "<style scoped>\n",
       "    .dataframe tbody tr th:only-of-type {\n",
       "        vertical-align: middle;\n",
       "    }\n",
       "\n",
       "    .dataframe tbody tr th {\n",
       "        vertical-align: top;\n",
       "    }\n",
       "\n",
       "    .dataframe thead th {\n",
       "        text-align: right;\n",
       "    }\n",
       "</style>\n",
       "<table border=\"1\" class=\"dataframe\">\n",
       "  <thead>\n",
       "    <tr style=\"text-align: right;\">\n",
       "      <th></th>\n",
       "      <th>0</th>\n",
       "      <th>1</th>\n",
       "      <th>2</th>\n",
       "      <th>3</th>\n",
       "      <th>4</th>\n",
       "    </tr>\n",
       "  </thead>\n",
       "  <tbody>\n",
       "    <tr>\n",
       "      <th>!</th>\n",
       "      <td>Too bad!</td>\n",
       "      <td>___ be an honor!</td>\n",
       "      <td>___ roll!</td>\n",
       "      <td>*\"Everyone off!\"</td>\n",
       "      <td>Ciao! cousin</td>\n",
       "    </tr>\n",
       "    <tr>\n",
       "      <th>\"</th>\n",
       "      <td>Actress Taylor of \"The Nanny\"</td>\n",
       "      <td>Like the accent in \"crème\"</td>\n",
       "      <td>Alex voices her on \"Family Guy\"</td>\n",
       "      <td>Irish air \"The Rose of ___\"</td>\n",
       "      <td>One of Chekhov's \"Three Sisters\"</td>\n",
       "    </tr>\n",
       "    <tr>\n",
       "      <th>#</th>\n",
       "      <td>Cash-strapped college student's survival ploy #5</td>\n",
       "      <td>#1</td>\n",
       "      <td>__ Go Again: Whitesnake #1 song</td>\n",
       "      <td>Boom Boom ___ (#1 song by the Black Eyed Peas)</td>\n",
       "      <td>1958 Presley #1 hit</td>\n",
       "    </tr>\n",
       "    <tr>\n",
       "      <th>$</th>\n",
       "      <td>@#$%! This wake is getting totally out of hand!</td>\n",
       "      <td>Change for a $20 bill</td>\n",
       "      <td>$200 Monopoly props.</td>\n",
       "      <td>His portrait is on $10,000 bills.</td>\n",
       "      <td>$ star, 1971</td>\n",
       "    </tr>\n",
       "    <tr>\n",
       "      <th>%</th>\n",
       "      <td>100% convinced</td>\n",
       "      <td>Article of clothing than an estimated 80% wear...</td>\n",
       "      <td>Say '#@%!'</td>\n",
       "      <td>Like about 25% of legal U.S. immigrants</td>\n",
       "      <td>20% of diez</td>\n",
       "    </tr>\n",
       "    <tr>\n",
       "      <th>&amp;</th>\n",
       "      <td>B. &amp; O., Santa Fe, etc.</td>\n",
       "      <td>Some shoe purchases from the \"Big &amp; Tall\" store</td>\n",
       "      <td>___ Jay Lerner of Lerner &amp; Loewe</td>\n",
       "      <td>Piece of wood that's \"better than bad, it's go...</td>\n",
       "      <td>Alternative to rap and R&amp;B</td>\n",
       "    </tr>\n",
       "    <tr>\n",
       "      <th>'</th>\n",
       "      <td>___ d'oeuvres</td>\n",
       "      <td>Don't overdo it</td>\n",
       "      <td>TV Hulk actor's first name</td>\n",
       "      <td>*\"Midnight's Children\" author</td>\n",
       "      <td>Didn't pay yet</td>\n",
       "    </tr>\n",
       "    <tr>\n",
       "      <th>(</th>\n",
       "      <td>Two-__ (kind of car)</td>\n",
       "      <td>Mai ___ (cocktail)</td>\n",
       "      <td>Out of ___ (uncoordinated)</td>\n",
       "      <td>___-mell (helter-skelter)</td>\n",
       "      <td>401(k) supplement</td>\n",
       "    </tr>\n",
       "    <tr>\n",
       "      <th>)</th>\n",
       "      <td>Ich ___ dich (German term of endearment)</td>\n",
       "      <td>__ about (circa)</td>\n",
       "      <td>He's ___ nowhere man (Beatles)</td>\n",
       "      <td>'Til ___ (\"The Producers\" song)</td>\n",
       "      <td>Burkina ___ (African land)</td>\n",
       "    </tr>\n",
       "    <tr>\n",
       "      <th>*</th>\n",
       "      <td>*___ soup</td>\n",
       "      <td>*Not sportsmanlike</td>\n",
       "      <td>M*A*S*H drink</td>\n",
       "      <td>W*D</td>\n",
       "      <td>*Abraham Lincoln</td>\n",
       "    </tr>\n",
       "    <tr>\n",
       "      <th>+</th>\n",
       "      <td>DOS + cuatro</td>\n",
       "      <td>Ben + Richard =</td>\n",
       "      <td>Command+Y, on a Mac</td>\n",
       "      <td>Symbol gotten by typing Ctrl+Alt+E, in Microso...</td>\n",
       "      <td>Dot follower [with 38-Across + 35-Down, this p...</td>\n",
       "    </tr>\n",
       "    <tr>\n",
       "      <th>,</th>\n",
       "      <td>Fake sword, sometimes</td>\n",
       "      <td>___ far, far better thing ...</td>\n",
       "      <td>Buddies, in slang</td>\n",
       "      <td>Jeanne d'Arc, e.g. (Abbr)</td>\n",
       "      <td>Warm up, as leftovers</td>\n",
       "    </tr>\n",
       "    <tr>\n",
       "      <th>-</th>\n",
       "      <td>Danse Macabre composer Saint-__</td>\n",
       "      <td>Savoir-faire.</td>\n",
       "      <td>Alternative to dial-up</td>\n",
       "      <td>Group co-founded by Eazy-E</td>\n",
       "      <td>Finish a 10-K</td>\n",
       "    </tr>\n",
       "    <tr>\n",
       "      <th>.</th>\n",
       "      <td>Dickens's Miss Havisham, e.g.</td>\n",
       "      <td>Goggles.</td>\n",
       "      <td>Bellerophon's winged steed.</td>\n",
       "      <td>Lachrymal drop.</td>\n",
       "      <td>Photo.</td>\n",
       "    </tr>\n",
       "    <tr>\n",
       "      <th>/</th>\n",
       "      <td>India/Pakistan events</td>\n",
       "      <td>Comic / host Jay</td>\n",
       "      <td>{/Environmentally sound keyboard/}</td>\n",
       "      <td>1946 Hope/Crosby film</td>\n",
       "      <td>Since 1/1, to a CPA</td>\n",
       "    </tr>\n",
       "    <tr>\n",
       "      <th>:</th>\n",
       "      <td>Chum: Slang.</td>\n",
       "      <td>Gratuitous handouts: var.</td>\n",
       "      <td>O'Neill drama: 1917</td>\n",
       "      <td>Strong arm?: Abbr.</td>\n",
       "      <td>Overseer: Abbr.</td>\n",
       "    </tr>\n",
       "    <tr>\n",
       "      <th>;</th>\n",
       "      <td>They may be receding; toupe catalogs</td>\n",
       "      <td>Source; origin.</td>\n",
       "      <td>Love is of two kinds; one commands, one _____</td>\n",
       "      <td>Plump; healthy</td>\n",
       "      <td>Sarcastic; equivocal</td>\n",
       "    </tr>\n",
       "    <tr>\n",
       "      <th>&lt;</th>\n",
       "      <td>&lt;&lt;NO CLUE&gt;&gt;</td>\n",
       "      <td>&lt;I&gt;Cats&lt;I&gt;, e.g.</td>\n",
       "      <td>Voight, of &lt;I&gt;Runaway Train&lt;I&gt;</td>\n",
       "      <td>&lt;I&gt;The Country Girl&lt;I&gt; playwright</td>\n",
       "      <td>Theda Bara  &lt;P&gt;e.g.</td>\n",
       "    </tr>\n",
       "    <tr>\n",
       "      <th>=</th>\n",
       "      <td>Singer Vikki + senator Trent = auto site?</td>\n",
       "      <td>Wines ÷ 10 = signs</td>\n",
       "      <td>E = IR formulator</td>\n",
       "      <td>Say 2 + 2 = 5, say</td>\n",
       "      <td>Delay + dodos = some compromises</td>\n",
       "    </tr>\n",
       "    <tr>\n",
       "      <th>&gt;</th>\n",
       "      <td>&lt;&lt;NO CLUE&gt;&gt;</td>\n",
       "      <td>&lt;I&gt;Mack the Knife&lt;I&gt; singer</td>\n",
       "      <td>Golden calf  &lt;P&gt;e.g.</td>\n",
       "      <td>Gift from mother  &lt;P&gt;e.g.</td>\n",
       "      <td>Cr me de la cr me&lt;P&gt;</td>\n",
       "    </tr>\n",
       "    <tr>\n",
       "      <th>?</th>\n",
       "      <td>Holy Ohio city?</td>\n",
       "      <td>Hero attachment?</td>\n",
       "      <td>Vintage sitcom actress?</td>\n",
       "      <td>Clothing-backed securities?</td>\n",
       "      <td>Like a bug's ear?</td>\n",
       "    </tr>\n",
       "    <tr>\n",
       "      <th>@</th>\n",
       "      <td>@#$%! Annie Oakley just had a baby!</td>\n",
       "      <td>Addresses with \"@\"</td>\n",
       "      <td>Said \"!@#$%\"</td>\n",
       "      <td>Say \"!@#$%\"</td>\n",
       "      <td>Said \"@#$%^!\"</td>\n",
       "    </tr>\n",
       "    <tr>\n",
       "      <th>[</th>\n",
       "      <td>Hydroxyl group compound [14]</td>\n",
       "      <td>[Boo-hoo!]</td>\n",
       "      <td>Dog-paddles [left hand]</td>\n",
       "      <td>[See note]</td>\n",
       "      <td>Famed bluesman [black]</td>\n",
       "    </tr>\n",
       "    <tr>\n",
       "      <th>\\</th>\n",
       "      <td>The Omen&lt;\\I&gt; kid\\nnw\\t2001\\tDAMN\\t__ Yankees\"</td>\n",
       "      <td>/ or \\</td>\n",
       "      <td>C:\\ProgramFiles\\Litsoft\\AcrossLite, e.g.</td>\n",
       "      <td>Platform in which you might see the prompt C:\\&gt;</td>\n",
       "      <td>/ or \\</td>\n",
       "    </tr>\n",
       "    <tr>\n",
       "      <th>]</th>\n",
       "      <td>[yuck!]</td>\n",
       "      <td>Well-suited name [1997]</td>\n",
       "      <td>[Knock], in poker</td>\n",
       "      <td>[Image of a quarter note]</td>\n",
       "      <td>[I'm so sad]</td>\n",
       "    </tr>\n",
       "    <tr>\n",
       "      <th>^</th>\n",
       "      <td>One of the Gallos^ERNES</td>\n",
       "      <td>Bandleader Stan's favorite Chinese food?^KENTO...</td>\n",
       "      <td>Solitary^LON</td>\n",
       "      <td>Grunded planes^SST</td>\n",
       "      <td>Champion race horse^MANOWA</td>\n",
       "    </tr>\n",
       "    <tr>\n",
       "      <th>_</th>\n",
       "      <td>Trudeau-___ (late '60s Canadian political phen...</td>\n",
       "      <td>___-Ball</td>\n",
       "      <td>___ contendere.</td>\n",
       "      <td>The weather-glass/Is set at ___: Auden</td>\n",
       "      <td>Rome's Fontana di ___</td>\n",
       "    </tr>\n",
       "    <tr>\n",
       "      <th>`</th>\n",
       "      <td>`Damn Yankees` vamp</td>\n",
       "      <td>``To ___ own self be true\"</td>\n",
       "      <td>``The Air up There\" African</td>\n",
       "      <td>``. . . ___ a man with seven wives\"</td>\n",
       "      <td>Follower of ``the Splendor of God\"</td>\n",
       "    </tr>\n",
       "    <tr>\n",
       "      <th>{</th>\n",
       "      <td>{/See shaded letters intersected by this answer/}</td>\n",
       "      <td>{/House that drains finances, slangily/}</td>\n",
       "      <td>{/Kid constantly switching schools, maybe/}</td>\n",
       "      <td>{/An elderly woman was having dinner with her ...</td>\n",
       "      <td>5, for the set {2, 4, 6, 8}</td>\n",
       "    </tr>\n",
       "    <tr>\n",
       "      <th>|</th>\n",
       "      <td>Passages marked :|| in music.</td>\n",
       "      <td>|| on a YouTube video</td>\n",
       "      <td>Magazine with an annual \"500|5000\" conference</td>\n",
       "      <td>What \"||\" means on a YouTube video</td>\n",
       "      <td>What &gt;:-|| means in emoticons</td>\n",
       "    </tr>\n",
       "    <tr>\n",
       "      <th>}</th>\n",
       "      <td>___ {_Porter_}</td>\n",
       "      <td>{See Notepad}</td>\n",
       "      <td>{/Equestrian is wanted to ... / Experience nee...</td>\n",
       "      <td>{/Bid adieu, informally/}</td>\n",
       "      <td>[g-}]</td>\n",
       "    </tr>\n",
       "    <tr>\n",
       "      <th>~</th>\n",
       "      <td>~</td>\n",
       "      <td>Spanish diacritical marks (~ ~ ~ )</td>\n",
       "      <td>Key above a ~</td>\n",
       "      <td>~40-decibel unit</td>\n",
       "      <td>~</td>\n",
       "    </tr>\n",
       "  </tbody>\n",
       "</table>\n",
       "</div>"
      ],
      "text/plain": [
       "                                                   0  \\\n",
       "!                                           Too bad!   \n",
       "\"                      Actress Taylor of \"The Nanny\"   \n",
       "#   Cash-strapped college student's survival ploy #5   \n",
       "$    @#$%! This wake is getting totally out of hand!   \n",
       "%                                     100% convinced   \n",
       "&                            B. & O., Santa Fe, etc.   \n",
       "'                                      ___ d'oeuvres   \n",
       "(                               Two-__ (kind of car)   \n",
       ")           Ich ___ dich (German term of endearment)   \n",
       "*                                          *___ soup   \n",
       "+                                       DOS + cuatro   \n",
       ",                              Fake sword, sometimes   \n",
       "-                    Danse Macabre composer Saint-__   \n",
       ".                      Dickens's Miss Havisham, e.g.   \n",
       "/                              India/Pakistan events   \n",
       ":                                       Chum: Slang.   \n",
       ";               They may be receding; toupe catalogs   \n",
       "<                                        <<NO CLUE>>   \n",
       "=          Singer Vikki + senator Trent = auto site?   \n",
       ">                                        <<NO CLUE>>   \n",
       "?                                    Holy Ohio city?   \n",
       "@                @#$%! Annie Oakley just had a baby!   \n",
       "[                       Hydroxyl group compound [14]   \n",
       "\\      The Omen<\\I> kid\\nnw\\t2001\\tDAMN\\t__ Yankees\"   \n",
       "]                                            [yuck!]   \n",
       "^                            One of the Gallos^ERNES   \n",
       "_  Trudeau-___ (late '60s Canadian political phen...   \n",
       "`                                `Damn Yankees` vamp   \n",
       "{  {/See shaded letters intersected by this answer/}   \n",
       "|                      Passages marked :|| in music.   \n",
       "}                                     ___ {_Porter_}   \n",
       "~                                                  ~   \n",
       "\n",
       "                                                   1  \\\n",
       "!                                   ___ be an honor!   \n",
       "\"                         Like the accent in \"crème\"   \n",
       "#                                                 #1   \n",
       "$                              Change for a $20 bill   \n",
       "%  Article of clothing than an estimated 80% wear...   \n",
       "&    Some shoe purchases from the \"Big & Tall\" store   \n",
       "'                                    Don't overdo it   \n",
       "(                                 Mai ___ (cocktail)   \n",
       ")                                   __ about (circa)   \n",
       "*                                 *Not sportsmanlike   \n",
       "+                                    Ben + Richard =   \n",
       ",                      ___ far, far better thing ...   \n",
       "-                                      Savoir-faire.   \n",
       ".                                           Goggles.   \n",
       "/                                   Comic / host Jay   \n",
       ":                          Gratuitous handouts: var.   \n",
       ";                                    Source; origin.   \n",
       "<                                   <I>Cats<I>, e.g.   \n",
       "=                                 Wines ÷ 10 = signs   \n",
       ">                        <I>Mack the Knife<I> singer   \n",
       "?                                   Hero attachment?   \n",
       "@                                 Addresses with \"@\"   \n",
       "[                                         [Boo-hoo!]   \n",
       "\\                                             / or \\   \n",
       "]                            Well-suited name [1997]   \n",
       "^  Bandleader Stan's favorite Chinese food?^KENTO...   \n",
       "_                                           ___-Ball   \n",
       "`                         ``To ___ own self be true\"   \n",
       "{           {/House that drains finances, slangily/}   \n",
       "|                              || on a YouTube video   \n",
       "}                                      {See Notepad}   \n",
       "~                 Spanish diacritical marks (~ ~ ~ )   \n",
       "\n",
       "                                                   2  \\\n",
       "!                                          ___ roll!   \n",
       "\"                    Alex voices her on \"Family Guy\"   \n",
       "#                    __ Go Again: Whitesnake #1 song   \n",
       "$                               $200 Monopoly props.   \n",
       "%                                         Say '#@%!'   \n",
       "&                   ___ Jay Lerner of Lerner & Loewe   \n",
       "'                         TV Hulk actor's first name   \n",
       "(                         Out of ___ (uncoordinated)   \n",
       ")                     He's ___ nowhere man (Beatles)   \n",
       "*                                      M*A*S*H drink   \n",
       "+                                Command+Y, on a Mac   \n",
       ",                                  Buddies, in slang   \n",
       "-                             Alternative to dial-up   \n",
       ".                        Bellerophon's winged steed.   \n",
       "/                 {/Environmentally sound keyboard/}   \n",
       ":                                O'Neill drama: 1917   \n",
       ";      Love is of two kinds; one commands, one _____   \n",
       "<                     Voight, of <I>Runaway Train<I>   \n",
       "=                                  E = IR formulator   \n",
       ">                               Golden calf  <P>e.g.   \n",
       "?                            Vintage sitcom actress?   \n",
       "@                                       Said \"!@#$%\"   \n",
       "[                            Dog-paddles [left hand]   \n",
       "\\           C:\\ProgramFiles\\Litsoft\\AcrossLite, e.g.   \n",
       "]                                  [Knock], in poker   \n",
       "^                                       Solitary^LON   \n",
       "_                                    ___ contendere.   \n",
       "`                        ``The Air up There\" African   \n",
       "{        {/Kid constantly switching schools, maybe/}   \n",
       "|      Magazine with an annual \"500|5000\" conference   \n",
       "}  {/Equestrian is wanted to ... / Experience nee...   \n",
       "~                                      Key above a ~   \n",
       "\n",
       "                                                   3  \\\n",
       "!                                   *\"Everyone off!\"   \n",
       "\"                        Irish air \"The Rose of ___\"   \n",
       "#     Boom Boom ___ (#1 song by the Black Eyed Peas)   \n",
       "$                  His portrait is on $10,000 bills.   \n",
       "%            Like about 25% of legal U.S. immigrants   \n",
       "&  Piece of wood that's \"better than bad, it's go...   \n",
       "'                      *\"Midnight's Children\" author   \n",
       "(                          ___-mell (helter-skelter)   \n",
       ")                    'Til ___ (\"The Producers\" song)   \n",
       "*                                                W*D   \n",
       "+  Symbol gotten by typing Ctrl+Alt+E, in Microso...   \n",
       ",                          Jeanne d'Arc, e.g. (Abbr)   \n",
       "-                         Group co-founded by Eazy-E   \n",
       ".                                    Lachrymal drop.   \n",
       "/                              1946 Hope/Crosby film   \n",
       ":                                 Strong arm?: Abbr.   \n",
       ";                                     Plump; healthy   \n",
       "<                  <I>The Country Girl<I> playwright   \n",
       "=                                 Say 2 + 2 = 5, say   \n",
       ">                          Gift from mother  <P>e.g.   \n",
       "?                        Clothing-backed securities?   \n",
       "@                                        Say \"!@#$%\"   \n",
       "[                                         [See note]   \n",
       "\\    Platform in which you might see the prompt C:\\>   \n",
       "]                          [Image of a quarter note]   \n",
       "^                                 Grunded planes^SST   \n",
       "_             The weather-glass/Is set at ___: Auden   \n",
       "`                ``. . . ___ a man with seven wives\"   \n",
       "{  {/An elderly woman was having dinner with her ...   \n",
       "|                 What \"||\" means on a YouTube video   \n",
       "}                          {/Bid adieu, informally/}   \n",
       "~                                   ~40-decibel unit   \n",
       "\n",
       "                                                   4  \n",
       "!                                       Ciao! cousin  \n",
       "\"                   One of Chekhov's \"Three Sisters\"  \n",
       "#                                1958 Presley #1 hit  \n",
       "$                                       $ star, 1971  \n",
       "%                                        20% of diez  \n",
       "&                         Alternative to rap and R&B  \n",
       "'                                     Didn't pay yet  \n",
       "(                                  401(k) supplement  \n",
       ")                         Burkina ___ (African land)  \n",
       "*                                   *Abraham Lincoln  \n",
       "+  Dot follower [with 38-Across + 35-Down, this p...  \n",
       ",                              Warm up, as leftovers  \n",
       "-                                      Finish a 10-K  \n",
       ".                                             Photo.  \n",
       "/                                Since 1/1, to a CPA  \n",
       ":                                    Overseer: Abbr.  \n",
       ";                               Sarcastic; equivocal  \n",
       "<                                Theda Bara  <P>e.g.  \n",
       "=                   Delay + dodos = some compromises  \n",
       ">                               Cr me de la cr me<P>  \n",
       "?                                  Like a bug's ear?  \n",
       "@                                      Said \"@#$%^!\"  \n",
       "[                             Famed bluesman [black]  \n",
       "\\                                             / or \\  \n",
       "]                                       [I'm so sad]  \n",
       "^                         Champion race horse^MANOWA  \n",
       "_                              Rome's Fontana di ___  \n",
       "`                 Follower of ``the Splendor of God\"  \n",
       "{                        5, for the set {2, 4, 6, 8}  \n",
       "|                      What >:-|| means in emoticons  \n",
       "}                                              [g-}]  \n",
       "~                                                  ~  "
      ]
     },
     "execution_count": 40,
     "metadata": {},
     "output_type": "execute_result"
    }
   ],
   "source": [
    "from string import punctuation\n",
    "original_df = pd.read_table('data/clues.tsv')\n",
    "original_df = original_df[['clue','answer']]\n",
    "original_df.dropna(inplace=True)\n",
    "\n",
    "punctuation_samples = sample_strings_containing(list(punctuation),original_df,'clue',n_samples=5)\n",
    "pd.DataFrame(punctuation_samples).T\n"
   ]
  },
  {
   "cell_type": "code",
   "execution_count": 10,
   "metadata": {},
   "outputs": [
    {
     "data": {
      "text/plain": [
       "(3823, 2)"
      ]
     },
     "execution_count": 10,
     "metadata": {},
     "output_type": "execute_result"
    }
   ],
   "source": [
    "df[df['clue'].str.contains('Nobel')].shape"
   ]
  },
  {
   "cell_type": "code",
   "execution_count": 11,
   "metadata": {},
   "outputs": [
    {
     "data": {
      "text/plain": [
       "(9693, 2)"
      ]
     },
     "execution_count": 11,
     "metadata": {},
     "output_type": "execute_result"
    }
   ],
   "source": [
    "df[df['clue'].str.contains('actor')].shape"
   ]
  },
  {
   "cell_type": "code",
   "execution_count": 12,
   "metadata": {},
   "outputs": [
    {
     "data": {
      "text/plain": [
       "(7147, 2)"
      ]
     },
     "execution_count": 12,
     "metadata": {},
     "output_type": "execute_result"
    }
   ],
   "source": [
    "df[df['clue'].str.contains('slang')].shape"
   ]
  },
  {
   "cell_type": "code",
   "execution_count": 14,
   "metadata": {},
   "outputs": [
    {
     "data": {
      "text/plain": [
       "(1242, 2)"
      ]
     },
     "execution_count": 14,
     "metadata": {},
     "output_type": "execute_result"
    }
   ],
   "source": [
    "df[df['clue'].str.contains('%')].shape"
   ]
  },
  {
   "cell_type": "code",
   "execution_count": 15,
   "metadata": {},
   "outputs": [
    {
     "data": {
      "text/plain": [
       "(27728, 2)"
      ]
     },
     "execution_count": 15,
     "metadata": {},
     "output_type": "execute_result"
    }
   ],
   "source": [
    "df[df['clue'].str.contains('Across')].shape"
   ]
  },
  {
   "cell_type": "code",
   "execution_count": 16,
   "metadata": {},
   "outputs": [
    {
     "data": {
      "text/plain": [
       "(11317, 2)"
      ]
     },
     "execution_count": 16,
     "metadata": {},
     "output_type": "execute_result"
    }
   ],
   "source": [
    "df[df['clue'].str.contains('-Down')].shape"
   ]
  },
  {
   "cell_type": "code",
   "execution_count": 17,
   "metadata": {},
   "outputs": [
    {
     "data": {
      "text/plain": [
       "(19302, 2)"
      ]
     },
     "execution_count": 17,
     "metadata": {},
     "output_type": "execute_result"
    }
   ],
   "source": [
    "df[df['clue'].str.contains('-Across')].shape"
   ]
  },
  {
   "cell_type": "code",
   "execution_count": 18,
   "metadata": {},
   "outputs": [
    {
     "data": {
      "text/plain": [
       "(111995, 2)"
      ]
     },
     "execution_count": 18,
     "metadata": {},
     "output_type": "execute_result"
    }
   ],
   "source": [
    "df[df['clue'].str.contains('(',regex=False)].shape"
   ]
  },
  {
   "cell_type": "code",
   "execution_count": 19,
   "metadata": {},
   "outputs": [
    {
     "data": {
      "text/plain": [
       "(49424, 2)"
      ]
     },
     "execution_count": 19,
     "metadata": {},
     "output_type": "execute_result"
    }
   ],
   "source": [
    "df[df['clue'].str.contains('Abbr.',regex=False)].shape"
   ]
  },
  {
   "cell_type": "code",
   "execution_count": 20,
   "metadata": {},
   "outputs": [
    {
     "data": {
      "text/plain": [
       "(1940, 2)"
      ]
     },
     "execution_count": 20,
     "metadata": {},
     "output_type": "execute_result"
    }
   ],
   "source": [
    "df[df['clue'].str.contains(';',regex=False)].shape"
   ]
  },
  {
   "cell_type": "code",
   "execution_count": 21,
   "metadata": {},
   "outputs": [
    {
     "data": {
      "text/plain": [
       "(174, 2)"
      ]
     },
     "execution_count": 21,
     "metadata": {},
     "output_type": "execute_result"
    }
   ],
   "source": [
    "df[df['clue'].str.contains('@',regex=False)].shape"
   ]
  },
  {
   "cell_type": "code",
   "execution_count": 22,
   "metadata": {},
   "outputs": [
    {
     "data": {
      "text/plain": [
       "(2063, 2)"
      ]
     },
     "execution_count": 22,
     "metadata": {},
     "output_type": "execute_result"
    }
   ],
   "source": [
    "df[df['clue'].str.contains('[',regex=False)].shape"
   ]
  },
  {
   "cell_type": "code",
   "execution_count": 23,
   "metadata": {},
   "outputs": [
    {
     "data": {
      "text/plain": [
       "(285, 2)"
      ]
     },
     "execution_count": 23,
     "metadata": {},
     "output_type": "execute_result"
    }
   ],
   "source": [
    "df[df['clue'].str.contains('^',regex=False)].shape"
   ]
  },
  {
   "cell_type": "code",
   "execution_count": 24,
   "metadata": {},
   "outputs": [
    {
     "data": {
      "text/plain": [
       "(382745, 2)"
      ]
     },
     "execution_count": 24,
     "metadata": {},
     "output_type": "execute_result"
    }
   ],
   "source": [
    "df[df['clue'].str.contains('_',regex=False)].shape"
   ]
  },
  {
   "cell_type": "markdown",
   "metadata": {},
   "source": [
    "# Cleaning / Handling Strategies\n",
    "#### Brainstorming ideas for how to handle the variety of different questions and also clean strings to be readable by algorithm. Bullet points are seperate ideas that might be used individually or in conjunction with some/all of the others\n",
    "\n",
    "\n",
    "\n",
    "Capital letters not at the start of sentence:\n",
    "* flag as involving a noun\n",
    "* flag as requiring a noun\n",
    "* convert into ____\n",
    "* use in generating a topic\n",
    "\n",
    "Numbers:\n",
    "* remove\n",
    "* flag as involving number\n",
    "\n",
    "Single characters:\n",
    "* remove\n",
    "\n",
    "Containing \"-Across\" or \"-Down\"\n",
    "* remove from dataset (only of use in a later iteration of model that solve entire puzzle rather than single questions)\n",
    "\n",
    "!\n",
    "* Remove\n",
    "* If at end of sentance, seperate with space and use it as a word otherwise delete\n",
    "\n",
    "\"\n",
    "* Remove \" from string\n",
    "* Remove text outside of \" \" \n",
    "* Remove text inside of \" \" but use it for generating a topic as a new value\n",
    "\n",
    "\\#\n",
    "* Remove\n",
    "\n",
    "$\n",
    "* Replace with \" money \" or something similar\n",
    "* Remove\n",
    "\n",
    "%\n",
    "* Remove\n",
    "\n",
    "&\n",
    "* Remove\n",
    "\n",
    "'\n",
    "* Remove\n",
    "* If followed by an 's' remove that too\n",
    "\n",
    "( )\n",
    "* Remove\n",
    "\n",
    "\\*\n",
    "\n",
    "* Remove\n",
    "* an asterisk at the start of clue might be useful for a later itertion of model that solves entire puzzle rather than a single question\n",
    "\n",
    "\\+\n",
    "\n",
    "* Remove\n",
    "* Seperate into multiple questions using + as seperator and create a new clue composed of the solutions of each segment\n",
    "\n",
    ",\n",
    "\n",
    "* Remove\n",
    "\n",
    "\\-\n",
    "* Remove\n",
    "\n",
    ".\t\n",
    "* Remove\n",
    "\n",
    "/\n",
    "* Remove\n",
    "\n",
    ":\n",
    "* Remove\n",
    "* Use text before to generate topic and text after as clue\n",
    "\n",
    ";\n",
    "* Remove\n",
    "\n",
    "<>\n",
    "* Remove\n",
    "\n",
    "=\n",
    "* Remove\n",
    "* Use text after to generate topic and text before as clue\n",
    "\n",
    "?\n",
    "* Remove\n",
    "\n",
    "@\n",
    "* Remove\n",
    "\n",
    "[]\n",
    "* Remove\n",
    "\n",
    "\\\n",
    "* Remove\n",
    "\n",
    "^\n",
    "* Remove\n",
    "* Replace with \"squared\" or something similar\n",
    "\n",
    "_\n",
    "* Flag for requiring a blank within sentence\n",
    "* Remove\n",
    "\n",
    "`\n",
    "* Remove\n",
    "* If double, treat as \"\n",
    "\n",
    "{}\n",
    "* Remove\n",
    "\n",
    "|\n",
    "* Remove\n",
    "\n",
    "~\n",
    "* Remove\n"
   ]
  },
  {
   "cell_type": "code",
   "execution_count": null,
   "metadata": {},
   "outputs": [],
   "source": []
  }
 ],
 "metadata": {
  "interpreter": {
   "hash": "4fe28adbe6d40c82bdde6a2233f025e3b944121e67b5abb397657075ce1366ca"
  },
  "kernelspec": {
   "display_name": "Python 3.8.12 ('lighthouse')",
   "language": "python",
   "name": "python3"
  },
  "language_info": {
   "codemirror_mode": {
    "name": "ipython",
    "version": 3
   },
   "file_extension": ".py",
   "mimetype": "text/x-python",
   "name": "python",
   "nbconvert_exporter": "python",
   "pygments_lexer": "ipython3",
   "version": "3.8.12"
  },
  "orig_nbformat": 4
 },
 "nbformat": 4,
 "nbformat_minor": 2
}

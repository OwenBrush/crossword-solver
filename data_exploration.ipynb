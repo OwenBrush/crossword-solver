{
 "cells": [
  {
   "cell_type": "code",
   "execution_count": 56,
   "metadata": {},
   "outputs": [],
   "source": [
    "import pandas as pd\n",
    "import numpy as np\n"
   ]
  },
  {
   "cell_type": "code",
   "execution_count": 82,
   "metadata": {},
   "outputs": [],
   "source": [
    "df = pd.read_table('data/clues.tsv')"
   ]
  },
  {
   "cell_type": "code",
   "execution_count": 83,
   "metadata": {},
   "outputs": [
    {
     "data": {
      "text/html": [
       "<div>\n",
       "<style scoped>\n",
       "    .dataframe tbody tr th:only-of-type {\n",
       "        vertical-align: middle;\n",
       "    }\n",
       "\n",
       "    .dataframe tbody tr th {\n",
       "        vertical-align: top;\n",
       "    }\n",
       "\n",
       "    .dataframe thead th {\n",
       "        text-align: right;\n",
       "    }\n",
       "</style>\n",
       "<table border=\"1\" class=\"dataframe\">\n",
       "  <thead>\n",
       "    <tr style=\"text-align: right;\">\n",
       "      <th></th>\n",
       "      <th>pubid</th>\n",
       "      <th>year</th>\n",
       "      <th>answer</th>\n",
       "      <th>clue</th>\n",
       "    </tr>\n",
       "  </thead>\n",
       "  <tbody>\n",
       "    <tr>\n",
       "      <th>0</th>\n",
       "      <td>atc</td>\n",
       "      <td>1997</td>\n",
       "      <td>NaN</td>\n",
       "      <td>NaN</td>\n",
       "    </tr>\n",
       "    <tr>\n",
       "      <th>1</th>\n",
       "      <td>atc</td>\n",
       "      <td>1997</td>\n",
       "      <td>ABA</td>\n",
       "      <td>Litigator's group</td>\n",
       "    </tr>\n",
       "    <tr>\n",
       "      <th>2</th>\n",
       "      <td>atc</td>\n",
       "      <td>1997</td>\n",
       "      <td>ACTOR</td>\n",
       "      <td>Thespian</td>\n",
       "    </tr>\n",
       "    <tr>\n",
       "      <th>3</th>\n",
       "      <td>atc</td>\n",
       "      <td>1997</td>\n",
       "      <td>ADES</td>\n",
       "      <td>Summer coolers</td>\n",
       "    </tr>\n",
       "    <tr>\n",
       "      <th>4</th>\n",
       "      <td>atc</td>\n",
       "      <td>1997</td>\n",
       "      <td>ADS</td>\n",
       "      <td>Newspaper revenue</td>\n",
       "    </tr>\n",
       "  </tbody>\n",
       "</table>\n",
       "</div>"
      ],
      "text/plain": [
       "  pubid  year answer               clue\n",
       "0   atc  1997    NaN                NaN\n",
       "1   atc  1997    ABA  Litigator's group\n",
       "2   atc  1997  ACTOR           Thespian\n",
       "3   atc  1997   ADES     Summer coolers\n",
       "4   atc  1997    ADS  Newspaper revenue"
      ]
     },
     "execution_count": 83,
     "metadata": {},
     "output_type": "execute_result"
    }
   ],
   "source": [
    "df.head(5)"
   ]
  },
  {
   "cell_type": "code",
   "execution_count": 84,
   "metadata": {},
   "outputs": [
    {
     "data": {
      "text/plain": [
       "(6459190, 2)"
      ]
     },
     "execution_count": 84,
     "metadata": {},
     "output_type": "execute_result"
    }
   ],
   "source": [
    "df.drop(['pubid','year'], axis=1,inplace=True)\n",
    "df.dropna(inplace=True)\n",
    "df.shape"
   ]
  },
  {
   "cell_type": "code",
   "execution_count": 85,
   "metadata": {},
   "outputs": [
    {
     "data": {
      "text/plain": [
       "315686"
      ]
     },
     "execution_count": 85,
     "metadata": {},
     "output_type": "execute_result"
    }
   ],
   "source": [
    "df['answer'].nunique()"
   ]
  },
  {
   "cell_type": "code",
   "execution_count": 87,
   "metadata": {},
   "outputs": [
    {
     "data": {
      "text/plain": [
       "20.460805990762974"
      ]
     },
     "execution_count": 87,
     "metadata": {},
     "output_type": "execute_result"
    }
   ],
   "source": [
    "df.shape[0] / df['answer'].nunique()"
   ]
  },
  {
   "cell_type": "code",
   "execution_count": 99,
   "metadata": {},
   "outputs": [],
   "source": [
    "\n",
    "def sample_strings_containing(containing:list,  data:pd.DataFrame, column:str, n_samples:int=1) -> dict:\n",
    "    \"\"\"Searches a column within a dataframe and returns random smaples of entries containing the key words\n",
    "    in the given list.\n",
    "\n",
    "    Args:\n",
    "        containing (list): List of key words to look for\n",
    "        data (pd.DataFrame): Dataframe to search\n",
    "        column (str): column to serch within datdrame\n",
    "        n_samples (int, optional): number of samples to return for each key. Defaults to 1.\n",
    "\n",
    "    \"\"\"\n",
    "    samples = {}\n",
    "    for x in containing:\n",
    "        matches = data[df[column].str.contains(x, regex=False)]\n",
    "        if matches.shape[0] > 0:  \n",
    "            samples[x] = []\n",
    "            for r in np.random.choice(range(matches.shape[0]),n_samples, replace=False):         \n",
    "                r = np.random.randint(0, matches.shape[0])\n",
    "                samples[x].append(matches.iloc[r][column])\n",
    "    return samples"
   ]
  },
  {
   "cell_type": "code",
   "execution_count": 62,
   "metadata": {},
   "outputs": [],
   "source": [
    "from string import punctuation\n",
    "punctuation_samples = sample_strings_containing(punctuation,df,'clue',n_samples=5)"
   ]
  },
  {
   "cell_type": "code",
   "execution_count": 63,
   "metadata": {},
   "outputs": [
    {
     "data": {
      "text/html": [
       "<div>\n",
       "<style scoped>\n",
       "    .dataframe tbody tr th:only-of-type {\n",
       "        vertical-align: middle;\n",
       "    }\n",
       "\n",
       "    .dataframe tbody tr th {\n",
       "        vertical-align: top;\n",
       "    }\n",
       "\n",
       "    .dataframe thead th {\n",
       "        text-align: right;\n",
       "    }\n",
       "</style>\n",
       "<table border=\"1\" class=\"dataframe\">\n",
       "  <thead>\n",
       "    <tr style=\"text-align: right;\">\n",
       "      <th></th>\n",
       "      <th>0</th>\n",
       "      <th>1</th>\n",
       "      <th>2</th>\n",
       "      <th>3</th>\n",
       "      <th>4</th>\n",
       "    </tr>\n",
       "  </thead>\n",
       "  <tbody>\n",
       "    <tr>\n",
       "      <th>!</th>\n",
       "      <td>Neener-neener!</td>\n",
       "      <td>Slangy lead-in for \"boy!\"</td>\n",
       "      <td>Nonsense!</td>\n",
       "      <td>Out, you!</td>\n",
       "      <td>Give me just a ___!</td>\n",
       "    </tr>\n",
       "    <tr>\n",
       "      <th>\"</th>\n",
       "      <td>Palace used as police headquarters on the orig...</td>\n",
       "      <td>Baseball's \"Little Giant\"</td>\n",
       "      <td>Narrator of \"Moby Dick.\"</td>\n",
       "      <td>Milne's \"The House at __ Corner\"</td>\n",
       "      <td>Head of state known to his people as \"Dear Lea...</td>\n",
       "    </tr>\n",
       "    <tr>\n",
       "      <th>#</th>\n",
       "      <td>Rejected scratch 'n' sniff sticker #5</td>\n",
       "      <td>Song that knocked \"Good Vibrations\" out of the...</td>\n",
       "      <td>The Heat's #32, to fans</td>\n",
       "      <td>1973 #1 hit for the Rolling Stones</td>\n",
       "      <td>1972 #1 hit</td>\n",
       "    </tr>\n",
       "    <tr>\n",
       "      <th>$</th>\n",
       "      <td>$$$</td>\n",
       "      <td>$5 bill, slangily</td>\n",
       "      <td>Like a $2 bill</td>\n",
       "      <td>$50 bill depiction</td>\n",
       "      <td>$1,000, slangily</td>\n",
       "    </tr>\n",
       "    <tr>\n",
       "      <th>%</th>\n",
       "      <td>Item at a 95% markdown, say</td>\n",
       "      <td>What about 40% of the U.S. corn crop is used for</td>\n",
       "      <td>!@#$%, in comics</td>\n",
       "      <td>10% of a quarter of a quarter of a quarter sec...</td>\n",
       "      <td>60% of V</td>\n",
       "    </tr>\n",
       "    <tr>\n",
       "      <th>&amp;</th>\n",
       "      <td>Henry &amp; June diarist</td>\n",
       "      <td>Pam of \"Mork &amp; Mindy\"</td>\n",
       "      <td>'Law &amp; Order: --'</td>\n",
       "      <td>Texas A &amp; M athlete</td>\n",
       "      <td>Procter &amp; Gamble brand with a paw print in the...</td>\n",
       "    </tr>\n",
       "    <tr>\n",
       "      <th>'</th>\n",
       "      <td>Perfumer's compounds</td>\n",
       "      <td>Franciscus TV drama of the 60's</td>\n",
       "      <td>Communists' means of quelling opposition.</td>\n",
       "      <td>Motorist's protest</td>\n",
       "      <td>Kite's weapon</td>\n",
       "    </tr>\n",
       "    <tr>\n",
       "      <th>(</th>\n",
       "      <td>Take ___ (doze)</td>\n",
       "      <td>___ out (rationed)</td>\n",
       "      <td>Search (out)</td>\n",
       "      <td>Maker of fine English china (1754–1827).</td>\n",
       "      <td>Elaine ___ (\"Seinfeld\" role)</td>\n",
       "    </tr>\n",
       "    <tr>\n",
       "      <th>)</th>\n",
       "      <td>___-in (like some mailing lists)</td>\n",
       "      <td>Commander of the Constitution (War of 1812)</td>\n",
       "      <td>___ Khan (Sir Tiger).</td>\n",
       "      <td>Agnus ___ (pre-communion prayer)</td>\n",
       "      <td>Lavish affection (on)</td>\n",
       "    </tr>\n",
       "    <tr>\n",
       "      <th>*</th>\n",
       "      <td>*War and pinochle</td>\n",
       "      <td>*\"Anatomy of a Murder\" actor, 1959</td>\n",
       "      <td>*Submerged</td>\n",
       "      <td>*Precocious lad</td>\n",
       "      <td>**Deliberately delay</td>\n",
       "    </tr>\n",
       "    <tr>\n",
       "      <th>+</th>\n",
       "      <td>H+, e.g.</td>\n",
       "      <td>15-Across + 122-Across</td>\n",
       "      <td>Uno + due</td>\n",
       "      <td>Griffin = __ + 284-Across</td>\n",
       "      <td>Hits hard + famed spokescow = some Bach compos...</td>\n",
       "    </tr>\n",
       "    <tr>\n",
       "      <th>,</th>\n",
       "      <td>Waggoner, et al.</td>\n",
       "      <td>Move to Arizona, maybe</td>\n",
       "      <td>State-issued bond, for short</td>\n",
       "      <td>Pour Drano in, say</td>\n",
       "      <td>Jailed, slangily</td>\n",
       "    </tr>\n",
       "    <tr>\n",
       "      <th>-</th>\n",
       "      <td>Door-to-door delivery service?</td>\n",
       "      <td>Lead-in to a congratulatory cry</td>\n",
       "      <td>Rights-protecting org.</td>\n",
       "      <td>Mammoth man-eater</td>\n",
       "      <td>Paint a word-picture</td>\n",
       "    </tr>\n",
       "    <tr>\n",
       "      <th>.</th>\n",
       "      <td>C.P.A. hirer</td>\n",
       "      <td>Left side of any ship.</td>\n",
       "      <td>Seaport in Washington.</td>\n",
       "      <td>Record.</td>\n",
       "      <td>Piece of percale.</td>\n",
       "    </tr>\n",
       "    <tr>\n",
       "      <th>/</th>\n",
       "      <td>{/However, this man was balding, gray-haired a...</td>\n",
       "      <td>Classic Mardi Gras song that begins \"My grandm...</td>\n",
       "      <td>Brian McKnight/Vanessa Williams duet with the ...</td>\n",
       "      <td>Cleaner/disinfectant brand</td>\n",
       "      <td>Longtime \"20/20\" co-host Walters</td>\n",
       "    </tr>\n",
       "    <tr>\n",
       "      <th>:</th>\n",
       "      <td>Stones: \"Almost Hear You ___\"</td>\n",
       "      <td>Nobel Prize category: Abbr.</td>\n",
       "      <td>Andress film: 1965</td>\n",
       "      <td>If ___ be the food of love, play on: Shak.</td>\n",
       "      <td>___ in his office . . . : Shak.</td>\n",
       "    </tr>\n",
       "    <tr>\n",
       "      <th>;</th>\n",
       "      <td>Extreme; rigorous</td>\n",
       "      <td>Tub; tank</td>\n",
       "      <td>Charter; hire</td>\n",
       "      <td>Relish; liking</td>\n",
       "      <td>Customary; conventional</td>\n",
       "    </tr>\n",
       "    <tr>\n",
       "      <th>&lt;</th>\n",
       "      <td>Samantha's mother  &lt;P&gt;et al.</td>\n",
       "      <td>Lake Placid  &lt;P&gt;e.g.</td>\n",
       "      <td>ERA  &lt;P&gt;e.g.&lt;P&gt;</td>\n",
       "      <td>&lt;I&gt;Rocky II&lt;I&gt; foe, Apollo ___</td>\n",
       "      <td>&lt;I&gt;Mack the Knife&lt;I&gt; musical, with &lt;I&gt;The&lt;I&gt;</td>\n",
       "    </tr>\n",
       "    <tr>\n",
       "      <th>=</th>\n",
       "      <td>[Cow] + [Thunder] = Snake eyes, e.g.</td>\n",
       "      <td>Edna + Thomas =</td>\n",
       "      <td>__ Law (i=v/r)</td>\n",
       "      <td>Less polite + wildly unconventional = epicenter</td>\n",
       "      <td>STREAKERS = TOP NOTES</td>\n",
       "    </tr>\n",
       "    <tr>\n",
       "      <th>&gt;</th>\n",
       "      <td>Thursday  from Thor  &lt;P&gt;e.g.</td>\n",
       "      <td>World Series  &lt;P&gt;e.g.</td>\n",
       "      <td>&lt;I&gt;Dune&lt;I&gt; award</td>\n",
       "      <td>&lt;I&gt;Agnus ___&lt;I&gt;</td>\n",
       "      <td>McDonald's giant M  &lt;P&gt;e.g.</td>\n",
       "    </tr>\n",
       "    <tr>\n",
       "      <th>?</th>\n",
       "      <td>Media center?</td>\n",
       "      <td>Disney leader?</td>\n",
       "      <td>Will it play in __?</td>\n",
       "      <td>Met expectations?</td>\n",
       "      <td>Billy Martin to George Steinbrenner?</td>\n",
       "    </tr>\n",
       "    <tr>\n",
       "      <th>@</th>\n",
       "      <td>Common letters after @</td>\n",
       "      <td>Say \"@#$%\" to</td>\n",
       "      <td>Letters that often follow @</td>\n",
       "      <td>@ in Israel, or the pastry whose shape inspire...</td>\n",
       "      <td>Insert \"@#$%!,\" say</td>\n",
       "    </tr>\n",
       "    <tr>\n",
       "      <th>[</th>\n",
       "      <td>[bear] [beer] [cigarette]</td>\n",
       "      <td>[As written]</td>\n",
       "      <td>[That's painful!]</td>\n",
       "      <td>Designer of the [circled letters] (b. August 2...</td>\n",
       "      <td>[More on next pg.]</td>\n",
       "    </tr>\n",
       "    <tr>\n",
       "      <th>\\</th>\n",
       "      <td>\\</td>\n",
       "      <td>Capital of \"Italia&lt;\\I&gt;</td>\n",
       "      <td>The Omen&lt;\\I&gt; kid\\nnw\\t2001\\tDAMN\\t__ Yankees\"</td>\n",
       "      <td>Yes!\\</td>\n",
       "      <td>Yes!\\</td>\n",
       "    </tr>\n",
       "    <tr>\n",
       "      <th>]</th>\n",
       "      <td>[Attention, please]</td>\n",
       "      <td>[Stay out of my yard!]</td>\n",
       "      <td>[I'm bored]</td>\n",
       "      <td>Moon rock source [7th from the sun]</td>\n",
       "      <td>One enlisting GIs [1st from the sun]</td>\n",
       "    </tr>\n",
       "    <tr>\n",
       "      <th>^</th>\n",
       "      <td>This Math question could decide it: What is th...</td>\n",
       "      <td>Wager^BE</td>\n",
       "      <td>Part 2 of quip^ALWAY</td>\n",
       "      <td>Wetland^MARS</td>\n",
       "      <td>Grunded planes^SST</td>\n",
       "    </tr>\n",
       "    <tr>\n",
       "      <th>_</th>\n",
       "      <td>University of ___, Moscow</td>\n",
       "      <td>___ and Order</td>\n",
       "      <td>___ is human ...</td>\n",
       "      <td>Trompe l'___</td>\n",
       "      <td>Pass ___.</td>\n",
       "    </tr>\n",
       "    <tr>\n",
       "      <th>`</th>\n",
       "      <td>``The game is ___ win or lose\"</td>\n",
       "      <td>Milton's ``nutbrown\" brew</td>\n",
       "      <td>``. . . smooth ___\": Shakespeare</td>\n",
       "      <td>``...banjo ___ knee\"</td>\n",
       "      <td>Shi`ite leader</td>\n",
       "    </tr>\n",
       "    <tr>\n",
       "      <th>{</th>\n",
       "      <td>{/Sailor/}</td>\n",
       "      <td>{/It's pitched for a large audience/}</td>\n",
       "      <td>{/It's got some miles on it/}</td>\n",
       "      <td>{See Notepad}</td>\n",
       "      <td>{/\"I suppose it might seem odd that a reverend...</td>\n",
       "    </tr>\n",
       "    <tr>\n",
       "      <th>|</th>\n",
       "      <td>NEW YORK | HONG KONG</td>\n",
       "      <td>Passages marked :|| in music.</td>\n",
       "      <td>NEW YORK | HONG KONG</td>\n",
       "      <td>NEW YORK | HONG KONG</td>\n",
       "      <td>NEW YORK | HONG KONG</td>\n",
       "    </tr>\n",
       "    <tr>\n",
       "      <th>}</th>\n",
       "      <td>{/Government resister standing ready/}</td>\n",
       "      <td>{/He answered \"In 1971. But ...\"/}</td>\n",
       "      <td>{/... a bee during a downpour?/}</td>\n",
       "      <td>{/Poulettes?/}</td>\n",
       "      <td>{/See 110-Down/}</td>\n",
       "    </tr>\n",
       "    <tr>\n",
       "      <th>~</th>\n",
       "      <td>Key above a ~</td>\n",
       "      <td>Key above ~</td>\n",
       "      <td>~</td>\n",
       "      <td>Key below ~</td>\n",
       "      <td>Key above ~</td>\n",
       "    </tr>\n",
       "  </tbody>\n",
       "</table>\n",
       "</div>"
      ],
      "text/plain": [
       "                                                   0  \\\n",
       "!                                     Neener-neener!   \n",
       "\"  Palace used as police headquarters on the orig...   \n",
       "#              Rejected scratch 'n' sniff sticker #5   \n",
       "$                                                $$$   \n",
       "%                        Item at a 95% markdown, say   \n",
       "&                               Henry & June diarist   \n",
       "'                               Perfumer's compounds   \n",
       "(                                    Take ___ (doze)   \n",
       ")                   ___-in (like some mailing lists)   \n",
       "*                                  *War and pinochle   \n",
       "+                                           H+, e.g.   \n",
       ",                                   Waggoner, et al.   \n",
       "-                     Door-to-door delivery service?   \n",
       ".                                       C.P.A. hirer   \n",
       "/  {/However, this man was balding, gray-haired a...   \n",
       ":                      Stones: \"Almost Hear You ___\"   \n",
       ";                                  Extreme; rigorous   \n",
       "<                       Samantha's mother  <P>et al.   \n",
       "=               [Cow] + [Thunder] = Snake eyes, e.g.   \n",
       ">                       Thursday  from Thor  <P>e.g.   \n",
       "?                                      Media center?   \n",
       "@                             Common letters after @   \n",
       "[                          [bear] [beer] [cigarette]   \n",
       "\\                                                  \\   \n",
       "]                                [Attention, please]   \n",
       "^  This Math question could decide it: What is th...   \n",
       "_                          University of ___, Moscow   \n",
       "`                     ``The game is ___ win or lose\"   \n",
       "{                                         {/Sailor/}   \n",
       "|                               NEW YORK | HONG KONG   \n",
       "}             {/Government resister standing ready/}   \n",
       "~                                      Key above a ~   \n",
       "\n",
       "                                                   1  \\\n",
       "!                          Slangy lead-in for \"boy!\"   \n",
       "\"                          Baseball's \"Little Giant\"   \n",
       "#  Song that knocked \"Good Vibrations\" out of the...   \n",
       "$                                  $5 bill, slangily   \n",
       "%   What about 40% of the U.S. corn crop is used for   \n",
       "&                              Pam of \"Mork & Mindy\"   \n",
       "'                    Franciscus TV drama of the 60's   \n",
       "(                                 ___ out (rationed)   \n",
       ")        Commander of the Constitution (War of 1812)   \n",
       "*                 *\"Anatomy of a Murder\" actor, 1959   \n",
       "+                             15-Across + 122-Across   \n",
       ",                             Move to Arizona, maybe   \n",
       "-                    Lead-in to a congratulatory cry   \n",
       ".                             Left side of any ship.   \n",
       "/  Classic Mardi Gras song that begins \"My grandm...   \n",
       ":                        Nobel Prize category: Abbr.   \n",
       ";                                          Tub; tank   \n",
       "<                               Lake Placid  <P>e.g.   \n",
       "=                                    Edna + Thomas =   \n",
       ">                              World Series  <P>e.g.   \n",
       "?                                     Disney leader?   \n",
       "@                                      Say \"@#$%\" to   \n",
       "[                                       [As written]   \n",
       "\\                             Capital of \"Italia<\\I>   \n",
       "]                             [Stay out of my yard!]   \n",
       "^                                           Wager^BE   \n",
       "_                                      ___ and Order   \n",
       "`                          Milton's ``nutbrown\" brew   \n",
       "{              {/It's pitched for a large audience/}   \n",
       "|                      Passages marked :|| in music.   \n",
       "}                 {/He answered \"In 1971. But ...\"/}   \n",
       "~                                        Key above ~   \n",
       "\n",
       "                                                   2  \\\n",
       "!                                          Nonsense!   \n",
       "\"                           Narrator of \"Moby Dick.\"   \n",
       "#                            The Heat's #32, to fans   \n",
       "$                                     Like a $2 bill   \n",
       "%                                   !@#$%, in comics   \n",
       "&                                  'Law & Order: --'   \n",
       "'          Communists' means of quelling opposition.   \n",
       "(                                       Search (out)   \n",
       ")                              ___ Khan (Sir Tiger).   \n",
       "*                                         *Submerged   \n",
       "+                                          Uno + due   \n",
       ",                       State-issued bond, for short   \n",
       "-                             Rights-protecting org.   \n",
       ".                             Seaport in Washington.   \n",
       "/  Brian McKnight/Vanessa Williams duet with the ...   \n",
       ":                                 Andress film: 1965   \n",
       ";                                      Charter; hire   \n",
       "<                                    ERA  <P>e.g.<P>   \n",
       "=                                     __ Law (i=v/r)   \n",
       ">                                   <I>Dune<I> award   \n",
       "?                                Will it play in __?   \n",
       "@                        Letters that often follow @   \n",
       "[                                  [That's painful!]   \n",
       "\\      The Omen<\\I> kid\\nnw\\t2001\\tDAMN\\t__ Yankees\"   \n",
       "]                                        [I'm bored]   \n",
       "^                               Part 2 of quip^ALWAY   \n",
       "_                                   ___ is human ...   \n",
       "`                   ``. . . smooth ___\": Shakespeare   \n",
       "{                      {/It's got some miles on it/}   \n",
       "|                               NEW YORK | HONG KONG   \n",
       "}                   {/... a bee during a downpour?/}   \n",
       "~                                                  ~   \n",
       "\n",
       "                                                   3  \\\n",
       "!                                          Out, you!   \n",
       "\"                   Milne's \"The House at __ Corner\"   \n",
       "#                 1973 #1 hit for the Rolling Stones   \n",
       "$                                 $50 bill depiction   \n",
       "%  10% of a quarter of a quarter of a quarter sec...   \n",
       "&                                Texas A & M athlete   \n",
       "'                                 Motorist's protest   \n",
       "(           Maker of fine English china (1754–1827).   \n",
       ")                   Agnus ___ (pre-communion prayer)   \n",
       "*                                    *Precocious lad   \n",
       "+                          Griffin = __ + 284-Across   \n",
       ",                                 Pour Drano in, say   \n",
       "-                                  Mammoth man-eater   \n",
       ".                                            Record.   \n",
       "/                         Cleaner/disinfectant brand   \n",
       ":         If ___ be the food of love, play on: Shak.   \n",
       ";                                     Relish; liking   \n",
       "<                     <I>Rocky II<I> foe, Apollo ___   \n",
       "=    Less polite + wildly unconventional = epicenter   \n",
       ">                                    <I>Agnus ___<I>   \n",
       "?                                  Met expectations?   \n",
       "@  @ in Israel, or the pastry whose shape inspire...   \n",
       "[  Designer of the [circled letters] (b. August 2...   \n",
       "\\                                              Yes!\\   \n",
       "]                Moon rock source [7th from the sun]   \n",
       "^                                       Wetland^MARS   \n",
       "_                                       Trompe l'___   \n",
       "`                               ``...banjo ___ knee\"   \n",
       "{                                      {See Notepad}   \n",
       "|                               NEW YORK | HONG KONG   \n",
       "}                                     {/Poulettes?/}   \n",
       "~                                        Key below ~   \n",
       "\n",
       "                                                   4  \n",
       "!                                Give me just a ___!  \n",
       "\"  Head of state known to his people as \"Dear Lea...  \n",
       "#                                        1972 #1 hit  \n",
       "$                                   $1,000, slangily  \n",
       "%                                           60% of V  \n",
       "&  Procter & Gamble brand with a paw print in the...  \n",
       "'                                      Kite's weapon  \n",
       "(                       Elaine ___ (\"Seinfeld\" role)  \n",
       ")                              Lavish affection (on)  \n",
       "*                               **Deliberately delay  \n",
       "+  Hits hard + famed spokescow = some Bach compos...  \n",
       ",                                   Jailed, slangily  \n",
       "-                               Paint a word-picture  \n",
       ".                                  Piece of percale.  \n",
       "/                   Longtime \"20/20\" co-host Walters  \n",
       ":                    ___ in his office . . . : Shak.  \n",
       ";                            Customary; conventional  \n",
       "<       <I>Mack the Knife<I> musical, with <I>The<I>  \n",
       "=                              STREAKERS = TOP NOTES  \n",
       ">                        McDonald's giant M  <P>e.g.  \n",
       "?               Billy Martin to George Steinbrenner?  \n",
       "@                                Insert \"@#$%!,\" say  \n",
       "[                                 [More on next pg.]  \n",
       "\\                                              Yes!\\  \n",
       "]               One enlisting GIs [1st from the sun]  \n",
       "^                                 Grunded planes^SST  \n",
       "_                                          Pass ___.  \n",
       "`                                     Shi`ite leader  \n",
       "{  {/\"I suppose it might seem odd that a reverend...  \n",
       "|                               NEW YORK | HONG KONG  \n",
       "}                                   {/See 110-Down/}  \n",
       "~                                        Key above ~  "
      ]
     },
     "execution_count": 63,
     "metadata": {},
     "output_type": "execute_result"
    }
   ],
   "source": [
    "pd.DataFrame(punctuation_samples).T"
   ]
  },
  {
   "cell_type": "code",
   "execution_count": 65,
   "metadata": {},
   "outputs": [
    {
     "data": {
      "text/plain": [
       "(3823, 2)"
      ]
     },
     "execution_count": 65,
     "metadata": {},
     "output_type": "execute_result"
    }
   ],
   "source": [
    "df[df['clue'].str.contains('Nobel')].shape"
   ]
  },
  {
   "cell_type": "code",
   "execution_count": 68,
   "metadata": {},
   "outputs": [
    {
     "data": {
      "text/plain": [
       "(9693, 2)"
      ]
     },
     "execution_count": 68,
     "metadata": {},
     "output_type": "execute_result"
    }
   ],
   "source": [
    "df[df['clue'].str.contains('actor')].shape"
   ]
  },
  {
   "cell_type": "code",
   "execution_count": 72,
   "metadata": {},
   "outputs": [
    {
     "data": {
      "text/plain": [
       "(7147, 2)"
      ]
     },
     "execution_count": 72,
     "metadata": {},
     "output_type": "execute_result"
    }
   ],
   "source": [
    "df[df['clue'].str.contains('slang')].shape"
   ]
  },
  {
   "cell_type": "code",
   "execution_count": 73,
   "metadata": {},
   "outputs": [
    {
     "data": {
      "text/plain": [
       "(1242, 2)"
      ]
     },
     "execution_count": 73,
     "metadata": {},
     "output_type": "execute_result"
    }
   ],
   "source": [
    "df[df['clue'].str.contains('%')].shape"
   ]
  },
  {
   "cell_type": "code",
   "execution_count": 74,
   "metadata": {},
   "outputs": [
    {
     "data": {
      "text/plain": [
       "(27728, 2)"
      ]
     },
     "execution_count": 74,
     "metadata": {},
     "output_type": "execute_result"
    }
   ],
   "source": [
    "df[df['clue'].str.contains('Across')].shape"
   ]
  },
  {
   "cell_type": "code",
   "execution_count": 75,
   "metadata": {},
   "outputs": [
    {
     "data": {
      "text/plain": [
       "(11317, 2)"
      ]
     },
     "execution_count": 75,
     "metadata": {},
     "output_type": "execute_result"
    }
   ],
   "source": [
    "df[df['clue'].str.contains('-Down')].shape"
   ]
  },
  {
   "cell_type": "code",
   "execution_count": 76,
   "metadata": {},
   "outputs": [
    {
     "data": {
      "text/plain": [
       "(19302, 2)"
      ]
     },
     "execution_count": 76,
     "metadata": {},
     "output_type": "execute_result"
    }
   ],
   "source": [
    "df[df['clue'].str.contains('-Across')].shape"
   ]
  },
  {
   "cell_type": "code",
   "execution_count": 90,
   "metadata": {},
   "outputs": [
    {
     "data": {
      "text/plain": [
       "(111995, 2)"
      ]
     },
     "execution_count": 90,
     "metadata": {},
     "output_type": "execute_result"
    }
   ],
   "source": [
    "df[df['clue'].str.contains('(',regex=False)].shape"
   ]
  },
  {
   "cell_type": "code",
   "execution_count": 93,
   "metadata": {},
   "outputs": [
    {
     "data": {
      "text/plain": [
       "(49424, 2)"
      ]
     },
     "execution_count": 93,
     "metadata": {},
     "output_type": "execute_result"
    }
   ],
   "source": [
    "df[df['clue'].str.contains('Abbr.',regex=False)].shape"
   ]
  },
  {
   "cell_type": "code",
   "execution_count": 94,
   "metadata": {},
   "outputs": [
    {
     "data": {
      "text/plain": [
       "(1940, 2)"
      ]
     },
     "execution_count": 94,
     "metadata": {},
     "output_type": "execute_result"
    }
   ],
   "source": [
    "df[df['clue'].str.contains(';',regex=False)].shape"
   ]
  },
  {
   "cell_type": "code",
   "execution_count": 95,
   "metadata": {},
   "outputs": [
    {
     "data": {
      "text/plain": [
       "(174, 2)"
      ]
     },
     "execution_count": 95,
     "metadata": {},
     "output_type": "execute_result"
    }
   ],
   "source": [
    "df[df['clue'].str.contains('@',regex=False)].shape"
   ]
  },
  {
   "cell_type": "code",
   "execution_count": 96,
   "metadata": {},
   "outputs": [
    {
     "data": {
      "text/plain": [
       "(2063, 2)"
      ]
     },
     "execution_count": 96,
     "metadata": {},
     "output_type": "execute_result"
    }
   ],
   "source": [
    "df[df['clue'].str.contains('[',regex=False)].shape"
   ]
  },
  {
   "cell_type": "code",
   "execution_count": 97,
   "metadata": {},
   "outputs": [
    {
     "data": {
      "text/plain": [
       "(285, 2)"
      ]
     },
     "execution_count": 97,
     "metadata": {},
     "output_type": "execute_result"
    }
   ],
   "source": [
    "df[df['clue'].str.contains('^',regex=False)].shape"
   ]
  },
  {
   "cell_type": "code",
   "execution_count": 98,
   "metadata": {},
   "outputs": [
    {
     "data": {
      "text/plain": [
       "(382745, 2)"
      ]
     },
     "execution_count": 98,
     "metadata": {},
     "output_type": "execute_result"
    }
   ],
   "source": [
    "df[df['clue'].str.contains('_',regex=False)].shape"
   ]
  },
  {
   "cell_type": "markdown",
   "metadata": {},
   "source": [
    "# Cleaning / Handling Strategies\n",
    "#### Brainstorming ideas for how to handle the variety of different questions and also clean strings to be readable by algorithm. Bullet points are seperate ideas that might be used individually or in conjunction with some/all of the others\n",
    "\n",
    "\n",
    "\n",
    "Capital letters not at the start of sentence:\n",
    "* flag as involving a noun\n",
    "* flag as requiring a noun\n",
    "* convert into ____\n",
    "* use in generating a topic\n",
    "\n",
    "Numbers:\n",
    "* remove\n",
    "* flag as involving number\n",
    "\n",
    "Single characters:\n",
    "* remove\n",
    "\n",
    "Containing \"-Across\" or \"-Down\"\n",
    "* remove from dataset (only of use in a later iteration of model that solve entire puzzle rather than single questions)\n",
    "\n",
    "!\n",
    "* If at end of sentance, seperate with space and use it as a word otherwise delete\n",
    "\n",
    "\"\n",
    "* Remove \" from string\n",
    "* Remove text outside of \" \" \n",
    "* Remove text inside of \" \" but use it for generating a topic as a new value\n",
    "\n",
    "\\#\n",
    "* Remove\n",
    "\n",
    "$\n",
    "* Replace with \" money \" or something similar\n",
    "* Remove\n",
    "\n",
    "%\n",
    "* Remove\n",
    "\n",
    "&\n",
    "* Remove\n",
    "\n",
    "'\n",
    "* Remove\n",
    "* If followed by an 's' remove that too\n",
    "\n",
    "( )\n",
    "* Remove\n",
    "\n",
    "\\*\n",
    "\n",
    "* Remove\n",
    "* an asterisk at the start of clue might be useful for a later itertion of model that solves entire puzzle rather than a single question\n",
    "\n",
    "\\+\n",
    "\n",
    "* Remove\n",
    "* Seperate into multiple questions using + as seperator and create a new clue composed of the solutions of each segment\n",
    "\n",
    ",\n",
    "\n",
    "* Remove\n",
    "\n",
    "\\-\n",
    "* Remove\n",
    "\n",
    ".\t\n",
    "* Remove\n",
    "\n",
    "/\n",
    "* Remove\n",
    "\n",
    ":\n",
    "* Remove\n",
    "* Use text before to generate topic and text after as clue\n",
    "\n",
    ";\n",
    "* Remove\n",
    "\n",
    "<>\n",
    "* Remove\n",
    "\n",
    "=\n",
    "* Remove\n",
    "* Use text after to generate topic and text before as clue\n",
    "\n",
    "?\n",
    "* Remove\n",
    "\n",
    "@\n",
    "* Remove\n",
    "\n",
    "[]\n",
    "* Remove\n",
    "\n",
    "\\\n",
    "* Remove\n",
    "\n",
    "^\n",
    "* Remove\n",
    "* Replace with \"squared\" or something similar\n",
    "\n",
    "_\n",
    "* Flag for requiring a blank within sentence\n",
    "* Remove\n",
    "\n",
    "`\n",
    "* Remove\n",
    "* If double, treat as \"\n",
    "\n",
    "{}\n",
    "* Remove\n",
    "\n",
    "|\n",
    "* Remove\n",
    "\n",
    "~\n",
    "* Remove\n"
   ]
  },
  {
   "cell_type": "code",
   "execution_count": null,
   "metadata": {},
   "outputs": [],
   "source": []
  },
  {
   "cell_type": "code",
   "execution_count": null,
   "metadata": {},
   "outputs": [],
   "source": []
  }
 ],
 "metadata": {
  "interpreter": {
   "hash": "4fe28adbe6d40c82bdde6a2233f025e3b944121e67b5abb397657075ce1366ca"
  },
  "kernelspec": {
   "display_name": "Python 3.8.12 ('lighthouse')",
   "language": "python",
   "name": "python3"
  },
  "language_info": {
   "codemirror_mode": {
    "name": "ipython",
    "version": 3
   },
   "file_extension": ".py",
   "mimetype": "text/x-python",
   "name": "python",
   "nbconvert_exporter": "python",
   "pygments_lexer": "ipython3",
   "version": "3.8.12"
  },
  "orig_nbformat": 4
 },
 "nbformat": 4,
 "nbformat_minor": 2
}

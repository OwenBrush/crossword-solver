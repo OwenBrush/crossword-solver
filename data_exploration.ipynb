{
 "cells": [
  {
   "cell_type": "code",
   "execution_count": 2,
   "metadata": {},
   "outputs": [],
   "source": [
    "import pandas as pd\n",
    "import numpy as np\n"
   ]
  },
  {
   "cell_type": "code",
   "execution_count": 3,
   "metadata": {},
   "outputs": [],
   "source": [
    "df = pd.read_csv('data/clean_data.csv')"
   ]
  },
  {
   "cell_type": "code",
   "execution_count": 4,
   "metadata": {},
   "outputs": [
    {
     "data": {
      "text/html": [
       "<div>\n",
       "<style scoped>\n",
       "    .dataframe tbody tr th:only-of-type {\n",
       "        vertical-align: middle;\n",
       "    }\n",
       "\n",
       "    .dataframe tbody tr th {\n",
       "        vertical-align: top;\n",
       "    }\n",
       "\n",
       "    .dataframe thead th {\n",
       "        text-align: right;\n",
       "    }\n",
       "</style>\n",
       "<table border=\"1\" class=\"dataframe\">\n",
       "  <thead>\n",
       "    <tr style=\"text-align: right;\">\n",
       "      <th></th>\n",
       "      <th>answer</th>\n",
       "      <th>clue</th>\n",
       "      <th>noun_required</th>\n",
       "      <th>fill_blank</th>\n",
       "    </tr>\n",
       "  </thead>\n",
       "  <tbody>\n",
       "    <tr>\n",
       "      <th>0</th>\n",
       "      <td>aba</td>\n",
       "      <td>litigator  group</td>\n",
       "      <td>False</td>\n",
       "      <td>False</td>\n",
       "    </tr>\n",
       "    <tr>\n",
       "      <th>1</th>\n",
       "      <td>actor</td>\n",
       "      <td>thespian</td>\n",
       "      <td>False</td>\n",
       "      <td>False</td>\n",
       "    </tr>\n",
       "    <tr>\n",
       "      <th>2</th>\n",
       "      <td>ades</td>\n",
       "      <td>summer coolers</td>\n",
       "      <td>False</td>\n",
       "      <td>False</td>\n",
       "    </tr>\n",
       "    <tr>\n",
       "      <th>3</th>\n",
       "      <td>ads</td>\n",
       "      <td>newspaper revenue</td>\n",
       "      <td>False</td>\n",
       "      <td>False</td>\n",
       "    </tr>\n",
       "    <tr>\n",
       "      <th>4</th>\n",
       "      <td>afro</td>\n",
       "      <td>head of hair</td>\n",
       "      <td>False</td>\n",
       "      <td>False</td>\n",
       "    </tr>\n",
       "  </tbody>\n",
       "</table>\n",
       "</div>"
      ],
      "text/plain": [
       "  answer               clue  noun_required  fill_blank\n",
       "0    aba   litigator  group          False       False\n",
       "1  actor           thespian          False       False\n",
       "2   ades     summer coolers          False       False\n",
       "3    ads  newspaper revenue          False       False\n",
       "4   afro       head of hair          False       False"
      ]
     },
     "execution_count": 4,
     "metadata": {},
     "output_type": "execute_result"
    }
   ],
   "source": [
    "df.head(5)"
   ]
  },
  {
   "cell_type": "markdown",
   "metadata": {},
   "source": [
    "# Proportions of unique clues and answers"
   ]
  },
  {
   "cell_type": "code",
   "execution_count": 5,
   "metadata": {},
   "outputs": [],
   "source": [
    "proportions = { 'clues':df['clue'].nunique(), \n",
    "                'answers': df['answer'].nunique(),\n",
    "                'clues per answer':df['clue'].nunique() / df['answer'].nunique(),\n",
    "                'pairings':(df['answer'] + df['clue']).nunique()\n",
    "              }\n",
    "\n"
   ]
  },
  {
   "cell_type": "code",
   "execution_count": 9,
   "metadata": {},
   "outputs": [
    {
     "name": "stdout",
     "output_type": "stream",
     "text": [
      "\n",
      "      Unique Clues: 2579975 \n",
      "      Unique Answers: 315339\n",
      "      Unique Answer + Clue Pairings: 3103324\n",
      "      \n",
      "      Clues per Answer: 8.181591874141796\n",
      "      \n"
     ]
    },
    {
     "data": {
      "application/vnd.plotly.v1+json": {
       "config": {
        "plotlyServerURL": "https://plot.ly"
       },
       "data": [
        {
         "text": [
          "3103324",
          "2579975",
          "315339"
         ],
         "textposition": "auto",
         "type": "bar",
         "x": [
          "Unique Clue + Answer pairings",
          "Unique Clues",
          "Unique Answers"
         ],
         "y": [
          3103324,
          2579975,
          315339
         ]
        }
       ],
       "layout": {
        "template": {
         "data": {
          "bar": [
           {
            "error_x": {
             "color": "#2a3f5f"
            },
            "error_y": {
             "color": "#2a3f5f"
            },
            "marker": {
             "line": {
              "color": "#E5ECF6",
              "width": 0.5
             },
             "pattern": {
              "fillmode": "overlay",
              "size": 10,
              "solidity": 0.2
             }
            },
            "type": "bar"
           }
          ],
          "barpolar": [
           {
            "marker": {
             "line": {
              "color": "#E5ECF6",
              "width": 0.5
             },
             "pattern": {
              "fillmode": "overlay",
              "size": 10,
              "solidity": 0.2
             }
            },
            "type": "barpolar"
           }
          ],
          "carpet": [
           {
            "aaxis": {
             "endlinecolor": "#2a3f5f",
             "gridcolor": "white",
             "linecolor": "white",
             "minorgridcolor": "white",
             "startlinecolor": "#2a3f5f"
            },
            "baxis": {
             "endlinecolor": "#2a3f5f",
             "gridcolor": "white",
             "linecolor": "white",
             "minorgridcolor": "white",
             "startlinecolor": "#2a3f5f"
            },
            "type": "carpet"
           }
          ],
          "choropleth": [
           {
            "colorbar": {
             "outlinewidth": 0,
             "ticks": ""
            },
            "type": "choropleth"
           }
          ],
          "contour": [
           {
            "colorbar": {
             "outlinewidth": 0,
             "ticks": ""
            },
            "colorscale": [
             [
              0,
              "#0d0887"
             ],
             [
              0.1111111111111111,
              "#46039f"
             ],
             [
              0.2222222222222222,
              "#7201a8"
             ],
             [
              0.3333333333333333,
              "#9c179e"
             ],
             [
              0.4444444444444444,
              "#bd3786"
             ],
             [
              0.5555555555555556,
              "#d8576b"
             ],
             [
              0.6666666666666666,
              "#ed7953"
             ],
             [
              0.7777777777777778,
              "#fb9f3a"
             ],
             [
              0.8888888888888888,
              "#fdca26"
             ],
             [
              1,
              "#f0f921"
             ]
            ],
            "type": "contour"
           }
          ],
          "contourcarpet": [
           {
            "colorbar": {
             "outlinewidth": 0,
             "ticks": ""
            },
            "type": "contourcarpet"
           }
          ],
          "heatmap": [
           {
            "colorbar": {
             "outlinewidth": 0,
             "ticks": ""
            },
            "colorscale": [
             [
              0,
              "#0d0887"
             ],
             [
              0.1111111111111111,
              "#46039f"
             ],
             [
              0.2222222222222222,
              "#7201a8"
             ],
             [
              0.3333333333333333,
              "#9c179e"
             ],
             [
              0.4444444444444444,
              "#bd3786"
             ],
             [
              0.5555555555555556,
              "#d8576b"
             ],
             [
              0.6666666666666666,
              "#ed7953"
             ],
             [
              0.7777777777777778,
              "#fb9f3a"
             ],
             [
              0.8888888888888888,
              "#fdca26"
             ],
             [
              1,
              "#f0f921"
             ]
            ],
            "type": "heatmap"
           }
          ],
          "heatmapgl": [
           {
            "colorbar": {
             "outlinewidth": 0,
             "ticks": ""
            },
            "colorscale": [
             [
              0,
              "#0d0887"
             ],
             [
              0.1111111111111111,
              "#46039f"
             ],
             [
              0.2222222222222222,
              "#7201a8"
             ],
             [
              0.3333333333333333,
              "#9c179e"
             ],
             [
              0.4444444444444444,
              "#bd3786"
             ],
             [
              0.5555555555555556,
              "#d8576b"
             ],
             [
              0.6666666666666666,
              "#ed7953"
             ],
             [
              0.7777777777777778,
              "#fb9f3a"
             ],
             [
              0.8888888888888888,
              "#fdca26"
             ],
             [
              1,
              "#f0f921"
             ]
            ],
            "type": "heatmapgl"
           }
          ],
          "histogram": [
           {
            "marker": {
             "pattern": {
              "fillmode": "overlay",
              "size": 10,
              "solidity": 0.2
             }
            },
            "type": "histogram"
           }
          ],
          "histogram2d": [
           {
            "colorbar": {
             "outlinewidth": 0,
             "ticks": ""
            },
            "colorscale": [
             [
              0,
              "#0d0887"
             ],
             [
              0.1111111111111111,
              "#46039f"
             ],
             [
              0.2222222222222222,
              "#7201a8"
             ],
             [
              0.3333333333333333,
              "#9c179e"
             ],
             [
              0.4444444444444444,
              "#bd3786"
             ],
             [
              0.5555555555555556,
              "#d8576b"
             ],
             [
              0.6666666666666666,
              "#ed7953"
             ],
             [
              0.7777777777777778,
              "#fb9f3a"
             ],
             [
              0.8888888888888888,
              "#fdca26"
             ],
             [
              1,
              "#f0f921"
             ]
            ],
            "type": "histogram2d"
           }
          ],
          "histogram2dcontour": [
           {
            "colorbar": {
             "outlinewidth": 0,
             "ticks": ""
            },
            "colorscale": [
             [
              0,
              "#0d0887"
             ],
             [
              0.1111111111111111,
              "#46039f"
             ],
             [
              0.2222222222222222,
              "#7201a8"
             ],
             [
              0.3333333333333333,
              "#9c179e"
             ],
             [
              0.4444444444444444,
              "#bd3786"
             ],
             [
              0.5555555555555556,
              "#d8576b"
             ],
             [
              0.6666666666666666,
              "#ed7953"
             ],
             [
              0.7777777777777778,
              "#fb9f3a"
             ],
             [
              0.8888888888888888,
              "#fdca26"
             ],
             [
              1,
              "#f0f921"
             ]
            ],
            "type": "histogram2dcontour"
           }
          ],
          "mesh3d": [
           {
            "colorbar": {
             "outlinewidth": 0,
             "ticks": ""
            },
            "type": "mesh3d"
           }
          ],
          "parcoords": [
           {
            "line": {
             "colorbar": {
              "outlinewidth": 0,
              "ticks": ""
             }
            },
            "type": "parcoords"
           }
          ],
          "pie": [
           {
            "automargin": true,
            "type": "pie"
           }
          ],
          "scatter": [
           {
            "marker": {
             "colorbar": {
              "outlinewidth": 0,
              "ticks": ""
             }
            },
            "type": "scatter"
           }
          ],
          "scatter3d": [
           {
            "line": {
             "colorbar": {
              "outlinewidth": 0,
              "ticks": ""
             }
            },
            "marker": {
             "colorbar": {
              "outlinewidth": 0,
              "ticks": ""
             }
            },
            "type": "scatter3d"
           }
          ],
          "scattercarpet": [
           {
            "marker": {
             "colorbar": {
              "outlinewidth": 0,
              "ticks": ""
             }
            },
            "type": "scattercarpet"
           }
          ],
          "scattergeo": [
           {
            "marker": {
             "colorbar": {
              "outlinewidth": 0,
              "ticks": ""
             }
            },
            "type": "scattergeo"
           }
          ],
          "scattergl": [
           {
            "marker": {
             "colorbar": {
              "outlinewidth": 0,
              "ticks": ""
             }
            },
            "type": "scattergl"
           }
          ],
          "scattermapbox": [
           {
            "marker": {
             "colorbar": {
              "outlinewidth": 0,
              "ticks": ""
             }
            },
            "type": "scattermapbox"
           }
          ],
          "scatterpolar": [
           {
            "marker": {
             "colorbar": {
              "outlinewidth": 0,
              "ticks": ""
             }
            },
            "type": "scatterpolar"
           }
          ],
          "scatterpolargl": [
           {
            "marker": {
             "colorbar": {
              "outlinewidth": 0,
              "ticks": ""
             }
            },
            "type": "scatterpolargl"
           }
          ],
          "scatterternary": [
           {
            "marker": {
             "colorbar": {
              "outlinewidth": 0,
              "ticks": ""
             }
            },
            "type": "scatterternary"
           }
          ],
          "surface": [
           {
            "colorbar": {
             "outlinewidth": 0,
             "ticks": ""
            },
            "colorscale": [
             [
              0,
              "#0d0887"
             ],
             [
              0.1111111111111111,
              "#46039f"
             ],
             [
              0.2222222222222222,
              "#7201a8"
             ],
             [
              0.3333333333333333,
              "#9c179e"
             ],
             [
              0.4444444444444444,
              "#bd3786"
             ],
             [
              0.5555555555555556,
              "#d8576b"
             ],
             [
              0.6666666666666666,
              "#ed7953"
             ],
             [
              0.7777777777777778,
              "#fb9f3a"
             ],
             [
              0.8888888888888888,
              "#fdca26"
             ],
             [
              1,
              "#f0f921"
             ]
            ],
            "type": "surface"
           }
          ],
          "table": [
           {
            "cells": {
             "fill": {
              "color": "#EBF0F8"
             },
             "line": {
              "color": "white"
             }
            },
            "header": {
             "fill": {
              "color": "#C8D4E3"
             },
             "line": {
              "color": "white"
             }
            },
            "type": "table"
           }
          ]
         },
         "layout": {
          "annotationdefaults": {
           "arrowcolor": "#2a3f5f",
           "arrowhead": 0,
           "arrowwidth": 1
          },
          "autotypenumbers": "strict",
          "coloraxis": {
           "colorbar": {
            "outlinewidth": 0,
            "ticks": ""
           }
          },
          "colorscale": {
           "diverging": [
            [
             0,
             "#8e0152"
            ],
            [
             0.1,
             "#c51b7d"
            ],
            [
             0.2,
             "#de77ae"
            ],
            [
             0.3,
             "#f1b6da"
            ],
            [
             0.4,
             "#fde0ef"
            ],
            [
             0.5,
             "#f7f7f7"
            ],
            [
             0.6,
             "#e6f5d0"
            ],
            [
             0.7,
             "#b8e186"
            ],
            [
             0.8,
             "#7fbc41"
            ],
            [
             0.9,
             "#4d9221"
            ],
            [
             1,
             "#276419"
            ]
           ],
           "sequential": [
            [
             0,
             "#0d0887"
            ],
            [
             0.1111111111111111,
             "#46039f"
            ],
            [
             0.2222222222222222,
             "#7201a8"
            ],
            [
             0.3333333333333333,
             "#9c179e"
            ],
            [
             0.4444444444444444,
             "#bd3786"
            ],
            [
             0.5555555555555556,
             "#d8576b"
            ],
            [
             0.6666666666666666,
             "#ed7953"
            ],
            [
             0.7777777777777778,
             "#fb9f3a"
            ],
            [
             0.8888888888888888,
             "#fdca26"
            ],
            [
             1,
             "#f0f921"
            ]
           ],
           "sequentialminus": [
            [
             0,
             "#0d0887"
            ],
            [
             0.1111111111111111,
             "#46039f"
            ],
            [
             0.2222222222222222,
             "#7201a8"
            ],
            [
             0.3333333333333333,
             "#9c179e"
            ],
            [
             0.4444444444444444,
             "#bd3786"
            ],
            [
             0.5555555555555556,
             "#d8576b"
            ],
            [
             0.6666666666666666,
             "#ed7953"
            ],
            [
             0.7777777777777778,
             "#fb9f3a"
            ],
            [
             0.8888888888888888,
             "#fdca26"
            ],
            [
             1,
             "#f0f921"
            ]
           ]
          },
          "colorway": [
           "#636efa",
           "#EF553B",
           "#00cc96",
           "#ab63fa",
           "#FFA15A",
           "#19d3f3",
           "#FF6692",
           "#B6E880",
           "#FF97FF",
           "#FECB52"
          ],
          "font": {
           "color": "#2a3f5f"
          },
          "geo": {
           "bgcolor": "white",
           "lakecolor": "white",
           "landcolor": "#E5ECF6",
           "showlakes": true,
           "showland": true,
           "subunitcolor": "white"
          },
          "hoverlabel": {
           "align": "left"
          },
          "hovermode": "closest",
          "mapbox": {
           "style": "light"
          },
          "paper_bgcolor": "white",
          "plot_bgcolor": "#E5ECF6",
          "polar": {
           "angularaxis": {
            "gridcolor": "white",
            "linecolor": "white",
            "ticks": ""
           },
           "bgcolor": "#E5ECF6",
           "radialaxis": {
            "gridcolor": "white",
            "linecolor": "white",
            "ticks": ""
           }
          },
          "scene": {
           "xaxis": {
            "backgroundcolor": "#E5ECF6",
            "gridcolor": "white",
            "gridwidth": 2,
            "linecolor": "white",
            "showbackground": true,
            "ticks": "",
            "zerolinecolor": "white"
           },
           "yaxis": {
            "backgroundcolor": "#E5ECF6",
            "gridcolor": "white",
            "gridwidth": 2,
            "linecolor": "white",
            "showbackground": true,
            "ticks": "",
            "zerolinecolor": "white"
           },
           "zaxis": {
            "backgroundcolor": "#E5ECF6",
            "gridcolor": "white",
            "gridwidth": 2,
            "linecolor": "white",
            "showbackground": true,
            "ticks": "",
            "zerolinecolor": "white"
           }
          },
          "shapedefaults": {
           "line": {
            "color": "#2a3f5f"
           }
          },
          "ternary": {
           "aaxis": {
            "gridcolor": "white",
            "linecolor": "white",
            "ticks": ""
           },
           "baxis": {
            "gridcolor": "white",
            "linecolor": "white",
            "ticks": ""
           },
           "bgcolor": "#E5ECF6",
           "caxis": {
            "gridcolor": "white",
            "linecolor": "white",
            "ticks": ""
           }
          },
          "title": {
           "x": 0.05
          },
          "xaxis": {
           "automargin": true,
           "gridcolor": "white",
           "linecolor": "white",
           "ticks": "",
           "title": {
            "standoff": 15
           },
           "zerolinecolor": "white",
           "zerolinewidth": 2
          },
          "yaxis": {
           "automargin": true,
           "gridcolor": "white",
           "linecolor": "white",
           "ticks": "",
           "title": {
            "standoff": 15
           },
           "zerolinecolor": "white",
           "zerolinewidth": 2
          }
         }
        }
       }
      }
     },
     "metadata": {},
     "output_type": "display_data"
    }
   ],
   "source": [
    "print(f\"\"\"\n",
    "      Unique Clues: {proportions['clues']} \n",
    "      Unique Answers: {proportions['answers']}\n",
    "      Unique Answer + Clue Pairings: {proportions['pairings']}\n",
    "      \n",
    "      Clues per Answer: {proportions['clues per answer']}\n",
    "      \"\"\")\n",
    "\n",
    "import plotly.graph_objects as go\n",
    "labels = [  'Unique Clue + Answer pairings',\n",
    "            'Unique Clues',\n",
    "            'Unique Answers'\n",
    "            ]\n",
    "values = [  proportions['pairings'],\n",
    "            proportions['clues'],\n",
    "            proportions['answers']\n",
    "            ]\n",
    "\n",
    "fig = go.Figure(data=[go.Bar(\n",
    "            x=labels, \n",
    "            y=values,\n",
    "            text=values,\n",
    "            textposition='auto',\n",
    "        )])\n",
    "\n",
    "fig.show()\n"
   ]
  },
  {
   "cell_type": "code",
   "execution_count": 15,
   "metadata": {},
   "outputs": [
    {
     "data": {
      "text/plain": [
       "one              1622\n",
       "era              1586\n",
       "aria             1519\n",
       "ore              1435\n",
       "erie             1426\n",
       "                 ... \n",
       "eggsinone           1\n",
       "electroplater       1\n",
       "elegits             1\n",
       "elire               1\n",
       "zoomrooms           1\n",
       "Name: answer, Length: 315339, dtype: int64"
      ]
     },
     "execution_count": 15,
     "metadata": {},
     "output_type": "execute_result"
    }
   ],
   "source": [
    "df['answer'].value_counts()"
   ]
  },
  {
   "cell_type": "code",
   "execution_count": 18,
   "metadata": {},
   "outputs": [
    {
     "data": {
      "text/plain": [
       "False    315303\n",
       "True         36\n",
       "Name: answer, dtype: int64"
      ]
     },
     "execution_count": 18,
     "metadata": {},
     "output_type": "execute_result"
    }
   ],
   "source": [
    "(df['answer'].value_counts() > 1000).value_counts()"
   ]
  },
  {
   "cell_type": "code",
   "execution_count": 22,
   "metadata": {},
   "outputs": [
    {
     "data": {
      "text/plain": [
       "True     267072\n",
       "False     48267\n",
       "Name: answer, dtype: int64"
      ]
     },
     "execution_count": 22,
     "metadata": {},
     "output_type": "execute_result"
    }
   ],
   "source": [
    "(df['answer'].value_counts() < 10).value_counts()"
   ]
  },
  {
   "cell_type": "code",
   "execution_count": 23,
   "metadata": {},
   "outputs": [
    {
     "data": {
      "text/plain": [
       "True     165635\n",
       "False    149704\n",
       "Name: answer, dtype: int64"
      ]
     },
     "execution_count": 23,
     "metadata": {},
     "output_type": "execute_result"
    }
   ],
   "source": [
    "(df['answer'].value_counts() == 1).value_counts()"
   ]
  },
  {
   "cell_type": "code",
   "execution_count": 9,
   "metadata": {},
   "outputs": [],
   "source": [
    "\n",
    "def sample_strings_containing(containing:list,  data:pd.DataFrame, column:str, n_samples:int=1) -> dict:\n",
    "    \"\"\"Searches a column within a dataframe and returns random smaples of entries containing the key words\n",
    "    in the given list.\n",
    "\n",
    "    Args:\n",
    "        containing (list): List of key words to look for\n",
    "        data (pd.DataFrame): Dataframe to search\n",
    "        column (str): column to serch within datdrame\n",
    "        n_samples (int, optional): number of samples to return for each key. Defaults to 1.\n",
    "\n",
    "    \"\"\"\n",
    "    samples = {}\n",
    "    for x in containing:\n",
    "        matches = data[df[column].str.contains(x, regex=False)]\n",
    "        if matches.shape[0] > 0:  \n",
    "            samples[x] = []\n",
    "            for r in np.random.choice(range(matches.shape[0]),n_samples, replace=False):         \n",
    "                r = np.random.randint(0, matches.shape[0])\n",
    "                samples[x].append(matches.iloc[r][column])\n",
    "    return samples"
   ]
  },
  {
   "cell_type": "code",
   "execution_count": 10,
   "metadata": {},
   "outputs": [],
   "source": [
    "from string import punctuation\n",
    "punctuation_samples = sample_strings_containing(punctuation,df,'clue',n_samples=5)"
   ]
  },
  {
   "cell_type": "code",
   "execution_count": 16,
   "metadata": {},
   "outputs": [
    {
     "data": {
      "text/html": [
       "<div>\n",
       "<style scoped>\n",
       "    .dataframe tbody tr th:only-of-type {\n",
       "        vertical-align: middle;\n",
       "    }\n",
       "\n",
       "    .dataframe tbody tr th {\n",
       "        vertical-align: top;\n",
       "    }\n",
       "\n",
       "    .dataframe thead th {\n",
       "        text-align: right;\n",
       "    }\n",
       "</style>\n",
       "<table border=\"1\" class=\"dataframe\">\n",
       "  <thead>\n",
       "    <tr style=\"text-align: right;\">\n",
       "      <th></th>\n",
       "      <th>0</th>\n",
       "      <th>1</th>\n",
       "      <th>2</th>\n",
       "      <th>3</th>\n",
       "      <th>4</th>\n",
       "    </tr>\n",
       "  </thead>\n",
       "  <tbody>\n",
       "    <tr>\n",
       "      <th>!</th>\n",
       "      <td>Older cousin of \"Cool!\"</td>\n",
       "      <td>Heavy metal band whose name is a euphemism for...</td>\n",
       "      <td>Oklahoma! gal</td>\n",
       "      <td>Look ___!</td>\n",
       "      <td>___ only money!</td>\n",
       "    </tr>\n",
       "    <tr>\n",
       "      <th>\"</th>\n",
       "      <td>Hathaway of \"Get Smart\"</td>\n",
       "      <td>Texter's \"Yikes!\"</td>\n",
       "      <td>Hero of kid-lit's \"The Phantom Tollbooth\"</td>\n",
       "      <td>Stalin called it \"the language of spies\"</td>\n",
       "      <td>What Steely Dan will do to \"The Years\"</td>\n",
       "    </tr>\n",
       "    <tr>\n",
       "      <th>#</th>\n",
       "      <td>Royals #5</td>\n",
       "      <td>#3: central Asia, red and yellow</td>\n",
       "      <td>AFI's #79 (with \"The\") (1978)</td>\n",
       "      <td>___ Ko, youngest #1-ranked golfer ever</td>\n",
       "      <td>Element #99</td>\n",
       "    </tr>\n",
       "    <tr>\n",
       "      <th>$</th>\n",
       "      <td>Potent Potables for $200, __</td>\n",
       "      <td>$1000, slangily</td>\n",
       "      <td>Saying \"&amp;%$#@!!\"</td>\n",
       "      <td>He's on a $10,000 bill</td>\n",
       "      <td>1867 purchase for a little over $7 million</td>\n",
       "    </tr>\n",
       "    <tr>\n",
       "      <th>%</th>\n",
       "      <td>90% of the game is half mental speaker</td>\n",
       "      <td>Are you getting 100%? cereal</td>\n",
       "      <td>Belief of roughly 25% of the world's population</td>\n",
       "      <td>You could get one if you're over .08%</td>\n",
       "      <td>100%</td>\n",
       "    </tr>\n",
       "    <tr>\n",
       "      <th>&amp;</th>\n",
       "      <td>When I Was ___: G. &amp; S.</td>\n",
       "      <td>___ Rock (Simon &amp; Garfunkel hit)</td>\n",
       "      <td>Electric &amp; Musical Industries Ltd. for short</td>\n",
       "      <td>B&amp;Bs</td>\n",
       "      <td>___ &amp; Wesson has agreed to make products child...</td>\n",
       "    </tr>\n",
       "    <tr>\n",
       "      <th>'</th>\n",
       "      <td>Klutz's outcry</td>\n",
       "      <td>World's fair</td>\n",
       "      <td>Coty's capital.</td>\n",
       "      <td>(You're) Having My Baby singer</td>\n",
       "      <td>Sterne's hero.</td>\n",
       "    </tr>\n",
       "    <tr>\n",
       "      <th>(</th>\n",
       "      <td>Posed (for)</td>\n",
       "      <td>___ Speed Wagon (vintage auto)</td>\n",
       "      <td>In ___ quo (as is)</td>\n",
       "      <td>___ mecum (manual)</td>\n",
       "      <td>League with Bulls and Timberwolves (abbr.)</td>\n",
       "    </tr>\n",
       "    <tr>\n",
       "      <th>)</th>\n",
       "      <td>___-l'oeil (illusion)</td>\n",
       "      <td>Write-___ (some vote-getters)</td>\n",
       "      <td>Go (through)</td>\n",
       "      <td>Chooses (to)</td>\n",
       "      <td>Isn't ___ bit like you and me? (Beatles lyric)</td>\n",
       "    </tr>\n",
       "    <tr>\n",
       "      <th>*</th>\n",
       "      <td>*</td>\n",
       "      <td>Alda of \"M*A*S*H\"</td>\n",
       "      <td>*Deep-sea diver's concern</td>\n",
       "      <td>*Brunch options</td>\n",
       "      <td>*Whopper alternative (1969-1986)</td>\n",
       "    </tr>\n",
       "    <tr>\n",
       "      <th>+</th>\n",
       "      <td>Tre + tre</td>\n",
       "      <td>Press \"+\" on a calculator</td>\n",
       "      <td>Measures equal to 57+ degrees</td>\n",
       "      <td>Cuatro + cinco</td>\n",
       "      <td>Control+Z command</td>\n",
       "    </tr>\n",
       "    <tr>\n",
       "      <th>,</th>\n",
       "      <td>Exec's car, say</td>\n",
       "      <td>Set of plays, novels, etc.</td>\n",
       "      <td>More slick, as a winter road</td>\n",
       "      <td>Modernize, as decor</td>\n",
       "      <td>This, in Spanish</td>\n",
       "    </tr>\n",
       "    <tr>\n",
       "      <th>-</th>\n",
       "      <td>Pop-up on a diamond</td>\n",
       "      <td>1-1 game, say</td>\n",
       "      <td>Strike-breaker</td>\n",
       "      <td>Court-appointed guardian?</td>\n",
       "      <td>Bamboo-loving critter</td>\n",
       "    </tr>\n",
       "    <tr>\n",
       "      <th>.</th>\n",
       "      <td>Poetic contraction.</td>\n",
       "      <td>Criticizes adversely.</td>\n",
       "      <td>Boot a grounder, e.g.</td>\n",
       "      <td>Cornerstone abbr.</td>\n",
       "      <td>Author Grey.</td>\n",
       "    </tr>\n",
       "    <tr>\n",
       "      <th>/</th>\n",
       "      <td>Trouble singer/rapper</td>\n",
       "      <td>{/Jumpy noblemen?/}</td>\n",
       "      <td>Combo candy store/barbecue supplier?</td>\n",
       "      <td>Nevada/California lake</td>\n",
       "      <td>Title religious school in a classic Crosby/Ber...</td>\n",
       "    </tr>\n",
       "    <tr>\n",
       "      <th>:</th>\n",
       "      <td>Time _____ My Side”\\nnyt\\t1995\\tISOTOPES\\tCarb...</td>\n",
       "      <td>Moral Rearmament: abbr.</td>\n",
       "      <td>Mental conception: Comb. form.</td>\n",
       "      <td>____  dixit: dictum</td>\n",
       "      <td>False face must hide what the false heart doth...</td>\n",
       "    </tr>\n",
       "    <tr>\n",
       "      <th>;</th>\n",
       "      <td>In pencil: Liquidated, as assets; In pen: Liqu...</td>\n",
       "      <td>Mild; merciful</td>\n",
       "      <td>Yes: bananas, steak (if the proper laws are fo...</td>\n",
       "      <td>Soul singer Isaac reflectively replacing vitam...</td>\n",
       "      <td>Wets; moistens</td>\n",
       "    </tr>\n",
       "    <tr>\n",
       "      <th>&lt;</th>\n",
       "      <td>&lt;&lt;NO CLUE&gt;&gt;</td>\n",
       "      <td>&lt;&lt;NO CLUE&gt;&gt;</td>\n",
       "      <td>In ____:&lt;P&gt; set</td>\n",
       "      <td>&lt;&lt;NO CLUE&gt;&gt;</td>\n",
       "      <td>&lt;I&gt;___ Attraction&lt;I&gt;</td>\n",
       "    </tr>\n",
       "    <tr>\n",
       "      <th>=</th>\n",
       "      <td>Area of a circle = ___-squared</td>\n",
       "      <td>7x - 6 = 2x 2 subj.</td>\n",
       "      <td>___ = Politics (TV slogan)</td>\n",
       "      <td>= ___</td>\n",
       "      <td>Lizzie Borden's blows – \"Easy Pieces\" ÷ prover...</td>\n",
       "    </tr>\n",
       "    <tr>\n",
       "      <th>&gt;</th>\n",
       "      <td>&lt;I&gt;The ___ Murders&lt;I&gt;: Christie</td>\n",
       "      <td>TV oldie, &lt;I&gt;Answer Yes ___&lt;I&gt;</td>\n",
       "      <td>&lt;&lt;NO CLUE&gt;&gt;</td>\n",
       "      <td>What &gt;:-|| means in emoticons</td>\n",
       "      <td>&gt; 0: Abbr.</td>\n",
       "    </tr>\n",
       "    <tr>\n",
       "      <th>?</th>\n",
       "      <td>Chamber group income?</td>\n",
       "      <td>Anthropologist got a title?</td>\n",
       "      <td>Action star who would make a lousy free-range ...</td>\n",
       "      <td>Boy toy?</td>\n",
       "      <td>Acted Bossy?</td>\n",
       "    </tr>\n",
       "    <tr>\n",
       "      <th>@</th>\n",
       "      <td>@</td>\n",
       "      <td>@@@</td>\n",
       "      <td>Number under @ on a keyboard</td>\n",
       "      <td>Say \"@#$%!\"</td>\n",
       "      <td>+, $ or @</td>\n",
       "    </tr>\n",
       "    <tr>\n",
       "      <th>[</th>\n",
       "      <td>Classroom surprise [15][16]</td>\n",
       "      <td>[bo-o-o-ring!]</td>\n",
       "      <td>[Oh ... my ... God!]</td>\n",
       "      <td>[Grumble, grumble, grumble]</td>\n",
       "      <td>[Gulp!]</td>\n",
       "    </tr>\n",
       "    <tr>\n",
       "      <th>\\</th>\n",
       "      <td>You see C:\\&gt; in it</td>\n",
       "      <td>\\</td>\n",
       "      <td>\\</td>\n",
       "      <td>/ or \\</td>\n",
       "      <td>C:\\ProgramFiles\\Litsoft\\AcrossLite, e.g.</td>\n",
       "    </tr>\n",
       "    <tr>\n",
       "      <th>]</th>\n",
       "      <td>Child actress who appeared with [circled letters]</td>\n",
       "      <td>[Poor, pitiful me!]</td>\n",
       "      <td>[sigh]</td>\n",
       "      <td>[Image of a quarter note]</td>\n",
       "      <td>*Toro's target [1956]</td>\n",
       "    </tr>\n",
       "    <tr>\n",
       "      <th>^</th>\n",
       "      <td>Belittled^DECRIE</td>\n",
       "      <td>Rap's Dr. ___^DR</td>\n",
       "      <td>Stan Musial's nickname^THEMA</td>\n",
       "      <td>Playa clay^ADOB</td>\n",
       "      <td>Beer ingredient^MAL</td>\n",
       "    </tr>\n",
       "    <tr>\n",
       "      <th>_</th>\n",
       "      <td>La ___, Bolivia</td>\n",
       "      <td>___ boy!</td>\n",
       "      <td>Saturday, 9 A.M.: ___</td>\n",
       "      <td>Et ___ (and the following)</td>\n",
       "      <td>Cutty ____</td>\n",
       "    </tr>\n",
       "    <tr>\n",
       "      <th>`</th>\n",
       "      <td>Gleason's  ``How sweet  ___\"</td>\n",
       "      <td>``O sole ___\"</td>\n",
       "      <td>`Slacker` setting</td>\n",
       "      <td>Baseball's ``Schoolboy\"</td>\n",
       "      <td>``I've ___ to London to...\"</td>\n",
       "    </tr>\n",
       "    <tr>\n",
       "      <th>{</th>\n",
       "      <td>Failed: With {/out/}.</td>\n",
       "      <td>{/Spousal symbols/}</td>\n",
       "      <td>{/Customer group reveres/}</td>\n",
       "      <td>{I}Bossy on the hoof</td>\n",
       "      <td>{/Cargo/}</td>\n",
       "    </tr>\n",
       "    <tr>\n",
       "      <th>|</th>\n",
       "      <td>||, on a remote</td>\n",
       "      <td>Either H in H|2|O</td>\n",
       "      <td>Passages marked :|| in music.</td>\n",
       "      <td>NEW YORK | HONG KONG</td>\n",
       "      <td>It's a Wonderful |Life director Frank</td>\n",
       "    </tr>\n",
       "    <tr>\n",
       "      <th>}</th>\n",
       "      <td>{/LETTERS LIKE THIS./}</td>\n",
       "      <td>{/Verse continued/}</td>\n",
       "      <td>{/Butchery/}</td>\n",
       "      <td>{/Perspectives/}</td>\n",
       "      <td>{/\"Faith ___!\" (words by Faber)/}</td>\n",
       "    </tr>\n",
       "    <tr>\n",
       "      <th>~</th>\n",
       "      <td>~</td>\n",
       "      <td>~</td>\n",
       "      <td>~</td>\n",
       "      <td>Key above ~</td>\n",
       "      <td>Key above ~</td>\n",
       "    </tr>\n",
       "  </tbody>\n",
       "</table>\n",
       "</div>"
      ],
      "text/plain": [
       "                                                   0  \\\n",
       "!                            Older cousin of \"Cool!\"   \n",
       "\"                            Hathaway of \"Get Smart\"   \n",
       "#                                          Royals #5   \n",
       "$                       Potent Potables for $200, __   \n",
       "%             90% of the game is half mental speaker   \n",
       "&                            When I Was ___: G. & S.   \n",
       "'                                     Klutz's outcry   \n",
       "(                                        Posed (for)   \n",
       ")                              ___-l'oeil (illusion)   \n",
       "*                                                  *   \n",
       "+                                          Tre + tre   \n",
       ",                                    Exec's car, say   \n",
       "-                                Pop-up on a diamond   \n",
       ".                                Poetic contraction.   \n",
       "/                              Trouble singer/rapper   \n",
       ":  Time _____ My Side”\\nnyt\\t1995\\tISOTOPES\\tCarb...   \n",
       ";  In pencil: Liquidated, as assets; In pen: Liqu...   \n",
       "<                                        <<NO CLUE>>   \n",
       "=                     Area of a circle = ___-squared   \n",
       ">                    <I>The ___ Murders<I>: Christie   \n",
       "?                              Chamber group income?   \n",
       "@                                                  @   \n",
       "[                        Classroom surprise [15][16]   \n",
       "\\                                 You see C:\\> in it   \n",
       "]  Child actress who appeared with [circled letters]   \n",
       "^                                   Belittled^DECRIE   \n",
       "_                                    La ___, Bolivia   \n",
       "`                       Gleason's  ``How sweet  ___\"   \n",
       "{                              Failed: With {/out/}.   \n",
       "|                                    ||, on a remote   \n",
       "}                             {/LETTERS LIKE THIS./}   \n",
       "~                                                  ~   \n",
       "\n",
       "                                                   1  \\\n",
       "!  Heavy metal band whose name is a euphemism for...   \n",
       "\"                                  Texter's \"Yikes!\"   \n",
       "#                   #3: central Asia, red and yellow   \n",
       "$                                    $1000, slangily   \n",
       "%                       Are you getting 100%? cereal   \n",
       "&                   ___ Rock (Simon & Garfunkel hit)   \n",
       "'                                       World's fair   \n",
       "(                     ___ Speed Wagon (vintage auto)   \n",
       ")                      Write-___ (some vote-getters)   \n",
       "*                                  Alda of \"M*A*S*H\"   \n",
       "+                          Press \"+\" on a calculator   \n",
       ",                         Set of plays, novels, etc.   \n",
       "-                                      1-1 game, say   \n",
       ".                              Criticizes adversely.   \n",
       "/                                {/Jumpy noblemen?/}   \n",
       ":                            Moral Rearmament: abbr.   \n",
       ";                                     Mild; merciful   \n",
       "<                                        <<NO CLUE>>   \n",
       "=                                7x - 6 = 2x 2 subj.   \n",
       ">                     TV oldie, <I>Answer Yes ___<I>   \n",
       "?                        Anthropologist got a title?   \n",
       "@                                                @@@   \n",
       "[                                     [bo-o-o-ring!]   \n",
       "\\                                                  \\   \n",
       "]                                [Poor, pitiful me!]   \n",
       "^                                   Rap's Dr. ___^DR   \n",
       "_                                           ___ boy!   \n",
       "`                                      ``O sole ___\"   \n",
       "{                                {/Spousal symbols/}   \n",
       "|                                  Either H in H|2|O   \n",
       "}                                {/Verse continued/}   \n",
       "~                                                  ~   \n",
       "\n",
       "                                                   2  \\\n",
       "!                                      Oklahoma! gal   \n",
       "\"          Hero of kid-lit's \"The Phantom Tollbooth\"   \n",
       "#                      AFI's #79 (with \"The\") (1978)   \n",
       "$                                   Saying \"&%$#@!!\"   \n",
       "%    Belief of roughly 25% of the world's population   \n",
       "&       Electric & Musical Industries Ltd. for short   \n",
       "'                                    Coty's capital.   \n",
       "(                                 In ___ quo (as is)   \n",
       ")                                       Go (through)   \n",
       "*                          *Deep-sea diver's concern   \n",
       "+                      Measures equal to 57+ degrees   \n",
       ",                       More slick, as a winter road   \n",
       "-                                     Strike-breaker   \n",
       ".                              Boot a grounder, e.g.   \n",
       "/               Combo candy store/barbecue supplier?   \n",
       ":                     Mental conception: Comb. form.   \n",
       ";  Yes: bananas, steak (if the proper laws are fo...   \n",
       "<                                    In ____:<P> set   \n",
       "=                         ___ = Politics (TV slogan)   \n",
       ">                                        <<NO CLUE>>   \n",
       "?  Action star who would make a lousy free-range ...   \n",
       "@                       Number under @ on a keyboard   \n",
       "[                               [Oh ... my ... God!]   \n",
       "\\                                                  \\   \n",
       "]                                             [sigh]   \n",
       "^                       Stan Musial's nickname^THEMA   \n",
       "_                              Saturday, 9 A.M.: ___   \n",
       "`                                  `Slacker` setting   \n",
       "{                         {/Customer group reveres/}   \n",
       "|                      Passages marked :|| in music.   \n",
       "}                                       {/Butchery/}   \n",
       "~                                                  ~   \n",
       "\n",
       "                                                   3  \\\n",
       "!                                          Look ___!   \n",
       "\"           Stalin called it \"the language of spies\"   \n",
       "#             ___ Ko, youngest #1-ranked golfer ever   \n",
       "$                             He's on a $10,000 bill   \n",
       "%              You could get one if you're over .08%   \n",
       "&                                               B&Bs   \n",
       "'                     (You're) Having My Baby singer   \n",
       "(                                 ___ mecum (manual)   \n",
       ")                                       Chooses (to)   \n",
       "*                                    *Brunch options   \n",
       "+                                     Cuatro + cinco   \n",
       ",                                Modernize, as decor   \n",
       "-                          Court-appointed guardian?   \n",
       ".                                  Cornerstone abbr.   \n",
       "/                             Nevada/California lake   \n",
       ":                                ____  dixit: dictum   \n",
       ";  Soul singer Isaac reflectively replacing vitam...   \n",
       "<                                        <<NO CLUE>>   \n",
       "=                                              = ___   \n",
       ">                      What >:-|| means in emoticons   \n",
       "?                                           Boy toy?   \n",
       "@                                        Say \"@#$%!\"   \n",
       "[                        [Grumble, grumble, grumble]   \n",
       "\\                                             / or \\   \n",
       "]                          [Image of a quarter note]   \n",
       "^                                    Playa clay^ADOB   \n",
       "_                         Et ___ (and the following)   \n",
       "`                            Baseball's ``Schoolboy\"   \n",
       "{                               {I}Bossy on the hoof   \n",
       "|                               NEW YORK | HONG KONG   \n",
       "}                                   {/Perspectives/}   \n",
       "~                                        Key above ~   \n",
       "\n",
       "                                                   4  \n",
       "!                                    ___ only money!  \n",
       "\"             What Steely Dan will do to \"The Years\"  \n",
       "#                                        Element #99  \n",
       "$         1867 purchase for a little over $7 million  \n",
       "%                                               100%  \n",
       "&  ___ & Wesson has agreed to make products child...  \n",
       "'                                     Sterne's hero.  \n",
       "(         League with Bulls and Timberwolves (abbr.)  \n",
       ")     Isn't ___ bit like you and me? (Beatles lyric)  \n",
       "*                   *Whopper alternative (1969-1986)  \n",
       "+                                  Control+Z command  \n",
       ",                                   This, in Spanish  \n",
       "-                              Bamboo-loving critter  \n",
       ".                                       Author Grey.  \n",
       "/  Title religious school in a classic Crosby/Ber...  \n",
       ":  False face must hide what the false heart doth...  \n",
       ";                                     Wets; moistens  \n",
       "<                               <I>___ Attraction<I>  \n",
       "=  Lizzie Borden's blows – \"Easy Pieces\" ÷ prover...  \n",
       ">                                         > 0: Abbr.  \n",
       "?                                       Acted Bossy?  \n",
       "@                                          +, $ or @  \n",
       "[                                            [Gulp!]  \n",
       "\\           C:\\ProgramFiles\\Litsoft\\AcrossLite, e.g.  \n",
       "]                              *Toro's target [1956]  \n",
       "^                                Beer ingredient^MAL  \n",
       "_                                         Cutty ____  \n",
       "`                        ``I've ___ to London to...\"  \n",
       "{                                          {/Cargo/}  \n",
       "|              It's a Wonderful |Life director Frank  \n",
       "}                  {/\"Faith ___!\" (words by Faber)/}  \n",
       "~                                        Key above ~  "
      ]
     },
     "execution_count": 16,
     "metadata": {},
     "output_type": "execute_result"
    }
   ],
   "source": [
    "pd.DataFrame(punctuation_samples).T"
   ]
  },
  {
   "cell_type": "code",
   "execution_count": 10,
   "metadata": {},
   "outputs": [
    {
     "data": {
      "text/plain": [
       "(3823, 2)"
      ]
     },
     "execution_count": 10,
     "metadata": {},
     "output_type": "execute_result"
    }
   ],
   "source": [
    "df[df['clue'].str.contains('Nobel')].shape"
   ]
  },
  {
   "cell_type": "code",
   "execution_count": 11,
   "metadata": {},
   "outputs": [
    {
     "data": {
      "text/plain": [
       "(9693, 2)"
      ]
     },
     "execution_count": 11,
     "metadata": {},
     "output_type": "execute_result"
    }
   ],
   "source": [
    "df[df['clue'].str.contains('actor')].shape"
   ]
  },
  {
   "cell_type": "code",
   "execution_count": 12,
   "metadata": {},
   "outputs": [
    {
     "data": {
      "text/plain": [
       "(7147, 2)"
      ]
     },
     "execution_count": 12,
     "metadata": {},
     "output_type": "execute_result"
    }
   ],
   "source": [
    "df[df['clue'].str.contains('slang')].shape"
   ]
  },
  {
   "cell_type": "code",
   "execution_count": 14,
   "metadata": {},
   "outputs": [
    {
     "data": {
      "text/plain": [
       "(1242, 2)"
      ]
     },
     "execution_count": 14,
     "metadata": {},
     "output_type": "execute_result"
    }
   ],
   "source": [
    "df[df['clue'].str.contains('%')].shape"
   ]
  },
  {
   "cell_type": "code",
   "execution_count": 15,
   "metadata": {},
   "outputs": [
    {
     "data": {
      "text/plain": [
       "(27728, 2)"
      ]
     },
     "execution_count": 15,
     "metadata": {},
     "output_type": "execute_result"
    }
   ],
   "source": [
    "df[df['clue'].str.contains('Across')].shape"
   ]
  },
  {
   "cell_type": "code",
   "execution_count": 16,
   "metadata": {},
   "outputs": [
    {
     "data": {
      "text/plain": [
       "(11317, 2)"
      ]
     },
     "execution_count": 16,
     "metadata": {},
     "output_type": "execute_result"
    }
   ],
   "source": [
    "df[df['clue'].str.contains('-Down')].shape"
   ]
  },
  {
   "cell_type": "code",
   "execution_count": 17,
   "metadata": {},
   "outputs": [
    {
     "data": {
      "text/plain": [
       "(19302, 2)"
      ]
     },
     "execution_count": 17,
     "metadata": {},
     "output_type": "execute_result"
    }
   ],
   "source": [
    "df[df['clue'].str.contains('-Across')].shape"
   ]
  },
  {
   "cell_type": "code",
   "execution_count": 18,
   "metadata": {},
   "outputs": [
    {
     "data": {
      "text/plain": [
       "(111995, 2)"
      ]
     },
     "execution_count": 18,
     "metadata": {},
     "output_type": "execute_result"
    }
   ],
   "source": [
    "df[df['clue'].str.contains('(',regex=False)].shape"
   ]
  },
  {
   "cell_type": "code",
   "execution_count": 19,
   "metadata": {},
   "outputs": [
    {
     "data": {
      "text/plain": [
       "(49424, 2)"
      ]
     },
     "execution_count": 19,
     "metadata": {},
     "output_type": "execute_result"
    }
   ],
   "source": [
    "df[df['clue'].str.contains('Abbr.',regex=False)].shape"
   ]
  },
  {
   "cell_type": "code",
   "execution_count": 20,
   "metadata": {},
   "outputs": [
    {
     "data": {
      "text/plain": [
       "(1940, 2)"
      ]
     },
     "execution_count": 20,
     "metadata": {},
     "output_type": "execute_result"
    }
   ],
   "source": [
    "df[df['clue'].str.contains(';',regex=False)].shape"
   ]
  },
  {
   "cell_type": "code",
   "execution_count": 21,
   "metadata": {},
   "outputs": [
    {
     "data": {
      "text/plain": [
       "(174, 2)"
      ]
     },
     "execution_count": 21,
     "metadata": {},
     "output_type": "execute_result"
    }
   ],
   "source": [
    "df[df['clue'].str.contains('@',regex=False)].shape"
   ]
  },
  {
   "cell_type": "code",
   "execution_count": 22,
   "metadata": {},
   "outputs": [
    {
     "data": {
      "text/plain": [
       "(2063, 2)"
      ]
     },
     "execution_count": 22,
     "metadata": {},
     "output_type": "execute_result"
    }
   ],
   "source": [
    "df[df['clue'].str.contains('[',regex=False)].shape"
   ]
  },
  {
   "cell_type": "code",
   "execution_count": 23,
   "metadata": {},
   "outputs": [
    {
     "data": {
      "text/plain": [
       "(285, 2)"
      ]
     },
     "execution_count": 23,
     "metadata": {},
     "output_type": "execute_result"
    }
   ],
   "source": [
    "df[df['clue'].str.contains('^',regex=False)].shape"
   ]
  },
  {
   "cell_type": "code",
   "execution_count": 24,
   "metadata": {},
   "outputs": [
    {
     "data": {
      "text/plain": [
       "(382745, 2)"
      ]
     },
     "execution_count": 24,
     "metadata": {},
     "output_type": "execute_result"
    }
   ],
   "source": [
    "df[df['clue'].str.contains('_',regex=False)].shape"
   ]
  },
  {
   "cell_type": "markdown",
   "metadata": {},
   "source": [
    "# Cleaning / Handling Strategies\n",
    "#### Brainstorming ideas for how to handle the variety of different questions and also clean strings to be readable by algorithm. Bullet points are seperate ideas that might be used individually or in conjunction with some/all of the others\n",
    "\n",
    "\n",
    "\n",
    "Capital letters not at the start of sentence:\n",
    "* flag as involving a noun\n",
    "* flag as requiring a noun\n",
    "* convert into ____\n",
    "* use in generating a topic\n",
    "\n",
    "Numbers:\n",
    "* remove\n",
    "* flag as involving number\n",
    "\n",
    "Single characters:\n",
    "* remove\n",
    "\n",
    "Containing \"-Across\" or \"-Down\"\n",
    "* remove from dataset (only of use in a later iteration of model that solve entire puzzle rather than single questions)\n",
    "\n",
    "!\n",
    "* Remove\n",
    "* If at end of sentance, seperate with space and use it as a word otherwise delete\n",
    "\n",
    "\"\n",
    "* Remove \" from string\n",
    "* Remove text outside of \" \" \n",
    "* Remove text inside of \" \" but use it for generating a topic as a new value\n",
    "\n",
    "\\#\n",
    "* Remove\n",
    "\n",
    "$\n",
    "* Replace with \" money \" or something similar\n",
    "* Remove\n",
    "\n",
    "%\n",
    "* Remove\n",
    "\n",
    "&\n",
    "* Remove\n",
    "\n",
    "'\n",
    "* Remove\n",
    "* If followed by an 's' remove that too\n",
    "\n",
    "( )\n",
    "* Remove\n",
    "\n",
    "\\*\n",
    "\n",
    "* Remove\n",
    "* an asterisk at the start of clue might be useful for a later itertion of model that solves entire puzzle rather than a single question\n",
    "\n",
    "\\+\n",
    "\n",
    "* Remove\n",
    "* Seperate into multiple questions using + as seperator and create a new clue composed of the solutions of each segment\n",
    "\n",
    ",\n",
    "\n",
    "* Remove\n",
    "\n",
    "\\-\n",
    "* Remove\n",
    "\n",
    ".\t\n",
    "* Remove\n",
    "\n",
    "/\n",
    "* Remove\n",
    "\n",
    ":\n",
    "* Remove\n",
    "* Use text before to generate topic and text after as clue\n",
    "\n",
    ";\n",
    "* Remove\n",
    "\n",
    "<>\n",
    "* Remove\n",
    "\n",
    "=\n",
    "* Remove\n",
    "* Use text after to generate topic and text before as clue\n",
    "\n",
    "?\n",
    "* Remove\n",
    "\n",
    "@\n",
    "* Remove\n",
    "\n",
    "[]\n",
    "* Remove\n",
    "\n",
    "\\\n",
    "* Remove\n",
    "\n",
    "^\n",
    "* Remove\n",
    "* Replace with \"squared\" or something similar\n",
    "\n",
    "_\n",
    "* Flag for requiring a blank within sentence\n",
    "* Remove\n",
    "\n",
    "`\n",
    "* Remove\n",
    "* If double, treat as \"\n",
    "\n",
    "{}\n",
    "* Remove\n",
    "\n",
    "|\n",
    "* Remove\n",
    "\n",
    "~\n",
    "* Remove\n"
   ]
  },
  {
   "cell_type": "code",
   "execution_count": null,
   "metadata": {},
   "outputs": [],
   "source": []
  }
 ],
 "metadata": {
  "interpreter": {
   "hash": "4fe28adbe6d40c82bdde6a2233f025e3b944121e67b5abb397657075ce1366ca"
  },
  "kernelspec": {
   "display_name": "Python 3.8.12 ('lighthouse')",
   "language": "python",
   "name": "python3"
  },
  "language_info": {
   "codemirror_mode": {
    "name": "ipython",
    "version": 3
   },
   "file_extension": ".py",
   "mimetype": "text/x-python",
   "name": "python",
   "nbconvert_exporter": "python",
   "pygments_lexer": "ipython3",
   "version": "3.8.12"
  },
  "orig_nbformat": 4
 },
 "nbformat": 4,
 "nbformat_minor": 2
}

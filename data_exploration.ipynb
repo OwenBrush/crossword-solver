{
 "cells": [
  {
   "cell_type": "code",
   "execution_count": 2,
   "metadata": {},
   "outputs": [],
   "source": [
    "import pandas as pd\n",
    "import numpy as np\n"
   ]
  },
  {
   "cell_type": "code",
   "execution_count": 3,
   "metadata": {},
   "outputs": [],
   "source": [
    "df = pd.read_table('data/clues.tsv')"
   ]
  },
  {
   "cell_type": "code",
   "execution_count": 4,
   "metadata": {},
   "outputs": [
    {
     "data": {
      "text/html": [
       "<div>\n",
       "<style scoped>\n",
       "    .dataframe tbody tr th:only-of-type {\n",
       "        vertical-align: middle;\n",
       "    }\n",
       "\n",
       "    .dataframe tbody tr th {\n",
       "        vertical-align: top;\n",
       "    }\n",
       "\n",
       "    .dataframe thead th {\n",
       "        text-align: right;\n",
       "    }\n",
       "</style>\n",
       "<table border=\"1\" class=\"dataframe\">\n",
       "  <thead>\n",
       "    <tr style=\"text-align: right;\">\n",
       "      <th></th>\n",
       "      <th>pubid</th>\n",
       "      <th>year</th>\n",
       "      <th>answer</th>\n",
       "      <th>clue</th>\n",
       "    </tr>\n",
       "  </thead>\n",
       "  <tbody>\n",
       "    <tr>\n",
       "      <th>0</th>\n",
       "      <td>atc</td>\n",
       "      <td>1997</td>\n",
       "      <td>NaN</td>\n",
       "      <td>NaN</td>\n",
       "    </tr>\n",
       "    <tr>\n",
       "      <th>1</th>\n",
       "      <td>atc</td>\n",
       "      <td>1997</td>\n",
       "      <td>ABA</td>\n",
       "      <td>Litigator's group</td>\n",
       "    </tr>\n",
       "    <tr>\n",
       "      <th>2</th>\n",
       "      <td>atc</td>\n",
       "      <td>1997</td>\n",
       "      <td>ACTOR</td>\n",
       "      <td>Thespian</td>\n",
       "    </tr>\n",
       "    <tr>\n",
       "      <th>3</th>\n",
       "      <td>atc</td>\n",
       "      <td>1997</td>\n",
       "      <td>ADES</td>\n",
       "      <td>Summer coolers</td>\n",
       "    </tr>\n",
       "    <tr>\n",
       "      <th>4</th>\n",
       "      <td>atc</td>\n",
       "      <td>1997</td>\n",
       "      <td>ADS</td>\n",
       "      <td>Newspaper revenue</td>\n",
       "    </tr>\n",
       "  </tbody>\n",
       "</table>\n",
       "</div>"
      ],
      "text/plain": [
       "  pubid  year answer               clue\n",
       "0   atc  1997    NaN                NaN\n",
       "1   atc  1997    ABA  Litigator's group\n",
       "2   atc  1997  ACTOR           Thespian\n",
       "3   atc  1997   ADES     Summer coolers\n",
       "4   atc  1997    ADS  Newspaper revenue"
      ]
     },
     "execution_count": 4,
     "metadata": {},
     "output_type": "execute_result"
    }
   ],
   "source": [
    "df.head(5)"
   ]
  },
  {
   "cell_type": "code",
   "execution_count": 5,
   "metadata": {},
   "outputs": [
    {
     "data": {
      "text/plain": [
       "(6459190, 2)"
      ]
     },
     "execution_count": 5,
     "metadata": {},
     "output_type": "execute_result"
    }
   ],
   "source": [
    "df.drop(['pubid','year'], axis=1,inplace=True)\n",
    "df.dropna(inplace=True)\n",
    "df.shape"
   ]
  },
  {
   "cell_type": "code",
   "execution_count": 6,
   "metadata": {},
   "outputs": [
    {
     "data": {
      "text/plain": [
       "315686"
      ]
     },
     "execution_count": 6,
     "metadata": {},
     "output_type": "execute_result"
    }
   ],
   "source": [
    "df['answer'].nunique()"
   ]
  },
  {
   "cell_type": "code",
   "execution_count": 7,
   "metadata": {},
   "outputs": [
    {
     "data": {
      "text/plain": [
       "2650153"
      ]
     },
     "execution_count": 7,
     "metadata": {},
     "output_type": "execute_result"
    }
   ],
   "source": [
    "df['clue'].nunique()"
   ]
  },
  {
   "cell_type": "code",
   "execution_count": 8,
   "metadata": {},
   "outputs": [
    {
     "data": {
      "text/plain": [
       "8.394901896187985"
      ]
     },
     "execution_count": 8,
     "metadata": {},
     "output_type": "execute_result"
    }
   ],
   "source": [
    "df['clue'].nunique() / df['answer'].nunique()"
   ]
  },
  {
   "cell_type": "code",
   "execution_count": 9,
   "metadata": {},
   "outputs": [
    {
     "data": {
      "text/plain": [
       "3141343"
      ]
     },
     "execution_count": 9,
     "metadata": {},
     "output_type": "execute_result"
    }
   ],
   "source": [
    "(df['answer'] + df['clue']).nunique()"
   ]
  },
  {
   "cell_type": "code",
   "execution_count": 10,
   "metadata": {},
   "outputs": [],
   "source": [
    "\n",
    "def sample_strings_containing(containing:list,  data:pd.DataFrame, column:str, n_samples:int=1) -> dict:\n",
    "    \"\"\"Searches a column within a dataframe and returns random smaples of entries containing the key words\n",
    "    in the given list.\n",
    "\n",
    "    Args:\n",
    "        containing (list): List of key words to look for\n",
    "        data (pd.DataFrame): Dataframe to search\n",
    "        column (str): column to serch within datdrame\n",
    "        n_samples (int, optional): number of samples to return for each key. Defaults to 1.\n",
    "\n",
    "    \"\"\"\n",
    "    samples = {}\n",
    "    for x in containing:\n",
    "        matches = data[df[column].str.contains(x, regex=False)]\n",
    "        if matches.shape[0] > 0:  \n",
    "            samples[x] = []\n",
    "            for r in np.random.choice(range(matches.shape[0]),n_samples, replace=False):         \n",
    "                r = np.random.randint(0, matches.shape[0])\n",
    "                samples[x].append(matches.iloc[r][column])\n",
    "    return samples"
   ]
  },
  {
   "cell_type": "code",
   "execution_count": 11,
   "metadata": {},
   "outputs": [],
   "source": [
    "from string import punctuation\n",
    "punctuation_samples = sample_strings_containing(punctuation,df,'clue',n_samples=5)"
   ]
  },
  {
   "cell_type": "code",
   "execution_count": 12,
   "metadata": {},
   "outputs": [
    {
     "data": {
      "text/html": [
       "<div>\n",
       "<style scoped>\n",
       "    .dataframe tbody tr th:only-of-type {\n",
       "        vertical-align: middle;\n",
       "    }\n",
       "\n",
       "    .dataframe tbody tr th {\n",
       "        vertical-align: top;\n",
       "    }\n",
       "\n",
       "    .dataframe thead th {\n",
       "        text-align: right;\n",
       "    }\n",
       "</style>\n",
       "<table border=\"1\" class=\"dataframe\">\n",
       "  <thead>\n",
       "    <tr style=\"text-align: right;\">\n",
       "      <th></th>\n",
       "      <th>0</th>\n",
       "      <th>1</th>\n",
       "      <th>2</th>\n",
       "      <th>3</th>\n",
       "      <th>4</th>\n",
       "    </tr>\n",
       "  </thead>\n",
       "  <tbody>\n",
       "    <tr>\n",
       "      <th>!</th>\n",
       "      <td>It'll never happen!</td>\n",
       "      <td>Slangy \"certainly!\"</td>\n",
       "      <td>Party!</td>\n",
       "      <td>Pronto!</td>\n",
       "      <td>[Brrrr!]</td>\n",
       "    </tr>\n",
       "    <tr>\n",
       "      <th>\"</th>\n",
       "      <td>Prince \"Get ___\"</td>\n",
       "      <td>Cereal \"for kids\"</td>\n",
       "      <td>He \"was here\"</td>\n",
       "      <td>The \"Say Hey Kid\"</td>\n",
       "      <td>Kay Kyser's \"_____ Reveille\"</td>\n",
       "    </tr>\n",
       "    <tr>\n",
       "      <th>#</th>\n",
       "      <td>1986 #1 hit for Whitney Houston</td>\n",
       "      <td>Word accompanying \"Much,\" \"Little\" and \"Late\" ...</td>\n",
       "      <td>Singer with the 2009 #1 hit 'Tik Tok'</td>\n",
       "      <td>2019 #1 album by Tyler, the Creator</td>\n",
       "      <td>Rose ___, group with the 1977 #1 hit \"Car Wash\"</td>\n",
       "    </tr>\n",
       "    <tr>\n",
       "      <th>$</th>\n",
       "      <td>$2.50 per 1/5 mile, e.g.</td>\n",
       "      <td>$200 Monopoly props.</td>\n",
       "      <td>Baseball's $252 million man, for short</td>\n",
       "      <td>Word for the symbols \"@#$%&amp;!\" used in comic st...</td>\n",
       "      <td>$5 bill, informally</td>\n",
       "    </tr>\n",
       "    <tr>\n",
       "      <th>%</th>\n",
       "      <td>50% to start?</td>\n",
       "      <td>Super Bowl winner more than 50% of the time: A...</td>\n",
       "      <td>They represent over 40% of Scrabble tiles</td>\n",
       "      <td>Give the server 30%</td>\n",
       "      <td>Say \"@#$%\" to</td>\n",
       "    </tr>\n",
       "    <tr>\n",
       "      <th>&amp;</th>\n",
       "      <td>AT&amp;T Worldnet, for one</td>\n",
       "      <td>+ &amp; #</td>\n",
       "      <td>Old AT&amp;T rival</td>\n",
       "      <td>Geena's \"Thelma &amp; Louise\" co-star</td>\n",
       "      <td>Field &amp; __ Magazine</td>\n",
       "    </tr>\n",
       "    <tr>\n",
       "      <th>'</th>\n",
       "      <td>'60s-'80s Brit. sports car</td>\n",
       "      <td>Pothead's purchase</td>\n",
       "      <td>Stern's opposite</td>\n",
       "      <td>Cabooses' spot</td>\n",
       "      <td>Gin's companion.</td>\n",
       "    </tr>\n",
       "    <tr>\n",
       "      <th>(</th>\n",
       "      <td>Mai ___ (rum-based beverage)</td>\n",
       "      <td>Run ___ (accumulate debt at the bar)</td>\n",
       "      <td>___ khan (tiger)</td>\n",
       "      <td>Covert ___ (military assignment)</td>\n",
       "      <td>___ precedent (establishes usage, perhaps)</td>\n",
       "    </tr>\n",
       "    <tr>\n",
       "      <th>)</th>\n",
       "      <td>Deprive (of)</td>\n",
       "      <td>Hinge (on)</td>\n",
       "      <td>Id ___ (that is)</td>\n",
       "      <td>___ Spring (revolutionary movement of the 2010s)</td>\n",
       "      <td>Mai ___ (cocktail)</td>\n",
       "    </tr>\n",
       "    <tr>\n",
       "      <th>*</th>\n",
       "      <td>*Rocking good time</td>\n",
       "      <td>*Common military uniform color (3 to 7)</td>\n",
       "      <td>*Singer often called \"The Queen of Country\"</td>\n",
       "      <td>*\"Have a nice day\" graphic</td>\n",
       "      <td>*Mountain, for Boulder (see letters 3 to 9)</td>\n",
       "    </tr>\n",
       "    <tr>\n",
       "      <th>+</th>\n",
       "      <td>Trio + four</td>\n",
       "      <td>1 + 2, in Germany</td>\n",
       "      <td>Broadway hit with 7,000+ performances</td>\n",
       "      <td>Indian city of 28+ million</td>\n",
       "      <td>Uno + dos</td>\n",
       "    </tr>\n",
       "    <tr>\n",
       "      <th>,</th>\n",
       "      <td>Hacienda hand, perhaps</td>\n",
       "      <td>Saying \"no-hitter\" during one, supposedly</td>\n",
       "      <td>God, in Grenoble</td>\n",
       "      <td>RIDDLE, PART 5</td>\n",
       "      <td>___ Beach, Calif.</td>\n",
       "    </tr>\n",
       "    <tr>\n",
       "      <th>-</th>\n",
       "      <td>Stone-filled gardens</td>\n",
       "      <td>Boot-camp command</td>\n",
       "      <td>Dead-end routines</td>\n",
       "      <td>Weed-removing tool</td>\n",
       "      <td>Grown-up</td>\n",
       "    </tr>\n",
       "    <tr>\n",
       "      <th>.</th>\n",
       "      <td>What canastas are.</td>\n",
       "      <td>It modifies an adj.</td>\n",
       "      <td>Outcome.</td>\n",
       "      <td>Draft status.</td>\n",
       "      <td>Contending against evil.</td>\n",
       "    </tr>\n",
       "    <tr>\n",
       "      <th>/</th>\n",
       "      <td>Box camera patentee of 5/7/1888</td>\n",
       "      <td>1/10 of an ephah.</td>\n",
       "      <td>Success/failure phrase</td>\n",
       "      <td>1/60 fluid dram</td>\n",
       "      <td>Singer/actress Janelle</td>\n",
       "    </tr>\n",
       "    <tr>\n",
       "      <th>:</th>\n",
       "      <td>Noted frontiersman: 1848-1929</td>\n",
       "      <td>Good-for-nothing: Scot.</td>\n",
       "      <td>In __: as originally placed</td>\n",
       "      <td>Mine: Fr.</td>\n",
       "      <td>Shelter: Fr.</td>\n",
       "    </tr>\n",
       "    <tr>\n",
       "      <th>;</th>\n",
       "      <td>Horrify; dismay</td>\n",
       "      <td>Slangily, overimbibe; literally, what the star...</td>\n",
       "      <td>Cut; trim</td>\n",
       "      <td>Nada; zip</td>\n",
       "      <td>Zilch; zip</td>\n",
       "    </tr>\n",
       "    <tr>\n",
       "      <th>&lt;</th>\n",
       "      <td>&lt;I&gt;Cats&lt;I&gt;, e.g.</td>\n",
       "      <td>Ted, of &lt;I&gt;Cheers&lt;I&gt;</td>\n",
       "      <td>&lt;I&gt;Home ___&lt;I&gt;</td>\n",
       "      <td>&lt;I&gt;Where the Wild Things ___&lt;I&gt;</td>\n",
       "      <td>Yogi  &lt;P&gt;e.g.</td>\n",
       "    </tr>\n",
       "    <tr>\n",
       "      <th>=</th>\n",
       "      <td>4, in 2 + 2 = 4</td>\n",
       "      <td>The \"L\" of \"A = L x W\"</td>\n",
       "      <td>Rear + floral rings = colorful birds</td>\n",
       "      <td>Part of \"E = mc2\"</td>\n",
       "      <td>Pasty + vacation expense, maybe = hospital spe...</td>\n",
       "    </tr>\n",
       "    <tr>\n",
       "      <th>&gt;</th>\n",
       "      <td>&lt;&lt;NO CLUE&gt;&gt;</td>\n",
       "      <td>Tell  &lt;P&gt;e.g.</td>\n",
       "      <td>&lt;Gasp&gt;</td>\n",
       "      <td>Platform in which you might see the prompt C:\\&gt;</td>\n",
       "      <td>&lt;I&gt;Dies ___&lt;I&gt;</td>\n",
       "    </tr>\n",
       "    <tr>\n",
       "      <th>?</th>\n",
       "      <td>Introduction to physics?</td>\n",
       "      <td>Holds up in court?</td>\n",
       "      <td>Org. focused on creature comforts?</td>\n",
       "      <td>Post office setting?</td>\n",
       "      <td>Sheepish comment?</td>\n",
       "    </tr>\n",
       "    <tr>\n",
       "      <th>@</th>\n",
       "      <td>&amp;, %, @, etc.</td>\n",
       "      <td>Say \"*@&amp;#!\"</td>\n",
       "      <td>Said \"@#*&amp;!!!\"</td>\n",
       "      <td>Said \"@#$%^!\"</td>\n",
       "      <td>Say \"@#$%!\"</td>\n",
       "    </tr>\n",
       "    <tr>\n",
       "      <th>[</th>\n",
       "      <td>[Hey, over here!]</td>\n",
       "      <td>Compassionate [finally become]</td>\n",
       "      <td>[*cross out* Pine, e.g.] Dinosaur that never g...</td>\n",
       "      <td>One going [hic!]</td>\n",
       "      <td>When schoolkids go to bed early [black]</td>\n",
       "    </tr>\n",
       "    <tr>\n",
       "      <th>\\</th>\n",
       "      <td>\\North or South state</td>\n",
       "      <td>\\</td>\n",
       "      <td>Damn Yankees&lt;\\I&gt; vamp\\nnw\\t2000\\tLOLA\\tFalana ...</td>\n",
       "      <td>C:\\&gt; displayer</td>\n",
       "      <td>/'s and \\'s</td>\n",
       "    </tr>\n",
       "    <tr>\n",
       "      <th>]</th>\n",
       "      <td>Dark movie genre [12,13,14,15]</td>\n",
       "      <td>[blech!]</td>\n",
       "      <td>[not my error]</td>\n",
       "      <td>[It's c-c-old!]</td>\n",
       "      <td>[Titter]</td>\n",
       "    </tr>\n",
       "    <tr>\n",
       "      <th>^</th>\n",
       "      <td>Rug surface^PIL</td>\n",
       "      <td>Contradict^REBU</td>\n",
       "      <td>Center^HU</td>\n",
       "      <td>Evil Woman gp.^EL</td>\n",
       "      <td>Cordelia's father^LEA</td>\n",
       "    </tr>\n",
       "    <tr>\n",
       "      <th>_</th>\n",
       "      <td>Investment firm T. ___ Price</td>\n",
       "      <td>___ Game (1986 Hugo Award winner)</td>\n",
       "      <td>___ aboard!</td>\n",
       "      <td>___ out an existence</td>\n",
       "      <td>___ culpa</td>\n",
       "    </tr>\n",
       "    <tr>\n",
       "      <th>`</th>\n",
       "      <td>``. . . ___ lands forlorn\": Keats</td>\n",
       "      <td>Baseball's ``Schoolboy\"</td>\n",
       "      <td>``To ___ own self be true\"</td>\n",
       "      <td>``The ___ Report\"</td>\n",
       "      <td>``One with Nineveh and ___\"</td>\n",
       "    </tr>\n",
       "    <tr>\n",
       "      <th>{</th>\n",
       "      <td>{/Ban/}</td>\n",
       "      <td>{/Soup spoon designed for shellfish/}</td>\n",
       "      <td>{See Notepad}</td>\n",
       "      <td>{/End of verse/}</td>\n",
       "      <td>{/When the dessert was brought out, [ZAP!] the...</td>\n",
       "    </tr>\n",
       "    <tr>\n",
       "      <th>|</th>\n",
       "      <td>Either H in H|2|O</td>\n",
       "      <td>It's a Wonderful |Life director Frank</td>\n",
       "      <td>Either H in H|2|O</td>\n",
       "      <td>||, on a remote</td>\n",
       "      <td>Magazine with an annual \"500|5000\" conference</td>\n",
       "    </tr>\n",
       "    <tr>\n",
       "      <th>}</th>\n",
       "      <td>{/Ash/}</td>\n",
       "      <td>{/... a king's brilliance?/}</td>\n",
       "      <td>{/It's pitched for a large audience/}</td>\n",
       "      <td>The 1 in {1,2,3}: Abbr.</td>\n",
       "      <td>{/Rods on a cowboy's truck/}</td>\n",
       "    </tr>\n",
       "    <tr>\n",
       "      <th>~</th>\n",
       "      <td>State ~20 miles from Spokane, Wash.</td>\n",
       "      <td>~</td>\n",
       "      <td>~</td>\n",
       "      <td>Key above a ~</td>\n",
       "      <td>~40-decibel unit</td>\n",
       "    </tr>\n",
       "  </tbody>\n",
       "</table>\n",
       "</div>"
      ],
      "text/plain": [
       "                                     0  \\\n",
       "!                  It'll never happen!   \n",
       "\"                     Prince \"Get ___\"   \n",
       "#      1986 #1 hit for Whitney Houston   \n",
       "$             $2.50 per 1/5 mile, e.g.   \n",
       "%                        50% to start?   \n",
       "&               AT&T Worldnet, for one   \n",
       "'           '60s-'80s Brit. sports car   \n",
       "(         Mai ___ (rum-based beverage)   \n",
       ")                         Deprive (of)   \n",
       "*                   *Rocking good time   \n",
       "+                          Trio + four   \n",
       ",               Hacienda hand, perhaps   \n",
       "-                 Stone-filled gardens   \n",
       ".                   What canastas are.   \n",
       "/      Box camera patentee of 5/7/1888   \n",
       ":        Noted frontiersman: 1848-1929   \n",
       ";                      Horrify; dismay   \n",
       "<                     <I>Cats<I>, e.g.   \n",
       "=                      4, in 2 + 2 = 4   \n",
       ">                          <<NO CLUE>>   \n",
       "?             Introduction to physics?   \n",
       "@                        &, %, @, etc.   \n",
       "[                    [Hey, over here!]   \n",
       "\\                \\North or South state   \n",
       "]       Dark movie genre [12,13,14,15]   \n",
       "^                      Rug surface^PIL   \n",
       "_         Investment firm T. ___ Price   \n",
       "`    ``. . . ___ lands forlorn\": Keats   \n",
       "{                              {/Ban/}   \n",
       "|                    Either H in H|2|O   \n",
       "}                              {/Ash/}   \n",
       "~  State ~20 miles from Spokane, Wash.   \n",
       "\n",
       "                                                   1  \\\n",
       "!                                Slangy \"certainly!\"   \n",
       "\"                                  Cereal \"for kids\"   \n",
       "#  Word accompanying \"Much,\" \"Little\" and \"Late\" ...   \n",
       "$                               $200 Monopoly props.   \n",
       "%  Super Bowl winner more than 50% of the time: A...   \n",
       "&                                              + & #   \n",
       "'                                 Pothead's purchase   \n",
       "(               Run ___ (accumulate debt at the bar)   \n",
       ")                                         Hinge (on)   \n",
       "*            *Common military uniform color (3 to 7)   \n",
       "+                                  1 + 2, in Germany   \n",
       ",          Saying \"no-hitter\" during one, supposedly   \n",
       "-                                  Boot-camp command   \n",
       ".                                It modifies an adj.   \n",
       "/                                  1/10 of an ephah.   \n",
       ":                            Good-for-nothing: Scot.   \n",
       ";  Slangily, overimbibe; literally, what the star...   \n",
       "<                               Ted, of <I>Cheers<I>   \n",
       "=                             The \"L\" of \"A = L x W\"   \n",
       ">                                      Tell  <P>e.g.   \n",
       "?                                 Holds up in court?   \n",
       "@                                        Say \"*@&#!\"   \n",
       "[                     Compassionate [finally become]   \n",
       "\\                                                  \\   \n",
       "]                                           [blech!]   \n",
       "^                                    Contradict^REBU   \n",
       "_                  ___ Game (1986 Hugo Award winner)   \n",
       "`                            Baseball's ``Schoolboy\"   \n",
       "{              {/Soup spoon designed for shellfish/}   \n",
       "|              It's a Wonderful |Life director Frank   \n",
       "}                       {/... a king's brilliance?/}   \n",
       "~                                                  ~   \n",
       "\n",
       "                                                   2  \\\n",
       "!                                             Party!   \n",
       "\"                                      He \"was here\"   \n",
       "#              Singer with the 2009 #1 hit 'Tik Tok'   \n",
       "$             Baseball's $252 million man, for short   \n",
       "%          They represent over 40% of Scrabble tiles   \n",
       "&                                     Old AT&T rival   \n",
       "'                                   Stern's opposite   \n",
       "(                                   ___ khan (tiger)   \n",
       ")                                   Id ___ (that is)   \n",
       "*        *Singer often called \"The Queen of Country\"   \n",
       "+              Broadway hit with 7,000+ performances   \n",
       ",                                   God, in Grenoble   \n",
       "-                                  Dead-end routines   \n",
       ".                                           Outcome.   \n",
       "/                             Success/failure phrase   \n",
       ":                        In __: as originally placed   \n",
       ";                                          Cut; trim   \n",
       "<                                     <I>Home ___<I>   \n",
       "=               Rear + floral rings = colorful birds   \n",
       ">                                             <Gasp>   \n",
       "?                 Org. focused on creature comforts?   \n",
       "@                                     Said \"@#*&!!!\"   \n",
       "[  [*cross out* Pine, e.g.] Dinosaur that never g...   \n",
       "\\  Damn Yankees<\\I> vamp\\nnw\\t2000\\tLOLA\\tFalana ...   \n",
       "]                                     [not my error]   \n",
       "^                                          Center^HU   \n",
       "_                                        ___ aboard!   \n",
       "`                         ``To ___ own self be true\"   \n",
       "{                                      {See Notepad}   \n",
       "|                                  Either H in H|2|O   \n",
       "}              {/It's pitched for a large audience/}   \n",
       "~                                                  ~   \n",
       "\n",
       "                                                   3  \\\n",
       "!                                            Pronto!   \n",
       "\"                                  The \"Say Hey Kid\"   \n",
       "#                2019 #1 album by Tyler, the Creator   \n",
       "$  Word for the symbols \"@#$%&!\" used in comic st...   \n",
       "%                                Give the server 30%   \n",
       "&                  Geena's \"Thelma & Louise\" co-star   \n",
       "'                                     Cabooses' spot   \n",
       "(                   Covert ___ (military assignment)   \n",
       ")   ___ Spring (revolutionary movement of the 2010s)   \n",
       "*                         *\"Have a nice day\" graphic   \n",
       "+                         Indian city of 28+ million   \n",
       ",                                     RIDDLE, PART 5   \n",
       "-                                 Weed-removing tool   \n",
       ".                                      Draft status.   \n",
       "/                                    1/60 fluid dram   \n",
       ":                                          Mine: Fr.   \n",
       ";                                          Nada; zip   \n",
       "<                    <I>Where the Wild Things ___<I>   \n",
       "=                                  Part of \"E = mc2\"   \n",
       ">    Platform in which you might see the prompt C:\\>   \n",
       "?                               Post office setting?   \n",
       "@                                      Said \"@#$%^!\"   \n",
       "[                                   One going [hic!]   \n",
       "\\                                     C:\\> displayer   \n",
       "]                                    [It's c-c-old!]   \n",
       "^                                  Evil Woman gp.^EL   \n",
       "_                               ___ out an existence   \n",
       "`                                  ``The ___ Report\"   \n",
       "{                                   {/End of verse/}   \n",
       "|                                    ||, on a remote   \n",
       "}                            The 1 in {1,2,3}: Abbr.   \n",
       "~                                      Key above a ~   \n",
       "\n",
       "                                                   4  \n",
       "!                                           [Brrrr!]  \n",
       "\"                       Kay Kyser's \"_____ Reveille\"  \n",
       "#    Rose ___, group with the 1977 #1 hit \"Car Wash\"  \n",
       "$                                $5 bill, informally  \n",
       "%                                      Say \"@#$%\" to  \n",
       "&                                Field & __ Magazine  \n",
       "'                                   Gin's companion.  \n",
       "(         ___ precedent (establishes usage, perhaps)  \n",
       ")                                 Mai ___ (cocktail)  \n",
       "*        *Mountain, for Boulder (see letters 3 to 9)  \n",
       "+                                          Uno + dos  \n",
       ",                                  ___ Beach, Calif.  \n",
       "-                                           Grown-up  \n",
       ".                           Contending against evil.  \n",
       "/                             Singer/actress Janelle  \n",
       ":                                       Shelter: Fr.  \n",
       ";                                         Zilch; zip  \n",
       "<                                      Yogi  <P>e.g.  \n",
       "=  Pasty + vacation expense, maybe = hospital spe...  \n",
       ">                                     <I>Dies ___<I>  \n",
       "?                                  Sheepish comment?  \n",
       "@                                        Say \"@#$%!\"  \n",
       "[            When schoolkids go to bed early [black]  \n",
       "\\                                        /'s and \\'s  \n",
       "]                                           [Titter]  \n",
       "^                              Cordelia's father^LEA  \n",
       "_                                          ___ culpa  \n",
       "`                        ``One with Nineveh and ___\"  \n",
       "{  {/When the dessert was brought out, [ZAP!] the...  \n",
       "|      Magazine with an annual \"500|5000\" conference  \n",
       "}                       {/Rods on a cowboy's truck/}  \n",
       "~                                   ~40-decibel unit  "
      ]
     },
     "execution_count": 12,
     "metadata": {},
     "output_type": "execute_result"
    }
   ],
   "source": [
    "pd.DataFrame(punctuation_samples).T"
   ]
  },
  {
   "cell_type": "code",
   "execution_count": 13,
   "metadata": {},
   "outputs": [
    {
     "data": {
      "text/plain": [
       "(3823, 2)"
      ]
     },
     "execution_count": 13,
     "metadata": {},
     "output_type": "execute_result"
    }
   ],
   "source": [
    "df[df['clue'].str.contains('Nobel')].shape"
   ]
  },
  {
   "cell_type": "code",
   "execution_count": 14,
   "metadata": {},
   "outputs": [
    {
     "data": {
      "text/plain": [
       "(9693, 2)"
      ]
     },
     "execution_count": 14,
     "metadata": {},
     "output_type": "execute_result"
    }
   ],
   "source": [
    "df[df['clue'].str.contains('actor')].shape"
   ]
  },
  {
   "cell_type": "code",
   "execution_count": 15,
   "metadata": {},
   "outputs": [
    {
     "data": {
      "text/plain": [
       "(7147, 2)"
      ]
     },
     "execution_count": 15,
     "metadata": {},
     "output_type": "execute_result"
    }
   ],
   "source": [
    "df[df['clue'].str.contains('slang')].shape"
   ]
  },
  {
   "cell_type": "code",
   "execution_count": 16,
   "metadata": {},
   "outputs": [
    {
     "data": {
      "text/plain": [
       "(1242, 2)"
      ]
     },
     "execution_count": 16,
     "metadata": {},
     "output_type": "execute_result"
    }
   ],
   "source": [
    "df[df['clue'].str.contains('%')].shape"
   ]
  },
  {
   "cell_type": "code",
   "execution_count": 17,
   "metadata": {},
   "outputs": [
    {
     "data": {
      "text/plain": [
       "(27728, 2)"
      ]
     },
     "execution_count": 17,
     "metadata": {},
     "output_type": "execute_result"
    }
   ],
   "source": [
    "df[df['clue'].str.contains('Across')].shape"
   ]
  },
  {
   "cell_type": "code",
   "execution_count": 18,
   "metadata": {},
   "outputs": [
    {
     "data": {
      "text/plain": [
       "(11317, 2)"
      ]
     },
     "execution_count": 18,
     "metadata": {},
     "output_type": "execute_result"
    }
   ],
   "source": [
    "df[df['clue'].str.contains('-Down')].shape"
   ]
  },
  {
   "cell_type": "code",
   "execution_count": 19,
   "metadata": {},
   "outputs": [
    {
     "data": {
      "text/plain": [
       "(19302, 2)"
      ]
     },
     "execution_count": 19,
     "metadata": {},
     "output_type": "execute_result"
    }
   ],
   "source": [
    "df[df['clue'].str.contains('-Across')].shape"
   ]
  },
  {
   "cell_type": "code",
   "execution_count": 20,
   "metadata": {},
   "outputs": [
    {
     "data": {
      "text/plain": [
       "(111995, 2)"
      ]
     },
     "execution_count": 20,
     "metadata": {},
     "output_type": "execute_result"
    }
   ],
   "source": [
    "df[df['clue'].str.contains('(',regex=False)].shape"
   ]
  },
  {
   "cell_type": "code",
   "execution_count": 21,
   "metadata": {},
   "outputs": [
    {
     "data": {
      "text/plain": [
       "(49424, 2)"
      ]
     },
     "execution_count": 21,
     "metadata": {},
     "output_type": "execute_result"
    }
   ],
   "source": [
    "df[df['clue'].str.contains('Abbr.',regex=False)].shape"
   ]
  },
  {
   "cell_type": "code",
   "execution_count": 22,
   "metadata": {},
   "outputs": [
    {
     "data": {
      "text/plain": [
       "(1940, 2)"
      ]
     },
     "execution_count": 22,
     "metadata": {},
     "output_type": "execute_result"
    }
   ],
   "source": [
    "df[df['clue'].str.contains(';',regex=False)].shape"
   ]
  },
  {
   "cell_type": "code",
   "execution_count": 23,
   "metadata": {},
   "outputs": [
    {
     "data": {
      "text/plain": [
       "(174, 2)"
      ]
     },
     "execution_count": 23,
     "metadata": {},
     "output_type": "execute_result"
    }
   ],
   "source": [
    "df[df['clue'].str.contains('@',regex=False)].shape"
   ]
  },
  {
   "cell_type": "code",
   "execution_count": 24,
   "metadata": {},
   "outputs": [
    {
     "data": {
      "text/plain": [
       "(2063, 2)"
      ]
     },
     "execution_count": 24,
     "metadata": {},
     "output_type": "execute_result"
    }
   ],
   "source": [
    "df[df['clue'].str.contains('[',regex=False)].shape"
   ]
  },
  {
   "cell_type": "code",
   "execution_count": 25,
   "metadata": {},
   "outputs": [
    {
     "data": {
      "text/plain": [
       "(285, 2)"
      ]
     },
     "execution_count": 25,
     "metadata": {},
     "output_type": "execute_result"
    }
   ],
   "source": [
    "df[df['clue'].str.contains('^',regex=False)].shape"
   ]
  },
  {
   "cell_type": "code",
   "execution_count": 26,
   "metadata": {},
   "outputs": [
    {
     "data": {
      "text/plain": [
       "(382745, 2)"
      ]
     },
     "execution_count": 26,
     "metadata": {},
     "output_type": "execute_result"
    }
   ],
   "source": [
    "df[df['clue'].str.contains('_',regex=False)].shape"
   ]
  },
  {
   "cell_type": "markdown",
   "metadata": {},
   "source": [
    "# Cleaning / Handling Strategies\n",
    "#### Brainstorming ideas for how to handle the variety of different questions and also clean strings to be readable by algorithm. Bullet points are seperate ideas that might be used individually or in conjunction with some/all of the others\n",
    "\n",
    "\n",
    "\n",
    "Capital letters not at the start of sentence:\n",
    "* flag as involving a noun\n",
    "* flag as requiring a noun\n",
    "* convert into ____\n",
    "* use in generating a topic\n",
    "\n",
    "Numbers:\n",
    "* remove\n",
    "* flag as involving number\n",
    "\n",
    "Single characters:\n",
    "* remove\n",
    "\n",
    "Containing \"-Across\" or \"-Down\"\n",
    "* remove from dataset (only of use in a later iteration of model that solve entire puzzle rather than single questions)\n",
    "\n",
    "!\n",
    "* If at end of sentance, seperate with space and use it as a word otherwise delete\n",
    "\n",
    "\"\n",
    "* Remove \" from string\n",
    "* Remove text outside of \" \" \n",
    "* Remove text inside of \" \" but use it for generating a topic as a new value\n",
    "\n",
    "\\#\n",
    "* Remove\n",
    "\n",
    "$\n",
    "* Replace with \" money \" or something similar\n",
    "* Remove\n",
    "\n",
    "%\n",
    "* Remove\n",
    "\n",
    "&\n",
    "* Remove\n",
    "\n",
    "'\n",
    "* Remove\n",
    "* If followed by an 's' remove that too\n",
    "\n",
    "( )\n",
    "* Remove\n",
    "\n",
    "\\*\n",
    "\n",
    "* Remove\n",
    "* an asterisk at the start of clue might be useful for a later itertion of model that solves entire puzzle rather than a single question\n",
    "\n",
    "\\+\n",
    "\n",
    "* Remove\n",
    "* Seperate into multiple questions using + as seperator and create a new clue composed of the solutions of each segment\n",
    "\n",
    ",\n",
    "\n",
    "* Remove\n",
    "\n",
    "\\-\n",
    "* Remove\n",
    "\n",
    ".\t\n",
    "* Remove\n",
    "\n",
    "/\n",
    "* Remove\n",
    "\n",
    ":\n",
    "* Remove\n",
    "* Use text before to generate topic and text after as clue\n",
    "\n",
    ";\n",
    "* Remove\n",
    "\n",
    "<>\n",
    "* Remove\n",
    "\n",
    "=\n",
    "* Remove\n",
    "* Use text after to generate topic and text before as clue\n",
    "\n",
    "?\n",
    "* Remove\n",
    "\n",
    "@\n",
    "* Remove\n",
    "\n",
    "[]\n",
    "* Remove\n",
    "\n",
    "\\\n",
    "* Remove\n",
    "\n",
    "^\n",
    "* Remove\n",
    "* Replace with \"squared\" or something similar\n",
    "\n",
    "_\n",
    "* Flag for requiring a blank within sentence\n",
    "* Remove\n",
    "\n",
    "`\n",
    "* Remove\n",
    "* If double, treat as \"\n",
    "\n",
    "{}\n",
    "* Remove\n",
    "\n",
    "|\n",
    "* Remove\n",
    "\n",
    "~\n",
    "* Remove\n"
   ]
  },
  {
   "cell_type": "markdown",
   "metadata": {},
   "source": [
    "### Features:\n",
    "* answer\n",
    "* clue_vectorized (sparse vector)\n",
    "* topic  (bool for each topic)\n",
    "* requires_noun (bool)\n",
    "* fill_blank (bool)"
   ]
  },
  {
   "cell_type": "code",
   "execution_count": 56,
   "metadata": {},
   "outputs": [],
   "source": [
    "EXPRESSIONS_TO_REMOVE = ['\\d+',]\n",
    "\n",
    "def prepare_data(data:pd.DataFrame) -> pd.DataFrame:\n",
    "    prepare_noun_required(data)\n",
    "    prepare_fill_blank(data)\n",
    "    data.drop_duplicates(['answer','clue'],keep='first', inplace=True)\n",
    "    return data\n",
    "\n",
    "def prepare_noun_required(data:pd.DataFrame) -> pd.DataFrame:\n",
    "    data['noun_required'] = data['clue'].str.contains('[A-Z].*[A-Z]',regex=True)\n",
    "    return data\n",
    "\n",
    "def prepare_fill_blank(data:pd.DataFrame) -> pd.DataFrame:\n",
    "    data['fill_blank'] = data['clue'].str.contains('_', regex=False)\n",
    "    return data\n",
    "\n",
    "def clean_strings(data:pd.DataFrame) -> pd.DataFrame:\n",
    "    data['answer'] = data['answer'].str.lower()\n",
    "    data['clue'] = data['clue'].str.lower()\n",
    "    data.replace('$', ' money ')\n",
    "    data.replace('``', '\"')\n",
    "    "
   ]
  },
  {
   "cell_type": "code",
   "execution_count": 57,
   "metadata": {},
   "outputs": [
    {
     "data": {
      "text/html": [
       "<div>\n",
       "<style scoped>\n",
       "    .dataframe tbody tr th:only-of-type {\n",
       "        vertical-align: middle;\n",
       "    }\n",
       "\n",
       "    .dataframe tbody tr th {\n",
       "        vertical-align: top;\n",
       "    }\n",
       "\n",
       "    .dataframe thead th {\n",
       "        text-align: right;\n",
       "    }\n",
       "</style>\n",
       "<table border=\"1\" class=\"dataframe\">\n",
       "  <thead>\n",
       "    <tr style=\"text-align: right;\">\n",
       "      <th></th>\n",
       "      <th>answer</th>\n",
       "      <th>clue</th>\n",
       "      <th>noun_required</th>\n",
       "      <th>fill_blank</th>\n",
       "    </tr>\n",
       "  </thead>\n",
       "  <tbody>\n",
       "    <tr>\n",
       "      <th>1</th>\n",
       "      <td>ABA</td>\n",
       "      <td>Litigator's group</td>\n",
       "      <td>False</td>\n",
       "      <td>False</td>\n",
       "    </tr>\n",
       "    <tr>\n",
       "      <th>2</th>\n",
       "      <td>ACTOR</td>\n",
       "      <td>Thespian</td>\n",
       "      <td>False</td>\n",
       "      <td>False</td>\n",
       "    </tr>\n",
       "    <tr>\n",
       "      <th>3</th>\n",
       "      <td>ADES</td>\n",
       "      <td>Summer coolers</td>\n",
       "      <td>False</td>\n",
       "      <td>False</td>\n",
       "    </tr>\n",
       "    <tr>\n",
       "      <th>4</th>\n",
       "      <td>ADS</td>\n",
       "      <td>Newspaper revenue</td>\n",
       "      <td>False</td>\n",
       "      <td>False</td>\n",
       "    </tr>\n",
       "    <tr>\n",
       "      <th>5</th>\n",
       "      <td>AFRO</td>\n",
       "      <td>Head of hair</td>\n",
       "      <td>False</td>\n",
       "      <td>False</td>\n",
       "    </tr>\n",
       "    <tr>\n",
       "      <th>...</th>\n",
       "      <td>...</td>\n",
       "      <td>...</td>\n",
       "      <td>...</td>\n",
       "      <td>...</td>\n",
       "    </tr>\n",
       "    <tr>\n",
       "      <th>6535227</th>\n",
       "      <td>ZERO</td>\n",
       "      <td>Love, in courts</td>\n",
       "      <td>False</td>\n",
       "      <td>False</td>\n",
       "    </tr>\n",
       "    <tr>\n",
       "      <th>6535228</th>\n",
       "      <td>ZEST</td>\n",
       "      <td>Citrus peel used for flavor</td>\n",
       "      <td>False</td>\n",
       "      <td>False</td>\n",
       "    </tr>\n",
       "    <tr>\n",
       "      <th>6535229</th>\n",
       "      <td>ZEUS</td>\n",
       "      <td>Chainer of Prometheus</td>\n",
       "      <td>True</td>\n",
       "      <td>False</td>\n",
       "    </tr>\n",
       "    <tr>\n",
       "      <th>6535231</th>\n",
       "      <td>ZOOMCLASS</td>\n",
       "      <td>Computer training?</td>\n",
       "      <td>False</td>\n",
       "      <td>False</td>\n",
       "    </tr>\n",
       "    <tr>\n",
       "      <th>6535232</th>\n",
       "      <td>ZOOMROOMS</td>\n",
       "      <td>Modern-day conference centers?</td>\n",
       "      <td>False</td>\n",
       "      <td>False</td>\n",
       "    </tr>\n",
       "  </tbody>\n",
       "</table>\n",
       "<p>3141344 rows × 4 columns</p>\n",
       "</div>"
      ],
      "text/plain": [
       "            answer                            clue  noun_required  fill_blank\n",
       "1              ABA               Litigator's group          False       False\n",
       "2            ACTOR                        Thespian          False       False\n",
       "3             ADES                  Summer coolers          False       False\n",
       "4              ADS               Newspaper revenue          False       False\n",
       "5             AFRO                    Head of hair          False       False\n",
       "...            ...                             ...            ...         ...\n",
       "6535227       ZERO                 Love, in courts          False       False\n",
       "6535228       ZEST     Citrus peel used for flavor          False       False\n",
       "6535229       ZEUS           Chainer of Prometheus           True       False\n",
       "6535231  ZOOMCLASS              Computer training?          False       False\n",
       "6535232  ZOOMROOMS  Modern-day conference centers?          False       False\n",
       "\n",
       "[3141344 rows x 4 columns]"
      ]
     },
     "execution_count": 57,
     "metadata": {},
     "output_type": "execute_result"
    }
   ],
   "source": [
    "prepare_data(df)"
   ]
  },
  {
   "cell_type": "code",
   "execution_count": null,
   "metadata": {},
   "outputs": [],
   "source": []
  }
 ],
 "metadata": {
  "interpreter": {
   "hash": "4fe28adbe6d40c82bdde6a2233f025e3b944121e67b5abb397657075ce1366ca"
  },
  "kernelspec": {
   "display_name": "Python 3.8.12 ('lighthouse')",
   "language": "python",
   "name": "python3"
  },
  "language_info": {
   "codemirror_mode": {
    "name": "ipython",
    "version": 3
   },
   "file_extension": ".py",
   "mimetype": "text/x-python",
   "name": "python",
   "nbconvert_exporter": "python",
   "pygments_lexer": "ipython3",
   "version": "3.8.12"
  },
  "orig_nbformat": 4
 },
 "nbformat": 4,
 "nbformat_minor": 2
}

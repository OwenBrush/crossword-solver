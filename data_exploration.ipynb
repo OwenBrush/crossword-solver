{
 "cells": [
  {
   "cell_type": "code",
   "execution_count": 29,
   "metadata": {},
   "outputs": [],
   "source": [
    "import pandas as pd\n",
    "import numpy as np\n",
    "import plotly\n",
    "import plotly.graph_objects as go\n",
    "from string import punctuation\n",
    "\n",
    "GREY = '#696969'\n",
    "GREEN = '#8CD186'\n",
    "\n",
    "df = pd.read_csv('data/clean_data.csv',keep_default_na=False)"
   ]
  },
  {
   "cell_type": "markdown",
   "metadata": {},
   "source": [
    "# Samples of punctuation occuring within clues (Using uncleaned data)"
   ]
  },
  {
   "cell_type": "code",
   "execution_count": 2,
   "metadata": {},
   "outputs": [],
   "source": [
    "\n",
    "def sample_strings_containing(containing:list,  data:pd.DataFrame, column:str, n_samples:int=1) -> dict:\n",
    "    \"\"\"Searches a column within a dataframe and returns random smaples of entries containing the key words\n",
    "    in the given list.\n",
    "\n",
    "    Args:\n",
    "        containing (list): List of key words to look for\n",
    "        data (pd.DataFrame): Dataframe to search\n",
    "        column (str): column to serch within datdrame\n",
    "        n_samples (int, optional): number of samples to return for each key. Defaults to 1.\n",
    "\n",
    "    \"\"\"\n",
    "    samples = {}\n",
    "    for x in containing:\n",
    "        matches = data[data[column].str.contains(x, regex=False)]\n",
    "        if matches.shape[0] > 0:  \n",
    "            samples[x] = []\n",
    "            for r in np.random.choice(range(matches.shape[0]),n_samples, replace=False):         \n",
    "                r = np.random.randint(0, matches.shape[0])\n",
    "                samples[x].append(matches.iloc[r][column])\n",
    "    return samples"
   ]
  },
  {
   "cell_type": "code",
   "execution_count": 31,
   "metadata": {},
   "outputs": [],
   "source": [
    "\n",
    "original_df = pd.read_table('data/origin_data.tsv')\n",
    "original_df = original_df[['clue','answer']]\n",
    "original_df.dropna(inplace=True)\n",
    "\n"
   ]
  },
  {
   "cell_type": "code",
   "execution_count": 7,
   "metadata": {},
   "outputs": [
    {
     "data": {
      "text/html": [
       "<div>\n",
       "<style scoped>\n",
       "    .dataframe tbody tr th:only-of-type {\n",
       "        vertical-align: middle;\n",
       "    }\n",
       "\n",
       "    .dataframe tbody tr th {\n",
       "        vertical-align: top;\n",
       "    }\n",
       "\n",
       "    .dataframe thead th {\n",
       "        text-align: right;\n",
       "    }\n",
       "</style>\n",
       "<table border=\"1\" class=\"dataframe\">\n",
       "  <thead>\n",
       "    <tr style=\"text-align: right;\">\n",
       "      <th></th>\n",
       "      <th>0</th>\n",
       "      <th>1</th>\n",
       "      <th>2</th>\n",
       "      <th>3</th>\n",
       "      <th>4</th>\n",
       "    </tr>\n",
       "  </thead>\n",
       "  <tbody>\n",
       "    <tr>\n",
       "      <th>!</th>\n",
       "      <td>'90s \"Cool!\"</td>\n",
       "      <td>Brighton \"Bye!\"</td>\n",
       "      <td>OMG an insect!</td>\n",
       "      <td>Subtle \"Over here!\"</td>\n",
       "      <td>They're __ again!</td>\n",
       "    </tr>\n",
       "    <tr>\n",
       "      <th>\"</th>\n",
       "      <td>Condition once called \"shell shock,\" for short</td>\n",
       "      <td>It means \"peace\" in Russian</td>\n",
       "      <td>Guinness of \"Star Wars\"</td>\n",
       "      <td>Best Musical of 1975, with \"The\"</td>\n",
       "      <td>Actor Richard of \"A Summer Place\"</td>\n",
       "    </tr>\n",
       "    <tr>\n",
       "      <th>#</th>\n",
       "      <td>Welcome comment at a bar #3</td>\n",
       "      <td>#11 on skates</td>\n",
       "      <td>Parental demand #1</td>\n",
       "      <td>Terrible #2s</td>\n",
       "      <td>Yankee Joe whose #6 was retired</td>\n",
       "    </tr>\n",
       "    <tr>\n",
       "      <th>$</th>\n",
       "      <td>Arli$$ cable channel</td>\n",
       "      <td>$$$ spitter-outer</td>\n",
       "      <td>Tested, as on \"The $64,000 Question\"</td>\n",
       "      <td>Arli$$ network</td>\n",
       "      <td>$2.99 a dozen, e.g.</td>\n",
       "    </tr>\n",
       "    <tr>\n",
       "      <th>%</th>\n",
       "      <td>50% more</td>\n",
       "      <td>@ # % &amp; *</td>\n",
       "      <td>Giving it 110%, so to speak</td>\n",
       "      <td>About 8½% of it is mayo</td>\n",
       "      <td>State that voted Republican by the highest per...</td>\n",
       "    </tr>\n",
       "    <tr>\n",
       "      <th>&amp;</th>\n",
       "      <td>Hatcher of \"Lois &amp; Clark\"</td>\n",
       "      <td>Tyne's \"Cagney &amp; Lacey\" co-star</td>\n",
       "      <td>Geena's \"Thelma &amp; Louise\" co-star</td>\n",
       "      <td>The B&amp;O et al.</td>\n",
       "      <td>___, Duncan, Jack &amp; Jane (sitcom)</td>\n",
       "    </tr>\n",
       "    <tr>\n",
       "      <th>'</th>\n",
       "      <td>To's companion</td>\n",
       "      <td>Advertiser's urging</td>\n",
       "      <td>Handyman's nickname</td>\n",
       "      <td>Like Beethoven's \"Pastoral\" Symphony</td>\n",
       "      <td>__'acte</td>\n",
       "    </tr>\n",
       "    <tr>\n",
       "      <th>(</th>\n",
       "      <td>Scratch (out)</td>\n",
       "      <td>Tangle (with)</td>\n",
       "      <td>Up (to)</td>\n",
       "      <td>Roman de ___ (2008 French movie)</td>\n",
       "      <td>___-tzu (Taoism's founder)</td>\n",
       "    </tr>\n",
       "    <tr>\n",
       "      <th>)</th>\n",
       "      <td>66 is a well-known one (Abbr.)</td>\n",
       "      <td>___ nous (confidentially)</td>\n",
       "      <td>D'___ (according to: Fr.)</td>\n",
       "      <td>Methods (abbr.)</td>\n",
       "      <td>Place of learning (abbr.)</td>\n",
       "    </tr>\n",
       "    <tr>\n",
       "      <th>*</th>\n",
       "      <td>*Anthem writer</td>\n",
       "      <td>*1978 Commodores hit</td>\n",
       "      <td>**Collect, as rewards</td>\n",
       "      <td>*\"Aww\"-inspiring pairs</td>\n",
       "      <td>M*A*S*H role</td>\n",
       "    </tr>\n",
       "    <tr>\n",
       "      <th>+</th>\n",
       "      <td>+ end</td>\n",
       "      <td>'80s dance party staples kept in apt container...</td>\n",
       "      <td>African city of 2.5+ million founded by the Po...</td>\n",
       "      <td>H+, for one</td>\n",
       "      <td>Its motto is \"Look Sharp + Live Smart\"</td>\n",
       "    </tr>\n",
       "    <tr>\n",
       "      <th>,</th>\n",
       "      <td>Backs, anatomically</td>\n",
       "      <td>TV's J.R. Ewing, e.g.</td>\n",
       "      <td>You're ___ (\"Thanks, honey\")</td>\n",
       "      <td>Coarse, as a comic</td>\n",
       "      <td>It connects to the Study via secret passage, i...</td>\n",
       "    </tr>\n",
       "    <tr>\n",
       "      <th>-</th>\n",
       "      <td>Pre-dawn status.</td>\n",
       "      <td>Shore-slappers</td>\n",
       "      <td>See 34-Across</td>\n",
       "      <td>Triple-decker cookie</td>\n",
       "      <td>Baby-sits</td>\n",
       "    </tr>\n",
       "    <tr>\n",
       "      <th>.</th>\n",
       "      <td>Radical '60s gp.</td>\n",
       "      <td>Gp. using sub titles?</td>\n",
       "      <td>Atlas abbr.</td>\n",
       "      <td>. . . a lamp __ my feet</td>\n",
       "      <td>They have two dashes: Abbr.</td>\n",
       "    </tr>\n",
       "    <tr>\n",
       "      <th>/</th>\n",
       "      <td>Key ___ (Bogart/Bacall film)</td>\n",
       "      <td>I Wanna Love You singer/rapper</td>\n",
       "      <td>1942 Bogart/Bergman film</td>\n",
       "      <td>I must not think there are / Evils __ to darke...</td>\n",
       "      <td>1976 Gene Wilder/Richard Pryor comedy</td>\n",
       "    </tr>\n",
       "    <tr>\n",
       "      <th>:</th>\n",
       "      <td>European country: Abbr.</td>\n",
       "      <td>Comfort: Fr.</td>\n",
       "      <td>Eye: Comb. form.</td>\n",
       "      <td>Gulf State: Abbr.</td>\n",
       "      <td>Part of the Occident: Abbr.</td>\n",
       "    </tr>\n",
       "    <tr>\n",
       "      <th>;</th>\n",
       "      <td>[Boil contents for 8-10 minutes; drain; add bu...</td>\n",
       "      <td>Prickles; spines</td>\n",
       "      <td>Catch; trap.</td>\n",
       "      <td>You ___ patient and stand firm; James 5:8</td>\n",
       "      <td>Sharpness; sting</td>\n",
       "    </tr>\n",
       "    <tr>\n",
       "      <th>&lt;</th>\n",
       "      <td>&lt;I&gt;Cleopatra&lt;I&gt; backdrop</td>\n",
       "      <td>&lt;&lt;NO CLUE&gt;&gt;</td>\n",
       "      <td>&lt;&lt;NO CLUE&gt;&gt;</td>\n",
       "      <td>&lt;&lt;NO CLUE&gt;&gt;</td>\n",
       "      <td>&lt;&lt;NO CLUE&gt;&gt;</td>\n",
       "    </tr>\n",
       "    <tr>\n",
       "      <th>=</th>\n",
       "      <td>Line on which y = 0</td>\n",
       "      <td>Say 2 + 3 = 6, e.g.</td>\n",
       "      <td>Line on which y = 0</td>\n",
       "      <td>Births = deaths letters</td>\n",
       "      <td>Pasty + vacation expense, maybe = hospital spe...</td>\n",
       "    </tr>\n",
       "    <tr>\n",
       "      <th>&gt;</th>\n",
       "      <td>&lt;&lt;NO CLUE&gt;&gt;</td>\n",
       "      <td>&lt;I&gt;Hair&lt;I&gt; song</td>\n",
       "      <td>&lt;&lt;NO CLUE&gt;&gt;</td>\n",
       "      <td>Citizens of Brest  &lt;P&gt;e.g.</td>\n",
       "      <td>&lt;I&gt;The ___ Eaters&lt;I&gt;: Tennyson</td>\n",
       "    </tr>\n",
       "    <tr>\n",
       "      <th>?</th>\n",
       "      <td>Do ___?</td>\n",
       "      <td>How Deep Is Your Love? group</td>\n",
       "      <td>Carousel riders?</td>\n",
       "      <td>Prison ultimatum?</td>\n",
       "      <td>Spectacles' passage?</td>\n",
       "    </tr>\n",
       "    <tr>\n",
       "      <th>@</th>\n",
       "      <td>@!</td>\n",
       "      <td>Addresses with \"@\"</td>\n",
       "      <td>Said \"!@#$%\"</td>\n",
       "      <td>Latin@ was added to it in Mar. 2019</td>\n",
       "      <td>Say \"!@#$%\"</td>\n",
       "    </tr>\n",
       "    <tr>\n",
       "      <th>[</th>\n",
       "      <td>Luxury vehicle that the motorist [circled lett...</td>\n",
       "      <td>[as written]</td>\n",
       "      <td>[Uh-oh!]</td>\n",
       "      <td>.875, as a fraction [HORSE]</td>\n",
       "      <td>___ and [23-Down]!</td>\n",
       "    </tr>\n",
       "    <tr>\n",
       "      <th>\\</th>\n",
       "      <td>\\</td>\n",
       "      <td>C:\\&gt; displayer</td>\n",
       "      <td>Damn Yankees&lt;\\I&gt; vamp\\nnw\\t2000\\tLOLA\\tFalana ...</td>\n",
       "      <td>The Sun Also __&lt;\\I&gt;\\nnw\\t2001\\tRISES\\tGets up\\...</td>\n",
       "      <td>\\</td>\n",
       "    </tr>\n",
       "    <tr>\n",
       "      <th>]</th>\n",
       "      <td>[Spoiler alert!] Dumbledore's assassin</td>\n",
       "      <td>[Alas]</td>\n",
       "      <td>[not my mistake]</td>\n",
       "      <td>[See blurb]</td>\n",
       "      <td>[Just like that!]</td>\n",
       "    </tr>\n",
       "    <tr>\n",
       "      <th>^</th>\n",
       "      <td>Big^TAL</td>\n",
       "      <td>Name of eleven Egyptian kings^RAMSE</td>\n",
       "      <td>Southwest native^HOP</td>\n",
       "      <td>See 54 Across^AR</td>\n",
       "      <td>Sketched^DRE</td>\n",
       "    </tr>\n",
       "    <tr>\n",
       "      <th>_</th>\n",
       "      <td>___ du Diable.</td>\n",
       "      <td>Department __</td>\n",
       "      <td>___ sale</td>\n",
       "      <td>Ab __</td>\n",
       "      <td>John O'___.</td>\n",
       "    </tr>\n",
       "    <tr>\n",
       "      <th>`</th>\n",
       "      <td>``___ gold\": W.J. Bryan speech</td>\n",
       "      <td>Number ``for the money\"</td>\n",
       "      <td>``Beulah  ___ me a grape\"</td>\n",
       "      <td>`Amores` poet</td>\n",
       "      <td>``Every hero becomes ___ at last\": Emerson</td>\n",
       "    </tr>\n",
       "    <tr>\n",
       "      <th>{</th>\n",
       "      <td>{/The/} woman, to Sherlock Holmes</td>\n",
       "      <td>{/Party bowlful/}</td>\n",
       "      <td>{/When the dessert was brought out, [ZAP!] the...</td>\n",
       "      <td>{/Jumpy noblemen?/}</td>\n",
       "      <td>{/Pluto, e.g., before it was plutoed/}</td>\n",
       "    </tr>\n",
       "    <tr>\n",
       "      <th>|</th>\n",
       "      <td>Either H in H|2|O</td>\n",
       "      <td>What &gt;:-|| means in emoticons</td>\n",
       "      <td>|| on a YouTube video</td>\n",
       "      <td>It's a Wonderful |Life director Frank</td>\n",
       "      <td>Magazine with an annual \"500|5000\" conference</td>\n",
       "    </tr>\n",
       "    <tr>\n",
       "      <th>}</th>\n",
       "      <td>{/Ash/}</td>\n",
       "      <td>{/Cob and pen/}</td>\n",
       "      <td>{/It's got some miles on it/}</td>\n",
       "      <td>{/Verse continued/}</td>\n",
       "      <td>{/\"The Lion King\" song/}</td>\n",
       "    </tr>\n",
       "    <tr>\n",
       "      <th>~</th>\n",
       "      <td>Key above ~</td>\n",
       "      <td>Key above ~</td>\n",
       "      <td>State ~20 miles from Spokane, Wash.</td>\n",
       "      <td>~</td>\n",
       "      <td>Key above ~</td>\n",
       "    </tr>\n",
       "  </tbody>\n",
       "</table>\n",
       "</div>"
      ],
      "text/plain": [
       "                                                   0  \\\n",
       "!                                       '90s \"Cool!\"   \n",
       "\"     Condition once called \"shell shock,\" for short   \n",
       "#                        Welcome comment at a bar #3   \n",
       "$                               Arli$$ cable channel   \n",
       "%                                           50% more   \n",
       "&                          Hatcher of \"Lois & Clark\"   \n",
       "'                                     To's companion   \n",
       "(                                      Scratch (out)   \n",
       ")                     66 is a well-known one (Abbr.)   \n",
       "*                                     *Anthem writer   \n",
       "+                                              + end   \n",
       ",                                Backs, anatomically   \n",
       "-                                   Pre-dawn status.   \n",
       ".                                   Radical '60s gp.   \n",
       "/                       Key ___ (Bogart/Bacall film)   \n",
       ":                            European country: Abbr.   \n",
       ";  [Boil contents for 8-10 minutes; drain; add bu...   \n",
       "<                           <I>Cleopatra<I> backdrop   \n",
       "=                                Line on which y = 0   \n",
       ">                                        <<NO CLUE>>   \n",
       "?                                            Do ___?   \n",
       "@                                                 @!   \n",
       "[  Luxury vehicle that the motorist [circled lett...   \n",
       "\\                                                  \\   \n",
       "]             [Spoiler alert!] Dumbledore's assassin   \n",
       "^                                            Big^TAL   \n",
       "_                                     ___ du Diable.   \n",
       "`                     ``___ gold\": W.J. Bryan speech   \n",
       "{                  {/The/} woman, to Sherlock Holmes   \n",
       "|                                  Either H in H|2|O   \n",
       "}                                            {/Ash/}   \n",
       "~                                        Key above ~   \n",
       "\n",
       "                                                   1  \\\n",
       "!                                    Brighton \"Bye!\"   \n",
       "\"                        It means \"peace\" in Russian   \n",
       "#                                      #11 on skates   \n",
       "$                                  $$$ spitter-outer   \n",
       "%                                          @ # % & *   \n",
       "&                    Tyne's \"Cagney & Lacey\" co-star   \n",
       "'                                Advertiser's urging   \n",
       "(                                      Tangle (with)   \n",
       ")                          ___ nous (confidentially)   \n",
       "*                               *1978 Commodores hit   \n",
       "+  '80s dance party staples kept in apt container...   \n",
       ",                              TV's J.R. Ewing, e.g.   \n",
       "-                                     Shore-slappers   \n",
       ".                              Gp. using sub titles?   \n",
       "/                     I Wanna Love You singer/rapper   \n",
       ":                                       Comfort: Fr.   \n",
       ";                                   Prickles; spines   \n",
       "<                                        <<NO CLUE>>   \n",
       "=                                Say 2 + 3 = 6, e.g.   \n",
       ">                                    <I>Hair<I> song   \n",
       "?                       How Deep Is Your Love? group   \n",
       "@                                 Addresses with \"@\"   \n",
       "[                                       [as written]   \n",
       "\\                                     C:\\> displayer   \n",
       "]                                             [Alas]   \n",
       "^                Name of eleven Egyptian kings^RAMSE   \n",
       "_                                      Department __   \n",
       "`                            Number ``for the money\"   \n",
       "{                                  {/Party bowlful/}   \n",
       "|                      What >:-|| means in emoticons   \n",
       "}                                    {/Cob and pen/}   \n",
       "~                                        Key above ~   \n",
       "\n",
       "                                                   2  \\\n",
       "!                                     OMG an insect!   \n",
       "\"                            Guinness of \"Star Wars\"   \n",
       "#                                 Parental demand #1   \n",
       "$               Tested, as on \"The $64,000 Question\"   \n",
       "%                        Giving it 110%, so to speak   \n",
       "&                  Geena's \"Thelma & Louise\" co-star   \n",
       "'                                Handyman's nickname   \n",
       "(                                            Up (to)   \n",
       ")                          D'___ (according to: Fr.)   \n",
       "*                              **Collect, as rewards   \n",
       "+  African city of 2.5+ million founded by the Po...   \n",
       ",                       You're ___ (\"Thanks, honey\")   \n",
       "-                                      See 34-Across   \n",
       ".                                        Atlas abbr.   \n",
       "/                           1942 Bogart/Bergman film   \n",
       ":                                   Eye: Comb. form.   \n",
       ";                                       Catch; trap.   \n",
       "<                                        <<NO CLUE>>   \n",
       "=                                Line on which y = 0   \n",
       ">                                        <<NO CLUE>>   \n",
       "?                                   Carousel riders?   \n",
       "@                                       Said \"!@#$%\"   \n",
       "[                                           [Uh-oh!]   \n",
       "\\  Damn Yankees<\\I> vamp\\nnw\\t2000\\tLOLA\\tFalana ...   \n",
       "]                                   [not my mistake]   \n",
       "^                               Southwest native^HOP   \n",
       "_                                           ___ sale   \n",
       "`                          ``Beulah  ___ me a grape\"   \n",
       "{  {/When the dessert was brought out, [ZAP!] the...   \n",
       "|                              || on a YouTube video   \n",
       "}                      {/It's got some miles on it/}   \n",
       "~                State ~20 miles from Spokane, Wash.   \n",
       "\n",
       "                                                   3  \\\n",
       "!                                Subtle \"Over here!\"   \n",
       "\"                   Best Musical of 1975, with \"The\"   \n",
       "#                                       Terrible #2s   \n",
       "$                                     Arli$$ network   \n",
       "%                            About 8½% of it is mayo   \n",
       "&                                     The B&O et al.   \n",
       "'               Like Beethoven's \"Pastoral\" Symphony   \n",
       "(                   Roman de ___ (2008 French movie)   \n",
       ")                                    Methods (abbr.)   \n",
       "*                             *\"Aww\"-inspiring pairs   \n",
       "+                                        H+, for one   \n",
       ",                                 Coarse, as a comic   \n",
       "-                               Triple-decker cookie   \n",
       ".                            . . . a lamp __ my feet   \n",
       "/  I must not think there are / Evils __ to darke...   \n",
       ":                                  Gulf State: Abbr.   \n",
       ";          You ___ patient and stand firm; James 5:8   \n",
       "<                                        <<NO CLUE>>   \n",
       "=                            Births = deaths letters   \n",
       ">                         Citizens of Brest  <P>e.g.   \n",
       "?                                  Prison ultimatum?   \n",
       "@                Latin@ was added to it in Mar. 2019   \n",
       "[                        .875, as a fraction [HORSE]   \n",
       "\\  The Sun Also __<\\I>\\nnw\\t2001\\tRISES\\tGets up\\...   \n",
       "]                                        [See blurb]   \n",
       "^                                   See 54 Across^AR   \n",
       "_                                              Ab __   \n",
       "`                                      `Amores` poet   \n",
       "{                                {/Jumpy noblemen?/}   \n",
       "|              It's a Wonderful |Life director Frank   \n",
       "}                                {/Verse continued/}   \n",
       "~                                                  ~   \n",
       "\n",
       "                                                   4  \n",
       "!                                  They're __ again!  \n",
       "\"                  Actor Richard of \"A Summer Place\"  \n",
       "#                    Yankee Joe whose #6 was retired  \n",
       "$                                $2.99 a dozen, e.g.  \n",
       "%  State that voted Republican by the highest per...  \n",
       "&                  ___, Duncan, Jack & Jane (sitcom)  \n",
       "'                                            __'acte  \n",
       "(                         ___-tzu (Taoism's founder)  \n",
       ")                          Place of learning (abbr.)  \n",
       "*                                       M*A*S*H role  \n",
       "+             Its motto is \"Look Sharp + Live Smart\"  \n",
       ",  It connects to the Study via secret passage, i...  \n",
       "-                                          Baby-sits  \n",
       ".                        They have two dashes: Abbr.  \n",
       "/              1976 Gene Wilder/Richard Pryor comedy  \n",
       ":                        Part of the Occident: Abbr.  \n",
       ";                                   Sharpness; sting  \n",
       "<                                        <<NO CLUE>>  \n",
       "=  Pasty + vacation expense, maybe = hospital spe...  \n",
       ">                     <I>The ___ Eaters<I>: Tennyson  \n",
       "?                               Spectacles' passage?  \n",
       "@                                        Say \"!@#$%\"  \n",
       "[                                 ___ and [23-Down]!  \n",
       "\\                                                  \\  \n",
       "]                                  [Just like that!]  \n",
       "^                                       Sketched^DRE  \n",
       "_                                        John O'___.  \n",
       "`         ``Every hero becomes ___ at last\": Emerson  \n",
       "{             {/Pluto, e.g., before it was plutoed/}  \n",
       "|      Magazine with an annual \"500|5000\" conference  \n",
       "}                           {/\"The Lion King\" song/}  \n",
       "~                                        Key above ~  "
      ]
     },
     "execution_count": 7,
     "metadata": {},
     "output_type": "execute_result"
    }
   ],
   "source": [
    "punctuation_samples = sample_strings_containing(list(punctuation),original_df,'clue',n_samples=5)\n",
    "pd.DataFrame(punctuation_samples).T"
   ]
  },
  {
   "cell_type": "markdown",
   "metadata": {},
   "source": [
    "# Frequency of Punctuation"
   ]
  },
  {
   "cell_type": "code",
   "execution_count": 32,
   "metadata": {},
   "outputs": [],
   "source": [
    "def frequency_of_characters(characters:list,data:pd.DataFrame)->dict:\n",
    "    frequencies = {}\n",
    "    for character in characters:\n",
    "        frequencies[character] = data[data['clue'].str.contains(character,regex=False)].shape[0] / data.shape[0]\n",
    "    return frequencies"
   ]
  },
  {
   "cell_type": "code",
   "execution_count": 33,
   "metadata": {},
   "outputs": [],
   "source": [
    "punc_freq = frequency_of_characters(punctuation,original_df)"
   ]
  },
  {
   "cell_type": "code",
   "execution_count": 36,
   "metadata": {},
   "outputs": [
    {
     "data": {
      "application/vnd.plotly.v1+json": {
       "config": {
        "plotlyServerURL": "https://plot.ly"
       },
       "data": [
        {
         "marker": {
          "color": "#8CD186"
         },
         "text": [
          "0.012473545444552646",
          "0.026861262789916383",
          "0.0005771621519106884",
          "0.00018578180855494266",
          "0.00019228417185436565",
          "0.0010671616719743497",
          "0.09083368038407293",
          "0.017338861374259003",
          "0.017339945101475573",
          "0.00155205219230275",
          "0.0002515795324181515",
          "0.07564756571644432",
          "0.05592001473869015",
          "0.15504885287474127",
          "0.0013740112924375966",
          "0.018943551745652317",
          "0.00030034725716382394",
          "0.00010419263096456367",
          "6.579772386320886e-05",
          "0.00010078663114105639",
          "0.030877710672700447",
          "2.6938362240466683e-05",
          "0.00031938989254070557",
          "2.7867271283241397e-06",
          "0.00031938989254070557",
          "4.4123179531798876e-05",
          "0.059255881929467936",
          "3.127327110674868e-05",
          "4.226536144624945e-05",
          "1.3933635641620698e-06",
          "4.272981596763681e-05",
          "3.870454344894639e-06"
         ],
         "textangle": 0,
         "textfont": {
          "size": 10
         },
         "textposition": "auto",
         "texttemplate": "%{text:1.2%}",
         "type": "bar",
         "x": [
          "!",
          "\"",
          "#",
          "$",
          "%",
          "&",
          "'",
          "(",
          ")",
          "*",
          "+",
          ",",
          "-",
          ".",
          "/",
          ":",
          ";",
          "<",
          "=",
          ">",
          "?",
          "@",
          "[",
          "\\",
          "]",
          "^",
          "_",
          "`",
          "{",
          "|",
          "}",
          "~"
         ],
         "y": [
          0.012473545444552646,
          0.026861262789916383,
          0.0005771621519106884,
          0.00018578180855494266,
          0.00019228417185436565,
          0.0010671616719743497,
          0.09083368038407293,
          0.017338861374259003,
          0.017339945101475573,
          0.00155205219230275,
          0.0002515795324181515,
          0.07564756571644432,
          0.05592001473869015,
          0.15504885287474127,
          0.0013740112924375966,
          0.018943551745652317,
          0.00030034725716382394,
          0.00010419263096456367,
          0.00006579772386320886,
          0.00010078663114105639,
          0.030877710672700447,
          0.000026938362240466683,
          0.00031938989254070557,
          0.0000027867271283241397,
          0.00031938989254070557,
          0.000044123179531798876,
          0.059255881929467936,
          0.00003127327110674868,
          0.00004226536144624945,
          0.0000013933635641620698,
          0.00004272981596763681,
          0.000003870454344894639
         ]
        }
       ],
       "layout": {
        "bargap": 0.1,
        "font": {
         "color": "#696969"
        },
        "height": 600,
        "plot_bgcolor": "white",
        "template": {
         "data": {
          "bar": [
           {
            "error_x": {
             "color": "#2a3f5f"
            },
            "error_y": {
             "color": "#2a3f5f"
            },
            "marker": {
             "line": {
              "color": "#E5ECF6",
              "width": 0.5
             },
             "pattern": {
              "fillmode": "overlay",
              "size": 10,
              "solidity": 0.2
             }
            },
            "type": "bar"
           }
          ],
          "barpolar": [
           {
            "marker": {
             "line": {
              "color": "#E5ECF6",
              "width": 0.5
             },
             "pattern": {
              "fillmode": "overlay",
              "size": 10,
              "solidity": 0.2
             }
            },
            "type": "barpolar"
           }
          ],
          "carpet": [
           {
            "aaxis": {
             "endlinecolor": "#2a3f5f",
             "gridcolor": "white",
             "linecolor": "white",
             "minorgridcolor": "white",
             "startlinecolor": "#2a3f5f"
            },
            "baxis": {
             "endlinecolor": "#2a3f5f",
             "gridcolor": "white",
             "linecolor": "white",
             "minorgridcolor": "white",
             "startlinecolor": "#2a3f5f"
            },
            "type": "carpet"
           }
          ],
          "choropleth": [
           {
            "colorbar": {
             "outlinewidth": 0,
             "ticks": ""
            },
            "type": "choropleth"
           }
          ],
          "contour": [
           {
            "colorbar": {
             "outlinewidth": 0,
             "ticks": ""
            },
            "colorscale": [
             [
              0,
              "#0d0887"
             ],
             [
              0.1111111111111111,
              "#46039f"
             ],
             [
              0.2222222222222222,
              "#7201a8"
             ],
             [
              0.3333333333333333,
              "#9c179e"
             ],
             [
              0.4444444444444444,
              "#bd3786"
             ],
             [
              0.5555555555555556,
              "#d8576b"
             ],
             [
              0.6666666666666666,
              "#ed7953"
             ],
             [
              0.7777777777777778,
              "#fb9f3a"
             ],
             [
              0.8888888888888888,
              "#fdca26"
             ],
             [
              1,
              "#f0f921"
             ]
            ],
            "type": "contour"
           }
          ],
          "contourcarpet": [
           {
            "colorbar": {
             "outlinewidth": 0,
             "ticks": ""
            },
            "type": "contourcarpet"
           }
          ],
          "heatmap": [
           {
            "colorbar": {
             "outlinewidth": 0,
             "ticks": ""
            },
            "colorscale": [
             [
              0,
              "#0d0887"
             ],
             [
              0.1111111111111111,
              "#46039f"
             ],
             [
              0.2222222222222222,
              "#7201a8"
             ],
             [
              0.3333333333333333,
              "#9c179e"
             ],
             [
              0.4444444444444444,
              "#bd3786"
             ],
             [
              0.5555555555555556,
              "#d8576b"
             ],
             [
              0.6666666666666666,
              "#ed7953"
             ],
             [
              0.7777777777777778,
              "#fb9f3a"
             ],
             [
              0.8888888888888888,
              "#fdca26"
             ],
             [
              1,
              "#f0f921"
             ]
            ],
            "type": "heatmap"
           }
          ],
          "heatmapgl": [
           {
            "colorbar": {
             "outlinewidth": 0,
             "ticks": ""
            },
            "colorscale": [
             [
              0,
              "#0d0887"
             ],
             [
              0.1111111111111111,
              "#46039f"
             ],
             [
              0.2222222222222222,
              "#7201a8"
             ],
             [
              0.3333333333333333,
              "#9c179e"
             ],
             [
              0.4444444444444444,
              "#bd3786"
             ],
             [
              0.5555555555555556,
              "#d8576b"
             ],
             [
              0.6666666666666666,
              "#ed7953"
             ],
             [
              0.7777777777777778,
              "#fb9f3a"
             ],
             [
              0.8888888888888888,
              "#fdca26"
             ],
             [
              1,
              "#f0f921"
             ]
            ],
            "type": "heatmapgl"
           }
          ],
          "histogram": [
           {
            "marker": {
             "pattern": {
              "fillmode": "overlay",
              "size": 10,
              "solidity": 0.2
             }
            },
            "type": "histogram"
           }
          ],
          "histogram2d": [
           {
            "colorbar": {
             "outlinewidth": 0,
             "ticks": ""
            },
            "colorscale": [
             [
              0,
              "#0d0887"
             ],
             [
              0.1111111111111111,
              "#46039f"
             ],
             [
              0.2222222222222222,
              "#7201a8"
             ],
             [
              0.3333333333333333,
              "#9c179e"
             ],
             [
              0.4444444444444444,
              "#bd3786"
             ],
             [
              0.5555555555555556,
              "#d8576b"
             ],
             [
              0.6666666666666666,
              "#ed7953"
             ],
             [
              0.7777777777777778,
              "#fb9f3a"
             ],
             [
              0.8888888888888888,
              "#fdca26"
             ],
             [
              1,
              "#f0f921"
             ]
            ],
            "type": "histogram2d"
           }
          ],
          "histogram2dcontour": [
           {
            "colorbar": {
             "outlinewidth": 0,
             "ticks": ""
            },
            "colorscale": [
             [
              0,
              "#0d0887"
             ],
             [
              0.1111111111111111,
              "#46039f"
             ],
             [
              0.2222222222222222,
              "#7201a8"
             ],
             [
              0.3333333333333333,
              "#9c179e"
             ],
             [
              0.4444444444444444,
              "#bd3786"
             ],
             [
              0.5555555555555556,
              "#d8576b"
             ],
             [
              0.6666666666666666,
              "#ed7953"
             ],
             [
              0.7777777777777778,
              "#fb9f3a"
             ],
             [
              0.8888888888888888,
              "#fdca26"
             ],
             [
              1,
              "#f0f921"
             ]
            ],
            "type": "histogram2dcontour"
           }
          ],
          "mesh3d": [
           {
            "colorbar": {
             "outlinewidth": 0,
             "ticks": ""
            },
            "type": "mesh3d"
           }
          ],
          "parcoords": [
           {
            "line": {
             "colorbar": {
              "outlinewidth": 0,
              "ticks": ""
             }
            },
            "type": "parcoords"
           }
          ],
          "pie": [
           {
            "automargin": true,
            "type": "pie"
           }
          ],
          "scatter": [
           {
            "marker": {
             "colorbar": {
              "outlinewidth": 0,
              "ticks": ""
             }
            },
            "type": "scatter"
           }
          ],
          "scatter3d": [
           {
            "line": {
             "colorbar": {
              "outlinewidth": 0,
              "ticks": ""
             }
            },
            "marker": {
             "colorbar": {
              "outlinewidth": 0,
              "ticks": ""
             }
            },
            "type": "scatter3d"
           }
          ],
          "scattercarpet": [
           {
            "marker": {
             "colorbar": {
              "outlinewidth": 0,
              "ticks": ""
             }
            },
            "type": "scattercarpet"
           }
          ],
          "scattergeo": [
           {
            "marker": {
             "colorbar": {
              "outlinewidth": 0,
              "ticks": ""
             }
            },
            "type": "scattergeo"
           }
          ],
          "scattergl": [
           {
            "marker": {
             "colorbar": {
              "outlinewidth": 0,
              "ticks": ""
             }
            },
            "type": "scattergl"
           }
          ],
          "scattermapbox": [
           {
            "marker": {
             "colorbar": {
              "outlinewidth": 0,
              "ticks": ""
             }
            },
            "type": "scattermapbox"
           }
          ],
          "scatterpolar": [
           {
            "marker": {
             "colorbar": {
              "outlinewidth": 0,
              "ticks": ""
             }
            },
            "type": "scatterpolar"
           }
          ],
          "scatterpolargl": [
           {
            "marker": {
             "colorbar": {
              "outlinewidth": 0,
              "ticks": ""
             }
            },
            "type": "scatterpolargl"
           }
          ],
          "scatterternary": [
           {
            "marker": {
             "colorbar": {
              "outlinewidth": 0,
              "ticks": ""
             }
            },
            "type": "scatterternary"
           }
          ],
          "surface": [
           {
            "colorbar": {
             "outlinewidth": 0,
             "ticks": ""
            },
            "colorscale": [
             [
              0,
              "#0d0887"
             ],
             [
              0.1111111111111111,
              "#46039f"
             ],
             [
              0.2222222222222222,
              "#7201a8"
             ],
             [
              0.3333333333333333,
              "#9c179e"
             ],
             [
              0.4444444444444444,
              "#bd3786"
             ],
             [
              0.5555555555555556,
              "#d8576b"
             ],
             [
              0.6666666666666666,
              "#ed7953"
             ],
             [
              0.7777777777777778,
              "#fb9f3a"
             ],
             [
              0.8888888888888888,
              "#fdca26"
             ],
             [
              1,
              "#f0f921"
             ]
            ],
            "type": "surface"
           }
          ],
          "table": [
           {
            "cells": {
             "fill": {
              "color": "#EBF0F8"
             },
             "line": {
              "color": "white"
             }
            },
            "header": {
             "fill": {
              "color": "#C8D4E3"
             },
             "line": {
              "color": "white"
             }
            },
            "type": "table"
           }
          ]
         },
         "layout": {
          "annotationdefaults": {
           "arrowcolor": "#2a3f5f",
           "arrowhead": 0,
           "arrowwidth": 1
          },
          "autotypenumbers": "strict",
          "coloraxis": {
           "colorbar": {
            "outlinewidth": 0,
            "ticks": ""
           }
          },
          "colorscale": {
           "diverging": [
            [
             0,
             "#8e0152"
            ],
            [
             0.1,
             "#c51b7d"
            ],
            [
             0.2,
             "#de77ae"
            ],
            [
             0.3,
             "#f1b6da"
            ],
            [
             0.4,
             "#fde0ef"
            ],
            [
             0.5,
             "#f7f7f7"
            ],
            [
             0.6,
             "#e6f5d0"
            ],
            [
             0.7,
             "#b8e186"
            ],
            [
             0.8,
             "#7fbc41"
            ],
            [
             0.9,
             "#4d9221"
            ],
            [
             1,
             "#276419"
            ]
           ],
           "sequential": [
            [
             0,
             "#0d0887"
            ],
            [
             0.1111111111111111,
             "#46039f"
            ],
            [
             0.2222222222222222,
             "#7201a8"
            ],
            [
             0.3333333333333333,
             "#9c179e"
            ],
            [
             0.4444444444444444,
             "#bd3786"
            ],
            [
             0.5555555555555556,
             "#d8576b"
            ],
            [
             0.6666666666666666,
             "#ed7953"
            ],
            [
             0.7777777777777778,
             "#fb9f3a"
            ],
            [
             0.8888888888888888,
             "#fdca26"
            ],
            [
             1,
             "#f0f921"
            ]
           ],
           "sequentialminus": [
            [
             0,
             "#0d0887"
            ],
            [
             0.1111111111111111,
             "#46039f"
            ],
            [
             0.2222222222222222,
             "#7201a8"
            ],
            [
             0.3333333333333333,
             "#9c179e"
            ],
            [
             0.4444444444444444,
             "#bd3786"
            ],
            [
             0.5555555555555556,
             "#d8576b"
            ],
            [
             0.6666666666666666,
             "#ed7953"
            ],
            [
             0.7777777777777778,
             "#fb9f3a"
            ],
            [
             0.8888888888888888,
             "#fdca26"
            ],
            [
             1,
             "#f0f921"
            ]
           ]
          },
          "colorway": [
           "#636efa",
           "#EF553B",
           "#00cc96",
           "#ab63fa",
           "#FFA15A",
           "#19d3f3",
           "#FF6692",
           "#B6E880",
           "#FF97FF",
           "#FECB52"
          ],
          "font": {
           "color": "#2a3f5f"
          },
          "geo": {
           "bgcolor": "white",
           "lakecolor": "white",
           "landcolor": "#E5ECF6",
           "showlakes": true,
           "showland": true,
           "subunitcolor": "white"
          },
          "hoverlabel": {
           "align": "left"
          },
          "hovermode": "closest",
          "mapbox": {
           "style": "light"
          },
          "paper_bgcolor": "white",
          "plot_bgcolor": "#E5ECF6",
          "polar": {
           "angularaxis": {
            "gridcolor": "white",
            "linecolor": "white",
            "ticks": ""
           },
           "bgcolor": "#E5ECF6",
           "radialaxis": {
            "gridcolor": "white",
            "linecolor": "white",
            "ticks": ""
           }
          },
          "scene": {
           "xaxis": {
            "backgroundcolor": "#E5ECF6",
            "gridcolor": "white",
            "gridwidth": 2,
            "linecolor": "white",
            "showbackground": true,
            "ticks": "",
            "zerolinecolor": "white"
           },
           "yaxis": {
            "backgroundcolor": "#E5ECF6",
            "gridcolor": "white",
            "gridwidth": 2,
            "linecolor": "white",
            "showbackground": true,
            "ticks": "",
            "zerolinecolor": "white"
           },
           "zaxis": {
            "backgroundcolor": "#E5ECF6",
            "gridcolor": "white",
            "gridwidth": 2,
            "linecolor": "white",
            "showbackground": true,
            "ticks": "",
            "zerolinecolor": "white"
           }
          },
          "shapedefaults": {
           "line": {
            "color": "#2a3f5f"
           }
          },
          "ternary": {
           "aaxis": {
            "gridcolor": "white",
            "linecolor": "white",
            "ticks": ""
           },
           "baxis": {
            "gridcolor": "white",
            "linecolor": "white",
            "ticks": ""
           },
           "bgcolor": "#E5ECF6",
           "caxis": {
            "gridcolor": "white",
            "linecolor": "white",
            "ticks": ""
           }
          },
          "title": {
           "x": 0.05
          },
          "xaxis": {
           "automargin": true,
           "gridcolor": "white",
           "linecolor": "white",
           "ticks": "",
           "title": {
            "standoff": 15
           },
           "zerolinecolor": "white",
           "zerolinewidth": 2
          },
          "yaxis": {
           "automargin": true,
           "gridcolor": "white",
           "linecolor": "white",
           "ticks": "",
           "title": {
            "standoff": 15
           },
           "zerolinecolor": "white",
           "zerolinewidth": 2
          }
         }
        },
        "title": {
         "text": "Percentage of clues that contain each form of punctuation (before cleaning)"
        },
        "width": 1600,
        "xaxis": {
         "linecolor": "#696969",
         "linewidth": 2,
         "showgrid": false,
         "showline": true
        },
        "yaxis": {
         "dtick": 0.01,
         "gridcolor": "#696969",
         "linecolor": "#696969",
         "linewidth": 2,
         "showline": false,
         "showticklabels": false
        }
       }
      }
     },
     "metadata": {},
     "output_type": "display_data"
    }
   ],
   "source": [
    "labels = list(punc_freq.keys())\n",
    "values = list(punc_freq.values())\n",
    "\n",
    "fig = go.Figure()\n",
    "trace = go.Bar( x=labels, \n",
    "                y=values,\n",
    "                text=values,\n",
    "                textposition='auto',\n",
    "                texttemplate='%{text:1.2%}', \n",
    "                marker_color=GREEN,\n",
    "                textfont_size=10,\n",
    "                textangle=0\n",
    "                )\n",
    "\n",
    "fig.add_trace(trace)\n",
    "\n",
    "fig.update_layout(width=1600, \n",
    "                  height=600,\n",
    "                  bargap=0.1,\n",
    "                  plot_bgcolor='white', \n",
    "                  title = 'Percentage of clues that contain each form of punctuation (before cleaning)', \n",
    "                  font_color = GREY,\n",
    "                  # margin=dict(l=10, r=10, t=10, b=10)\n",
    "                  )\n",
    "\n",
    "fig.update_yaxes(showticklabels=False,showline=False, linewidth=2, linecolor=GREY, gridcolor=GREY,dtick = 0.01)\n",
    "fig.update_xaxes(showline=True, linewidth=2, linecolor=GREY, showgrid=False)\n",
    "fig.show()"
   ]
  },
  {
   "cell_type": "code",
   "execution_count": 3,
   "metadata": {},
   "outputs": [
    {
     "data": {
      "text/html": [
       "<div>\n",
       "<style scoped>\n",
       "    .dataframe tbody tr th:only-of-type {\n",
       "        vertical-align: middle;\n",
       "    }\n",
       "\n",
       "    .dataframe tbody tr th {\n",
       "        vertical-align: top;\n",
       "    }\n",
       "\n",
       "    .dataframe thead th {\n",
       "        text-align: right;\n",
       "    }\n",
       "</style>\n",
       "<table border=\"1\" class=\"dataframe\">\n",
       "  <thead>\n",
       "    <tr style=\"text-align: right;\">\n",
       "      <th></th>\n",
       "      <th>answer</th>\n",
       "      <th>clue</th>\n",
       "      <th>noun_required</th>\n",
       "      <th>fill_blank</th>\n",
       "    </tr>\n",
       "  </thead>\n",
       "  <tbody>\n",
       "    <tr>\n",
       "      <th>0</th>\n",
       "      <td>aba</td>\n",
       "      <td>litigator  group</td>\n",
       "      <td>False</td>\n",
       "      <td>False</td>\n",
       "    </tr>\n",
       "    <tr>\n",
       "      <th>1</th>\n",
       "      <td>actor</td>\n",
       "      <td>thespian</td>\n",
       "      <td>False</td>\n",
       "      <td>False</td>\n",
       "    </tr>\n",
       "    <tr>\n",
       "      <th>2</th>\n",
       "      <td>ades</td>\n",
       "      <td>summer coolers</td>\n",
       "      <td>False</td>\n",
       "      <td>False</td>\n",
       "    </tr>\n",
       "  </tbody>\n",
       "</table>\n",
       "</div>"
      ],
      "text/plain": [
       "  answer              clue  noun_required  fill_blank\n",
       "0    aba  litigator  group          False       False\n",
       "1  actor          thespian          False       False\n",
       "2   ades    summer coolers          False       False"
      ]
     },
     "execution_count": 3,
     "metadata": {},
     "output_type": "execute_result"
    }
   ],
   "source": [
    "df.head(3)"
   ]
  },
  {
   "cell_type": "markdown",
   "metadata": {},
   "source": [
    "# Number of unique clues and answers"
   ]
  },
  {
   "cell_type": "code",
   "execution_count": 5,
   "metadata": {},
   "outputs": [
    {
     "name": "stdout",
     "output_type": "stream",
     "text": [
      "\n",
      "      Unique Clues:                       2579749 \n",
      "      Unique Answers:                     315116\n",
      "      Unique Answer + Clue Pairings:      3103325\n",
      "      \n",
      "      Clues per Answer: 8.186664593356097\n",
      "      \n"
     ]
    }
   ],
   "source": [
    "proportions = { 'clues':df['clue'].nunique(), \n",
    "                'answers': df['answer'].nunique(),\n",
    "                'clues per answer':df['clue'].nunique() / df['answer'].nunique(),\n",
    "                'pairings':(df['answer'] + df['clue']).nunique()\n",
    "              }\n",
    "\n",
    "print(f\"\"\"\n",
    "      Unique Clues:                       {proportions['clues']} \n",
    "      Unique Answers:                     {proportions['answers']}\n",
    "      Unique Answer + Clue Pairings:      {proportions['pairings']}\n",
    "      \n",
    "      Clues per Answer: {proportions['clues per answer']}\n",
    "      \"\"\")\n",
    "\n",
    "\n"
   ]
  },
  {
   "cell_type": "code",
   "execution_count": 126,
   "metadata": {},
   "outputs": [
    {
     "data": {
      "application/vnd.plotly.v1+json": {
       "config": {
        "plotlyServerURL": "https://plot.ly"
       },
       "data": [
        {
         "marker": {
          "color": "#8CD186"
         },
         "text": [
          "3103325",
          "2579749",
          "315116"
         ],
         "textposition": "auto",
         "texttemplate": "%{text:,}",
         "type": "bar",
         "x": [
          "Unique Pairings",
          "Unique Clues",
          "Unique Answers"
         ],
         "y": [
          3103325,
          2579749,
          315116
         ]
        }
       ],
       "layout": {
        "font": {
         "color": "#696969"
        },
        "height": 600,
        "plot_bgcolor": "white",
        "template": {
         "data": {
          "bar": [
           {
            "error_x": {
             "color": "#2a3f5f"
            },
            "error_y": {
             "color": "#2a3f5f"
            },
            "marker": {
             "line": {
              "color": "#E5ECF6",
              "width": 0.5
             },
             "pattern": {
              "fillmode": "overlay",
              "size": 10,
              "solidity": 0.2
             }
            },
            "type": "bar"
           }
          ],
          "barpolar": [
           {
            "marker": {
             "line": {
              "color": "#E5ECF6",
              "width": 0.5
             },
             "pattern": {
              "fillmode": "overlay",
              "size": 10,
              "solidity": 0.2
             }
            },
            "type": "barpolar"
           }
          ],
          "carpet": [
           {
            "aaxis": {
             "endlinecolor": "#2a3f5f",
             "gridcolor": "white",
             "linecolor": "white",
             "minorgridcolor": "white",
             "startlinecolor": "#2a3f5f"
            },
            "baxis": {
             "endlinecolor": "#2a3f5f",
             "gridcolor": "white",
             "linecolor": "white",
             "minorgridcolor": "white",
             "startlinecolor": "#2a3f5f"
            },
            "type": "carpet"
           }
          ],
          "choropleth": [
           {
            "colorbar": {
             "outlinewidth": 0,
             "ticks": ""
            },
            "type": "choropleth"
           }
          ],
          "contour": [
           {
            "colorbar": {
             "outlinewidth": 0,
             "ticks": ""
            },
            "colorscale": [
             [
              0,
              "#0d0887"
             ],
             [
              0.1111111111111111,
              "#46039f"
             ],
             [
              0.2222222222222222,
              "#7201a8"
             ],
             [
              0.3333333333333333,
              "#9c179e"
             ],
             [
              0.4444444444444444,
              "#bd3786"
             ],
             [
              0.5555555555555556,
              "#d8576b"
             ],
             [
              0.6666666666666666,
              "#ed7953"
             ],
             [
              0.7777777777777778,
              "#fb9f3a"
             ],
             [
              0.8888888888888888,
              "#fdca26"
             ],
             [
              1,
              "#f0f921"
             ]
            ],
            "type": "contour"
           }
          ],
          "contourcarpet": [
           {
            "colorbar": {
             "outlinewidth": 0,
             "ticks": ""
            },
            "type": "contourcarpet"
           }
          ],
          "heatmap": [
           {
            "colorbar": {
             "outlinewidth": 0,
             "ticks": ""
            },
            "colorscale": [
             [
              0,
              "#0d0887"
             ],
             [
              0.1111111111111111,
              "#46039f"
             ],
             [
              0.2222222222222222,
              "#7201a8"
             ],
             [
              0.3333333333333333,
              "#9c179e"
             ],
             [
              0.4444444444444444,
              "#bd3786"
             ],
             [
              0.5555555555555556,
              "#d8576b"
             ],
             [
              0.6666666666666666,
              "#ed7953"
             ],
             [
              0.7777777777777778,
              "#fb9f3a"
             ],
             [
              0.8888888888888888,
              "#fdca26"
             ],
             [
              1,
              "#f0f921"
             ]
            ],
            "type": "heatmap"
           }
          ],
          "heatmapgl": [
           {
            "colorbar": {
             "outlinewidth": 0,
             "ticks": ""
            },
            "colorscale": [
             [
              0,
              "#0d0887"
             ],
             [
              0.1111111111111111,
              "#46039f"
             ],
             [
              0.2222222222222222,
              "#7201a8"
             ],
             [
              0.3333333333333333,
              "#9c179e"
             ],
             [
              0.4444444444444444,
              "#bd3786"
             ],
             [
              0.5555555555555556,
              "#d8576b"
             ],
             [
              0.6666666666666666,
              "#ed7953"
             ],
             [
              0.7777777777777778,
              "#fb9f3a"
             ],
             [
              0.8888888888888888,
              "#fdca26"
             ],
             [
              1,
              "#f0f921"
             ]
            ],
            "type": "heatmapgl"
           }
          ],
          "histogram": [
           {
            "marker": {
             "pattern": {
              "fillmode": "overlay",
              "size": 10,
              "solidity": 0.2
             }
            },
            "type": "histogram"
           }
          ],
          "histogram2d": [
           {
            "colorbar": {
             "outlinewidth": 0,
             "ticks": ""
            },
            "colorscale": [
             [
              0,
              "#0d0887"
             ],
             [
              0.1111111111111111,
              "#46039f"
             ],
             [
              0.2222222222222222,
              "#7201a8"
             ],
             [
              0.3333333333333333,
              "#9c179e"
             ],
             [
              0.4444444444444444,
              "#bd3786"
             ],
             [
              0.5555555555555556,
              "#d8576b"
             ],
             [
              0.6666666666666666,
              "#ed7953"
             ],
             [
              0.7777777777777778,
              "#fb9f3a"
             ],
             [
              0.8888888888888888,
              "#fdca26"
             ],
             [
              1,
              "#f0f921"
             ]
            ],
            "type": "histogram2d"
           }
          ],
          "histogram2dcontour": [
           {
            "colorbar": {
             "outlinewidth": 0,
             "ticks": ""
            },
            "colorscale": [
             [
              0,
              "#0d0887"
             ],
             [
              0.1111111111111111,
              "#46039f"
             ],
             [
              0.2222222222222222,
              "#7201a8"
             ],
             [
              0.3333333333333333,
              "#9c179e"
             ],
             [
              0.4444444444444444,
              "#bd3786"
             ],
             [
              0.5555555555555556,
              "#d8576b"
             ],
             [
              0.6666666666666666,
              "#ed7953"
             ],
             [
              0.7777777777777778,
              "#fb9f3a"
             ],
             [
              0.8888888888888888,
              "#fdca26"
             ],
             [
              1,
              "#f0f921"
             ]
            ],
            "type": "histogram2dcontour"
           }
          ],
          "mesh3d": [
           {
            "colorbar": {
             "outlinewidth": 0,
             "ticks": ""
            },
            "type": "mesh3d"
           }
          ],
          "parcoords": [
           {
            "line": {
             "colorbar": {
              "outlinewidth": 0,
              "ticks": ""
             }
            },
            "type": "parcoords"
           }
          ],
          "pie": [
           {
            "automargin": true,
            "type": "pie"
           }
          ],
          "scatter": [
           {
            "marker": {
             "colorbar": {
              "outlinewidth": 0,
              "ticks": ""
             }
            },
            "type": "scatter"
           }
          ],
          "scatter3d": [
           {
            "line": {
             "colorbar": {
              "outlinewidth": 0,
              "ticks": ""
             }
            },
            "marker": {
             "colorbar": {
              "outlinewidth": 0,
              "ticks": ""
             }
            },
            "type": "scatter3d"
           }
          ],
          "scattercarpet": [
           {
            "marker": {
             "colorbar": {
              "outlinewidth": 0,
              "ticks": ""
             }
            },
            "type": "scattercarpet"
           }
          ],
          "scattergeo": [
           {
            "marker": {
             "colorbar": {
              "outlinewidth": 0,
              "ticks": ""
             }
            },
            "type": "scattergeo"
           }
          ],
          "scattergl": [
           {
            "marker": {
             "colorbar": {
              "outlinewidth": 0,
              "ticks": ""
             }
            },
            "type": "scattergl"
           }
          ],
          "scattermapbox": [
           {
            "marker": {
             "colorbar": {
              "outlinewidth": 0,
              "ticks": ""
             }
            },
            "type": "scattermapbox"
           }
          ],
          "scatterpolar": [
           {
            "marker": {
             "colorbar": {
              "outlinewidth": 0,
              "ticks": ""
             }
            },
            "type": "scatterpolar"
           }
          ],
          "scatterpolargl": [
           {
            "marker": {
             "colorbar": {
              "outlinewidth": 0,
              "ticks": ""
             }
            },
            "type": "scatterpolargl"
           }
          ],
          "scatterternary": [
           {
            "marker": {
             "colorbar": {
              "outlinewidth": 0,
              "ticks": ""
             }
            },
            "type": "scatterternary"
           }
          ],
          "surface": [
           {
            "colorbar": {
             "outlinewidth": 0,
             "ticks": ""
            },
            "colorscale": [
             [
              0,
              "#0d0887"
             ],
             [
              0.1111111111111111,
              "#46039f"
             ],
             [
              0.2222222222222222,
              "#7201a8"
             ],
             [
              0.3333333333333333,
              "#9c179e"
             ],
             [
              0.4444444444444444,
              "#bd3786"
             ],
             [
              0.5555555555555556,
              "#d8576b"
             ],
             [
              0.6666666666666666,
              "#ed7953"
             ],
             [
              0.7777777777777778,
              "#fb9f3a"
             ],
             [
              0.8888888888888888,
              "#fdca26"
             ],
             [
              1,
              "#f0f921"
             ]
            ],
            "type": "surface"
           }
          ],
          "table": [
           {
            "cells": {
             "fill": {
              "color": "#EBF0F8"
             },
             "line": {
              "color": "white"
             }
            },
            "header": {
             "fill": {
              "color": "#C8D4E3"
             },
             "line": {
              "color": "white"
             }
            },
            "type": "table"
           }
          ]
         },
         "layout": {
          "annotationdefaults": {
           "arrowcolor": "#2a3f5f",
           "arrowhead": 0,
           "arrowwidth": 1
          },
          "autotypenumbers": "strict",
          "coloraxis": {
           "colorbar": {
            "outlinewidth": 0,
            "ticks": ""
           }
          },
          "colorscale": {
           "diverging": [
            [
             0,
             "#8e0152"
            ],
            [
             0.1,
             "#c51b7d"
            ],
            [
             0.2,
             "#de77ae"
            ],
            [
             0.3,
             "#f1b6da"
            ],
            [
             0.4,
             "#fde0ef"
            ],
            [
             0.5,
             "#f7f7f7"
            ],
            [
             0.6,
             "#e6f5d0"
            ],
            [
             0.7,
             "#b8e186"
            ],
            [
             0.8,
             "#7fbc41"
            ],
            [
             0.9,
             "#4d9221"
            ],
            [
             1,
             "#276419"
            ]
           ],
           "sequential": [
            [
             0,
             "#0d0887"
            ],
            [
             0.1111111111111111,
             "#46039f"
            ],
            [
             0.2222222222222222,
             "#7201a8"
            ],
            [
             0.3333333333333333,
             "#9c179e"
            ],
            [
             0.4444444444444444,
             "#bd3786"
            ],
            [
             0.5555555555555556,
             "#d8576b"
            ],
            [
             0.6666666666666666,
             "#ed7953"
            ],
            [
             0.7777777777777778,
             "#fb9f3a"
            ],
            [
             0.8888888888888888,
             "#fdca26"
            ],
            [
             1,
             "#f0f921"
            ]
           ],
           "sequentialminus": [
            [
             0,
             "#0d0887"
            ],
            [
             0.1111111111111111,
             "#46039f"
            ],
            [
             0.2222222222222222,
             "#7201a8"
            ],
            [
             0.3333333333333333,
             "#9c179e"
            ],
            [
             0.4444444444444444,
             "#bd3786"
            ],
            [
             0.5555555555555556,
             "#d8576b"
            ],
            [
             0.6666666666666666,
             "#ed7953"
            ],
            [
             0.7777777777777778,
             "#fb9f3a"
            ],
            [
             0.8888888888888888,
             "#fdca26"
            ],
            [
             1,
             "#f0f921"
            ]
           ]
          },
          "colorway": [
           "#636efa",
           "#EF553B",
           "#00cc96",
           "#ab63fa",
           "#FFA15A",
           "#19d3f3",
           "#FF6692",
           "#B6E880",
           "#FF97FF",
           "#FECB52"
          ],
          "font": {
           "color": "#2a3f5f"
          },
          "geo": {
           "bgcolor": "white",
           "lakecolor": "white",
           "landcolor": "#E5ECF6",
           "showlakes": true,
           "showland": true,
           "subunitcolor": "white"
          },
          "hoverlabel": {
           "align": "left"
          },
          "hovermode": "closest",
          "mapbox": {
           "style": "light"
          },
          "paper_bgcolor": "white",
          "plot_bgcolor": "#E5ECF6",
          "polar": {
           "angularaxis": {
            "gridcolor": "white",
            "linecolor": "white",
            "ticks": ""
           },
           "bgcolor": "#E5ECF6",
           "radialaxis": {
            "gridcolor": "white",
            "linecolor": "white",
            "ticks": ""
           }
          },
          "scene": {
           "xaxis": {
            "backgroundcolor": "#E5ECF6",
            "gridcolor": "white",
            "gridwidth": 2,
            "linecolor": "white",
            "showbackground": true,
            "ticks": "",
            "zerolinecolor": "white"
           },
           "yaxis": {
            "backgroundcolor": "#E5ECF6",
            "gridcolor": "white",
            "gridwidth": 2,
            "linecolor": "white",
            "showbackground": true,
            "ticks": "",
            "zerolinecolor": "white"
           },
           "zaxis": {
            "backgroundcolor": "#E5ECF6",
            "gridcolor": "white",
            "gridwidth": 2,
            "linecolor": "white",
            "showbackground": true,
            "ticks": "",
            "zerolinecolor": "white"
           }
          },
          "shapedefaults": {
           "line": {
            "color": "#2a3f5f"
           }
          },
          "ternary": {
           "aaxis": {
            "gridcolor": "white",
            "linecolor": "white",
            "ticks": ""
           },
           "baxis": {
            "gridcolor": "white",
            "linecolor": "white",
            "ticks": ""
           },
           "bgcolor": "#E5ECF6",
           "caxis": {
            "gridcolor": "white",
            "linecolor": "white",
            "ticks": ""
           }
          },
          "title": {
           "x": 0.05
          },
          "xaxis": {
           "automargin": true,
           "gridcolor": "white",
           "linecolor": "white",
           "ticks": "",
           "title": {
            "standoff": 15
           },
           "zerolinecolor": "white",
           "zerolinewidth": 2
          },
          "yaxis": {
           "automargin": true,
           "gridcolor": "white",
           "linecolor": "white",
           "ticks": "",
           "title": {
            "standoff": 15
           },
           "zerolinecolor": "white",
           "zerolinewidth": 2
          }
         }
        },
        "title": {
         "text": "Number of unique clues and answers in cleaned dataset"
        },
        "width": 600,
        "xaxis": {
         "linecolor": "#696969",
         "linewidth": 2,
         "showgrid": false,
         "showline": true
        },
        "yaxis": {
         "gridcolor": "#696969",
         "linecolor": "#696969",
         "linewidth": 2,
         "showline": true
        }
       }
      }
     },
     "metadata": {},
     "output_type": "display_data"
    }
   ],
   "source": [
    "labels = [  'Unique Pairings',\n",
    "            'Unique Clues',\n",
    "            'Unique Answers'\n",
    "            ]\n",
    "values = [  proportions['pairings'],\n",
    "            proportions['clues'],\n",
    "            proportions['answers']\n",
    "            ]\n",
    "\n",
    "fig = go.Figure()\n",
    "trace = go.Bar( x=labels, \n",
    "                y=values,\n",
    "                text=values,\n",
    "                textposition='auto',\n",
    "                texttemplate='%{text:,}', \n",
    "                marker_color=GREEN, \n",
    "                )\n",
    "\n",
    "fig.add_trace(trace)\n",
    "\n",
    "fig.update_layout(width=600, \n",
    "                  height=600,\n",
    "                  plot_bgcolor='white', \n",
    "                  title = 'Number of unique clues and answers in cleaned dataset', \n",
    "                  font_color = GREY\n",
    "                  )\n",
    "\n",
    "fig.update_yaxes(showline=True, linewidth=2, linecolor=GREY, gridcolor=GREY)\n",
    "fig.update_xaxes(showline=True, linewidth=2, linecolor=GREY, showgrid=False)\n",
    "fig.show()"
   ]
  },
  {
   "cell_type": "markdown",
   "metadata": {},
   "source": [
    "# Frequency of repeated answers"
   ]
  },
  {
   "cell_type": "code",
   "execution_count": 168,
   "metadata": {},
   "outputs": [
    {
     "name": "stdout",
     "output_type": "stream",
     "text": [
      "\n",
      "      Answers with more than 100 occurances:        5991\n",
      "      Answers with between 11 and 99 occurances:    38857\n",
      "      Answers with between 2 and 10 occurances:     104758\n",
      "      Answers with only one occurance:              165444\n",
      "      \n"
     ]
    }
   ],
   "source": [
    "frequencies = { '100+ occurances':    (df['answer'].value_counts() > 100).sum(), \n",
    "                '11-100 occurances':  ((df['answer'].value_counts() < 100) & (df['answer'].value_counts() > 10)).sum(),\n",
    "                '2-10 occurances':     ((df['answer'].value_counts() <= 10) & (df['answer'].value_counts() > 1)).sum(),\n",
    "                '1 occurance':        (df['answer'].value_counts() == 1).sum()\n",
    "              }\n",
    "print(f\"\"\"\n",
    "      Answers with more than 100 occurances:        {frequencies['100+ occurances']}\n",
    "      Answers with between 11 and 99 occurances:    {frequencies['11-100 occurances']}\n",
    "      Answers with between 2 and 10 occurances:     {frequencies['2-10 occurances']}\n",
    "      Answers with only one occurance:              {frequencies['1 occurance']}\n",
    "      \"\"\")\n",
    "\n"
   ]
  },
  {
   "cell_type": "code",
   "execution_count": 273,
   "metadata": {},
   "outputs": [
    {
     "data": {
      "application/vnd.plotly.v1+json": {
       "config": {
        "plotlyServerURL": "https://plot.ly"
       },
       "data": [
        {
         "hole": 0.6,
         "labels": [
          "100+ occurances",
          "11-100 occurances",
          "2-10 occurances",
          "1 occurance"
         ],
         "marker": {
          "colors": [
           "rgb(168.0, 250.79999999999998, 160.79999999999998)",
           "rgb(154.0, 229.9, 147.4)",
           "rgb(140.0, 209.0, 134.0)",
           "rgb(126.0, 188.1, 120.60000000000001)"
          ]
         },
         "text": [
          5991,
          38857,
          104758,
          165444
         ],
         "textinfo": "label+percent",
         "textposition": "outside",
         "type": "pie",
         "values": [
          5991,
          38857,
          104758,
          165444
         ]
        }
       ],
       "layout": {
        "font": {
         "color": "#696969"
        },
        "height": 600,
        "plot_bgcolor": "white",
        "template": {
         "data": {
          "bar": [
           {
            "error_x": {
             "color": "#2a3f5f"
            },
            "error_y": {
             "color": "#2a3f5f"
            },
            "marker": {
             "line": {
              "color": "#E5ECF6",
              "width": 0.5
             },
             "pattern": {
              "fillmode": "overlay",
              "size": 10,
              "solidity": 0.2
             }
            },
            "type": "bar"
           }
          ],
          "barpolar": [
           {
            "marker": {
             "line": {
              "color": "#E5ECF6",
              "width": 0.5
             },
             "pattern": {
              "fillmode": "overlay",
              "size": 10,
              "solidity": 0.2
             }
            },
            "type": "barpolar"
           }
          ],
          "carpet": [
           {
            "aaxis": {
             "endlinecolor": "#2a3f5f",
             "gridcolor": "white",
             "linecolor": "white",
             "minorgridcolor": "white",
             "startlinecolor": "#2a3f5f"
            },
            "baxis": {
             "endlinecolor": "#2a3f5f",
             "gridcolor": "white",
             "linecolor": "white",
             "minorgridcolor": "white",
             "startlinecolor": "#2a3f5f"
            },
            "type": "carpet"
           }
          ],
          "choropleth": [
           {
            "colorbar": {
             "outlinewidth": 0,
             "ticks": ""
            },
            "type": "choropleth"
           }
          ],
          "contour": [
           {
            "colorbar": {
             "outlinewidth": 0,
             "ticks": ""
            },
            "colorscale": [
             [
              0,
              "#0d0887"
             ],
             [
              0.1111111111111111,
              "#46039f"
             ],
             [
              0.2222222222222222,
              "#7201a8"
             ],
             [
              0.3333333333333333,
              "#9c179e"
             ],
             [
              0.4444444444444444,
              "#bd3786"
             ],
             [
              0.5555555555555556,
              "#d8576b"
             ],
             [
              0.6666666666666666,
              "#ed7953"
             ],
             [
              0.7777777777777778,
              "#fb9f3a"
             ],
             [
              0.8888888888888888,
              "#fdca26"
             ],
             [
              1,
              "#f0f921"
             ]
            ],
            "type": "contour"
           }
          ],
          "contourcarpet": [
           {
            "colorbar": {
             "outlinewidth": 0,
             "ticks": ""
            },
            "type": "contourcarpet"
           }
          ],
          "heatmap": [
           {
            "colorbar": {
             "outlinewidth": 0,
             "ticks": ""
            },
            "colorscale": [
             [
              0,
              "#0d0887"
             ],
             [
              0.1111111111111111,
              "#46039f"
             ],
             [
              0.2222222222222222,
              "#7201a8"
             ],
             [
              0.3333333333333333,
              "#9c179e"
             ],
             [
              0.4444444444444444,
              "#bd3786"
             ],
             [
              0.5555555555555556,
              "#d8576b"
             ],
             [
              0.6666666666666666,
              "#ed7953"
             ],
             [
              0.7777777777777778,
              "#fb9f3a"
             ],
             [
              0.8888888888888888,
              "#fdca26"
             ],
             [
              1,
              "#f0f921"
             ]
            ],
            "type": "heatmap"
           }
          ],
          "heatmapgl": [
           {
            "colorbar": {
             "outlinewidth": 0,
             "ticks": ""
            },
            "colorscale": [
             [
              0,
              "#0d0887"
             ],
             [
              0.1111111111111111,
              "#46039f"
             ],
             [
              0.2222222222222222,
              "#7201a8"
             ],
             [
              0.3333333333333333,
              "#9c179e"
             ],
             [
              0.4444444444444444,
              "#bd3786"
             ],
             [
              0.5555555555555556,
              "#d8576b"
             ],
             [
              0.6666666666666666,
              "#ed7953"
             ],
             [
              0.7777777777777778,
              "#fb9f3a"
             ],
             [
              0.8888888888888888,
              "#fdca26"
             ],
             [
              1,
              "#f0f921"
             ]
            ],
            "type": "heatmapgl"
           }
          ],
          "histogram": [
           {
            "marker": {
             "pattern": {
              "fillmode": "overlay",
              "size": 10,
              "solidity": 0.2
             }
            },
            "type": "histogram"
           }
          ],
          "histogram2d": [
           {
            "colorbar": {
             "outlinewidth": 0,
             "ticks": ""
            },
            "colorscale": [
             [
              0,
              "#0d0887"
             ],
             [
              0.1111111111111111,
              "#46039f"
             ],
             [
              0.2222222222222222,
              "#7201a8"
             ],
             [
              0.3333333333333333,
              "#9c179e"
             ],
             [
              0.4444444444444444,
              "#bd3786"
             ],
             [
              0.5555555555555556,
              "#d8576b"
             ],
             [
              0.6666666666666666,
              "#ed7953"
             ],
             [
              0.7777777777777778,
              "#fb9f3a"
             ],
             [
              0.8888888888888888,
              "#fdca26"
             ],
             [
              1,
              "#f0f921"
             ]
            ],
            "type": "histogram2d"
           }
          ],
          "histogram2dcontour": [
           {
            "colorbar": {
             "outlinewidth": 0,
             "ticks": ""
            },
            "colorscale": [
             [
              0,
              "#0d0887"
             ],
             [
              0.1111111111111111,
              "#46039f"
             ],
             [
              0.2222222222222222,
              "#7201a8"
             ],
             [
              0.3333333333333333,
              "#9c179e"
             ],
             [
              0.4444444444444444,
              "#bd3786"
             ],
             [
              0.5555555555555556,
              "#d8576b"
             ],
             [
              0.6666666666666666,
              "#ed7953"
             ],
             [
              0.7777777777777778,
              "#fb9f3a"
             ],
             [
              0.8888888888888888,
              "#fdca26"
             ],
             [
              1,
              "#f0f921"
             ]
            ],
            "type": "histogram2dcontour"
           }
          ],
          "mesh3d": [
           {
            "colorbar": {
             "outlinewidth": 0,
             "ticks": ""
            },
            "type": "mesh3d"
           }
          ],
          "parcoords": [
           {
            "line": {
             "colorbar": {
              "outlinewidth": 0,
              "ticks": ""
             }
            },
            "type": "parcoords"
           }
          ],
          "pie": [
           {
            "automargin": true,
            "type": "pie"
           }
          ],
          "scatter": [
           {
            "marker": {
             "colorbar": {
              "outlinewidth": 0,
              "ticks": ""
             }
            },
            "type": "scatter"
           }
          ],
          "scatter3d": [
           {
            "line": {
             "colorbar": {
              "outlinewidth": 0,
              "ticks": ""
             }
            },
            "marker": {
             "colorbar": {
              "outlinewidth": 0,
              "ticks": ""
             }
            },
            "type": "scatter3d"
           }
          ],
          "scattercarpet": [
           {
            "marker": {
             "colorbar": {
              "outlinewidth": 0,
              "ticks": ""
             }
            },
            "type": "scattercarpet"
           }
          ],
          "scattergeo": [
           {
            "marker": {
             "colorbar": {
              "outlinewidth": 0,
              "ticks": ""
             }
            },
            "type": "scattergeo"
           }
          ],
          "scattergl": [
           {
            "marker": {
             "colorbar": {
              "outlinewidth": 0,
              "ticks": ""
             }
            },
            "type": "scattergl"
           }
          ],
          "scattermapbox": [
           {
            "marker": {
             "colorbar": {
              "outlinewidth": 0,
              "ticks": ""
             }
            },
            "type": "scattermapbox"
           }
          ],
          "scatterpolar": [
           {
            "marker": {
             "colorbar": {
              "outlinewidth": 0,
              "ticks": ""
             }
            },
            "type": "scatterpolar"
           }
          ],
          "scatterpolargl": [
           {
            "marker": {
             "colorbar": {
              "outlinewidth": 0,
              "ticks": ""
             }
            },
            "type": "scatterpolargl"
           }
          ],
          "scatterternary": [
           {
            "marker": {
             "colorbar": {
              "outlinewidth": 0,
              "ticks": ""
             }
            },
            "type": "scatterternary"
           }
          ],
          "surface": [
           {
            "colorbar": {
             "outlinewidth": 0,
             "ticks": ""
            },
            "colorscale": [
             [
              0,
              "#0d0887"
             ],
             [
              0.1111111111111111,
              "#46039f"
             ],
             [
              0.2222222222222222,
              "#7201a8"
             ],
             [
              0.3333333333333333,
              "#9c179e"
             ],
             [
              0.4444444444444444,
              "#bd3786"
             ],
             [
              0.5555555555555556,
              "#d8576b"
             ],
             [
              0.6666666666666666,
              "#ed7953"
             ],
             [
              0.7777777777777778,
              "#fb9f3a"
             ],
             [
              0.8888888888888888,
              "#fdca26"
             ],
             [
              1,
              "#f0f921"
             ]
            ],
            "type": "surface"
           }
          ],
          "table": [
           {
            "cells": {
             "fill": {
              "color": "#EBF0F8"
             },
             "line": {
              "color": "white"
             }
            },
            "header": {
             "fill": {
              "color": "#C8D4E3"
             },
             "line": {
              "color": "white"
             }
            },
            "type": "table"
           }
          ]
         },
         "layout": {
          "annotationdefaults": {
           "arrowcolor": "#2a3f5f",
           "arrowhead": 0,
           "arrowwidth": 1
          },
          "autotypenumbers": "strict",
          "coloraxis": {
           "colorbar": {
            "outlinewidth": 0,
            "ticks": ""
           }
          },
          "colorscale": {
           "diverging": [
            [
             0,
             "#8e0152"
            ],
            [
             0.1,
             "#c51b7d"
            ],
            [
             0.2,
             "#de77ae"
            ],
            [
             0.3,
             "#f1b6da"
            ],
            [
             0.4,
             "#fde0ef"
            ],
            [
             0.5,
             "#f7f7f7"
            ],
            [
             0.6,
             "#e6f5d0"
            ],
            [
             0.7,
             "#b8e186"
            ],
            [
             0.8,
             "#7fbc41"
            ],
            [
             0.9,
             "#4d9221"
            ],
            [
             1,
             "#276419"
            ]
           ],
           "sequential": [
            [
             0,
             "#0d0887"
            ],
            [
             0.1111111111111111,
             "#46039f"
            ],
            [
             0.2222222222222222,
             "#7201a8"
            ],
            [
             0.3333333333333333,
             "#9c179e"
            ],
            [
             0.4444444444444444,
             "#bd3786"
            ],
            [
             0.5555555555555556,
             "#d8576b"
            ],
            [
             0.6666666666666666,
             "#ed7953"
            ],
            [
             0.7777777777777778,
             "#fb9f3a"
            ],
            [
             0.8888888888888888,
             "#fdca26"
            ],
            [
             1,
             "#f0f921"
            ]
           ],
           "sequentialminus": [
            [
             0,
             "#0d0887"
            ],
            [
             0.1111111111111111,
             "#46039f"
            ],
            [
             0.2222222222222222,
             "#7201a8"
            ],
            [
             0.3333333333333333,
             "#9c179e"
            ],
            [
             0.4444444444444444,
             "#bd3786"
            ],
            [
             0.5555555555555556,
             "#d8576b"
            ],
            [
             0.6666666666666666,
             "#ed7953"
            ],
            [
             0.7777777777777778,
             "#fb9f3a"
            ],
            [
             0.8888888888888888,
             "#fdca26"
            ],
            [
             1,
             "#f0f921"
            ]
           ]
          },
          "colorway": [
           "#636efa",
           "#EF553B",
           "#00cc96",
           "#ab63fa",
           "#FFA15A",
           "#19d3f3",
           "#FF6692",
           "#B6E880",
           "#FF97FF",
           "#FECB52"
          ],
          "font": {
           "color": "#2a3f5f"
          },
          "geo": {
           "bgcolor": "white",
           "lakecolor": "white",
           "landcolor": "#E5ECF6",
           "showlakes": true,
           "showland": true,
           "subunitcolor": "white"
          },
          "hoverlabel": {
           "align": "left"
          },
          "hovermode": "closest",
          "mapbox": {
           "style": "light"
          },
          "paper_bgcolor": "white",
          "plot_bgcolor": "#E5ECF6",
          "polar": {
           "angularaxis": {
            "gridcolor": "white",
            "linecolor": "white",
            "ticks": ""
           },
           "bgcolor": "#E5ECF6",
           "radialaxis": {
            "gridcolor": "white",
            "linecolor": "white",
            "ticks": ""
           }
          },
          "scene": {
           "xaxis": {
            "backgroundcolor": "#E5ECF6",
            "gridcolor": "white",
            "gridwidth": 2,
            "linecolor": "white",
            "showbackground": true,
            "ticks": "",
            "zerolinecolor": "white"
           },
           "yaxis": {
            "backgroundcolor": "#E5ECF6",
            "gridcolor": "white",
            "gridwidth": 2,
            "linecolor": "white",
            "showbackground": true,
            "ticks": "",
            "zerolinecolor": "white"
           },
           "zaxis": {
            "backgroundcolor": "#E5ECF6",
            "gridcolor": "white",
            "gridwidth": 2,
            "linecolor": "white",
            "showbackground": true,
            "ticks": "",
            "zerolinecolor": "white"
           }
          },
          "shapedefaults": {
           "line": {
            "color": "#2a3f5f"
           }
          },
          "ternary": {
           "aaxis": {
            "gridcolor": "white",
            "linecolor": "white",
            "ticks": ""
           },
           "baxis": {
            "gridcolor": "white",
            "linecolor": "white",
            "ticks": ""
           },
           "bgcolor": "#E5ECF6",
           "caxis": {
            "gridcolor": "white",
            "linecolor": "white",
            "ticks": ""
           }
          },
          "title": {
           "x": 0.05
          },
          "xaxis": {
           "automargin": true,
           "gridcolor": "white",
           "linecolor": "white",
           "ticks": "",
           "title": {
            "standoff": 15
           },
           "zerolinecolor": "white",
           "zerolinewidth": 2
          },
          "yaxis": {
           "automargin": true,
           "gridcolor": "white",
           "linecolor": "white",
           "ticks": "",
           "title": {
            "standoff": 15
           },
           "zerolinecolor": "white",
           "zerolinewidth": 2
          }
         }
        },
        "title": {
         "text": "Frequency of repeated answers"
        },
        "width": 600,
        "xaxis": {
         "linecolor": "#696969",
         "linewidth": 2,
         "showgrid": false,
         "showline": true
        },
        "yaxis": {
         "gridcolor": "#696969",
         "linecolor": "#696969",
         "linewidth": 2,
         "showline": true
        }
       }
      }
     },
     "metadata": {},
     "output_type": "display_data"
    }
   ],
   "source": [
    "labels = list(frequencies.keys())\n",
    "values = list(frequencies.values())\n",
    "primary_color = np.array(plotly.colors.hex_to_rgb(GREEN))\n",
    "colors = ['rgb'+str(tuple(primary_color*1.2)),\n",
    "          'rgb'+str(tuple(primary_color*1.1)),\n",
    "          'rgb'+str(tuple(primary_color*1.0)),\n",
    "          'rgb'+str(tuple(primary_color*0.9))]\n",
    "\n",
    "fig = go.Figure()\n",
    "trace = go.Pie( labels=labels, \n",
    "                values=values,\n",
    "                text=values,\n",
    "                textinfo='label+percent',\n",
    "                textposition='outside',\n",
    "                marker_colors=colors,\n",
    "                hole=0.6 \n",
    "                )\n",
    "\n",
    "fig.add_trace(trace)\n",
    "\n",
    "fig.update_layout(width=600, \n",
    "                  height=600,\n",
    "                  plot_bgcolor='white', \n",
    "                  title = 'Frequency of repeated answers', \n",
    "                  font_color = GREY\n",
    "                  )\n",
    "\n",
    "fig.update_yaxes(showline=True, linewidth=2, linecolor=GREY, gridcolor=GREY)\n",
    "fig.update_xaxes(showline=True, linewidth=2, linecolor=GREY, showgrid=False)\n",
    "fig.show()\n"
   ]
  },
  {
   "cell_type": "code",
   "execution_count": 147,
   "metadata": {},
   "outputs": [
    {
     "data": {
      "text/plain": [
       "140"
      ]
     },
     "execution_count": 147,
     "metadata": {},
     "output_type": "execute_result"
    }
   ],
   "source": [
    "np.array(plotly.colors.hex_to_rgb(GREEN))\n"
   ]
  },
  {
   "cell_type": "code",
   "execution_count": 3,
   "metadata": {},
   "outputs": [
    {
     "name": "stdout",
     "output_type": "stream",
     "text": [
      "['fasttext-wiki-news-subwords-300', 'conceptnet-numberbatch-17-06-300', 'word2vec-ruscorpora-300', 'word2vec-google-news-300', 'glove-wiki-gigaword-50', 'glove-wiki-gigaword-100', 'glove-wiki-gigaword-200', 'glove-wiki-gigaword-300', 'glove-twitter-25', 'glove-twitter-50', 'glove-twitter-100', 'glove-twitter-200', '__testing_word2vec-matrix-synopsis']\n"
     ]
    }
   ],
   "source": [
    "import gensim.downloader\n",
    "# Show all available models in gensim-data\n",
    "print(list(gensim.downloader.info()['models'].keys()))"
   ]
  },
  {
   "cell_type": "code",
   "execution_count": 10,
   "metadata": {},
   "outputs": [
    {
     "name": "stdout",
     "output_type": "stream",
     "text": [
      "[==================================================] 100.0% 128.1/128.1MB downloaded\n"
     ]
    }
   ],
   "source": [
    "twitter = gensim.downloader.load('glove-twitter-25')\n",
    "google = gensim.downloader.load('word2vec-google-news-300')\n",
    "wiki = gensim.downloader.load('glove-wiki-gigaword-100')\n",
    "model_dict = {'twitter':twitter,\n",
    "              'google':google,\n",
    "              'wiki':wiki}"
   ]
  },
  {
   "cell_type": "code",
   "execution_count": 11,
   "metadata": {},
   "outputs": [
    {
     "data": {
      "text/plain": [
       "True     0.781172\n",
       "False    0.218828\n",
       "Name: twitter, dtype: float64"
      ]
     },
     "execution_count": 11,
     "metadata": {},
     "output_type": "execute_result"
    }
   ],
   "source": [
    "glove_twitter_25_vocab = model_dict['twitter'].key_to_index.keys()\n",
    "df['twitter'] = df['answer'].isin(glove_twitter_25_vocab)\n",
    "df['twitter'].value_counts(normalize=True)"
   ]
  },
  {
   "cell_type": "code",
   "execution_count": 12,
   "metadata": {},
   "outputs": [
    {
     "data": {
      "text/plain": [
       "True     0.708484\n",
       "False    0.291516\n",
       "Name: google, dtype: float64"
      ]
     },
     "execution_count": 12,
     "metadata": {},
     "output_type": "execute_result"
    }
   ],
   "source": [
    "glove_twitter_25_vocab = model_dict['google'].key_to_index.keys()\n",
    "df['google'] = df['answer'].isin(glove_twitter_25_vocab)\n",
    "df['google'].value_counts(normalize=True)"
   ]
  },
  {
   "cell_type": "code",
   "execution_count": 13,
   "metadata": {},
   "outputs": [
    {
     "data": {
      "text/plain": [
       "True     0.789907\n",
       "False    0.210093\n",
       "Name: wiki, dtype: float64"
      ]
     },
     "execution_count": 13,
     "metadata": {},
     "output_type": "execute_result"
    }
   ],
   "source": [
    "glove_twitter_25_vocab = model_dict['wiki'].key_to_index.keys()\n",
    "df['wiki'] = df['answer'].isin(glove_twitter_25_vocab)\n",
    "df['wiki'].value_counts(normalize=True)"
   ]
  },
  {
   "cell_type": "code",
   "execution_count": 15,
   "metadata": {},
   "outputs": [
    {
     "data": {
      "text/plain": [
       "True     0.840708\n",
       "False    0.159292\n",
       "dtype: float64"
      ]
     },
     "execution_count": 15,
     "metadata": {},
     "output_type": "execute_result"
    }
   ],
   "source": [
    "(df['twitter'] | df['wiki'] | df['google']).value_counts(normalize=True)"
   ]
  },
  {
   "cell_type": "code",
   "execution_count": 21,
   "metadata": {},
   "outputs": [
    {
     "data": {
      "text/plain": [
       "0.7094338418825149"
      ]
     },
     "execution_count": 21,
     "metadata": {},
     "output_type": "execute_result"
    }
   ],
   "source": []
  },
  {
   "cell_type": "code",
   "execution_count": 25,
   "metadata": {},
   "outputs": [
    {
     "data": {
      "application/vnd.plotly.v1+json": {
       "config": {
        "plotlyServerURL": "https://plot.ly"
       },
       "data": [
        {
         "marker": {
          "color": "#8CD186"
         },
         "text": [
          "0.7899070263639194",
          "0.7811723615514166",
          "0.7084838525189491",
          "0.8407078685035437"
         ],
         "textposition": "auto",
         "texttemplate": "%{text:0.2%}",
         "type": "bar",
         "x": [
          "glove-wiki-gigaword-100",
          "glove-twitter-25",
          "word2vec-google-news-300",
          "all vocabularies combined"
         ],
         "y": [
          0.7899070263639194,
          0.7811723615514166,
          0.7084838525189491,
          0.8407078685035437
         ]
        }
       ],
       "layout": {
        "font": {
         "color": "#696969"
        },
        "height": 600,
        "plot_bgcolor": "white",
        "template": {
         "data": {
          "bar": [
           {
            "error_x": {
             "color": "#2a3f5f"
            },
            "error_y": {
             "color": "#2a3f5f"
            },
            "marker": {
             "line": {
              "color": "#E5ECF6",
              "width": 0.5
             },
             "pattern": {
              "fillmode": "overlay",
              "size": 10,
              "solidity": 0.2
             }
            },
            "type": "bar"
           }
          ],
          "barpolar": [
           {
            "marker": {
             "line": {
              "color": "#E5ECF6",
              "width": 0.5
             },
             "pattern": {
              "fillmode": "overlay",
              "size": 10,
              "solidity": 0.2
             }
            },
            "type": "barpolar"
           }
          ],
          "carpet": [
           {
            "aaxis": {
             "endlinecolor": "#2a3f5f",
             "gridcolor": "white",
             "linecolor": "white",
             "minorgridcolor": "white",
             "startlinecolor": "#2a3f5f"
            },
            "baxis": {
             "endlinecolor": "#2a3f5f",
             "gridcolor": "white",
             "linecolor": "white",
             "minorgridcolor": "white",
             "startlinecolor": "#2a3f5f"
            },
            "type": "carpet"
           }
          ],
          "choropleth": [
           {
            "colorbar": {
             "outlinewidth": 0,
             "ticks": ""
            },
            "type": "choropleth"
           }
          ],
          "contour": [
           {
            "colorbar": {
             "outlinewidth": 0,
             "ticks": ""
            },
            "colorscale": [
             [
              0,
              "#0d0887"
             ],
             [
              0.1111111111111111,
              "#46039f"
             ],
             [
              0.2222222222222222,
              "#7201a8"
             ],
             [
              0.3333333333333333,
              "#9c179e"
             ],
             [
              0.4444444444444444,
              "#bd3786"
             ],
             [
              0.5555555555555556,
              "#d8576b"
             ],
             [
              0.6666666666666666,
              "#ed7953"
             ],
             [
              0.7777777777777778,
              "#fb9f3a"
             ],
             [
              0.8888888888888888,
              "#fdca26"
             ],
             [
              1,
              "#f0f921"
             ]
            ],
            "type": "contour"
           }
          ],
          "contourcarpet": [
           {
            "colorbar": {
             "outlinewidth": 0,
             "ticks": ""
            },
            "type": "contourcarpet"
           }
          ],
          "heatmap": [
           {
            "colorbar": {
             "outlinewidth": 0,
             "ticks": ""
            },
            "colorscale": [
             [
              0,
              "#0d0887"
             ],
             [
              0.1111111111111111,
              "#46039f"
             ],
             [
              0.2222222222222222,
              "#7201a8"
             ],
             [
              0.3333333333333333,
              "#9c179e"
             ],
             [
              0.4444444444444444,
              "#bd3786"
             ],
             [
              0.5555555555555556,
              "#d8576b"
             ],
             [
              0.6666666666666666,
              "#ed7953"
             ],
             [
              0.7777777777777778,
              "#fb9f3a"
             ],
             [
              0.8888888888888888,
              "#fdca26"
             ],
             [
              1,
              "#f0f921"
             ]
            ],
            "type": "heatmap"
           }
          ],
          "heatmapgl": [
           {
            "colorbar": {
             "outlinewidth": 0,
             "ticks": ""
            },
            "colorscale": [
             [
              0,
              "#0d0887"
             ],
             [
              0.1111111111111111,
              "#46039f"
             ],
             [
              0.2222222222222222,
              "#7201a8"
             ],
             [
              0.3333333333333333,
              "#9c179e"
             ],
             [
              0.4444444444444444,
              "#bd3786"
             ],
             [
              0.5555555555555556,
              "#d8576b"
             ],
             [
              0.6666666666666666,
              "#ed7953"
             ],
             [
              0.7777777777777778,
              "#fb9f3a"
             ],
             [
              0.8888888888888888,
              "#fdca26"
             ],
             [
              1,
              "#f0f921"
             ]
            ],
            "type": "heatmapgl"
           }
          ],
          "histogram": [
           {
            "marker": {
             "pattern": {
              "fillmode": "overlay",
              "size": 10,
              "solidity": 0.2
             }
            },
            "type": "histogram"
           }
          ],
          "histogram2d": [
           {
            "colorbar": {
             "outlinewidth": 0,
             "ticks": ""
            },
            "colorscale": [
             [
              0,
              "#0d0887"
             ],
             [
              0.1111111111111111,
              "#46039f"
             ],
             [
              0.2222222222222222,
              "#7201a8"
             ],
             [
              0.3333333333333333,
              "#9c179e"
             ],
             [
              0.4444444444444444,
              "#bd3786"
             ],
             [
              0.5555555555555556,
              "#d8576b"
             ],
             [
              0.6666666666666666,
              "#ed7953"
             ],
             [
              0.7777777777777778,
              "#fb9f3a"
             ],
             [
              0.8888888888888888,
              "#fdca26"
             ],
             [
              1,
              "#f0f921"
             ]
            ],
            "type": "histogram2d"
           }
          ],
          "histogram2dcontour": [
           {
            "colorbar": {
             "outlinewidth": 0,
             "ticks": ""
            },
            "colorscale": [
             [
              0,
              "#0d0887"
             ],
             [
              0.1111111111111111,
              "#46039f"
             ],
             [
              0.2222222222222222,
              "#7201a8"
             ],
             [
              0.3333333333333333,
              "#9c179e"
             ],
             [
              0.4444444444444444,
              "#bd3786"
             ],
             [
              0.5555555555555556,
              "#d8576b"
             ],
             [
              0.6666666666666666,
              "#ed7953"
             ],
             [
              0.7777777777777778,
              "#fb9f3a"
             ],
             [
              0.8888888888888888,
              "#fdca26"
             ],
             [
              1,
              "#f0f921"
             ]
            ],
            "type": "histogram2dcontour"
           }
          ],
          "mesh3d": [
           {
            "colorbar": {
             "outlinewidth": 0,
             "ticks": ""
            },
            "type": "mesh3d"
           }
          ],
          "parcoords": [
           {
            "line": {
             "colorbar": {
              "outlinewidth": 0,
              "ticks": ""
             }
            },
            "type": "parcoords"
           }
          ],
          "pie": [
           {
            "automargin": true,
            "type": "pie"
           }
          ],
          "scatter": [
           {
            "marker": {
             "colorbar": {
              "outlinewidth": 0,
              "ticks": ""
             }
            },
            "type": "scatter"
           }
          ],
          "scatter3d": [
           {
            "line": {
             "colorbar": {
              "outlinewidth": 0,
              "ticks": ""
             }
            },
            "marker": {
             "colorbar": {
              "outlinewidth": 0,
              "ticks": ""
             }
            },
            "type": "scatter3d"
           }
          ],
          "scattercarpet": [
           {
            "marker": {
             "colorbar": {
              "outlinewidth": 0,
              "ticks": ""
             }
            },
            "type": "scattercarpet"
           }
          ],
          "scattergeo": [
           {
            "marker": {
             "colorbar": {
              "outlinewidth": 0,
              "ticks": ""
             }
            },
            "type": "scattergeo"
           }
          ],
          "scattergl": [
           {
            "marker": {
             "colorbar": {
              "outlinewidth": 0,
              "ticks": ""
             }
            },
            "type": "scattergl"
           }
          ],
          "scattermapbox": [
           {
            "marker": {
             "colorbar": {
              "outlinewidth": 0,
              "ticks": ""
             }
            },
            "type": "scattermapbox"
           }
          ],
          "scatterpolar": [
           {
            "marker": {
             "colorbar": {
              "outlinewidth": 0,
              "ticks": ""
             }
            },
            "type": "scatterpolar"
           }
          ],
          "scatterpolargl": [
           {
            "marker": {
             "colorbar": {
              "outlinewidth": 0,
              "ticks": ""
             }
            },
            "type": "scatterpolargl"
           }
          ],
          "scatterternary": [
           {
            "marker": {
             "colorbar": {
              "outlinewidth": 0,
              "ticks": ""
             }
            },
            "type": "scatterternary"
           }
          ],
          "surface": [
           {
            "colorbar": {
             "outlinewidth": 0,
             "ticks": ""
            },
            "colorscale": [
             [
              0,
              "#0d0887"
             ],
             [
              0.1111111111111111,
              "#46039f"
             ],
             [
              0.2222222222222222,
              "#7201a8"
             ],
             [
              0.3333333333333333,
              "#9c179e"
             ],
             [
              0.4444444444444444,
              "#bd3786"
             ],
             [
              0.5555555555555556,
              "#d8576b"
             ],
             [
              0.6666666666666666,
              "#ed7953"
             ],
             [
              0.7777777777777778,
              "#fb9f3a"
             ],
             [
              0.8888888888888888,
              "#fdca26"
             ],
             [
              1,
              "#f0f921"
             ]
            ],
            "type": "surface"
           }
          ],
          "table": [
           {
            "cells": {
             "fill": {
              "color": "#EBF0F8"
             },
             "line": {
              "color": "white"
             }
            },
            "header": {
             "fill": {
              "color": "#C8D4E3"
             },
             "line": {
              "color": "white"
             }
            },
            "type": "table"
           }
          ]
         },
         "layout": {
          "annotationdefaults": {
           "arrowcolor": "#2a3f5f",
           "arrowhead": 0,
           "arrowwidth": 1
          },
          "autotypenumbers": "strict",
          "coloraxis": {
           "colorbar": {
            "outlinewidth": 0,
            "ticks": ""
           }
          },
          "colorscale": {
           "diverging": [
            [
             0,
             "#8e0152"
            ],
            [
             0.1,
             "#c51b7d"
            ],
            [
             0.2,
             "#de77ae"
            ],
            [
             0.3,
             "#f1b6da"
            ],
            [
             0.4,
             "#fde0ef"
            ],
            [
             0.5,
             "#f7f7f7"
            ],
            [
             0.6,
             "#e6f5d0"
            ],
            [
             0.7,
             "#b8e186"
            ],
            [
             0.8,
             "#7fbc41"
            ],
            [
             0.9,
             "#4d9221"
            ],
            [
             1,
             "#276419"
            ]
           ],
           "sequential": [
            [
             0,
             "#0d0887"
            ],
            [
             0.1111111111111111,
             "#46039f"
            ],
            [
             0.2222222222222222,
             "#7201a8"
            ],
            [
             0.3333333333333333,
             "#9c179e"
            ],
            [
             0.4444444444444444,
             "#bd3786"
            ],
            [
             0.5555555555555556,
             "#d8576b"
            ],
            [
             0.6666666666666666,
             "#ed7953"
            ],
            [
             0.7777777777777778,
             "#fb9f3a"
            ],
            [
             0.8888888888888888,
             "#fdca26"
            ],
            [
             1,
             "#f0f921"
            ]
           ],
           "sequentialminus": [
            [
             0,
             "#0d0887"
            ],
            [
             0.1111111111111111,
             "#46039f"
            ],
            [
             0.2222222222222222,
             "#7201a8"
            ],
            [
             0.3333333333333333,
             "#9c179e"
            ],
            [
             0.4444444444444444,
             "#bd3786"
            ],
            [
             0.5555555555555556,
             "#d8576b"
            ],
            [
             0.6666666666666666,
             "#ed7953"
            ],
            [
             0.7777777777777778,
             "#fb9f3a"
            ],
            [
             0.8888888888888888,
             "#fdca26"
            ],
            [
             1,
             "#f0f921"
            ]
           ]
          },
          "colorway": [
           "#636efa",
           "#EF553B",
           "#00cc96",
           "#ab63fa",
           "#FFA15A",
           "#19d3f3",
           "#FF6692",
           "#B6E880",
           "#FF97FF",
           "#FECB52"
          ],
          "font": {
           "color": "#2a3f5f"
          },
          "geo": {
           "bgcolor": "white",
           "lakecolor": "white",
           "landcolor": "#E5ECF6",
           "showlakes": true,
           "showland": true,
           "subunitcolor": "white"
          },
          "hoverlabel": {
           "align": "left"
          },
          "hovermode": "closest",
          "mapbox": {
           "style": "light"
          },
          "paper_bgcolor": "white",
          "plot_bgcolor": "#E5ECF6",
          "polar": {
           "angularaxis": {
            "gridcolor": "white",
            "linecolor": "white",
            "ticks": ""
           },
           "bgcolor": "#E5ECF6",
           "radialaxis": {
            "gridcolor": "white",
            "linecolor": "white",
            "ticks": ""
           }
          },
          "scene": {
           "xaxis": {
            "backgroundcolor": "#E5ECF6",
            "gridcolor": "white",
            "gridwidth": 2,
            "linecolor": "white",
            "showbackground": true,
            "ticks": "",
            "zerolinecolor": "white"
           },
           "yaxis": {
            "backgroundcolor": "#E5ECF6",
            "gridcolor": "white",
            "gridwidth": 2,
            "linecolor": "white",
            "showbackground": true,
            "ticks": "",
            "zerolinecolor": "white"
           },
           "zaxis": {
            "backgroundcolor": "#E5ECF6",
            "gridcolor": "white",
            "gridwidth": 2,
            "linecolor": "white",
            "showbackground": true,
            "ticks": "",
            "zerolinecolor": "white"
           }
          },
          "shapedefaults": {
           "line": {
            "color": "#2a3f5f"
           }
          },
          "ternary": {
           "aaxis": {
            "gridcolor": "white",
            "linecolor": "white",
            "ticks": ""
           },
           "baxis": {
            "gridcolor": "white",
            "linecolor": "white",
            "ticks": ""
           },
           "bgcolor": "#E5ECF6",
           "caxis": {
            "gridcolor": "white",
            "linecolor": "white",
            "ticks": ""
           }
          },
          "title": {
           "x": 0.05
          },
          "xaxis": {
           "automargin": true,
           "gridcolor": "white",
           "linecolor": "white",
           "ticks": "",
           "title": {
            "standoff": 15
           },
           "zerolinecolor": "white",
           "zerolinewidth": 2
          },
          "yaxis": {
           "automargin": true,
           "gridcolor": "white",
           "linecolor": "white",
           "ticks": "",
           "title": {
            "standoff": 15
           },
           "zerolinecolor": "white",
           "zerolinewidth": 2
          }
         }
        },
        "title": {
         "text": "Percentage of answers contained in vocabularies of pre-trained word2vec models"
        },
        "width": 900,
        "xaxis": {
         "linecolor": "#696969",
         "linewidth": 2,
         "showgrid": false,
         "showline": true
        },
        "yaxis": {
         "gridcolor": "#696969",
         "linecolor": "#696969",
         "linewidth": 2,
         "range": [
          0,
          1
         ],
         "showline": true,
         "tickformat": ".0%"
        }
       }
      }
     },
     "metadata": {},
     "output_type": "display_data"
    }
   ],
   "source": [
    "labels = [  'glove-wiki-gigaword-100',\n",
    "            'glove-twitter-25',\n",
    "            'word2vec-google-news-300',\n",
    "            'all vocabularies combined' \n",
    "            ]\n",
    "values = [  df['wiki'].value_counts(normalize=True)[1], \n",
    "            df['twitter'].value_counts(normalize=True)[1],\n",
    "            df['google'].value_counts(normalize=True)[1],\n",
    "            (df['twitter'] \n",
    "             | df['google'] \n",
    "             | df['wiki']).value_counts(normalize=True)[1]]\n",
    "\n",
    "fig = go.Figure()\n",
    "trace = go.Bar( x=labels, \n",
    "                y=values,\n",
    "                text=values,\n",
    "                textposition='auto',\n",
    "                texttemplate='%{text:0.2%}', \n",
    "                marker_color=GREEN, \n",
    "                )\n",
    "\n",
    "fig.add_trace(trace)\n",
    "\n",
    "fig.update_layout(width=900, \n",
    "                  height=600,\n",
    "                  plot_bgcolor='white', \n",
    "                  title = 'Percentage of answers contained in vocabularies of pre-trained word2vec models', \n",
    "                  font_color = GREY\n",
    "                  )\n",
    "\n",
    "fig.update_yaxes(showline=True, linewidth=2, linecolor=GREY, gridcolor=GREY, range=[0,1],tickformat=\".0%\")\n",
    "fig.update_xaxes(showline=True, linewidth=2, linecolor=GREY, showgrid=False)\n",
    "fig.show()"
   ]
  },
  {
   "cell_type": "markdown",
   "metadata": {},
   "source": [
    "# Possible Cleaning / Handling Strategies\n",
    "#### Brainstorming ideas for how to handle the variety of different questions and also clean strings to be readable by algorithm. Bullet points are seperate ideas that might be used individually or in conjunction with some/all of the others\n",
    "\n",
    "\n",
    "\n",
    "Capital letters not at the start of sentence:\n",
    "* flag as involving a noun\n",
    "* flag as requiring a noun\n",
    "* convert into ____\n",
    "* use in generating a topic\n",
    "\n",
    "Numbers:\n",
    "* remove\n",
    "* flag as involving number\n",
    "\n",
    "Single characters:\n",
    "* remove\n",
    "\n",
    "Containing \"-Across\" or \"-Down\"\n",
    "* remove from dataset (only of use in a later iteration of model that solve entire puzzle rather than single questions)\n",
    "\n",
    "!\n",
    "* Remove\n",
    "* If at end of sentance, seperate with space and use it as a word otherwise delete\n",
    "\n",
    "\"\n",
    "* Remove \" from string\n",
    "* Remove text outside of \" \" \n",
    "* Remove text inside of \" \" but use it for generating a topic as a new value\n",
    "\n",
    "\\#\n",
    "* Remove\n",
    "\n",
    "$\n",
    "* Replace with \" money \" or something similar\n",
    "* Remove\n",
    "\n",
    "%\n",
    "* Remove\n",
    "\n",
    "&\n",
    "* Remove\n",
    "\n",
    "'\n",
    "* Remove\n",
    "* If followed by an 's' remove that too\n",
    "\n",
    "( )\n",
    "* Remove\n",
    "\n",
    "\\*\n",
    "\n",
    "* Remove\n",
    "* an asterisk at the start of clue might be useful for a later itertion of model that solves entire puzzle rather than a single question\n",
    "\n",
    "\\+\n",
    "\n",
    "* Remove\n",
    "* Seperate into multiple questions using + as seperator and create a new clue composed of the solutions of each segment\n",
    "\n",
    ",\n",
    "\n",
    "* Remove\n",
    "\n",
    "\\-\n",
    "* Remove\n",
    "\n",
    ".\t\n",
    "* Remove\n",
    "\n",
    "/\n",
    "* Remove\n",
    "\n",
    ":\n",
    "* Remove\n",
    "* Use text before to generate topic and text after as clue\n",
    "\n",
    ";\n",
    "* Remove\n",
    "\n",
    "<>\n",
    "* Remove\n",
    "\n",
    "=\n",
    "* Remove\n",
    "* Use text after to generate topic and text before as clue\n",
    "\n",
    "?\n",
    "* Remove\n",
    "\n",
    "@\n",
    "* Remove\n",
    "\n",
    "[]\n",
    "* Remove\n",
    "\n",
    "\\\n",
    "* Remove\n",
    "\n",
    "^\n",
    "* Remove\n",
    "* Replace with \"squared\" or something similar\n",
    "\n",
    "_\n",
    "* Flag for requiring a blank within sentence\n",
    "* Remove\n",
    "\n",
    "`\n",
    "* Remove\n",
    "* If double, treat as \"\n",
    "\n",
    "{}\n",
    "* Remove\n",
    "\n",
    "|\n",
    "* Remove\n",
    "\n",
    "~\n",
    "* Remove\n"
   ]
  },
  {
   "cell_type": "code",
   "execution_count": 42,
   "metadata": {},
   "outputs": [
    {
     "data": {
      "image/png": "[encoded data removed]",
      "text/plain": [
       "<Figure size 432x288 with 1 Axes>"
      ]
     },
     "metadata": {
      "needs_background": "light"
     },
     "output_type": "display_data"
    },
    {
     "data": {
      "image/png": "[encoded data removed]",
      "text/plain": [
       "<Figure size 432x288 with 1 Axes>"
      ]
     },
     "metadata": {
      "needs_background": "light"
     },
     "output_type": "display_data"
    },
    {
     "data": {
      "image/png": "[encoded data removed]",
      "text/plain": [
       "<Figure size 432x288 with 1 Axes>"
      ]
     },
     "metadata": {
      "needs_background": "light"
     },
     "output_type": "display_data"
    }
   ],
   "source": [
    "from sklearn.cluster import MiniBatchKMeans\n",
    "from matplotlib import pyplot as plt\n",
    "\n",
    "for model_name, model in model_dict.items():\n",
    "\n",
    "    X = model.vectors\n",
    "    #print(X)\n",
    "    data = X\n",
    "\n",
    "    sse = {}\n",
    "    for k in range(1, 100):\n",
    "        kmeans = MiniBatchKMeans(n_clusters=k, max_iter=1000).fit(data)\n",
    "        #print(data[\"clusters\"])\n",
    "        sse[k] = kmeans.inertia_ # Inertia: Sum of distances of samples to their closest cluster center\n",
    "    plt.figure()\n",
    "    plt.plot(list(sse.keys()), list(sse.values()))\n",
    "    plt.xlabel(\"Number of clusters\")\n",
    "    plt.ylabel(\"Sum of Squared Errors\")\n",
    "    plt.title(model_name)\n",
    "    plt.show()"
   ]
  },
  {
   "cell_type": "code",
   "execution_count": null,
   "metadata": {},
   "outputs": [],
   "source": []
  }
 ],
 "metadata": {
  "interpreter": {
   "hash": "4fe28adbe6d40c82bdde6a2233f025e3b944121e67b5abb397657075ce1366ca"
  },
  "kernelspec": {
   "display_name": "Python 3.8.12 ('lighthouse')",
   "language": "python",
   "name": "python3"
  },
  "language_info": {
   "codemirror_mode": {
    "name": "ipython",
    "version": 3
   },
   "file_extension": ".py",
   "mimetype": "text/x-python",
   "name": "python",
   "nbconvert_exporter": "python",
   "pygments_lexer": "ipython3",
   "version": "3.8.12"
  },
  "orig_nbformat": 4
 },
 "nbformat": 4,
 "nbformat_minor": 2
}

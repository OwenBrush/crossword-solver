{
 "cells": [
  {
   "cell_type": "code",
   "execution_count": 7,
   "metadata": {},
   "outputs": [],
   "source": [
    "import pandas as pd\n",
    "import numpy as np\n",
    "import gensim.downloader\n",
    "\n",
    "from sklearn.model_selection import train_test_split\n",
    "\n",
    "DATA_FOLDER = 'data/'\n",
    "CLEAN = 'clean_data.csv'\n",
    "TRAIN = 'train_data.csv'\n",
    "TEST = 'test_data.csv'"
   ]
  },
  {
   "cell_type": "code",
   "execution_count": 8,
   "metadata": {},
   "outputs": [],
   "source": [
    "from string import punctuation\n",
    "EXPRESSIONS_TO_REMOVE = [\"\\\\\"+x for x in list(punctuation)]\n",
    "\n",
    "\n",
    "def prepare_data(data:pd.DataFrame) -> pd.DataFrame:\n",
    "    data = data[['answer','clue']]   #Keep only relevant columns\n",
    "    prepare_noun_required(data)\n",
    "    prepare_fill_blank(data)\n",
    "    clean_strings(data)\n",
    "    data.drop_duplicates(['answer','clue'],keep='first', inplace=True)  #Drop repetitions of same answer/clue pairs\n",
    "    data.dropna(inplace=True)\n",
    "    return data\n",
    "\n",
    "def prepare_noun_required(data:pd.DataFrame) -> pd.DataFrame:\n",
    "    data['noun_involved'] = data['clue'].str.contains('[A-Z].*[A-Z]',regex=True)\n",
    "    return data\n",
    "\n",
    "def prepare_fill_blank(data:pd.DataFrame) -> pd.DataFrame:\n",
    "    data['fill_blank'] = data['clue'].str.contains('_', regex=False)\n",
    "    return data\n",
    "\n",
    "def clean_strings(data:pd.DataFrame) -> pd.DataFrame:\n",
    "    data['answer'] = data['answer'].str.lower().str.strip()  \n",
    "    data['clue'] = data['clue'].str.lower().str.strip()\n",
    "    data.replace('$', ' money ',            regex=False,    inplace=True)\n",
    "    data.replace('``', '\"',                 regex=False,    inplace=True)\n",
    "    data.replace(r'\\b\\w{1,1}\\b','',         regex=True,     inplace=True) \n",
    "    data.replace(EXPRESSIONS_TO_REMOVE, ' ',regex=True,     inplace=True)\n",
    "    data.replace('\\d+', '',                 regex=True,     inplace=True)\n",
    "    data.replace('  ', ' ',                 regex=False,    inplace=True)\n",
    "    data.replace(['nan',''], np.nan,        regex=False,    inplace=True)\n",
    "        \n",
    "    return data\n",
    "    "
   ]
  },
  {
   "cell_type": "markdown",
   "metadata": {},
   "source": [
    "### Clean data and save"
   ]
  },
  {
   "cell_type": "code",
   "execution_count": 9,
   "metadata": {},
   "outputs": [
    {
     "name": "stderr",
     "output_type": "stream",
     "text": [
      "<ipython-input-8-c5409f3f38d4>:15: SettingWithCopyWarning: \n",
      "A value is trying to be set on a copy of a slice from a DataFrame.\n",
      "Try using .loc[row_indexer,col_indexer] = value instead\n",
      "\n",
      "See the caveats in the documentation: https://pandas.pydata.org/pandas-docs/stable/user_guide/indexing.html#returning-a-view-versus-a-copy\n",
      "  data['noun_involved'] = data['clue'].str.contains('[A-Z].*[A-Z]',regex=True)\n"
     ]
    }
   ],
   "source": [
    "df = pd.read_table('data/clues.tsv')\n",
    "df = prepare_data(df)\n",
    "df.to_csv(DATA_FOLDER+CLEAN, index=False)\n"
   ]
  },
  {
   "cell_type": "markdown",
   "metadata": {},
   "source": [
    "### Assign model vocabulary booleans and save"
   ]
  },
  {
   "cell_type": "code",
   "execution_count": 21,
   "metadata": {},
   "outputs": [],
   "source": [
    "def is_in_pretrained_word2vec_model(data:pd.DataFrame, model_name:str)->pd.DataFrame:\n",
    "    trained_model = gensim.downloader.load(model_name)\n",
    "    vocab = [x.split('/')[-1] for x in trained_model.index_to_key]\n",
    "    data[model_name] = data['answer'].isin(vocab)\n",
    "    return data\n"
   ]
  },
  {
   "cell_type": "code",
   "execution_count": 22,
   "metadata": {},
   "outputs": [],
   "source": [
    "#glove-twitter-200\n",
    "df = pd.read_csv(DATA_FOLDER+CLEAN)\n",
    "test = df.iloc[0]\n",
    "test = is_in_pretrained_word2vec_model(test,'glove-twitter-200')\n",
    "df.to_csv(DATA_FOLDER+CLEAN, index=False)"
   ]
  },
  {
   "cell_type": "markdown",
   "metadata": {},
   "source": [
    "### Split data into train and test sets"
   ]
  },
  {
   "cell_type": "code",
   "execution_count": null,
   "metadata": {},
   "outputs": [],
   "source": [
    "train, test = train_test_split(df, test_size=0.3, random_state=42)\n",
    "\n",
    "df.to_csv(DATA_FOLDER+CLEAN, index=False)\n",
    "train.to_csv(DATA_FOLDER+TRAIN,index=False)\n",
    "test.to_csv(DATA_FOLDER+TEST,index=False)"
   ]
  }
 ],
 "metadata": {
  "interpreter": {
   "hash": "4fe28adbe6d40c82bdde6a2233f025e3b944121e67b5abb397657075ce1366ca"
  },
  "kernelspec": {
   "display_name": "Python 3.8.12 ('lighthouse')",
   "language": "python",
   "name": "python3"
  },
  "language_info": {
   "codemirror_mode": {
    "name": "ipython",
    "version": 3
   },
   "file_extension": ".py",
   "mimetype": "text/x-python",
   "name": "python",
   "nbconvert_exporter": "python",
   "pygments_lexer": "ipython3",
   "version": "3.8.12"
  },
  "orig_nbformat": 4
 },
 "nbformat": 4,
 "nbformat_minor": 2
}

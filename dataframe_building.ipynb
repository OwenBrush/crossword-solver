{
 "cells": [
  {
   "cell_type": "code",
   "execution_count": 6,
   "metadata": {},
   "outputs": [],
   "source": [
    "import pandas as pd\n",
    "import numpy as np\n",
    "import gensim.downloader\n",
    "import custom_transformers\n",
    "import gensim.downloader\n",
    "import os.path\n",
    "import swifter\n",
    "\n",
    "\n",
    "from sklearn.model_selection import train_test_split\n",
    "from sklearn.metrics.pairwise import cosine_similarity\n",
    "from sklearn.utils import resample\n",
    "\n",
    "DATA_FOLDER = 'data/'\n",
    "ORIGIN = 'origin_data.tsv'\n",
    "CLEAN = 'clean_data.csv'\n",
    "RESAMPLED ='resampled_data.csv'\n",
    "\n",
    "SAMPLE_SIZE = 100000\n",
    "RANDOM_STATE = 357394"
   ]
  },
  {
   "cell_type": "markdown",
   "metadata": {},
   "source": [
    "### Clean Original Data \n",
    " - drop nulls\n",
    " - clean strings\n",
    " - remove stop words where possible\n",
    " - eliminate duplicate clue and answer pairings\n",
    " - create new column of answer length / characters as would be available in the context of a crossword puzzle"
   ]
  },
  {
   "cell_type": "code",
   "execution_count": 41,
   "metadata": {},
   "outputs": [],
   "source": [
    "if os.path.isfile(DATA_FOLDER+CLEAN):\n",
    "    df = pd.read_csv(DATA_FOLDER+CLEAN)\n",
    "else:\n",
    "    #Select only relevant columns.\n",
    "    df = pd.read_table(DATA_FOLDER+ORIGIN)[['answer','clue']]\n",
    "\n",
    "    #Clean Strings\n",
    "    df = custom_transformers.CleanStrings(df)\n",
    "    df['answer'] = df['answer'].str.lower().str.strip()\n",
    "\n",
    "    #Drop any rows with null values.\n",
    "    df.dropna(inplace=True)\n",
    "\n",
    "    # Drop repetitions of answer / clue pairings\n",
    "    df.drop_duplicates(['answer','clue'],keep='first', inplace=True)\n",
    "    df.reset_index(drop=True, inplace=True) \n",
    "\n",
    "    #Create length of answer, as would be available in the context of a crossword puzzle.\n",
    "    df['answer_characters'] = '_'\n",
    "    df['answer_characters'] = df['answer_characters'].str.repeat(df['answer'].str.len().astype(int))\n",
    "    \n",
    "    #Save to drive\n",
    "    df.to_csv(DATA_FOLDER+CLEAN, index=False)\n",
    "\n",
    "# Create smaller sam    \n",
    "if os.path.isfile(DATA_FOLDER+RESAMPLED):\n",
    "    sampled_df = pd.read_csv(DATA_FOLDER+RESAMPLED)\n",
    "else:\n",
    "    sampled_df = resample(df,n_samples=SAMPLE_SIZE, random_state=RANDOM_STATE, replace=False)\n",
    "    sampled_df.to_csv(DATA_FOLDER+RESAMPLED, index=False)\n",
    "    \n"
   ]
  },
  {
   "cell_type": "markdown",
   "metadata": {},
   "source": [
    "### Generate Cosign similarities between clue and answer (to be used as target in machine learning)"
   ]
  },
  {
   "cell_type": "code",
   "execution_count": 45,
   "metadata": {},
   "outputs": [],
   "source": [
    "def generate_cosign_similarity(data, model_dict):\n",
    "    data = data.copy()\n",
    "    for model_name, model in model_dict.items():\n",
    "        # Vocabulary List of words in model\n",
    "        vocab = model.index_to_key\n",
    "        # Value to indicate if answer is contained in model vocabulary\n",
    "        data[model_name] = False\n",
    "        data.loc[data['answer'].isin(vocab), model_name] = True \n",
    "        \n",
    "        # Series of string lists generated from clues, filtering out words not in vocabulary\n",
    "        clue_words = data['clue'].astype(str).swifter.apply(lambda clue: [x for x in clue.split() if x in vocab])\n",
    "        \n",
    "        # Filter out entries not captured by vocabulary\n",
    "        filter = (data[model_name] == True) & (clue_words.str.len() > 0 )\n",
    "        clue_words = clue_words[filter]\n",
    "        answer_vectors = model[data.loc[filter, 'answer']]\n",
    "        \n",
    "        # Assign cosgin similarity\n",
    "        clue_vectors = [np.mean(model[x],axis=0) for x in clue_words]\n",
    "        cos_sim = np.diagonal(cosine_similarity(answer_vectors, clue_vectors))\n",
    "        data.loc[filter, model_name+'_cosine_similarity'] = cos_sim\n",
    "    \n",
    "    return data\n"
   ]
  },
  {
   "cell_type": "code",
   "execution_count": null,
   "metadata": {},
   "outputs": [],
   "source": [
    "# Load Gensim Models\n",
    "twitter = gensim.downloader.load('glove-twitter-200')\n",
    "google = gensim.downloader.load('word2vec-google-news-300')\n",
    "wiki = gensim.downloader.load('glove-wiki-gigaword-300')\n",
    "model_dict = {'twitter':twitter,\n",
    "              'google':google,\n",
    "              'wiki':wiki}"
   ]
  },
  {
   "cell_type": "code",
   "execution_count": 47,
   "metadata": {},
   "outputs": [
    {
     "name": "stderr",
     "output_type": "stream",
     "text": [
      "Pandas Apply: 100%|██████████| 100000/100000 [07:59<00:00, 208.42it/s]\n"
     ]
    },
    {
     "ename": "Error",
     "evalue": "Canceled future for execute_request message before replies were done",
     "output_type": "error",
     "traceback": [
      "Error: Canceled future for execute_request message before replies were done",
      "at t.KernelShellFutureHandler.dispose (/home/owen/.vscode/extensions/ms-toolsai.jupyter-2022.3.1000901801/out/extension.js:2:1204175)",
      "at /home/owen/.vscode/extensions/ms-toolsai.jupyter-2022.3.1000901801/out/extension.js:2:1223227",
      "at Map.forEach (<anonymous>)",
      "at v._clearKernelState (/home/owen/.vscode/extensions/ms-toolsai.jupyter-2022.3.1000901801/out/extension.js:2:1223212)",
      "at v.dispose (/home/owen/.vscode/extensions/ms-toolsai.jupyter-2022.3.1000901801/out/extension.js:2:1216694)",
      "at /home/owen/.vscode/extensions/ms-toolsai.jupyter-2022.3.1000901801/out/extension.js:2:533674",
      "at t.swallowExceptions (/home/owen/.vscode/extensions/ms-toolsai.jupyter-2022.3.1000901801/out/extension.js:2:913059)",
      "at dispose (/home/owen/.vscode/extensions/ms-toolsai.jupyter-2022.3.1000901801/out/extension.js:2:533652)",
      "at t.RawSession.dispose (/home/owen/.vscode/extensions/ms-toolsai.jupyter-2022.3.1000901801/out/extension.js:2:537330)",
      "at runMicrotasks (<anonymous>)",
      "at processTicksAndRejections (node:internal/process/task_queues:96:5)"
     ]
    }
   ],
   "source": [
    "if not set(model_dict.keys()).issubset(set(sampled_df.columns)):\n",
    "    sampled_df = generate_cosign_similarity(sampled_df,model_dict=model_dict)\n",
    "    sampled_df.to_csv(DATA_FOLDER+RESAMPLED, index=False)"
   ]
  },
  {
   "cell_type": "markdown",
   "metadata": {},
   "source": [
    "### Assign model vocabulary booleans and save"
   ]
  },
  {
   "cell_type": "code",
   "execution_count": 29,
   "metadata": {},
   "outputs": [],
   "source": [
    "def is_in_pretrained_word2vec_model(data:pd.DataFrame, model_name:str)->pd.DataFrame:\n",
    "    trained_model = gensim.downloader.load(model_name)\n",
    "    vocab = [x.split('/')[-1] for x in trained_model.index_to_key]\n",
    "    data[model_name] = data['answer'].isin(vocab)\n",
    "    return data\n"
   ]
  },
  {
   "cell_type": "code",
   "execution_count": 22,
   "metadata": {},
   "outputs": [],
   "source": [
    "#glove-twitter-200\n",
    "df = pd.read_csv(DATA_FOLDER+CLEAN)\n",
    "df.to_csv(DATA_FOLDER+CLEAN, index=False)"
   ]
  },
  {
   "cell_type": "markdown",
   "metadata": {},
   "source": [
    "### Split data into train and test sets"
   ]
  },
  {
   "cell_type": "code",
   "execution_count": null,
   "metadata": {},
   "outputs": [],
   "source": [
    "train, test = train_test_split(df, test_size=0.3, random_state=42)\n",
    "\n",
    "df.to_csv(DATA_FOLDER+CLEAN, index=False)\n",
    "train.to_csv(DATA_FOLDER+TRAIN,index=False)\n",
    "test.to_csv(DATA_FOLDER+TEST,index=False)"
   ]
  }
 ],
 "metadata": {
  "interpreter": {
   "hash": "4fe28adbe6d40c82bdde6a2233f025e3b944121e67b5abb397657075ce1366ca"
  },
  "kernelspec": {
   "display_name": "Python 3.8.12 ('lighthouse')",
   "language": "python",
   "name": "python3"
  },
  "language_info": {
   "codemirror_mode": {
    "name": "ipython",
    "version": 3
   },
   "file_extension": ".py",
   "mimetype": "text/x-python",
   "name": "python",
   "nbconvert_exporter": "python",
   "pygments_lexer": "ipython3",
   "version": "3.8.12"
  },
  "orig_nbformat": 4
 },
 "nbformat": 4,
 "nbformat_minor": 2
}

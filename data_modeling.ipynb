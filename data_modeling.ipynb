{
 "cells": [
  {
   "cell_type": "code",
   "execution_count": 4,
   "metadata": {},
   "outputs": [],
   "source": [
    "import pandas as pd\n",
    "import os\n",
    "import gensim.downloader\n",
    "import plotly.graph_objects as go\n",
    "from custom_transformers import PCAFeatures, SimilarityPrediction, SelectTopNWords, SelectRandomWords\n",
    "from sklearn.linear_model import LinearRegression\n",
    "from sklearn.ensemble import RandomForestRegressor\n",
    "from sklearn.metrics import mean_absolute_error, median_absolute_error\n",
    "\n",
    "from constants import *"
   ]
  },
  {
   "cell_type": "markdown",
   "metadata": {},
   "source": [
    "### Load Gensim Models"
   ]
  },
  {
   "cell_type": "code",
   "execution_count": 6,
   "metadata": {},
   "outputs": [],
   "source": [
    "twitter_gensim = gensim.downloader.load('glove-twitter-25')\n",
    "google_gensim = gensim.downloader.load('word2vec-google-news-300')\n",
    "wiki_gensim = gensim.downloader.load('glove-wiki-gigaword-100')\n",
    "gensim_model_dict = {'twitter':twitter_gensim,\n",
    "              'google':google_gensim,\n",
    "              'wiki':wiki_gensim}"
   ]
  },
  {
   "cell_type": "markdown",
   "metadata": {},
   "source": [
    "### Convert clues into features using word vectorization and PCA"
   ]
  },
  {
   "cell_type": "code",
   "execution_count": 9,
   "metadata": {},
   "outputs": [],
   "source": [
    "if os.path.isfile(DATA_FOLDER+PCA_TRAIN) and os.path.isfile(DATA_FOLDER+PCA_TEST) :\n",
    "    train = pd.read_csv(DATA_FOLDER+PCA_TRAIN)\n",
    "    test = pd.read_csv(DATA_FOLDER+PCA_TEST)\n",
    "else:    \n",
    "    train = pd.read_csv(DATA_FOLDER+TRAIN)\n",
    "    test = pd.read_csv(DATA_FOLDER+TEST)\n",
    "    train.loc[train['clue'].isna(), 'clue'] = ''\n",
    "    pca_features = PCAFeatures(gensim_model_dict)\n",
    "    pca_features.fit(train)\n",
    "    train = pca_features.transform(train)\n",
    "    test = pca_features.transform(test)\n",
    "    train.to_csv(DATA_FOLDER+PCA_TRAIN, index= False)\n",
    "    test.to_csv(DATA_FOLDER+PCA_TEST, index= False)\n",
    "    \n",
    "    "
   ]
  },
  {
   "cell_type": "code",
   "execution_count": 10,
   "metadata": {},
   "outputs": [],
   "source": [
    "X_train = train.drop('answer',axis=1)\n",
    "y_train = train['answer']\n",
    "X_test = test.drop('answer', axis=1)\n",
    "y_test = test['answer']"
   ]
  },
  {
   "cell_type": "markdown",
   "metadata": {},
   "source": [
    "### Predict Cosine Similarity"
   ]
  },
  {
   "cell_type": "code",
   "execution_count": 11,
   "metadata": {},
   "outputs": [],
   "source": [
    "if os.path.isfile(DATA_FOLDER+PREDICTED_SIMILARITIES):\n",
    "    X_test = pd.read_csv(DATA_FOLDER+PREDICTED_SIMILARITIES)\n",
    "else:      \n",
    "    random_forest_dict = {'twitter': RandomForestRegressor(),\n",
    "                          'google':RandomForestRegressor(),\n",
    "                          'wiki':RandomForestRegressor()}  \n",
    "    similarity_predictor = SimilarityPrediction(gensim_model_dict=gensim_model_dict,predictor_dict=random_forest_dict)\n",
    "    similarity_predictor.fit(X_train)\n",
    "    X_test = similarity_predictor.transform(X_test)\n",
    "    X_test.to_csv(DATA_FOLDER+PREDICTED_SIMILARITIES,index= False)"
   ]
  },
  {
   "cell_type": "code",
   "execution_count": 12,
   "metadata": {},
   "outputs": [
    {
     "name": "stdout",
     "output_type": "stream",
     "text": [
      "twitter:\n",
      "Mean Absolute Error: 0.19433275376997242\n",
      "Median Absolute Error: 0.17121899019999992\n",
      "google:\n",
      "Mean Absolute Error: 0.10628713424573702\n",
      "Median Absolute Error: 0.08929215441999988\n",
      "wiki:\n",
      "Mean Absolute Error: 0.17708801120947698\n",
      "Median Absolute Error: 0.1523335474065\n"
     ]
    }
   ],
   "source": [
    "for model_name in gensim_model_dict.keys():\n",
    "    row_filter = X_test[f'{model_name}_cosine_similarity'].notna()\n",
    "    true = X_test[row_filter][f'{model_name}_cosine_similarity']\n",
    "    predict = X_test[row_filter][f'{model_name}_predicted_similarity']\n",
    "    mean_error = mean_absolute_error(true,predict)\n",
    "    median_error = median_absolute_error(true,predict)\n",
    "    print(f'{model_name}:\\nMean Absolute Error: {mean_error}\\nMedian Absolute Error: {median_error}')"
   ]
  },
  {
   "cell_type": "markdown",
   "metadata": {},
   "source": [
    "###  Predict answers for test set\n",
    "Because of the long times used for predictions, a script is used to predict small batches so that it does not have to run continously / data is not lost if an outlier causes a bug in the script."
   ]
  },
  {
   "cell_type": "code",
   "execution_count": 13,
   "metadata": {},
   "outputs": [],
   "source": [
    "\n",
    "N_SAMPLES = 20\n",
    "\n",
    "word_selection = SelectTopNWords(5)\n",
    "for known_characters in KNOWN_CHARACTER_SETTINGS:\n",
    "    if os.path.isfile(DATA_FOLDER+known_characters+\"_words.csv\") and os.path.isfile(DATA_FOLDER+known_characters+'_scores.csv') :\n",
    "        words = pd.read_csv(DATA_FOLDER+known_characters+\"_words.csv\", index_col=0)\n",
    "        scores = pd.read_csv(DATA_FOLDER+known_characters+\"_scores.csv\", index_col=0)\n",
    "    else:\n",
    "        words, scores = word_selection.predict( X= X_test[:N_SAMPLES], \n",
    "                                        known_characters= X_test[:N_SAMPLES][known_characters], \n",
    "                                        gensim_models= gensim_model_dict)\n",
    "        words.columns = words.columns.astype(str)\n",
    "        scores.columns = scores.columns.astype(str)\n",
    "        words.to_csv(DATA_FOLDER+known_characters+\"_words.csv\")\n",
    "        scores.to_csv(DATA_FOLDER+known_characters+\"_scores.csv\")\n",
    "        \n",
    "    while words.index.max() < X_test.index.max():\n",
    "        start_index = words.index.max()+1\n",
    "        end_index = start_index+N_SAMPLES\n",
    "        new_words, new_scores = word_selection.predict( X= X_test[start_index:end_index], \n",
    "                                known_characters= X_test[start_index:end_index][known_characters], \n",
    "                                gensim_models= gensim_model_dict)\n",
    "        new_words.columns = new_words.columns.astype(str)\n",
    "        new_scores.columns = new_scores.columns.astype(str)\n",
    "        words = pd.concat([words,new_words])\n",
    "        scores = pd.concat([scores,new_scores])\n",
    "        words.to_csv(DATA_FOLDER+known_characters+\"_words.csv\")\n",
    "        scores.to_csv(DATA_FOLDER+known_characters+\"_scores.csv\")\n",
    "        "
   ]
  },
  {
   "cell_type": "markdown",
   "metadata": {},
   "source": [
    "### Random Selection\n",
    "Randomly select words from the same vocabulary without use of cosine similarity to act as baseline"
   ]
  },
  {
   "cell_type": "code",
   "execution_count": 14,
   "metadata": {},
   "outputs": [],
   "source": [
    "N_SAMPLES = 50\n",
    "\n",
    "random_Selection = SelectRandomWords()\n",
    "for known_characters in KNOWN_CHARACTER_SETTINGS:\n",
    "    if os.path.isfile(DATA_FOLDER+known_characters+\"_random_words.csv\"):\n",
    "        words = pd.read_csv(DATA_FOLDER+known_characters+\"_random_words.csv\", index_col=0)\n",
    "    else:\n",
    "        words = random_Selection.predict(X_test[known_characters][:N_SAMPLES], \n",
    "                                                 gensim_models= gensim_model_dict)\n",
    "        words.columns = words.columns.astype(str)\n",
    "        words.to_csv(DATA_FOLDER+known_characters+\"_random_words.csv\")\n",
    "        \n",
    "    while words.index.max() < X_test.index.max():\n",
    "        start_index = words.index.max()+1\n",
    "        end_index = start_index+N_SAMPLES\n",
    "        new_words = random_Selection.predict(X_test[known_characters][start_index:end_index], \n",
    "                                             gensim_models= gensim_model_dict)\n",
    "        new_words.columns = new_words.columns.astype(str)\n",
    "        words = pd.concat([words,new_words])\n",
    "        words.to_csv(DATA_FOLDER+known_characters+\"_random_words.csv\")"
   ]
  },
  {
   "cell_type": "markdown",
   "metadata": {},
   "source": [
    "### Visualize Results"
   ]
  },
  {
   "cell_type": "code",
   "execution_count": 186,
   "metadata": {},
   "outputs": [
    {
     "data": {
      "application/vnd.plotly.v1+json": {
       "config": {
        "plotlyServerURL": "https://plot.ly"
       },
       "data": [
        {
         "marker": {
          "color": "#E1BE6A"
         },
         "mode": "lines",
         "name": "Vocabulary Limit",
         "type": "scatter",
         "x": [
          0,
          3
         ],
         "xaxis": "x2",
         "y": [
          0.9002,
          0.9002
         ]
        },
        {
         "marker": {
          "color": "#944DA2"
         },
         "name": "Predition",
         "text": [
          "0.00046666666666666666",
          "0.017866666666666666",
          "0.12093333333333334"
         ],
         "textfont": {
          "color": "#944DA2"
         },
         "textposition": "outside",
         "texttemplate": "%{text:0.2%}",
         "type": "bar",
         "width": 0.3,
         "x": [
          "0.0% Known Characters",
          "20.0% Known Characters",
          "40.0% Known Characters"
         ],
         "y": [
          0.00046666666666666666,
          0.017866666666666666,
          0.12093333333333334
         ]
        },
        {
         "marker": {
          "color": "#40B0A6"
         },
         "name": "Contained in top 5",
         "text": [
          "0.001",
          "0.0488",
          "0.28686666666666666"
         ],
         "textfont": {
          "color": "#40B0A6"
         },
         "textposition": "outside",
         "texttemplate": "%{text:0.2%}",
         "type": "bar",
         "width": 0.2,
         "x": [
          "0.0% Known Characters",
          "20.0% Known Characters",
          "40.0% Known Characters"
         ],
         "y": [
          0.001,
          0.0488,
          0.28686666666666666
         ]
        },
        {
         "marker": {
          "color": "#790900"
         },
         "mode": "lines",
         "name": "Random Selection",
         "type": "scatter",
         "x": [
          0.2,
          0.75,
          null,
          1.2,
          1.75,
          null,
          2.2,
          2.75,
          null
         ],
         "xaxis": "x2",
         "y": [
          0.00006666666666666667,
          0.00006666666666666667,
          null,
          0.0016666666666666668,
          0.0016666666666666668,
          null,
          0.022466666666666666,
          0.022466666666666666,
          null
         ]
        },
        {
         "mode": "text",
         "showlegend": false,
         "text": [
          null,
          "6.666666666666667e-05",
          null,
          null,
          "0.0016666666666666668",
          null,
          null,
          "0.022466666666666666",
          null
         ],
         "textfont": {
          "color": "#790900"
         },
         "textposition": "bottom right",
         "texttemplate": "%{text:0.3%}",
         "type": "scatter",
         "x": [
          null,
          0.75,
          null,
          null,
          1.75,
          null,
          null,
          2.75,
          null
         ],
         "xaxis": "x2",
         "y": [
          null,
          0.00006666666666666667,
          null,
          null,
          0.0016666666666666668,
          null,
          null,
          0.022466666666666666,
          null
         ]
        }
       ],
       "layout": {
        "bargap": 0.5,
        "barmode": "group",
        "font": {
         "size": 16
        },
        "height": 600,
        "legend": {
         "x": 1,
         "y": 0.5
        },
        "plot_bgcolor": "white",
        "shapes": [
         {
          "type": "line",
          "x0": 0,
          "x1": 1,
          "xref": "x domain",
          "y0": 1,
          "y1": 1,
          "yref": "y"
         }
        ],
        "template": {
         "data": {
          "bar": [
           {
            "error_x": {
             "color": "#2a3f5f"
            },
            "error_y": {
             "color": "#2a3f5f"
            },
            "marker": {
             "line": {
              "color": "#E5ECF6",
              "width": 0.5
             },
             "pattern": {
              "fillmode": "overlay",
              "size": 10,
              "solidity": 0.2
             }
            },
            "type": "bar"
           }
          ],
          "barpolar": [
           {
            "marker": {
             "line": {
              "color": "#E5ECF6",
              "width": 0.5
             },
             "pattern": {
              "fillmode": "overlay",
              "size": 10,
              "solidity": 0.2
             }
            },
            "type": "barpolar"
           }
          ],
          "carpet": [
           {
            "aaxis": {
             "endlinecolor": "#2a3f5f",
             "gridcolor": "white",
             "linecolor": "white",
             "minorgridcolor": "white",
             "startlinecolor": "#2a3f5f"
            },
            "baxis": {
             "endlinecolor": "#2a3f5f",
             "gridcolor": "white",
             "linecolor": "white",
             "minorgridcolor": "white",
             "startlinecolor": "#2a3f5f"
            },
            "type": "carpet"
           }
          ],
          "choropleth": [
           {
            "colorbar": {
             "outlinewidth": 0,
             "ticks": ""
            },
            "type": "choropleth"
           }
          ],
          "contour": [
           {
            "colorbar": {
             "outlinewidth": 0,
             "ticks": ""
            },
            "colorscale": [
             [
              0,
              "#0d0887"
             ],
             [
              0.1111111111111111,
              "#46039f"
             ],
             [
              0.2222222222222222,
              "#7201a8"
             ],
             [
              0.3333333333333333,
              "#9c179e"
             ],
             [
              0.4444444444444444,
              "#bd3786"
             ],
             [
              0.5555555555555556,
              "#d8576b"
             ],
             [
              0.6666666666666666,
              "#ed7953"
             ],
             [
              0.7777777777777778,
              "#fb9f3a"
             ],
             [
              0.8888888888888888,
              "#fdca26"
             ],
             [
              1,
              "#f0f921"
             ]
            ],
            "type": "contour"
           }
          ],
          "contourcarpet": [
           {
            "colorbar": {
             "outlinewidth": 0,
             "ticks": ""
            },
            "type": "contourcarpet"
           }
          ],
          "heatmap": [
           {
            "colorbar": {
             "outlinewidth": 0,
             "ticks": ""
            },
            "colorscale": [
             [
              0,
              "#0d0887"
             ],
             [
              0.1111111111111111,
              "#46039f"
             ],
             [
              0.2222222222222222,
              "#7201a8"
             ],
             [
              0.3333333333333333,
              "#9c179e"
             ],
             [
              0.4444444444444444,
              "#bd3786"
             ],
             [
              0.5555555555555556,
              "#d8576b"
             ],
             [
              0.6666666666666666,
              "#ed7953"
             ],
             [
              0.7777777777777778,
              "#fb9f3a"
             ],
             [
              0.8888888888888888,
              "#fdca26"
             ],
             [
              1,
              "#f0f921"
             ]
            ],
            "type": "heatmap"
           }
          ],
          "heatmapgl": [
           {
            "colorbar": {
             "outlinewidth": 0,
             "ticks": ""
            },
            "colorscale": [
             [
              0,
              "#0d0887"
             ],
             [
              0.1111111111111111,
              "#46039f"
             ],
             [
              0.2222222222222222,
              "#7201a8"
             ],
             [
              0.3333333333333333,
              "#9c179e"
             ],
             [
              0.4444444444444444,
              "#bd3786"
             ],
             [
              0.5555555555555556,
              "#d8576b"
             ],
             [
              0.6666666666666666,
              "#ed7953"
             ],
             [
              0.7777777777777778,
              "#fb9f3a"
             ],
             [
              0.8888888888888888,
              "#fdca26"
             ],
             [
              1,
              "#f0f921"
             ]
            ],
            "type": "heatmapgl"
           }
          ],
          "histogram": [
           {
            "marker": {
             "pattern": {
              "fillmode": "overlay",
              "size": 10,
              "solidity": 0.2
             }
            },
            "type": "histogram"
           }
          ],
          "histogram2d": [
           {
            "colorbar": {
             "outlinewidth": 0,
             "ticks": ""
            },
            "colorscale": [
             [
              0,
              "#0d0887"
             ],
             [
              0.1111111111111111,
              "#46039f"
             ],
             [
              0.2222222222222222,
              "#7201a8"
             ],
             [
              0.3333333333333333,
              "#9c179e"
             ],
             [
              0.4444444444444444,
              "#bd3786"
             ],
             [
              0.5555555555555556,
              "#d8576b"
             ],
             [
              0.6666666666666666,
              "#ed7953"
             ],
             [
              0.7777777777777778,
              "#fb9f3a"
             ],
             [
              0.8888888888888888,
              "#fdca26"
             ],
             [
              1,
              "#f0f921"
             ]
            ],
            "type": "histogram2d"
           }
          ],
          "histogram2dcontour": [
           {
            "colorbar": {
             "outlinewidth": 0,
             "ticks": ""
            },
            "colorscale": [
             [
              0,
              "#0d0887"
             ],
             [
              0.1111111111111111,
              "#46039f"
             ],
             [
              0.2222222222222222,
              "#7201a8"
             ],
             [
              0.3333333333333333,
              "#9c179e"
             ],
             [
              0.4444444444444444,
              "#bd3786"
             ],
             [
              0.5555555555555556,
              "#d8576b"
             ],
             [
              0.6666666666666666,
              "#ed7953"
             ],
             [
              0.7777777777777778,
              "#fb9f3a"
             ],
             [
              0.8888888888888888,
              "#fdca26"
             ],
             [
              1,
              "#f0f921"
             ]
            ],
            "type": "histogram2dcontour"
           }
          ],
          "mesh3d": [
           {
            "colorbar": {
             "outlinewidth": 0,
             "ticks": ""
            },
            "type": "mesh3d"
           }
          ],
          "parcoords": [
           {
            "line": {
             "colorbar": {
              "outlinewidth": 0,
              "ticks": ""
             }
            },
            "type": "parcoords"
           }
          ],
          "pie": [
           {
            "automargin": true,
            "type": "pie"
           }
          ],
          "scatter": [
           {
            "marker": {
             "colorbar": {
              "outlinewidth": 0,
              "ticks": ""
             }
            },
            "type": "scatter"
           }
          ],
          "scatter3d": [
           {
            "line": {
             "colorbar": {
              "outlinewidth": 0,
              "ticks": ""
             }
            },
            "marker": {
             "colorbar": {
              "outlinewidth": 0,
              "ticks": ""
             }
            },
            "type": "scatter3d"
           }
          ],
          "scattercarpet": [
           {
            "marker": {
             "colorbar": {
              "outlinewidth": 0,
              "ticks": ""
             }
            },
            "type": "scattercarpet"
           }
          ],
          "scattergeo": [
           {
            "marker": {
             "colorbar": {
              "outlinewidth": 0,
              "ticks": ""
             }
            },
            "type": "scattergeo"
           }
          ],
          "scattergl": [
           {
            "marker": {
             "colorbar": {
              "outlinewidth": 0,
              "ticks": ""
             }
            },
            "type": "scattergl"
           }
          ],
          "scattermapbox": [
           {
            "marker": {
             "colorbar": {
              "outlinewidth": 0,
              "ticks": ""
             }
            },
            "type": "scattermapbox"
           }
          ],
          "scatterpolar": [
           {
            "marker": {
             "colorbar": {
              "outlinewidth": 0,
              "ticks": ""
             }
            },
            "type": "scatterpolar"
           }
          ],
          "scatterpolargl": [
           {
            "marker": {
             "colorbar": {
              "outlinewidth": 0,
              "ticks": ""
             }
            },
            "type": "scatterpolargl"
           }
          ],
          "scatterternary": [
           {
            "marker": {
             "colorbar": {
              "outlinewidth": 0,
              "ticks": ""
             }
            },
            "type": "scatterternary"
           }
          ],
          "surface": [
           {
            "colorbar": {
             "outlinewidth": 0,
             "ticks": ""
            },
            "colorscale": [
             [
              0,
              "#0d0887"
             ],
             [
              0.1111111111111111,
              "#46039f"
             ],
             [
              0.2222222222222222,
              "#7201a8"
             ],
             [
              0.3333333333333333,
              "#9c179e"
             ],
             [
              0.4444444444444444,
              "#bd3786"
             ],
             [
              0.5555555555555556,
              "#d8576b"
             ],
             [
              0.6666666666666666,
              "#ed7953"
             ],
             [
              0.7777777777777778,
              "#fb9f3a"
             ],
             [
              0.8888888888888888,
              "#fdca26"
             ],
             [
              1,
              "#f0f921"
             ]
            ],
            "type": "surface"
           }
          ],
          "table": [
           {
            "cells": {
             "fill": {
              "color": "#EBF0F8"
             },
             "line": {
              "color": "white"
             }
            },
            "header": {
             "fill": {
              "color": "#C8D4E3"
             },
             "line": {
              "color": "white"
             }
            },
            "type": "table"
           }
          ]
         },
         "layout": {
          "annotationdefaults": {
           "arrowcolor": "#2a3f5f",
           "arrowhead": 0,
           "arrowwidth": 1
          },
          "autotypenumbers": "strict",
          "coloraxis": {
           "colorbar": {
            "outlinewidth": 0,
            "ticks": ""
           }
          },
          "colorscale": {
           "diverging": [
            [
             0,
             "#8e0152"
            ],
            [
             0.1,
             "#c51b7d"
            ],
            [
             0.2,
             "#de77ae"
            ],
            [
             0.3,
             "#f1b6da"
            ],
            [
             0.4,
             "#fde0ef"
            ],
            [
             0.5,
             "#f7f7f7"
            ],
            [
             0.6,
             "#e6f5d0"
            ],
            [
             0.7,
             "#b8e186"
            ],
            [
             0.8,
             "#7fbc41"
            ],
            [
             0.9,
             "#4d9221"
            ],
            [
             1,
             "#276419"
            ]
           ],
           "sequential": [
            [
             0,
             "#0d0887"
            ],
            [
             0.1111111111111111,
             "#46039f"
            ],
            [
             0.2222222222222222,
             "#7201a8"
            ],
            [
             0.3333333333333333,
             "#9c179e"
            ],
            [
             0.4444444444444444,
             "#bd3786"
            ],
            [
             0.5555555555555556,
             "#d8576b"
            ],
            [
             0.6666666666666666,
             "#ed7953"
            ],
            [
             0.7777777777777778,
             "#fb9f3a"
            ],
            [
             0.8888888888888888,
             "#fdca26"
            ],
            [
             1,
             "#f0f921"
            ]
           ],
           "sequentialminus": [
            [
             0,
             "#0d0887"
            ],
            [
             0.1111111111111111,
             "#46039f"
            ],
            [
             0.2222222222222222,
             "#7201a8"
            ],
            [
             0.3333333333333333,
             "#9c179e"
            ],
            [
             0.4444444444444444,
             "#bd3786"
            ],
            [
             0.5555555555555556,
             "#d8576b"
            ],
            [
             0.6666666666666666,
             "#ed7953"
            ],
            [
             0.7777777777777778,
             "#fb9f3a"
            ],
            [
             0.8888888888888888,
             "#fdca26"
            ],
            [
             1,
             "#f0f921"
            ]
           ]
          },
          "colorway": [
           "#636efa",
           "#EF553B",
           "#00cc96",
           "#ab63fa",
           "#FFA15A",
           "#19d3f3",
           "#FF6692",
           "#B6E880",
           "#FF97FF",
           "#FECB52"
          ],
          "font": {
           "color": "#2a3f5f"
          },
          "geo": {
           "bgcolor": "white",
           "lakecolor": "white",
           "landcolor": "#E5ECF6",
           "showlakes": true,
           "showland": true,
           "subunitcolor": "white"
          },
          "hoverlabel": {
           "align": "left"
          },
          "hovermode": "closest",
          "mapbox": {
           "style": "light"
          },
          "paper_bgcolor": "white",
          "plot_bgcolor": "#E5ECF6",
          "polar": {
           "angularaxis": {
            "gridcolor": "white",
            "linecolor": "white",
            "ticks": ""
           },
           "bgcolor": "#E5ECF6",
           "radialaxis": {
            "gridcolor": "white",
            "linecolor": "white",
            "ticks": ""
           }
          },
          "scene": {
           "xaxis": {
            "backgroundcolor": "#E5ECF6",
            "gridcolor": "white",
            "gridwidth": 2,
            "linecolor": "white",
            "showbackground": true,
            "ticks": "",
            "zerolinecolor": "white"
           },
           "yaxis": {
            "backgroundcolor": "#E5ECF6",
            "gridcolor": "white",
            "gridwidth": 2,
            "linecolor": "white",
            "showbackground": true,
            "ticks": "",
            "zerolinecolor": "white"
           },
           "zaxis": {
            "backgroundcolor": "#E5ECF6",
            "gridcolor": "white",
            "gridwidth": 2,
            "linecolor": "white",
            "showbackground": true,
            "ticks": "",
            "zerolinecolor": "white"
           }
          },
          "shapedefaults": {
           "line": {
            "color": "#2a3f5f"
           }
          },
          "ternary": {
           "aaxis": {
            "gridcolor": "white",
            "linecolor": "white",
            "ticks": ""
           },
           "baxis": {
            "gridcolor": "white",
            "linecolor": "white",
            "ticks": ""
           },
           "bgcolor": "#E5ECF6",
           "caxis": {
            "gridcolor": "white",
            "linecolor": "white",
            "ticks": ""
           }
          },
          "title": {
           "x": 0.05
          },
          "xaxis": {
           "automargin": true,
           "gridcolor": "white",
           "linecolor": "white",
           "ticks": "",
           "title": {
            "standoff": 15
           },
           "zerolinecolor": "white",
           "zerolinewidth": 2
          },
          "yaxis": {
           "automargin": true,
           "gridcolor": "white",
           "linecolor": "white",
           "ticks": "",
           "title": {
            "standoff": 15
           },
           "zerolinecolor": "white",
           "zerolinewidth": 2
          }
         }
        },
        "title": {
         "text": "Crossword Solver Accuracy Overview",
         "x": 0.5
        },
        "width": 1200,
        "xaxis2": {
         "overlaying": "x",
         "range": [
          0,
          3
         ],
         "showticklabels": false
        },
        "yaxis": {
         "range": [
          -0.1,
          1
         ],
         "tickformat": ".0%",
         "tickmode": "array",
         "tickvals": [
          0.9002,
          1
         ]
        }
       }
      }
     },
     "metadata": {},
     "output_type": "display_data"
    }
   ],
   "source": [
    "import plotly.graph_objs as go\n",
    "from plotly.offline import iplot, init_notebook_mode\n",
    "\n",
    "def chart_results():\n",
    "    LABELS = [x.replace('_',' ').title() for x in KNOWN_CHARACTER_SETTINGS]\n",
    "    PRIMARY_WIDTH = 0.3\n",
    "    SECONDARY_WIDTH = 0.2\n",
    "    BARGAP = 0.5\n",
    "    VOCAB_LIMIT = 0.9002\n",
    "    predictions = []\n",
    "    top5 = []\n",
    "    random_y = []\n",
    "    random_x = []\n",
    "    \n",
    "    for known_chars in KNOWN_CHARACTER_SETTINGS:\n",
    "        \n",
    "        predicted_words = pd.read_csv(DATA_FOLDER+f\"{known_chars}_words.csv\", index_col= 0)\n",
    "        results = pd.concat([y_test,predicted_words],axis=1)\n",
    "        prediction_accuracy = ((results['answer'] == results['0']).value_counts(normalize=True)).loc[True]\n",
    "        \n",
    "        top5_accuracy = (((results['answer'] == results['0']) |\n",
    "                        (results['answer'] == results['1']) | \n",
    "                        (results['answer'] == results['2']) | \n",
    "                        (results['answer'] == results['3']) |\n",
    "                        (results['answer'] == results['4'])).value_counts(normalize=True)).loc[True]\n",
    "        \n",
    "        random_words = pd.read_csv(DATA_FOLDER+f\"{known_chars}_random_words.csv\", index_col= 0)\n",
    "        random_results = pd.concat([y_test,random_words],axis=1)\n",
    "        random_accuracy = ((random_results['answer'] == random_results['0']).value_counts(normalize=True)).loc[True]\n",
    "    \n",
    "        predictions.append(prediction_accuracy)\n",
    "        top5.append(top5_accuracy)\n",
    "        random_y += [random_accuracy,random_accuracy, None]\n",
    "        \n",
    "    for i in range(len(LABELS)):\n",
    "        pos1 = i+0.2\n",
    "        pos2 = i+0.75\n",
    "        random_x += [pos1, pos2, None]\n",
    "        \n",
    "    fig = go.Figure()\n",
    "    \n",
    "    vocab_limit = go.Scatter( \n",
    "                                name='Vocabulary Limit', \n",
    "                                x=[0,len(LABELS)],\n",
    "                                y=[VOCAB_LIMIT,VOCAB_LIMIT],\n",
    "                                mode='lines',\n",
    "                                xaxis='x2',marker_color= COLOR_4)\n",
    "    \n",
    "    trace_predictions = go.Bar( \n",
    "                                name= 'Predition',\n",
    "                                x= LABELS, \n",
    "                                y= predictions,\n",
    "                                text= predictions,\n",
    "                                textposition= 'outside',\n",
    "                                texttemplate= '%{text:0.2%}', \n",
    "                                textfont= dict(color=COLOR_1),\n",
    "                                marker_color= COLOR_1,\n",
    "                                width= PRIMARY_WIDTH)\n",
    "    \n",
    "    trace_top5 = go.Bar( \n",
    "                                name= 'Contained in top 5', \n",
    "                                x= LABELS, \n",
    "                                y= top5,\n",
    "                                text= top5,\n",
    "                                textposition= 'outside',\n",
    "                                texttemplate= '%{text:0.2%}',\n",
    "                                textfont= dict(color=COLOR_2), \n",
    "                                marker_color= COLOR_2,\n",
    "                                width= SECONDARY_WIDTH)\n",
    "    \n",
    "    r_selection = go.Scatter(\n",
    "                                xaxis='x2',\n",
    "                                mode='lines',\n",
    "                                x=random_x,\n",
    "                                y=random_y,\n",
    "                                name='Random Selection', \n",
    "                                marker_color= COLOR_5)\n",
    "    \n",
    "    r_text = go. Scatter(       \n",
    "                                xaxis='x2',\n",
    "                                mode='text',\n",
    "                                showlegend=False,\n",
    "                                x=[x  if i % len(LABELS) == 1 else None for i, x in enumerate(random_x)],\n",
    "                                y=[y  if i % len(LABELS) == 1 else None for i, y in enumerate(random_y)],\n",
    "                                texttemplate= '%{text:0.3%}',\n",
    "                                text=[y  if i % len(LABELS) == 1 else None for i, y in enumerate(random_y)],\n",
    "                                textposition = \"bottom right\",\n",
    "                                textfont= dict(color=COLOR_5))\n",
    "\n",
    "    fig.add_traces([vocab_limit, trace_predictions,trace_top5, r_selection,r_text])\n",
    "    \n",
    "    \n",
    "    fig.update_layout(          width= 1200, \n",
    "                                height= 600,\n",
    "                                plot_bgcolor= 'white', \n",
    "                                title = 'Crossword Solver Accuracy Overview',\n",
    "                                title_x=0.5,\n",
    "                                barmode = 'group',\n",
    "                                bargap = BARGAP,\n",
    "                                legend_x = 1, \n",
    "                                legend_y = 0.5,\n",
    "                                font=dict( size= 16)\n",
    "                                )\n",
    "    \n",
    "    fig.update_yaxes(           \n",
    "                                tickformat= '.0%',\n",
    "                                tickmode= 'array',\n",
    "                                tickvals= [VOCAB_LIMIT,1], \n",
    "                                range= [-0.1,1]),\n",
    "    \n",
    "    fig.layout.xaxis2 = go.layout.XAxis(overlaying='x', \n",
    "                                        range=[0, len(trace_predictions.x)], \n",
    "                                        showticklabels=False)\n",
    "\n",
    "\n",
    "    fig.add_hline(y=1)\n",
    "    fig.show()\n",
    "    \n",
    "chart_results()\n",
    "    "
   ]
  },
  {
   "cell_type": "code",
   "execution_count": null,
   "metadata": {},
   "outputs": [],
   "source": []
  }
 ],
 "metadata": {
  "interpreter": {
   "hash": "0280cb512f1654f6a14f9f049de9766738c3f1045d3ccb87fcae9b6f687f30bb"
  },
  "kernelspec": {
   "display_name": "Python 3.9.7 ('tensorflow')",
   "language": "python",
   "name": "python3"
  },
  "language_info": {
   "codemirror_mode": {
    "name": "ipython",
    "version": 3
   },
   "file_extension": ".py",
   "mimetype": "text/x-python",
   "name": "python",
   "nbconvert_exporter": "python",
   "pygments_lexer": "ipython3",
   "version": "3.8.12"
  },
  "orig_nbformat": 4
 },
 "nbformat": 4,
 "nbformat_minor": 2
}

{
 "cells": [
  {
   "cell_type": "code",
   "execution_count": 22,
   "metadata": {},
   "outputs": [],
   "source": [
    "import pandas as pd\n",
    "import numpy as np\n",
    "import gensim.downloader\n",
    "from custom_transformers import PCAFeatures, SimilarityPrediction\n",
    "from sklearn.linear_model import LinearRegression\n",
    "from sklearn.ensemble import RandomForestRegressor"
   ]
  },
  {
   "cell_type": "code",
   "execution_count": 25,
   "metadata": {},
   "outputs": [],
   "source": [
    "train = pd.read_csv('data/train_data.csv').iloc[450:470]\n",
    "test = pd.read_csv('data/test_data.csv').head()\n",
    "train.loc[train['clue'].isna(), 'clue'] = ''"
   ]
  },
  {
   "cell_type": "code",
   "execution_count": 26,
   "metadata": {},
   "outputs": [
    {
     "data": {
      "text/html": [
       "<div>\n",
       "<style scoped>\n",
       "    .dataframe tbody tr th:only-of-type {\n",
       "        vertical-align: middle;\n",
       "    }\n",
       "\n",
       "    .dataframe tbody tr th {\n",
       "        vertical-align: top;\n",
       "    }\n",
       "\n",
       "    .dataframe thead th {\n",
       "        text-align: right;\n",
       "    }\n",
       "</style>\n",
       "<table border=\"1\" class=\"dataframe\">\n",
       "  <thead>\n",
       "    <tr style=\"text-align: right;\">\n",
       "      <th></th>\n",
       "      <th>clue</th>\n",
       "      <th>noun_involved</th>\n",
       "      <th>fill_blank</th>\n",
       "      <th>word_count</th>\n",
       "      <th>answer_length</th>\n",
       "      <th>0.0%_known_characters</th>\n",
       "      <th>10.0%_known_characters</th>\n",
       "      <th>20.0%_known_characters</th>\n",
       "      <th>30.0%_known_characters</th>\n",
       "      <th>40.0%_known_characters</th>\n",
       "      <th>50.0%_known_characters</th>\n",
       "      <th>60.0%_known_characters</th>\n",
       "      <th>answer</th>\n",
       "      <th>twitter</th>\n",
       "      <th>twitter_cosine_similarity</th>\n",
       "      <th>google</th>\n",
       "      <th>google_cosine_similarity</th>\n",
       "      <th>wiki</th>\n",
       "      <th>wiki_cosine_similarity</th>\n",
       "    </tr>\n",
       "  </thead>\n",
       "  <tbody>\n",
       "    <tr>\n",
       "      <th>450</th>\n",
       "      <td>water lily</td>\n",
       "      <td>0</td>\n",
       "      <td>0</td>\n",
       "      <td>2</td>\n",
       "      <td>5</td>\n",
       "      <td>_____</td>\n",
       "      <td>_____</td>\n",
       "      <td>l____</td>\n",
       "      <td>_o__s</td>\n",
       "      <td>lo___</td>\n",
       "      <td>l___s</td>\n",
       "      <td>l_to_</td>\n",
       "      <td>lotos</td>\n",
       "      <td>True</td>\n",
       "      <td>-0.031981</td>\n",
       "      <td>False</td>\n",
       "      <td>NaN</td>\n",
       "      <td>True</td>\n",
       "      <td>-0.255879</td>\n",
       "    </tr>\n",
       "    <tr>\n",
       "      <th>451</th>\n",
       "      <td>personal aspects</td>\n",
       "      <td>0</td>\n",
       "      <td>0</td>\n",
       "      <td>2</td>\n",
       "      <td>5</td>\n",
       "      <td>_____</td>\n",
       "      <td>_____</td>\n",
       "      <td>____s</td>\n",
       "      <td>_i_n_</td>\n",
       "      <td>_ie__</td>\n",
       "      <td>__en_</td>\n",
       "      <td>mi__s</td>\n",
       "      <td>miens</td>\n",
       "      <td>True</td>\n",
       "      <td>0.066686</td>\n",
       "      <td>False</td>\n",
       "      <td>NaN</td>\n",
       "      <td>False</td>\n",
       "      <td>NaN</td>\n",
       "    </tr>\n",
       "    <tr>\n",
       "      <th>452</th>\n",
       "      <td>playing round</td>\n",
       "      <td>0</td>\n",
       "      <td>0</td>\n",
       "      <td>2</td>\n",
       "      <td>6</td>\n",
       "      <td>______</td>\n",
       "      <td>_____r</td>\n",
       "      <td>___f__</td>\n",
       "      <td>_ol___</td>\n",
       "      <td>g__f__</td>\n",
       "      <td>g___er</td>\n",
       "      <td>g__fer</td>\n",
       "      <td>golfer</td>\n",
       "      <td>True</td>\n",
       "      <td>0.441435</td>\n",
       "      <td>True</td>\n",
       "      <td>0.316615</td>\n",
       "      <td>True</td>\n",
       "      <td>0.443692</td>\n",
       "    </tr>\n",
       "  </tbody>\n",
       "</table>\n",
       "</div>"
      ],
      "text/plain": [
       "                 clue  noun_involved  fill_blank  word_count  answer_length  \\\n",
       "450        water lily              0           0           2              5   \n",
       "451  personal aspects              0           0           2              5   \n",
       "452     playing round              0           0           2              6   \n",
       "\n",
       "    0.0%_known_characters 10.0%_known_characters 20.0%_known_characters  \\\n",
       "450                 _____                  _____                  l____   \n",
       "451                 _____                  _____                  ____s   \n",
       "452                ______                 _____r                 ___f__   \n",
       "\n",
       "    30.0%_known_characters 40.0%_known_characters 50.0%_known_characters  \\\n",
       "450                  _o__s                  lo___                  l___s   \n",
       "451                  _i_n_                  _ie__                  __en_   \n",
       "452                 _ol___                 g__f__                 g___er   \n",
       "\n",
       "    60.0%_known_characters  answer  twitter  twitter_cosine_similarity  \\\n",
       "450                  l_to_   lotos     True                  -0.031981   \n",
       "451                  mi__s   miens     True                   0.066686   \n",
       "452                 g__fer  golfer     True                   0.441435   \n",
       "\n",
       "     google  google_cosine_similarity   wiki  wiki_cosine_similarity  \n",
       "450   False                       NaN   True               -0.255879  \n",
       "451   False                       NaN  False                     NaN  \n",
       "452    True                  0.316615   True                0.443692  "
      ]
     },
     "execution_count": 26,
     "metadata": {},
     "output_type": "execute_result"
    }
   ],
   "source": [
    "train.head(3)"
   ]
  },
  {
   "cell_type": "code",
   "execution_count": 27,
   "metadata": {},
   "outputs": [],
   "source": [
    "X_train = train.drop('answer',axis=1)\n",
    "y_train = train['answer']\n",
    "X_test = test.drop('answer', axis=1)\n",
    "y_test = test['answer']"
   ]
  },
  {
   "cell_type": "code",
   "execution_count": 5,
   "metadata": {},
   "outputs": [],
   "source": [
    "# Load Gensim Models\n",
    "twitter_gensim = gensim.downloader.load('glove-twitter-25')\n",
    "google_gensim = gensim.downloader.load('word2vec-google-news-300')\n",
    "wiki_gensim = gensim.downloader.load('glove-wiki-gigaword-100')\n",
    "gensim_model_dict = {'twitter':twitter_gensim,\n",
    "              'google':google_gensim,\n",
    "              'wiki':wiki_gensim}"
   ]
  },
  {
   "cell_type": "code",
   "execution_count": 36,
   "metadata": {},
   "outputs": [],
   "source": [
    "# Train and fit PCA features\n",
    "pca_features = PCAFeatures(gensim_model_dict)\n",
    "pca_features.fit(X_train, y_train)\n",
    "X_train, y_train = pca_features.transform(X_train,y_train)\n",
    "X_test, y_test =  pca_features.transform(X_test,y_test)"
   ]
  },
  {
   "cell_type": "code",
   "execution_count": 33,
   "metadata": {},
   "outputs": [],
   "source": [
    "# Load Regression Models\n",
    "linear_regression_dict = {'twitter': LinearRegression(),\n",
    "                          'google':LinearRegression(),\n",
    "                          'wiki':LinearRegression()}"
   ]
  },
  {
   "cell_type": "code",
   "execution_count": 38,
   "metadata": {},
   "outputs": [
    {
     "name": "stdout",
     "output_type": "stream",
     "text": [
      "twitter, LinearRegression()\n",
      "Mean Absolute Error: 0.34016632534186153\n",
      "Median Absolute Error: 0.35822516096548995\n",
      "google, LinearRegression()\n",
      "Mean Absolute Error: 0.10567658558756352\n",
      "Median Absolute Error: 0.043020276509598526\n",
      "wiki, LinearRegression()\n",
      "Mean Absolute Error: 0.26165524985032396\n",
      "Median Absolute Error: 0.28021248577326524\n"
     ]
    }
   ],
   "source": [
    "similarity_predictor = SimilarityPrediction(gensim_model_dict=gensim_model_dict,predictor_dict=linear_regression_dict)\n",
    "similarity_predictor.fit(X_train, y_train)\n",
    "# X_train, y_train = similarity_predictor.transform(X_train, y_train)\n",
    "X_test, y_test = similarity_predictor.transform(X_test, y_test)"
   ]
  },
  {
   "cell_type": "code",
   "execution_count": 39,
   "metadata": {},
   "outputs": [
    {
     "data": {
      "text/html": [
       "<div>\n",
       "<style scoped>\n",
       "    .dataframe tbody tr th:only-of-type {\n",
       "        vertical-align: middle;\n",
       "    }\n",
       "\n",
       "    .dataframe tbody tr th {\n",
       "        vertical-align: top;\n",
       "    }\n",
       "\n",
       "    .dataframe thead th {\n",
       "        text-align: right;\n",
       "    }\n",
       "</style>\n",
       "<table border=\"1\" class=\"dataframe\">\n",
       "  <thead>\n",
       "    <tr style=\"text-align: right;\">\n",
       "      <th></th>\n",
       "      <th>google_cosine_similarity</th>\n",
       "      <th>google_predicted_similarity</th>\n",
       "    </tr>\n",
       "  </thead>\n",
       "  <tbody>\n",
       "    <tr>\n",
       "      <th>0</th>\n",
       "      <td>0.217814</td>\n",
       "      <td>0.159361</td>\n",
       "    </tr>\n",
       "    <tr>\n",
       "      <th>1</th>\n",
       "      <td>0.152758</td>\n",
       "      <td>0.109738</td>\n",
       "    </tr>\n",
       "    <tr>\n",
       "      <th>2</th>\n",
       "      <td>0.530712</td>\n",
       "      <td>0.152117</td>\n",
       "    </tr>\n",
       "    <tr>\n",
       "      <th>3</th>\n",
       "      <td>0.192443</td>\n",
       "      <td>0.199916</td>\n",
       "    </tr>\n",
       "    <tr>\n",
       "      <th>4</th>\n",
       "      <td>0.205076</td>\n",
       "      <td>0.164235</td>\n",
       "    </tr>\n",
       "  </tbody>\n",
       "</table>\n",
       "</div>"
      ],
      "text/plain": [
       "   google_cosine_similarity  google_predicted_similarity\n",
       "0                  0.217814                     0.159361\n",
       "1                  0.152758                     0.109738\n",
       "2                  0.530712                     0.152117\n",
       "3                  0.192443                     0.199916\n",
       "4                  0.205076                     0.164235"
      ]
     },
     "execution_count": 39,
     "metadata": {},
     "output_type": "execute_result"
    }
   ],
   "source": [
    "X_test[['google_cosine_similarity', 'google_predicted_similarity']]"
   ]
  },
  {
   "cell_type": "code",
   "execution_count": null,
   "metadata": {},
   "outputs": [],
   "source": []
  }
 ],
 "metadata": {
  "interpreter": {
   "hash": "0280cb512f1654f6a14f9f049de9766738c3f1045d3ccb87fcae9b6f687f30bb"
  },
  "kernelspec": {
   "display_name": "Python 3.9.7 ('tensorflow')",
   "language": "python",
   "name": "python3"
  },
  "language_info": {
   "codemirror_mode": {
    "name": "ipython",
    "version": 3
   },
   "file_extension": ".py",
   "mimetype": "text/x-python",
   "name": "python",
   "nbconvert_exporter": "python",
   "pygments_lexer": "ipython3",
   "version": "3.8.12"
  },
  "orig_nbformat": 4
 },
 "nbformat": 4,
 "nbformat_minor": 2
}

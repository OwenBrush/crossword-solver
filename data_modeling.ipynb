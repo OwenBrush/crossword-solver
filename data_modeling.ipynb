{
 "cells": [
  {
   "cell_type": "code",
   "execution_count": 1,
   "metadata": {},
   "outputs": [],
   "source": [
    "import pandas as pd\n",
    "import numpy as np\n",
    "from sklearn.base import BaseEstimator, TransformerMixin"
   ]
  },
  {
   "cell_type": "markdown",
   "metadata": {},
   "source": [
    "1) Vectorize clues\n",
    "2) Engineer any features possible.\n",
    "    - pressence of noun\n",
    "    - 'fill in the blank'\n",
    "    - sign/cosign? magnitude?\n",
    "    - 'keyword' taken from sentence some how?\n",
    "2) Train model to match clue vector to answer vector\n",
    "    a) Use 4 different pretrained word2vec models to capture the widest vocabulary possible\n",
    "    b) Measure confidence of each model's results and select the most confident answer\n"
   ]
  },
  {
   "cell_type": "code",
   "execution_count": 18,
   "metadata": {},
   "outputs": [],
   "source": [
    "class BooleanFeatures(BaseEstimator, TransformerMixin):\n",
    "\n",
    "    def __init__(self):\n",
    "        pass\n",
    "\n",
    "    def fit(self, X, y = None):\n",
    "        return self\n",
    "\n",
    "    def transform(self, X, y = None):\n",
    "        X = X.copy()\n",
    "        X['noun_involved'] = X['clue'].str.contains('[A-Z].*[A-Z]',regex=True)\n",
    "        X['fill_blank'] = X['clue'].str.contains('_', regex=False)\n",
    "        return X, y"
   ]
  },
  {
   "cell_type": "code",
   "execution_count": 33,
   "metadata": {},
   "outputs": [],
   "source": [
    "\n",
    "\n",
    "class StringCleaning(BaseEstimator, TransformerMixin):\n",
    "    from string import punctuation\n",
    "    EXPRESSIONS_TO_REMOVE = [\"\\\\\"+x for x in list(punctuation)]\n",
    "    EXPRESSIONS_TO_REMOVE.remove('\\\\!')\n",
    "    def __init__(self):\n",
    "        pass\n",
    "    \n",
    "    def fit(self, X, y = None):\n",
    "        return self\n",
    "\n",
    "    def transform(self, X, y = None):\n",
    "        y = y.copy()\n",
    "        y = y.str.lower().str.strip()  \n",
    "        \n",
    "        X = X.copy()\n",
    "        X['clue'] = X['clue'].str.lower().str.strip()\n",
    "        X['clue'] = X['clue'].replace('$', ' money ', regex=False)\n",
    "        X['clue'] = X['clue'].replace('!', ' ! ', regex=False)\n",
    "        X['clue'] = X['clue'].replace('``', '\"', regex=False)\n",
    "        X['clue'] = X['clue'].replace(r'\\b\\w{1,1}\\b','', regex=True) \n",
    "        X['clue'] = X['clue'].replace(EXPRESSIONS_TO_REMOVE, ' ',regex=True)\n",
    "        X['clue'] = X['clue'].replace('\\d+', '', regex=True)\n",
    "        X['clue'] = X['clue'].replace('  ', ' ', regex=False)\n",
    "        X['clue'] = X['clue'].replace(['nan',''], np.nan, regex=False)\n",
    "        return X, y"
   ]
  },
  {
   "cell_type": "code",
   "execution_count": null,
   "metadata": {},
   "outputs": [],
   "source": [
    "\n",
    "class StringCleaning(BaseEstimator, TransformerMixin):\n",
    "    \n",
    "    from string import punctuation\n",
    "    EXPRESSIONS_TO_REMOVE = [\"\\\\\"+x for x in list(punctuation)]\n",
    "    EXPRESSIONS_TO_REMOVE.remove('\\\\!')\n",
    "    \n",
    "    def __init__(self):\n",
    "        pass\n",
    "    \n",
    "    def fit(self, X, y = None):\n",
    "        return self\n",
    "\n",
    "    def transform(self, X, y = None):\n",
    "        y = y.copy()\n",
    "        y = y.str.lower().str.strip()  \n",
    "        \n",
    "        X = X.copy()\n",
    "        X['clue'] = X['clue'].str.lower().str.strip()\n",
    "        X['clue'] = X['clue'].replace('$', ' money ', regex=False)\n",
    "        X['clue'] = X['clue'].replace('!', ' ! ', regex=False)\n",
    "        X['clue'] = X['clue'].replace('``', '\"', regex=False)\n",
    "        X['clue'] = X['clue'].replace(r'\\b\\w{1,1}\\b','', regex=True) \n",
    "        X['clue'] = X['clue'].replace(EXPRESSIONS_TO_REMOVE, ' ',regex=True)\n",
    "        X['clue'] = X['clue'].replace('\\d+', '', regex=True)\n",
    "        X['clue'] = X['clue'].replace('  ', ' ', regex=False)\n",
    "        X['clue'] = X['clue'].replace(['nan',''], np.nan, regex=False)\n",
    "        return X, y"
   ]
  },
  {
   "cell_type": "code",
   "execution_count": null,
   "metadata": {},
   "outputs": [],
   "source": [
    "class Vectorize(BaseEstimator, TransformerMixin):\n",
    "\n",
    "    def __init__(self, model):\n",
    "        self.model = model\n",
    "    \n",
    "    def fit(self, X, y = None):\n",
    "        return self\n",
    "    \n",
    "    def transform(self, X, y = None):\n",
    "        y = model.\n",
    "        return X, y"
   ]
  }
 ],
 "metadata": {
  "interpreter": {
   "hash": "0280cb512f1654f6a14f9f049de9766738c3f1045d3ccb87fcae9b6f687f30bb"
  },
  "kernelspec": {
   "display_name": "Python 3.9.7 ('tensorflow')",
   "language": "python",
   "name": "python3"
  },
  "language_info": {
   "codemirror_mode": {
    "name": "ipython",
    "version": 3
   },
   "file_extension": ".py",
   "mimetype": "text/x-python",
   "name": "python",
   "nbconvert_exporter": "python",
   "pygments_lexer": "ipython3",
   "version": "3.9.7"
  },
  "orig_nbformat": 4
 },
 "nbformat": 4,
 "nbformat_minor": 2
}

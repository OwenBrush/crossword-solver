{
 "cells": [
  {
   "cell_type": "markdown",
   "metadata": {},
   "source": [
    "1) Vectorize clues\n",
    "2) Engineer any features possible.\n",
    "    - pressence of noun\n",
    "    - 'fill in the blank'\n",
    "    - sign/cosign? magnitude?\n",
    "    - 'keyword' taken from sentence some how?\n",
    "2) Train model to match clue vector to answer vector\n",
    "    a) Use 4 different pretrained word2vec models to capture the widest vocabulary possible\n",
    "    b) Measure confidence of each model's results and select the most confident answer\n"
   ]
  },
  {
   "cell_type": "code",
   "execution_count": null,
   "metadata": {},
   "outputs": [],
   "source": []
  }
 ],
 "metadata": {
  "language_info": {
   "name": "python"
  },
  "orig_nbformat": 4
 },
 "nbformat": 4,
 "nbformat_minor": 2
}

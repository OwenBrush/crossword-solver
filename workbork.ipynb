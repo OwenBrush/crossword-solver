{
 "cells": [
  {
   "cell_type": "code",
   "execution_count": 1,
   "metadata": {},
   "outputs": [],
   "source": [
    "import pandas as pd\n",
    "import numpy as np\n",
    "\n",
    "from sklearn.model_selection import train_test_split\n",
    "\n",
    "DATA_FOLDER = 'data/'\n",
    "TRAIN = 'train_data.csv'\n",
    "TEST = 'test_data.csv'"
   ]
  },
  {
   "cell_type": "code",
   "execution_count": 2,
   "metadata": {},
   "outputs": [],
   "source": [
    "from string import punctuation\n",
    "EXPRESSIONS_TO_REMOVE = [\"\\\\\"+x for x in list(punctuation)]\n",
    "\n",
    "\n",
    "def prepare_data(data:pd.DataFrame) -> pd.DataFrame:\n",
    "    data.dropna(inplace=True)\n",
    "    data = data[['answer','clue']]   #Keep only relevant columns\n",
    "    prepare_noun_required(data)\n",
    "    prepare_fill_blank(data)\n",
    "    clean_strings(data)\n",
    "    data.drop_duplicates(['answer','clue'],keep='first', inplace=True)  #Drop repetitions of same answer/clue pairs\n",
    "    return data\n",
    "\n",
    "def prepare_noun_required(data:pd.DataFrame) -> pd.DataFrame:\n",
    "    data['noun_required'] = data['clue'].str.contains('[A-Z].*[A-Z]',regex=True)\n",
    "    return data\n",
    "\n",
    "def prepare_fill_blank(data:pd.DataFrame) -> pd.DataFrame:\n",
    "    data['fill_blank'] = data['clue'].str.contains('_', regex=False)\n",
    "    return data\n",
    "\n",
    "def clean_strings(data:pd.DataFrame) -> pd.DataFrame:\n",
    "    data['answer'] = data['answer'].str.lower().str.strip()  \n",
    "    data['clue'] = data['clue'].str.lower().str.strip()\n",
    "    data.replace('$', ' money ',            regex=False,    inplace=True)\n",
    "    data.replace('``', '\"',                 regex=False,    inplace=True)\n",
    "    data.replace(r'\\b\\w{1,1}\\b','',         regex=True,     inplace=True) \n",
    "    data.replace(EXPRESSIONS_TO_REMOVE, ' ',regex=True,    inplace=True)\n",
    "    data.replace('\\d+', '',                 regex=True,     inplace=True)\n",
    "    data.replace('  ', ' ',                 regex=False,    inplace=True)\n",
    "    return data\n",
    "    "
   ]
  },
  {
   "cell_type": "markdown",
   "metadata": {},
   "source": [
    "### Clean data, split to train and test sets, save files to data folder "
   ]
  },
  {
   "cell_type": "code",
   "execution_count": null,
   "metadata": {},
   "outputs": [],
   "source": [
    "df = pd.read_table('data/clues.tsv')\n",
    "df = prepare_data(df)\n",
    "train, test = train_test_split(df, test_size=0.3, random_state=42)\n",
    "train.to_csv(DATA_FOLDER+TRAIN,index=False)\n",
    "test.to_csv(DATA_FOLDER+TEST,index=False)"
   ]
  },
  {
   "cell_type": "code",
   "execution_count": 4,
   "metadata": {},
   "outputs": [],
   "source": [
    "df_train = pd.read_csv(DATA_FOLDER+TRAIN)\n",
    "df_test = pd.read_csv(DATA_FOLDER+TEST)"
   ]
  },
  {
   "cell_type": "code",
   "execution_count": 6,
   "metadata": {},
   "outputs": [
    {
     "data": {
      "text/html": [
       "<div>\n",
       "<style scoped>\n",
       "    .dataframe tbody tr th:only-of-type {\n",
       "        vertical-align: middle;\n",
       "    }\n",
       "\n",
       "    .dataframe tbody tr th {\n",
       "        vertical-align: top;\n",
       "    }\n",
       "\n",
       "    .dataframe thead th {\n",
       "        text-align: right;\n",
       "    }\n",
       "</style>\n",
       "<table border=\"1\" class=\"dataframe\">\n",
       "  <thead>\n",
       "    <tr style=\"text-align: right;\">\n",
       "      <th></th>\n",
       "      <th>answer</th>\n",
       "      <th>clue</th>\n",
       "      <th>noun_required</th>\n",
       "      <th>fill_blank</th>\n",
       "    </tr>\n",
       "  </thead>\n",
       "  <tbody>\n",
       "    <tr>\n",
       "      <th>0</th>\n",
       "      <td>reed</td>\n",
       "      <td>oboe or clarinet</td>\n",
       "      <td>False</td>\n",
       "      <td>False</td>\n",
       "    </tr>\n",
       "    <tr>\n",
       "      <th>1</th>\n",
       "      <td>lor</td>\n",
       "      <td>relative of  lawd</td>\n",
       "      <td>True</td>\n",
       "      <td>False</td>\n",
       "    </tr>\n",
       "    <tr>\n",
       "      <th>2</th>\n",
       "      <td>rem</td>\n",
       "      <td>sleep phase that michael jackson allegedly wen...</td>\n",
       "      <td>True</td>\n",
       "      <td>False</td>\n",
       "    </tr>\n",
       "    <tr>\n",
       "      <th>3</th>\n",
       "      <td>aegean</td>\n",
       "      <td>sea of the cyclades</td>\n",
       "      <td>True</td>\n",
       "      <td>False</td>\n",
       "    </tr>\n",
       "    <tr>\n",
       "      <th>4</th>\n",
       "      <td>pidgeoncoupe</td>\n",
       "      <td>walter  transportation</td>\n",
       "      <td>False</td>\n",
       "      <td>False</td>\n",
       "    </tr>\n",
       "  </tbody>\n",
       "</table>\n",
       "</div>"
      ],
      "text/plain": [
       "         answer                                               clue  \\\n",
       "0          reed                                   oboe or clarinet   \n",
       "1           lor                                 relative of  lawd    \n",
       "2           rem  sleep phase that michael jackson allegedly wen...   \n",
       "3        aegean                               sea of the cyclades    \n",
       "4  pidgeoncoupe                             walter  transportation   \n",
       "\n",
       "   noun_required  fill_blank  \n",
       "0          False       False  \n",
       "1           True       False  \n",
       "2           True       False  \n",
       "3           True       False  \n",
       "4          False       False  "
      ]
     },
     "execution_count": 6,
     "metadata": {},
     "output_type": "execute_result"
    }
   ],
   "source": [
    "df_train.head(5)"
   ]
  },
  {
   "cell_type": "code",
   "execution_count": 7,
   "metadata": {},
   "outputs": [
    {
     "data": {
      "text/html": [
       "<div>\n",
       "<style scoped>\n",
       "    .dataframe tbody tr th:only-of-type {\n",
       "        vertical-align: middle;\n",
       "    }\n",
       "\n",
       "    .dataframe tbody tr th {\n",
       "        vertical-align: top;\n",
       "    }\n",
       "\n",
       "    .dataframe thead th {\n",
       "        text-align: right;\n",
       "    }\n",
       "</style>\n",
       "<table border=\"1\" class=\"dataframe\">\n",
       "  <thead>\n",
       "    <tr style=\"text-align: right;\">\n",
       "      <th></th>\n",
       "      <th>answer</th>\n",
       "      <th>clue</th>\n",
       "      <th>noun_required</th>\n",
       "      <th>fill_blank</th>\n",
       "    </tr>\n",
       "  </thead>\n",
       "  <tbody>\n",
       "    <tr>\n",
       "      <th>0</th>\n",
       "      <td>rungs</td>\n",
       "      <td>ladder parts</td>\n",
       "      <td>False</td>\n",
       "      <td>False</td>\n",
       "    </tr>\n",
       "    <tr>\n",
       "      <th>1</th>\n",
       "      <td>cellist</td>\n",
       "      <td>orchestra member whose instrument rests on the...</td>\n",
       "      <td>False</td>\n",
       "      <td>False</td>\n",
       "    </tr>\n",
       "    <tr>\n",
       "      <th>2</th>\n",
       "      <td>astor</td>\n",
       "      <td>last name in fur</td>\n",
       "      <td>False</td>\n",
       "      <td>False</td>\n",
       "    </tr>\n",
       "    <tr>\n",
       "      <th>3</th>\n",
       "      <td>erasure</td>\n",
       "      <td>obliteration</td>\n",
       "      <td>False</td>\n",
       "      <td>False</td>\n",
       "    </tr>\n",
       "    <tr>\n",
       "      <th>4</th>\n",
       "      <td>vera</td>\n",
       "      <td>see  across</td>\n",
       "      <td>True</td>\n",
       "      <td>False</td>\n",
       "    </tr>\n",
       "  </tbody>\n",
       "</table>\n",
       "</div>"
      ],
      "text/plain": [
       "    answer                                               clue  noun_required  \\\n",
       "0    rungs                                      ladder parts           False   \n",
       "1  cellist  orchestra member whose instrument rests on the...          False   \n",
       "2    astor                                   last name in fur          False   \n",
       "3  erasure                                       obliteration          False   \n",
       "4     vera                                        see  across           True   \n",
       "\n",
       "   fill_blank  \n",
       "0       False  \n",
       "1       False  \n",
       "2       False  \n",
       "3       False  \n",
       "4       False  "
      ]
     },
     "execution_count": 7,
     "metadata": {},
     "output_type": "execute_result"
    }
   ],
   "source": [
    "df_test.head(5)"
   ]
  },
  {
   "cell_type": "code",
   "execution_count": null,
   "metadata": {},
   "outputs": [],
   "source": []
  }
 ],
 "metadata": {
  "interpreter": {
   "hash": "4fe28adbe6d40c82bdde6a2233f025e3b944121e67b5abb397657075ce1366ca"
  },
  "kernelspec": {
   "display_name": "Python 3.8.12 ('lighthouse')",
   "language": "python",
   "name": "python3"
  },
  "language_info": {
   "codemirror_mode": {
    "name": "ipython",
    "version": 3
   },
   "file_extension": ".py",
   "mimetype": "text/x-python",
   "name": "python",
   "nbconvert_exporter": "python",
   "pygments_lexer": "ipython3",
   "version": "3.8.12"
  },
  "orig_nbformat": 4
 },
 "nbformat": 4,
 "nbformat_minor": 2
}
